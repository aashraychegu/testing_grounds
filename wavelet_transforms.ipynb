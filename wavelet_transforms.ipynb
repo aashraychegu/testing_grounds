{
 "cells": [
  {
   "cell_type": "code",
   "execution_count": null,
   "metadata": {},
   "outputs": [],
   "source": [
    "import numpy as np\n",
    "import matplotlib.pyplot as plt\n",
    "import pywt\n",
    "from matplotlib import cm\n",
    "from watpy.coredb.coredb import *"
   ]
  },
  {
   "cell_type": "code",
   "execution_count": null,
   "metadata": {},
   "outputs": [],
   "source": [
    "cdb = CoRe_db(r\".\\CoRe_DB\")"
   ]
  },
  {
   "cell_type": "code",
   "execution_count": null,
   "metadata": {},
   "outputs": [],
   "source": [
    "from CoRe_Dataloader_ECSG import get_dataset\n",
    "ds = get_dataset()"
   ]
  },
  {
   "cell_type": "code",
   "execution_count": null,
   "metadata": {},
   "outputs": [],
   "source": [
    "#Global variables\n",
    "\n",
    "scale_min = 1\n",
    "scale_max = 201\n",
    "dscale = 0.1"
   ]
  },
  {
   "cell_type": "code",
   "execution_count": 52,
   "metadata": {},
   "outputs": [
    {
     "data": {
      "image/png": "[encoded data removed]",
      "text/plain": [
       "<Figure size 640x480 with 1 Axes>"
      ]
     },
     "metadata": {},
     "output_type": "display_data"
    }
   ],
   "source": [
    "import math\n",
    "import numpy as np\n",
    "import matplotlib.pyplot as plt\n",
    "\n",
    "def PlanckWindow(e, N):\n",
    "    x = e*N\n",
    "    j = math.floor(e*N)\n",
    "    nby2=math.ceil(N/2)\n",
    "\n",
    "    window = [1]*N\n",
    "    window[0]=0\n",
    "    for k in range(nby2):\n",
    "        if(0<k and k<j):\n",
    "            window[k]= 1./(1. + math.exp(x/k - x/(x-k)))\n",
    "    for k in range(nby2,N):\n",
    "         window[k]= window[N-k-1]\n",
    "    return window\n",
    "\n",
    "N = 800\n",
    "e = .4\n",
    "tolerance = 400\n",
    "\n",
    "if(N*e > tolerance):\n",
    "    print(\"N*e too large, exiting\\n, N*e, tolerance\")\n",
    "else:\n",
    "    win = PlanckWindow(e, N)\n",
    "    xarray = np.arange(N)\n",
    "    plt.plot(win)\n",
    "    plt.show()\n"
   ]
  },
  {
   "cell_type": "code",
   "execution_count": null,
   "metadata": {},
   "outputs": [],
   "source": [
    "win"
   ]
  },
  {
   "cell_type": "code",
   "execution_count": null,
   "metadata": {},
   "outputs": [],
   "source": [
    "from scipy.signal import argrelextrema\n",
    "\n",
    "def cut_at_lowest_envelope(hplus, hcross):\n",
    "    # Cutting inspiral off\n",
    "    oenv = np.sqrt(hplus**2 + hcross**2)\n",
    "    cut_point = np.argmax(hplus)\n",
    "    mhplus = hplus[cut_point:]\n",
    "    env = oenv[cut_point:]\n",
    "    envcut = argrelextrema(env,np.less)\n",
    "    if len(envcut[0])==0:\n",
    "        return mhplus\n",
    "    return mhplus[envcut[0][0]:]\n",
    "def wt(postmerger,sam_p):\n",
    "    sam_f = 1/sam_p    \n",
    "    scales = np.arange(scale_min, scale_max, dscale)\n",
    "\n",
    "    #CWT on the gwf using the Morlet wavelet\n",
    "    coefs, freqs = pywt.cwt(postmerger, scales, 'morl', sampling_period = sam_p)\n",
    "\n",
    "    #Normalising the coefficient matrix using the Frobenius norm\n",
    "    Z = (np.abs(coefs))/(np.linalg.norm(coefs))\n",
    "    Z = Z[::5,::45][:,:400]\n",
    "    return Z\n",
    "def pad_width(Z,l = 400 ):\n",
    "    cwidth = Z.shape[1]\n",
    "    padb = np.zeros((l,int((l-cwidth)/2)))\n",
    "    pada = np.zeros((l,int((l-cwidth)/2)))\n",
    "    Z = np.concatenate((padb,Z,pada),axis = 1)\n",
    "    cwidth = Z.shape[1]\n",
    "    fpad = np.zeros((l,int((l-cwidth))))\n",
    "    return np.concatenate((Z,fpad),axis = 1)\n",
    "    "
   ]
  },
  {
   "cell_type": "code",
   "execution_count": null,
   "metadata": {},
   "outputs": [],
   "source": [
    "time_con_f = 4.975e-6\n",
    "gwf = cdb.sim[\"THC:0087\"].run[\"R01\"].data.read(\"rh_22\")\n",
    "strain = gwf[:,1]\n",
    "sustrain = gwf[:,2]\n",
    "env = gwf[:,6]     \n",
    "pm_time = gwf[:,8]*time_con_f                         #converting to milliseconds\n",
    "sam_p = (pm_time[-1] - pm_time[0])/len(pm_time)"
   ]
  },
  {
   "cell_type": "code",
   "execution_count": null,
   "metadata": {},
   "outputs": [],
   "source": [
    "print(sam_p,1/sam_p)"
   ]
  },
  {
   "cell_type": "code",
   "execution_count": null,
   "metadata": {},
   "outputs": [],
   "source": [
    "o = cut_at_lowest_envelope(strain,sustrain)\n",
    "o1 = wt(o,sam_p)\n",
    "o2 = pad_width(o1)\n",
    "o2.shape\n",
    "plt.pcolormesh(o2,cmap = cm.cividis)"
   ]
  },
  {
   "cell_type": "code",
   "execution_count": null,
   "metadata": {},
   "outputs": [],
   "source": [
    "plt.plot(o)"
   ]
  },
  {
   "cell_type": "code",
   "execution_count": null,
   "metadata": {},
   "outputs": [],
   "source": [
    "from scipy.signal import *"
   ]
  }
 ],
 "metadata": {
  "kernelspec": {
   "display_name": "Python 3",
   "language": "python",
   "name": "python3"
  },
  "language_info": {
   "codemirror_mode": {
    "name": "ipython",
    "version": 3
   },
   "file_extension": ".py",
   "mimetype": "text/x-python",
   "name": "python",
   "nbconvert_exporter": "python",
   "pygments_lexer": "ipython3",
   "version": "3.10.7"
  },
  "orig_nbformat": 4,
  "vscode": {
   "interpreter": {
    "hash": "26de051ba29f2982a8de78e945f0abaf191376122a1563185a90213a26c5da77"
   }
  }
 },
 "nbformat": 4,
 "nbformat_minor": 2
}
