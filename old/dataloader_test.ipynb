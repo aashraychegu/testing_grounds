{
 "cells": [
  {
   "cell_type": "markdown",
   "metadata": {},
   "source": []
  },
  {
   "cell_type": "code",
   "execution_count": 26,
   "metadata": {},
   "outputs": [],
   "source": [
    "import torch\n",
    "from torch.utils.data import *\n",
    "from torch.utils.data.sampler import RandomSampler\n",
    "from torchvision import datasets\n",
    "from torchvision.transforms import ToTensor\n",
    "import matplotlib.pyplot as plt\n",
    "import os\n",
    "import pandas as pd\n",
    "from torchvision.io import read_image\n",
    "\n",
    "from watpy.coredb.coredb import *\n",
    "from watpy.wave.wave import *\n",
    "import h5py\n",
    "import matplotlib.pyplot as plt"
   ]
  },
  {
   "cell_type": "code",
   "execution_count": 41,
   "metadata": {},
   "outputs": [
    {
     "data": {
      "text/plain": [
       "'BAM:0093:R02'"
      ]
     },
     "execution_count": 41,
     "metadata": {},
     "output_type": "execute_result"
    }
   ],
   "source": [
    "from typing import Union, List\n",
    "import io\n",
    "\n",
    "import os, sys\n",
    "\n",
    "class HiddenPrints:\n",
    "    def __enter__(self):\n",
    "        self._original_stdout = sys.stdout\n",
    "        sys.stdout = open(os.devnull, 'w')\n",
    "\n",
    "    def __exit__(self, exc_type, exc_val, exc_tb):\n",
    "        sys.stdout.close()\n",
    "        sys.stdout = self._original_stdout\n",
    "\n",
    "class CoReDataSet(Dataset):\n",
    "    def __init__(\n",
    "        self,\n",
    "        local_path: str = \"./CoRe_DB_clone/\",\n",
    "        rh_xx: str = \"rh_22\",\n",
    "        attrs: Union[List[str], str] = \"*\",\n",
    "        gw_preprocess_func=lambda x: torch.from_numpy(x),\n",
    "    ):\n",
    "        with HiddenPrints():\n",
    "            from watpy.coredb.coredb import CoRe_db\n",
    "            self.sim = CoRe_db(local_path).sim\n",
    "        self.indexes = {}\n",
    "        self.rh_xx = rh_xx\n",
    "        self.attrs = attrs\n",
    "        self.gw_preprocess_func = gw_preprocess_func\n",
    "        index_tracker = 0\n",
    "        for sim_key in self.sim:\n",
    "            sel_sims = self.sim[sim_key]\n",
    "            for sim_run in sel_sims.run:\n",
    "                self.indexes[index_tracker] = (f\"{sim_key}:{sim_run}\")\n",
    "                index_tracker += 1\n",
    "        self.count = len(self.indexes)\n",
    "\n",
    "    def __len__(self):\n",
    "        return self.count\n",
    "\n",
    "    def __getitem__(self, idx):\n",
    "        if not idx in self.indexes.values():\n",
    "            raise IndexError(f\"the entered index is not valid {idx} {idx.split(':')}\")\n",
    "        split_idx = idx.split(\":\")\n",
    "        sel_sim = split_idx[0] + \":\" + split_idx[1]\n",
    "        sel_run = split_idx[2]\n",
    "        data = self.sim[sel_sim].run[sel_run].data\n",
    "        if self.attrs == \"*\":\n",
    "            self.attrs = list(data.mdata.data.keys())\n",
    "        return self.gw_preprocess_func(data.read(self.rh_xx)), {\n",
    "            i: data.mdata.data[i] for i in data.mdata.data if i in self.attrs\n",
    "        }\n",
    "    \n",
    "    def collate_fn(self, data):\n",
    "        return tuple(data)\n",
    "\n",
    "class CoReSampler(Sampler):\n",
    "    def __init__(self,indexes,ctr,generator = None):\n",
    "        self.indexes = list(indexes.values())\n",
    "        self.ctr = ctr\n",
    "        self.generator = generator\n",
    "    def __len__(self):\n",
    "        return self.ctr\n",
    "    def __iter__(self):\n",
    "        for i in torch.randperm(len(self.indexes),generator=self.generator):\n",
    "            yield self.indexes[i]\n",
    "\n",
    "c = CoReDataSet(attrs=[\"id_eos\", \"id_mass_starA\", \"id_mass_starB\",\"database_key\"])\n",
    "dataloader = DataLoader(c, batch_size=64, sampler=CoReSampler(c.indexes,len(c)),collate_fn=c.collate_fn)\n",
    "next(iter(dataloader))[0][1][\"database_key\"]"
   ]
  }
 ],
 "metadata": {
  "kernelspec": {
   "display_name": "Python 3.10.7 64-bit",
   "language": "python",
   "name": "python3"
  },
  "language_info": {
   "codemirror_mode": {
    "name": "ipython",
    "version": 3
   },
   "file_extension": ".py",
   "mimetype": "text/x-python",
   "name": "python",
   "nbconvert_exporter": "python",
   "pygments_lexer": "ipython3",
   "version": "3.10.7 (tags/v3.10.7:6cc6b13, Sep  5 2022, 14:08:36) [MSC v.1933 64 bit (AMD64)]"
  },
  "orig_nbformat": 4,
  "vscode": {
   "interpreter": {
    "hash": "26de051ba29f2982a8de78e945f0abaf191376122a1563185a90213a26c5da77"
   }
  }
 },
 "nbformat": 4,
 "nbformat_minor": 2
}
