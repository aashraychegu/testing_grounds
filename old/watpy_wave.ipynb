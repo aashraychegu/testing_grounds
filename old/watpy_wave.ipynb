{
 "cells": [
  {
   "cell_type": "markdown",
   "metadata": {},
   "source": [
    "# Basic NR waveform analyses"
   ]
  },
  {
   "cell_type": "markdown",
   "metadata": {},
   "source": [
    "Illustrates the use of the `wave` and `mwaves` objects to work with BAM and Cactus/THC output waveforms.\n",
    "\n",
    "SB 09/2021 core@uni-jena.de"
   ]
  },
  {
   "cell_type": "markdown",
   "metadata": {},
   "source": [
    "## 0. Start"
   ]
  },
  {
   "cell_type": "markdown",
   "metadata": {},
   "source": [
    "Clone the repo somewhere and install the package:\n",
    "\n",
    "```\n",
    "mkdir somewhere/\n",
    "cd somehwere/\n",
    "git clone git@git.tpi.uni-jena.de:core/watpy.git\n",
    "cd watpy\n",
    "python setup.py --user\n",
    "```\n",
    "\n",
    "Now look at the folders and see some files: they contain python code, functions and classes.\n",
    "\n",
    "Go to the tutorial\n",
    "\n",
    "```\n",
    "cd tutorials\n",
    "```\n",
    "\n",
    "and find this tutorial.\n",
    "\n",
    "The following assumes there is some test data in folders called `TestData/MySim_BAM_135135` and `TestData/MySim_THC_135135`. \n",
    "We will be writing some files, so along the way we will create few more folders inside those."
   ]
  },
  {
   "cell_type": "markdown",
   "metadata": {},
   "source": [
    "## 1. Load waveforms from a simulation and compute the strain"
   ]
  },
  {
   "cell_type": "code",
   "execution_count": 2,
   "metadata": {
    "scrolled": true
   },
   "outputs": [],
   "source": [
    "import os, sys\n",
    "from watpy.wave.wave import * # wave() and mwaves() objects\n",
    "from watpy.utils.units import MSun_sec"
   ]
  },
  {
   "cell_type": "markdown",
   "metadata": {},
   "source": [
    "You probably know all the details of what you have simulated with BAM ... so collect this info:"
   ]
  },
  {
   "cell_type": "code",
   "execution_count": 2,
   "metadata": {},
   "outputs": [],
   "source": [
    "Msun_sec = MSun_sec() #4.925794970773135e-06\n",
    "\n",
    "bamsim = {}\n",
    "bamsim['folder'] = 'TestData/MySim_BAM_135135' # simulation folder\n",
    "bamsim['mass'] = 2.700297e+00 # binary mass in solar masses\n",
    "bamsim['q'] = 1.0 # mass ratio, >= 1\n",
    "bamsim['Momg22'] = 3.789461e-02 # GW frequency (dim/less, mass rescaled)\n",
    "bamsim['f0'] = bamsim['Momg22'] / (2*np.pi) / bamsim['mass'] # initial GW frequency in geom. units\n",
    "bamsim['f0_Hz'] = bamsim['Momg22'] / (2*np.pi) / bamsim['mass']  / Msun_sec # initial GW frequency in Hz\n",
    "bamsim['massA'] = 1.350149e+00\n",
    "bamsim['massB'] = 1.350149e+00\n",
    "bamsim['madm'] = 2.678040e+00 # ADM mass (t=0) \n",
    "bamsim['jadm'] = 7.858842e+00 # ADM ang.mom. (t=0) \n",
    "bamsim['MbA'] = 1.494607e+00\n",
    "bamsim['MbB'] = 1.494607e+00\n",
    "bamsim['level'] = 7\n",
    "bamsim['levelm'] = 4\n",
    "bamsim['nxyz'] = 320\n",
    "bamsim['nmxyz'] = 128\n",
    "bamsim['dxyz']= 7.520000e+00\n",
    "bamsim['eos']= 'ABC'\n",
    "# etc ...\n",
    "\n",
    "bamsim['pre-release-folder'] = './TestData/MySim_BAM_135135/CoReDB' # folder with CoRe formatted files\n",
    "\n",
    "#print(mysim['Momg22']) # 0.03789461\n",
    "\n",
    "# Create folder for CoRe output\n",
    "os.makedirs(bamsim['pre-release-folder'], exist_ok = True)"
   ]
  },
  {
   "cell_type": "markdown",
   "metadata": {},
   "source": [
    "Next, we use watpy `wave` and `mwave` classes to compute few things from the $\\Psi_4$ output modes. "
   ]
  },
  {
   "cell_type": "markdown",
   "metadata": {},
   "source": [
    "### Compute the strain of $(2,2)$ mode with the FFI and write files in CoRe format"
   ]
  },
  {
   "cell_type": "code",
   "execution_count": 3,
   "metadata": {},
   "outputs": [
    {
     "ename": "NameError",
     "evalue": "name 'bamsim' is not defined",
     "output_type": "error",
     "traceback": [
      "\u001b[1;31m---------------------------------------------------------------------------\u001b[0m",
      "\u001b[1;31mNameError\u001b[0m                                 Traceback (most recent call last)",
      "\u001b[1;32m~\\AppData\\Local\\Temp\\ipykernel_9220\\3210692374.py\u001b[0m in \u001b[0;36m<cell line: 1>\u001b[1;34m()\u001b[0m\n\u001b[1;32m----> 1\u001b[1;33m w = wave(path = bamsim['folder'], code='bam', filename='Rpsi4mode22_r12.l0', \n\u001b[0m\u001b[0;32m      2\u001b[0m          mass = bamsim['mass'], f0 = bamsim['f0'])\n",
      "\u001b[1;31mNameError\u001b[0m: name 'bamsim' is not defined"
     ]
    }
   ],
   "source": [
    "w = wave(path = bamsim['folder'], code='bam', filename='Rpsi4mode22_r12.l0', \n",
    "         mass = bamsim['mass'], f0 = bamsim['f0'])"
   ]
  },
  {
   "cell_type": "markdown",
   "metadata": {},
   "source": [
    "This does a few things behind the scenes, for example it computes the strain. Let'sask for it: "
   ]
  },
  {
   "cell_type": "code",
   "execution_count": 8,
   "metadata": {},
   "outputs": [
    {
     "data": {
      "image/png": "[encoded data removed]",
      "text/plain": [
       "<Figure size 432x288 with 2 Axes>"
      ]
     },
     "metadata": {
      "needs_background": "light"
     },
     "output_type": "display_data"
    }
   ],
   "source": [
    "fig = w.show_psi4()"
   ]
  },
  {
   "cell_type": "code",
   "execution_count": 1,
   "metadata": {},
   "outputs": [
    {
     "ename": "NameError",
     "evalue": "name 'w' is not defined",
     "output_type": "error",
     "traceback": [
      "\u001b[1;31m---------------------------------------------------------------------------\u001b[0m",
      "\u001b[1;31mNameError\u001b[0m                                 Traceback (most recent call last)",
      "\u001b[1;32m~\\AppData\\Local\\Temp\\ipykernel_9220\\3097037216.py\u001b[0m in \u001b[0;36m<cell line: 1>\u001b[1;34m()\u001b[0m\n\u001b[1;32m----> 1\u001b[1;33m \u001b[0mprint\u001b[0m\u001b[1;33m(\u001b[0m\u001b[0mw\u001b[0m\u001b[1;33m.\u001b[0m\u001b[0mget_strain\u001b[0m\u001b[1;33m(\u001b[0m\u001b[0mfcut\u001b[0m\u001b[1;33m=\u001b[0m \u001b[0mbamsim\u001b[0m\u001b[1;33m[\u001b[0m\u001b[1;34m'f0'\u001b[0m\u001b[1;33m]\u001b[0m\u001b[1;33m)\u001b[0m\u001b[1;33m)\u001b[0m\u001b[1;33m\u001b[0m\u001b[1;33m\u001b[0m\u001b[0m\n\u001b[0m\u001b[0;32m      2\u001b[0m \u001b[0mfig\u001b[0m \u001b[1;33m=\u001b[0m \u001b[0mw\u001b[0m\u001b[1;33m.\u001b[0m\u001b[0mshow_strain\u001b[0m\u001b[1;33m(\u001b[0m\u001b[1;33m)\u001b[0m\u001b[1;33m\u001b[0m\u001b[1;33m\u001b[0m\u001b[0m\n",
      "\u001b[1;31mNameError\u001b[0m: name 'w' is not defined"
     ]
    }
   ],
   "source": [
    "print(w.get_strain(fcut= bamsim['f0']))\n",
    "fig = w.show_strain()"
   ]
  },
  {
   "cell_type": "markdown",
   "metadata": {},
   "source": [
    "Now lets save the data in CoRe format and prepare them for a pre-release (check your folder afterwards)"
   ]
  },
  {
   "cell_type": "code",
   "execution_count": 6,
   "metadata": {},
   "outputs": [],
   "source": [
    "w.write_to_txt('Psi4', bamsim['pre-release-folder'])\n",
    "w.write_to_txt('h', bamsim['pre-release-folder'])"
   ]
  },
  {
   "cell_type": "markdown",
   "metadata": {},
   "source": [
    "### Compute the strain with the FFI for many modes"
   ]
  },
  {
   "cell_type": "markdown",
   "metadata": {},
   "source": [
    "Make a list of files containing the modes"
   ]
  },
  {
   "cell_type": "code",
   "execution_count": 10,
   "metadata": {},
   "outputs": [
    {
     "name": "stdout",
     "output_type": "stream",
     "text": [
      "['Rpsi4mode20_r01.l0', 'Rpsi4mode20_r12.l0', 'Rpsi4mode21_r01.l0', 'Rpsi4mode21_r12.l0', 'Rpsi4mode22_r01.l0', 'Rpsi4mode22_r12.l0', 'Rpsi4mode30_r01.l0', 'Rpsi4mode30_r12.l0', 'Rpsi4mode31_r01.l0', 'Rpsi4mode31_r12.l0', 'Rpsi4mode32_r01.l0', 'Rpsi4mode32_r12.l0', 'Rpsi4mode33_r01.l0', 'Rpsi4mode33_r12.l0', 'Rpsi4mode40_r01.l0', 'Rpsi4mode40_r12.l0', 'Rpsi4mode41_r01.l0', 'Rpsi4mode41_r12.l0', 'Rpsi4mode42_r01.l0', 'Rpsi4mode42_r12.l0', 'Rpsi4mode43_r01.l0', 'Rpsi4mode43_r12.l0', 'Rpsi4mode44_r01.l0', 'Rpsi4mode44_r12.l0']\n"
     ]
    }
   ],
   "source": [
    "import glob\n",
    "fnames = [os.path.split(x)[1] for x in glob.glob('{}/{}'.format(bamsim['folder'],'Rpsi4mode??_r??.l0'))]\n",
    "print(fnames)"
   ]
  },
  {
   "cell_type": "markdown",
   "metadata": {},
   "source": [
    "Now we do pretty much the same as above but with the class for multipolar waveforms:"
   ]
  },
  {
   "cell_type": "code",
   "execution_count": 11,
   "metadata": {},
   "outputs": [],
   "source": [
    "wm = mwaves(path = bamsim['folder'], code = 'bam', filenames = fnames, \n",
    "            mass = bamsim['mass'], f0 = bamsim['f0'], ignore_negative_m=True)"
   ]
  },
  {
   "cell_type": "markdown",
   "metadata": {},
   "source": [
    "We can look again to the $(2,2)$ this way"
   ]
  },
  {
   "cell_type": "code",
   "execution_count": 12,
   "metadata": {},
   "outputs": [],
   "source": [
    "h22 = wm.get(l=2,m=2)"
   ]
  },
  {
   "cell_type": "markdown",
   "metadata": {},
   "source": [
    "or also check which modes are there and look at them this way:"
   ]
  },
  {
   "cell_type": "code",
   "execution_count": 13,
   "metadata": {},
   "outputs": [
    {
     "name": "stdout",
     "output_type": "stream",
     "text": [
      "[(2, 0), (2, 1), (2, 2), (3, 0), (3, 1), (3, 2), (3, 3), (4, 0), (4, 1), (4, 2), (4, 3), (4, 4)]\n"
     ]
    }
   ],
   "source": [
    "print(wm.modes)"
   ]
  },
  {
   "cell_type": "code",
   "execution_count": 14,
   "metadata": {},
   "outputs": [
    {
     "data": {
      "image/png": "[encoded data removed]",
      "text/plain": [
       "<Figure size 432x288 with 2 Axes>"
      ]
     },
     "metadata": {
      "needs_background": "light"
     },
     "output_type": "display_data"
    }
   ],
   "source": [
    "h32 = wm.get(l=3, m=2)\n",
    "fig = h32.show_strain()"
   ]
  },
  {
   "cell_type": "markdown",
   "metadata": {},
   "source": [
    "## 2. Write/read data in CoRe format"
   ]
  },
  {
   "cell_type": "markdown",
   "metadata": {},
   "source": [
    "### Write to CoRe formatted `.txt` files"
   ]
  },
  {
   "cell_type": "markdown",
   "metadata": {},
   "source": [
    "Now we save the modes in CoRe format:"
   ]
  },
  {
   "cell_type": "code",
   "execution_count": 12,
   "metadata": {},
   "outputs": [],
   "source": [
    "for (l,m) in wm.modes:\n",
    "        \n",
    "        psilm = wm.get(var='Psi4',l=l, m=m)\n",
    "        psilm.write_to_txt('Psi4', bamsim['pre-release-folder'])\n",
    "        \n",
    "        hlm = wm.get(l=l, m=m)\n",
    "        hlm.write_to_txt('h', bamsim['pre-release-folder'])"
   ]
  },
  {
   "cell_type": "markdown",
   "metadata": {},
   "source": [
    "... and also compute and write the energy curves at all radii (do not specify the radius):"
   ]
  },
  {
   "cell_type": "code",
   "execution_count": 13,
   "metadata": {},
   "outputs": [],
   "source": [
    "wm.energetics(bamsim['massA'], bamsim['massB'], bamsim['madm'], bamsim['jadm'], \n",
    "              path_out = bamsim['pre-release-folder'])"
   ]
  },
  {
   "cell_type": "markdown",
   "metadata": {},
   "source": [
    "### Read from CoRe formatted `.txt` files"
   ]
  },
  {
   "cell_type": "markdown",
   "metadata": {},
   "source": [
    "The `wave` class can also read CoRe format, obviously."
   ]
  },
  {
   "cell_type": "code",
   "execution_count": 14,
   "metadata": {},
   "outputs": [
    {
     "name": "stdout",
     "output_type": "stream",
     "text": [
      "['Rh_l4_m1_r00800.txt', 'Rh_l2_m0_r00800.txt', 'Rh_l4_m2_r00800.txt', 'Rh_l2_m1_r00800.txt', 'Rh_l3_m1_r00800.txt', 'Rh_l4_m4_r00800.txt', 'Rh_l4_m0_r00800.txt', 'Rh_l3_m3_r00800.txt', 'Rh_l2_m2_r00800.txt', 'Rh_l3_m2_r00800.txt', 'Rh_l3_m0_r00800.txt', 'Rh_l4_m3_r00800.txt']\n"
     ]
    }
   ],
   "source": [
    "fnames = [os.path.split(x)[1] for x in glob.glob('{}/{}'.format(bamsim['pre-release-folder'],'Rh_l?_m?_r*.txt'))]\n",
    "print(fnames)"
   ]
  },
  {
   "cell_type": "code",
   "execution_count": 15,
   "metadata": {},
   "outputs": [
    {
     "data": {
      "image/png": "[encoded data removed]",
      "text/plain": [
       "<Figure size 432x288 with 2 Axes>"
      ]
     },
     "metadata": {
      "needs_background": "light"
     },
     "output_type": "display_data"
    }
   ],
   "source": [
    "wm_c = mwaves(bamsim['pre-release-folder'], code = 'core', filenames = fnames, \n",
    "              mass = bamsim['mass'], f0 = bamsim['f0'], ignore_negative_m=True)\n",
    "h32 = wm.get(l=3, m=2)\n",
    "fig = h32.show_strain()"
   ]
  },
  {
   "cell_type": "markdown",
   "metadata": {},
   "source": [
    "### HDF5 "
   ]
  },
  {
   "cell_type": "markdown",
   "metadata": {},
   "source": [
    "Finally, we can create HDF5 data in CoRe format using the `CoRe_h5()` object"
   ]
  },
  {
   "cell_type": "code",
   "execution_count": 16,
   "metadata": {},
   "outputs": [],
   "source": [
    "from watpy.utils.coreh5 import CoRe_h5\n",
    "bamsim = {}\n",
    "bamsim['pre-release-folder'] = './TestData/MySim_BAM_135135/CoReDB'"
   ]
  },
  {
   "cell_type": "code",
   "execution_count": 17,
   "metadata": {},
   "outputs": [
    {
     "name": "stdout",
     "output_type": "stream",
     "text": [
      "No .h5 file found!\n"
     ]
    }
   ],
   "source": [
    "ch5 = CoRe_h5(bamsim['pre-release-folder']) # write .h5 to mysim['pre-release-folder'] ..."
   ]
  },
  {
   "cell_type": "code",
   "execution_count": 18,
   "metadata": {},
   "outputs": [
    {
     "name": "stdout",
     "output_type": "stream",
     "text": [
      "wrote CoRe ./TestData/MySim_BAM_135135/CoReDB/data.h5\n"
     ]
    }
   ],
   "source": [
    "ch5.create(path=bamsim['pre-release-folder']) # ... all the CoRe .txt files in mysim['pre-release-folder']"
   ]
  },
  {
   "cell_type": "code",
   "execution_count": 19,
   "metadata": {},
   "outputs": [
    {
     "name": "stdout",
     "output_type": "stream",
     "text": [
      "energy\n",
      "energy/EJ_r00400.txt\n",
      "energy/EJ_r00800.txt\n",
      "rh_20\n",
      "rh_20/Rh_l2_m0_r00800.txt\n",
      "rh_21\n",
      "rh_21/Rh_l2_m1_r00800.txt\n",
      "rh_22\n",
      "rh_22/Rh_l2_m2_r00800.txt\n",
      "rh_30\n",
      "rh_30/Rh_l3_m0_r00800.txt\n",
      "rh_31\n",
      "rh_31/Rh_l3_m1_r00800.txt\n",
      "rh_32\n",
      "rh_32/Rh_l3_m2_r00800.txt\n",
      "rh_33\n",
      "rh_33/Rh_l3_m3_r00800.txt\n",
      "rh_40\n",
      "rh_40/Rh_l4_m0_r00800.txt\n",
      "rh_41\n",
      "rh_41/Rh_l4_m1_r00800.txt\n",
      "rh_42\n",
      "rh_42/Rh_l4_m2_r00800.txt\n",
      "rh_43\n",
      "rh_43/Rh_l4_m3_r00800.txt\n",
      "rh_44\n",
      "rh_44/Rh_l4_m4_r00800.txt\n",
      "rpsi4_20\n",
      "rpsi4_20/Rpsi4_l2_m0_r00800.txt\n",
      "rpsi4_21\n",
      "rpsi4_21/Rpsi4_l2_m1_r00800.txt\n",
      "rpsi4_22\n",
      "rpsi4_22/Rpsi4_l2_m2_r00800.txt\n",
      "rpsi4_30\n",
      "rpsi4_30/Rpsi4_l3_m0_r00800.txt\n",
      "rpsi4_31\n",
      "rpsi4_31/Rpsi4_l3_m1_r00800.txt\n",
      "rpsi4_32\n",
      "rpsi4_32/Rpsi4_l3_m2_r00800.txt\n",
      "rpsi4_33\n",
      "rpsi4_33/Rpsi4_l3_m3_r00800.txt\n",
      "rpsi4_40\n",
      "rpsi4_40/Rpsi4_l4_m0_r00800.txt\n",
      "rpsi4_41\n",
      "rpsi4_41/Rpsi4_l4_m1_r00800.txt\n",
      "rpsi4_42\n",
      "rpsi4_42/Rpsi4_l4_m2_r00800.txt\n",
      "rpsi4_43\n",
      "rpsi4_43/Rpsi4_l4_m3_r00800.txt\n",
      "rpsi4_44\n",
      "rpsi4_44/Rpsi4_l4_m4_r00800.txt\n"
     ]
    }
   ],
   "source": [
    "ch5.dump() # h5dump -n"
   ]
  },
  {
   "cell_type": "markdown",
   "metadata": {},
   "source": [
    "The `CoRe_h5()` object can help us to directly read datasets from the HDF5 and to visualize them:"
   ]
  },
  {
   "cell_type": "code",
   "execution_count": 20,
   "metadata": {},
   "outputs": [
    {
     "data": {
      "image/png": "[encoded data removed]",
      "text/plain": [
       "<Figure size 432x288 with 1 Axes>"
      ]
     },
     "metadata": {
      "needs_background": "light"
     },
     "output_type": "display_data"
    }
   ],
   "source": [
    "dset_h22 = ch5.read('rh_22')\n",
    "fig, ax  = ch5.show('rh_22')"
   ]
  },
  {
   "cell_type": "markdown",
   "metadata": {},
   "source": [
    "The *create*/*read* methods of the `CoRe_h5()` object are somehow deprecated and use above only for illustration. In general, there are more data that we want to store as h5 (either in the CoRe DB or for other purposes). We can (and should) use the more general methods *create_dset*/*read_dset* to create a simple .h5 file with groups/datasets. In case we want to use this for the CoRe DB, we just need to pay some attention to the names we give to the groups and to which files we pass, but this way we have more flexibility.\n",
    "\n",
    "It works as in the following:"
   ]
  },
  {
   "cell_type": "code",
   "execution_count": 21,
   "metadata": {},
   "outputs": [],
   "source": [
    "# make a list of groups and files for each group\n",
    "bamdat = {}\n",
    "bamdat['energy'] = ['EJ_r00800.txt']\n",
    "bamdat['rh_22'] = ['Rh_l2_m2_r00800.txt']\n",
    "bamdat['rh_30'] = ['Rh_l3_m0_r00800.txt']\n",
    "bamdat['rpsi4_20'] = ['Rpsi4_l2_m0_r00800.txt']\n",
    "bamdat['rpsi4_22'] = ['Rpsi4_l2_m2_r00800.txt']\n",
    "# etc ...\n",
    "\n",
    "# and create a h5 'bis' with the create_dset method\n",
    "ch5_bis = CoRe_h5(bamsim['pre-release-folder'])\n",
    "ch5_bis.create_dset(bamdat, path=bamsim['pre-release-folder'], dfile = 'data_bis.h5')"
   ]
  },
  {
   "cell_type": "markdown",
   "metadata": {},
   "source": [
    "Now lets check inside and read again:"
   ]
  },
  {
   "cell_type": "code",
   "execution_count": 22,
   "metadata": {},
   "outputs": [
    {
     "name": "stdout",
     "output_type": "stream",
     "text": [
      "energy\n",
      "energy/EJ_r00800.txt\n",
      "rh_22\n",
      "rh_22/Rh_l2_m2_r00800.txt\n",
      "rh_30\n",
      "rh_30/Rh_l3_m0_r00800.txt\n",
      "rpsi4_20\n",
      "rpsi4_20/Rpsi4_l2_m0_r00800.txt\n",
      "rpsi4_22\n",
      "rpsi4_22/Rpsi4_l2_m2_r00800.txt\n",
      "dict_keys(['energy', 'rh_22', 'rh_30', 'rpsi4_20', 'rpsi4_22'])\n",
      "dict_keys(['Rpsi4_l2_m2_r00800.txt'])\n",
      "[[-3.06246366e+02  1.03838571e-06 -1.62943639e-05 ...  1.63274168e-05\n",
      "   1.50715570e+00  0.00000000e+00]\n",
      " [-3.05550146e+02  1.04313477e-06 -1.63328982e-05 ...  1.63661753e-05\n",
      "   1.50701586e+00  1.88000000e+00]\n",
      " [-3.04853926e+02  1.05291821e-06 -1.63714756e-05 ...  1.64052995e-05\n",
      "   1.50657059e+00  3.76000000e+00]\n",
      " ...\n",
      " [ 3.87942654e+03 -2.26716774e-01  1.94139538e-01 ...  2.98480579e-01\n",
      "   5.31637304e+02  1.13025600e+04]\n",
      " [ 3.88012276e+03 -1.80401371e-01  2.38096051e-01 ...  2.98721248e-01\n",
      "   5.31851555e+02  1.13044400e+04]\n",
      " [ 3.88081898e+03 -1.25731785e-01  2.71015211e-01 ...  2.98760316e-01\n",
      "   5.32065578e+02  1.13063200e+04]]\n"
     ]
    }
   ],
   "source": [
    "ch5_bis.dump()\n",
    "\n",
    "dset_bis = ch5_bis.read_dset()\n",
    "\n",
    "print(dset_bis.keys())\n",
    "print(dset_bis['rpsi4_22'].keys())\n",
    "print(dset_bis['rpsi4_22']['Rpsi4_l2_m2_r00800.txt'])"
   ]
  },
  {
   "cell_type": "markdown",
   "metadata": {},
   "source": [
    "The use of *_dset* is the preferred method to create .h5 for the CoRe DB."
   ]
  },
  {
   "cell_type": "markdown",
   "metadata": {},
   "source": [
    "## 3. Metadata"
   ]
  },
  {
   "cell_type": "markdown",
   "metadata": {},
   "source": [
    "Here we give an example on how to write metadata in CoRe format. Something like this must be done, for example, every time a new simulations needs to the added to the CoRe DB (see the tutorial `watpy_CoReDB.ipynb`)"
   ]
  },
  {
   "cell_type": "markdown",
   "metadata": {},
   "source": [
    " First of all, all the steps above in 2. can be of course done also for a Cactus/THC simulation. We repeat few of them here:"
   ]
  },
  {
   "cell_type": "code",
   "execution_count": 26,
   "metadata": {},
   "outputs": [
    {
     "data": {
      "image/png": "[encoded data removed]",
      "text/plain": [
       "<Figure size 432x288 with 2 Axes>"
      ]
     },
     "metadata": {
      "needs_background": "light"
     },
     "output_type": "display_data"
    }
   ],
   "source": [
    "from watpy.wave.wave import wave, mwaves\n",
    "from watpy.utils import ioutils\n",
    "import numpy as np\n",
    "import os, glob\n",
    "\n",
    "# metadata\n",
    "thcsim = {}\n",
    "thcsim['folder'] = './TestData/MySim_THC_135135' # simulation folder\n",
    "thcsim['mass'] = 2 * 1.364 # binary mass in solar masses\n",
    "thcsim['q'] = 1.0 # mass ratio, >= 1\n",
    "thcsim['f0_Hz'] = 565.08 # initial GW frequency in Hz\n",
    "thcsim['f0'] = thcsim['f0_Hz'] * Msun_sec\n",
    "thcsim['Momg22'] = thcsim['mass'] * thcsim['f0'] / (2*np.pi) # initial GW frequency in geom. units\n",
    "thcsim['massA'] = 1.364\n",
    "thcsim['massB'] = 1.364\n",
    "thcsim['madm'] = 2.703 # ADM mass (t=0) \n",
    "thcsim['jadm'] = 7.400 # ADM ang.mom. (t=0) \n",
    "thcsim['id_code']                  = 'LORENE'\n",
    "thcsim['id_type']                  = 'Irrotational'\n",
    "thcsim['id_mass']                  = 2.7\n",
    "thcsim['id_rest_mass']             = 2.94554\n",
    "thcsim['id_mass_ratio']            = 1.0\n",
    "thcsim['id_ADM_mass']              = 2.67288\n",
    "thcsim['id_ADM_angularmomentum']   = 7.01514\n",
    "thcsim['id_gw_frequency_Hz']       = 663.58\n",
    "thcsim['id_gw_frequency_Momega22'] = 0.0554514940011\n",
    "thcsim['id_eos']                   = 'ABC'\n",
    "thcsim['id_kappa2T']               = 159.0084296249798\n",
    "thcsim['id_Lambda']                = 848.0449579998918\n",
    "thcsim['id_eccentricity']          = None \n",
    "thcsim['id_mass_starA']            = 1.35\n",
    "thcsim['id_rest_mass_starA']       = 1.47277\n",
    "thcsim['id_spin_starA']            = 0, 0, 0\n",
    "thcsim['id_LoveNum_kell_starA']    = 0.09996, 0.0269, 0.00984\n",
    "thcsim['id_Lambdaell_starA']       = 848.0449579998921, 2001.0063178210328, 4584.234164607441\n",
    "thcsim['id_mass_starB']            = 1.35\n",
    "thcsim['id_rest_mass_starB']       = 1.47277\n",
    "\n",
    "thcsim['pre-release-folder'] = './TestData/MySim_THC_135135/CoReDB' # folder with CoRe formatted files\n",
    "\n",
    "# Create folder for CoRe output\n",
    "os.makedirs(thcsim['pre-release-folder'], exist_ok = True)\n",
    "\n",
    "# Create .txt files in CoRe format\n",
    "fnames = [os.path.split(x)[1] for x in glob.glob('{}/{}'.format(thcsim['folder'],'mp_Psi4_l?_m?_r400.00.asc'))]\n",
    "\n",
    "wm = mwaves(path = thcsim['folder'], code = 'cactus', filenames = fnames, \n",
    "            mass = thcsim['mass'], f0 = thcsim['f0'], ignore_negative_m=True)\n",
    "\n",
    "h22 = wm.get(l=2, m=2)\n",
    "fig = h22.show_strain()\n",
    "\n",
    "for (l,m) in wm.modes:\n",
    "    \n",
    "        psilm = wm.get(var='Psi4',l=l, m=m)\n",
    "        psilm.write_to_txt('Psi4', thcsim['pre-release-folder'])\n",
    "        \n",
    "        hlm = wm.get(l=l, m=m)\n",
    "        hlm.write_to_txt('h', thcsim['pre-release-folder'])\n",
    "\n",
    "wm.energetics(thcsim['massA'], thcsim['massB'], thcsim['madm'], thcsim['jadm'], \n",
    "              path_out = thcsim['pre-release-folder'])\n",
    "\n",
    "# make a list of groups and files for each group\n",
    "# IMPORTANT: \n",
    "# * group names must follow the CoRe conventions\n",
    "# * file names must follow the CoRe conventions\n",
    "thcdat = {}\n",
    "thcdat['energy'] = ['EJ_r00400.txt']\n",
    "thcdat['rh_22'] = ['Rh_l2_m2_r00400.txt']\n",
    "thcdat['rh_30'] = ['Rh_l3_m0_r00400.txt']\n",
    "thcdat['rpsi4_20'] = ['Rpsi4_l2_m0_r00400.txt']\n",
    "thcdat['rpsi4_22'] = ['Rpsi4_l2_m2_r00400.txt']\n",
    "\n",
    "# write .h5\n",
    "ch5 = CoRe_h5(thcsim['pre-release-folder']) \n",
    "ch5.create_dset(thcdat, path = thcsim['pre-release-folder'])"
   ]
  },
  {
   "cell_type": "markdown",
   "metadata": {},
   "source": [
    "In the section above the `thcsim` dictionary is (carefully) written using (some of) the keys for the CoRe DB metadata. The latter are stored in a `CoRe_md()` object, which basically contains a dictionary. Lets see what is inside:"
   ]
  },
  {
   "cell_type": "code",
   "execution_count": 27,
   "metadata": {},
   "outputs": [
    {
     "name": "stdout",
     "output_type": "stream",
     "text": [
      "File metadata.txt not found\n",
      ".\n",
      "{'database_key': None, 'available_runs': None, 'simulation_name': None, 'binary_type': None, 'reference_bibkeys': None, 'id_code': None, 'id_type': None, 'id_mass': None, 'id_rest_mass': None, 'id_mass_ratio': None, 'id_ADM_mass': None, 'id_ADM_angularmomentum': None, 'id_gw_frequency_Hz': None, 'id_gw_frequency_Momega22': None, 'id_eos': None, 'id_kappa2T': None, 'id_Lambda': None, 'id_eccentricity': None, 'id_mass_starA': None, 'id_rest_mass_starA': None, 'id_spin_starA': None, 'id_LoveNum_kell_starA': None, 'id_Lambdaell_starA': None, 'id_mass_starB': None, 'id_rest_mass_starB': None, 'id_spin_starB': None, 'id_LoveNum_kell_starB': None, 'id_Lambdaell_starB': None, 'evolution_code': None, 'grid_refinement_levels': None, 'grid_refinement_levels_moving': None, 'grid_refinement_levels_npoints': None, 'grid_refinement_levels_moving_npoints': None, 'grid_spacing_min': None, 'grid_symmetries': None, 'grid_shells': None, 'grid_shells_radial_npoints': None, 'grid_shells_angular_npoints': None, 'grid_conservative_amr': None, 'subgrid_model': None, 'metric_scheme': None, 'metric_boundary_conditions': None, 'hydro_flux': None, 'hydro_reconstruction': None, 'hydro_atmosphere_level': None, 'hydro_atmosphere_factor': None, 'number_of_orbits': None, 'evolution_mol_scheme': None, 'eos_evolution_Gamma_thermal': None, 'neutrino_scheme': None, 'id_gw_NR_frequency_Hz': None, 'Hybrid_window_freq_Hz': None, 'TEOB_Lambda_starA': None, 'TEOB_Lambda_starB': None, 'TEOB_version': None, 'NR_simulation_key': None}\n",
      "\n",
      " *** CoRe DB METADATA ***\n",
      "\n",
      "database_key : A string like BAM:0001:R01 or THC:0013:R02 that identifies the simulation by the code employed for the evolution and a unique progressive number in the CoRe DB. The first part of the string corresponds to the repository name, like `BAM:0001` or `THC:0013`, and appears in the summary `metadata_main.txt`. The full string includes the different runs (different resolutions, grid setups, hydro scheme, etc.) and appears in the `metadata.txt` inside each run folder.\n",
      "\n",
      "available_runs : This is the list of runs (different resolutions, grid setups, hydro scheme, etc.) available for a given simulation, e.g. R01, R02, R03, etc. Note that with \"simulation\" here we indicate the  set of runs of a given physical setup, i.e. of the same initial data and with the same physical assumptions (e.g. description of matter fields).\n",
      "\n",
      "simulation_name : A string that identifies the simulated binary. The convention used so far is `<EOS>_<mass1>_<mass2>_<spin1z>_<spin2z>_<initial_frequency>_<setup_details>` formatted as e.g. `2B_1.350_1.350_0.00_0.00_0.038_0.186`. Similarly to the database_key, the first part of this string common to all runs of a simulation appears in the summary `metadata_main.txt`, While the full string appears in the `metadata.txt` inside each run folder.\n",
      "\n",
      "binary_type : Type of binary: BBH, BNS, or BHNS.\n",
      "\n",
      "reference_bibkeys : BibTeX code(s) from HEP-SPIRES referrring to the publication of the simulation..\n",
      "\n",
      "id_code : Initial data: Code employed for generating initial data.\n",
      "\n",
      "id_type : Initial data: Assumptions employed in the initial data contruction, e.g. Irrotational.\n",
      "\n",
      "id_mass : Initial data: Binarys gravitational mass (solar masses).\n",
      "\n",
      "id_rest_mass : Initial data: Binarys rest-mass (solar masses).\n",
      "\n",
      "id_mass_ratio : Initial data: Binarys mass ratio.\n",
      "\n",
      "id_ADM_mass : Initial data: ADM mass (solar masses).\n",
      "\n",
      "id_ADM_angularmomentum : Initial data: ADM angular momentum (c=G=Msun=1 units).\n",
      "\n",
      "id_gw_frequency_Hz : Initial data: initial GW frequency (Hz).\n",
      "\n",
      "id_gw_frequency_Momega22 : Initial data: Mass-rescaled initial GW frequency (c=G=Msun=1 units).\n",
      "\n",
      "id_eos : Initial data: EOS employed for the matter.\n",
      "\n",
      "id_kappa2T : Initial data: tidal coupling constant.\n",
      "\n",
      "id_Lambda : Initial data: reduced tidal parameters (this is really $\tilde{\\Lambda}$).\n",
      "\n",
      "id_eccentricity : Initial data: measured eccentricity..\n",
      "\n",
      "id_mass_starA : Initial data: Gravitational (TOV) mass of star A (solar masses).\n",
      "\n",
      "id_rest_mass_starA : Initial data: Rest-mass of star A (solar masses).\n",
      "\n",
      "id_spin_starA : Initial data: components of spin vector of star A.\n",
      "\n",
      "id_LoveNum_kell_starA : Initial data: Gravitoelectric Love numbers for star A and for ell=2,3,4.\n",
      "\n",
      "id_Lambdaell_starA : Initial data: tidal polarizability parameters for star A and for ell=2,3,4.\n",
      "\n",
      "id_mass_starB : Initial data: Gravitational (TOV) mass of star B (solar masses).\n",
      "\n",
      "id_rest_mass_starB : Initial data: Rest-mass of star B (solar masses).\n",
      "\n",
      "id_spin_starB : Initial data: components of spin vector of star B.\n",
      "\n",
      "id_LoveNum_kell_starB : Initial data: Gravitoelectric Love numbers for star B and for ell=2,3,4.\n",
      "\n",
      "id_Lambdaell_starB : Initial data: tidal polarizability parameters for star B and for ell=2,3,4.\n",
      "\n",
      "evolution_code : Code employed for the evolution of initial data, e.g. BAM, THC, etc.\n",
      "\n",
      "grid_refinement_levels : Number of AMR refinement levels.\n",
      "\n",
      "grid_refinement_levels_moving : Number of moving AMR refinement levels.\n",
      "\n",
      "grid_refinement_levels_npoints : Grid points per direction (approximate) in non-moving refinement levels.\n",
      "\n",
      "grid_refinement_levels_moving_npoints : Grid point per direction (approximate) i moving refinement levels.\n",
      "\n",
      "grid_spacing_min : AMR minimum grid spacing (approximate).\n",
      "\n",
      "grid_symmetries : Symmetries imposed to the grid.\n",
      "\n",
      "grid_shells : Spherical patches for wave zone/wave extraction.\n",
      "\n",
      "grid_shells_radial_npoints : Number of radial points in spherical patches.\n",
      "\n",
      "grid_shells_angular_npoints : Number of angular points in spherical patches.\n",
      "\n",
      "grid_conservative_amr : Tells if a refluxing scheme was employed in the simulations.\n",
      "\n",
      "subgrid_model : Subgrid model: None, visL5, visL10, or visK.\n",
      "\n",
      "metric_scheme : Formulation employed for the metric field, e.g. Z4c, BSSN, etc.\n",
      "\n",
      "metric_boundary_conditions : Boundary conditions for the metric fields.\n",
      "\n",
      "hydro_flux : Numerical flux employed in the hydrodynamics scheme.\n",
      "\n",
      "hydro_reconstruction : Reconstruction method employed in the hydrodynamics.\n",
      "\n",
      "hydro_atmosphere_level : Atmosphere value of the rest-mass density (c=G=Msun=1 units).\n",
      "\n",
      "hydro_atmosphere_factor : Atmosphere is set when rest-mass density drops below the atmosphere level times this factor.\n",
      "\n",
      "number_of_orbits : Number of orbits.\n",
      "\n",
      "evolution_mol_scheme : Time integrator used in the method of line scheme.\n",
      "\n",
      "eos_evolution_Gamma_thermal : EOS employed in the evolution or value of the adiabatic exponent for the thermal pressure component.\n",
      "\n",
      "neutrino_scheme : Neutrino scheme: None, Leakage, or M0.\n",
      "\n",
      "id_gw_NR_frequency_Hz : Initial frequency of the waveform in Herz.\n",
      "\n",
      "Hybrid_window_freq_Hz : Frequency window for the hrybrid part of the waveform in Herz.\n",
      "\n",
      "TEOB_Lambda_starA : Tidal deformability of star A for TEOB waveform.\n",
      "\n",
      "TEOB_Lambda_starB : Tidal deformability of star B for TEOB waveform.\n",
      "\n",
      "TEOB_version : version of TEOBResumS used.\n",
      "\n",
      "NR_simulation_key : database_key of the simulation used, identifying it by the code employed for the evolution, e.g. BAM:0013:R02.\n",
      "\n"
     ]
    }
   ],
   "source": [
    "from watpy.coredb.metadata import CoRe_md\n",
    "\n",
    "md = CoRe_md() # initialized empty\n",
    "print(md.path)\n",
    "print(md.data)\n",
    "\n",
    "md.info() # describes the metadata"
   ]
  },
  {
   "cell_type": "markdown",
   "metadata": {},
   "source": [
    "To initialize this object we can either pass a text file like\n",
    "\n",
    "```\n",
    "\n",
    "# comment\n",
    "key = value\n",
    "...\n",
    "\n",
    "```\n",
    "\n",
    "or a dictionary, like `thcsim`. Lets do the latter thing and then use the `CoRe_md()` to write such a text file, i.e. a `metadata.txt`:"
   ]
  },
  {
   "cell_type": "code",
   "execution_count": 28,
   "metadata": {
    "scrolled": true
   },
   "outputs": [
    {
     "name": "stdout",
     "output_type": "stream",
     "text": [
      "database_key = None\n",
      "available_runs = None\n",
      "simulation_name = None\n",
      "binary_type = None\n",
      "reference_bibkeys = None\n",
      "id_code = LORENE\n",
      "id_type = Irrotational\n",
      "id_mass = 2.7\n",
      "id_rest_mass = 2.94554\n",
      "id_mass_ratio = 1.0\n",
      "id_ADM_mass = 2.67288\n",
      "id_ADM_angularmomentum = 7.01514\n",
      "id_gw_frequency_Hz = 663.58\n",
      "id_gw_frequency_Momega22 = 0.0554514940011\n",
      "id_eos = ABC\n",
      "id_kappa2T = 159.0084296249798\n",
      "id_Lambda = 848.0449579998918\n",
      "id_eccentricity = None\n",
      "id_mass_starA = 1.35\n",
      "id_rest_mass_starA = 1.47277\n",
      "id_spin_starA = (0, 0, 0)\n",
      "id_LoveNum_kell_starA = (0.09996, 0.0269, 0.00984)\n",
      "id_Lambdaell_starA = (848.0449579998921, 2001.0063178210328, 4584.234164607441)\n",
      "id_mass_starB = 1.35\n",
      "id_rest_mass_starB = 1.47277\n",
      "id_spin_starB = None\n",
      "id_LoveNum_kell_starB = None\n",
      "id_Lambdaell_starB = None\n",
      "evolution_code = None\n",
      "grid_refinement_levels = None\n",
      "grid_refinement_levels_moving = None\n",
      "grid_refinement_levels_npoints = None\n",
      "grid_refinement_levels_moving_npoints = None\n",
      "grid_spacing_min = None\n",
      "grid_symmetries = None\n",
      "grid_shells = None\n",
      "grid_shells_radial_npoints = None\n",
      "grid_shells_angular_npoints = None\n",
      "grid_conservative_amr = None\n",
      "subgrid_model = None\n",
      "metric_scheme = None\n",
      "metric_boundary_conditions = None\n",
      "hydro_flux = None\n",
      "hydro_reconstruction = None\n",
      "hydro_atmosphere_level = None\n",
      "hydro_atmosphere_factor = None\n",
      "number_of_orbits = None\n",
      "evolution_mol_scheme = None\n",
      "eos_evolution_Gamma_thermal = None\n",
      "neutrino_scheme = None\n",
      "id_gw_NR_frequency_Hz = None\n",
      "Hybrid_window_freq_Hz = None\n",
      "TEOB_Lambda_starA = None\n",
      "TEOB_Lambda_starB = None\n",
      "TEOB_version = None\n",
      "NR_simulation_key = None\n",
      "folder = ./TestData/MySim_THC_135135\n",
      "mass = 2.728\n",
      "q = 1.0\n",
      "f0_Hz = 565.08\n",
      "f0 = 0.0027834682220844835\n",
      "Momg22 = 0.0012085114378482295\n",
      "massA = 1.364\n",
      "massB = 1.364\n",
      "madm = 2.703\n",
      "jadm = 7.4\n",
      "pre-release-folder = ./TestData/MySim_THC_135135/CoReDB\n",
      "Wrote ./TestData/MySim_THC_135135/CoReDB/metadata.txt\n"
     ]
    }
   ],
   "source": [
    "md.update_fromdict(thcsim)\n",
    "# md = CoRe_md(metadata = thcsim) # alternatively, (re-)initialize\n",
    "\n",
    "# show the metadata\n",
    "for k,v, in md.data.items():\n",
    "    print('{} = {}'.format(k,v))\n",
    "\n",
    "# write\n",
    "md.write(path = thcsim['pre-release-folder'], fname = 'metadata.txt')"
   ]
  },
  {
   "cell_type": "code",
   "execution_count": null,
   "metadata": {},
   "outputs": [],
   "source": []
  },
  {
   "cell_type": "code",
   "execution_count": null,
   "metadata": {},
   "outputs": [],
   "source": []
  }
 ],
 "metadata": {
  "kernelspec": {
   "display_name": "Python 3.10.7 64-bit",
   "language": "python",
   "name": "python3"
  },
  "language_info": {
   "codemirror_mode": {
    "name": "ipython",
    "version": 3
   },
   "file_extension": ".py",
   "mimetype": "text/x-python",
   "name": "python",
   "nbconvert_exporter": "python",
   "pygments_lexer": "ipython3",
   "version": "3.10.7 (tags/v3.10.7:6cc6b13, Sep  5 2022, 14:08:36) [MSC v.1933 64 bit (AMD64)]"
  },
  "vscode": {
   "interpreter": {
    "hash": "26de051ba29f2982a8de78e945f0abaf191376122a1563185a90213a26c5da77"
   }
  }
 },
 "nbformat": 4,
 "nbformat_minor": 4
}
