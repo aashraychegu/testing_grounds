{
 "cells": [
  {
   "cell_type": "markdown",
   "metadata": {},
   "source": [
    "# Clone, get data and add simulations to the CoRe DB"
   ]
  },
  {
   "cell_type": "markdown",
   "metadata": {},
   "source": [
    "Illustrates the use of the watpy objects to work with the CoRe DB.\n",
    "\n",
    "SB 09/2021 core@uni-jena.de"
   ]
  },
  {
   "cell_type": "markdown",
   "metadata": {},
   "source": [
    "## 0. Start"
   ]
  },
  {
   "cell_type": "markdown",
   "metadata": {},
   "source": [
    "Clone the repo somewhere and install the package:\n",
    "\n",
    "```\n",
    "mkdir somewhere/\n",
    "cd somehwere/\n",
    "git clone git@git.tpi.uni-jena.de:core/watpy.git\n",
    "cd watpy\n",
    "python setup.py --user\n",
    "```\n",
    "\n",
    "Now look at the folders and see some files: they contain python code, functions and classes.\n",
    "\n",
    "Go to the examples\n",
    "\n",
    "```\n",
    "cd tutorials\n",
    "```\n",
    "\n",
    "and find this tutorial.\n",
    "\n",
    "The following assumes there is some test data a folder called `./TestData/MySim_BAM_135135/CoReDB`. This can be generated running the `watpy_wav.ipynb`. We will be cloning part of the CoRe DB from the gitlab repsitory\n",
    "\n",
    "https://core-gitlfs.tpi.uni-jena.de/core_database\n",
    "\n",
    "so prepare a folder for those data:\n",
    "\n",
    "```\n",
    "mkdir CoRe_DB_clone # for local clone of the CoRe DB\n",
    "```\n",
    "\n",
    "or"
   ]
  },
  {
   "cell_type": "code",
   "execution_count": 1,
   "metadata": {},
   "outputs": [],
   "source": [
    "import os\n",
    "os.makedirs('./CoRe_DB_clone', exist_ok=True)"
   ]
  },
  {
   "cell_type": "markdown",
   "metadata": {},
   "source": [
    "## 1. Clone the CoRe DB"
   ]
  },
  {
   "cell_type": "code",
   "execution_count": 2,
   "metadata": {},
   "outputs": [],
   "source": [
    "from watpy.coredb.coredb import *"
   ]
  },
  {
   "cell_type": "markdown",
   "metadata": {},
   "source": [
    "Initialize a `CoRe_db()` object by specifying the path where we would like the CoRe DB to be initialized. \n",
    "The initialization will either clone the special repository `core_database_index` (and only this one) in the given path or syncronize it to (i.e. pull) the latest version in case the repository already exists."
   ]
  },
  {
   "cell_type": "code",
   "execution_count": 3,
   "metadata": {},
   "outputs": [
    {
     "name": "stdout",
     "output_type": "stream",
     "text": [
      "Index found, updating...\n",
      "\n",
      "git-pull core_database_index ...\n",
      " \n",
      "done!\n",
      " Found R01\n",
      "Found THC:0012\n",
      " Found R01\n",
      "Found THC:0015\n",
      " Found R01\n",
      "Found THC:0017\n",
      "skip THC_0038, not a DB key\n",
      "skip core_database_index, not a DB key\n",
      " Found R02\n",
      " Found R01\n",
      "Found THC:0013\n",
      " Found R01\n",
      "Found THC:0014\n",
      "skip THC_0037, not a DB key\n",
      "skip THC_0039, not a DB key\n",
      " Found R01\n",
      "Found THC:0010\n",
      " Found R02\n",
      " Found R01\n",
      "Found THC:0016\n",
      " Found R01\n",
      "Found THC:0011\n"
     ]
    }
   ],
   "source": [
    "db_path = './CoRe_DB_clone/'\n",
    "cdb = CoRe_db(db_path)"
   ]
  },
  {
   "cell_type": "markdown",
   "metadata": {},
   "source": [
    "The `cdb` object contains the CoRe DB index, which is a `CoRe_idx()` object with essential metadata for all the simulations contained in the DB. The metadata are in a list of `CoRe_md()` objects; which is a simple class wrapping a python dictionary."
   ]
  },
  {
   "cell_type": "code",
   "execution_count": 4,
   "metadata": {},
   "outputs": [
    {
     "name": "stdout",
     "output_type": "stream",
     "text": [
      "['BAM:0001', 'BAM:0002', 'BAM:0003', 'BAM:0004', 'BAM:0005', 'BAM:0006', 'BAM:0007', 'BAM:0008', 'BAM:0009', 'BAM:0010', 'BAM:0011', 'BAM:0012', 'BAM:0013', 'BAM:0014', 'BAM:0015', 'BAM:0016', 'BAM:0017', 'BAM:0018', 'BAM:0019', 'BAM:0020', 'BAM:0021', 'BAM:0022', 'BAM:0023', 'BAM:0024', 'BAM:0025', 'BAM:0026', 'BAM:0027', 'BAM:0028', 'BAM:0029', 'BAM:0030', 'BAM:0031', 'BAM:0032', 'BAM:0033', 'BAM:0034', 'BAM:0035', 'BAM:0036', 'BAM:0037', 'BAM:0038', 'BAM:0039', 'BAM:0040', 'BAM:0041', 'BAM:0042', 'BAM:0043', 'BAM:0044', 'BAM:0045', 'BAM:0046', 'BAM:0047', 'BAM:0048', 'BAM:0049', 'BAM:0050', 'BAM:0051', 'BAM:0052', 'BAM:0053', 'BAM:0054', 'BAM:0055', 'BAM:0056', 'BAM:0057', 'BAM:0058', 'BAM:0059', 'BAM:0060', 'BAM:0061', 'BAM:0062', 'BAM:0063', 'BAM:0064', 'BAM:0065', 'BAM:0066', 'BAM:0067', 'BAM:0068', 'BAM:0069', 'BAM:0070', 'BAM:0071', 'BAM:0072', 'BAM:0073', 'BAM:0074', 'BAM:0075', 'BAM:0076', 'BAM:0077', 'BAM:0078', 'BAM:0079', 'BAM:0080', 'BAM:0081', 'BAM:0082', 'BAM:0083', 'BAM:0084', 'BAM:0085', 'BAM:0086', 'BAM:0087', 'BAM:0088', 'BAM:0089', 'BAM:0090', 'BAM:0091', 'BAM:0092', 'BAM:0093', 'BAM:0094', 'BAM:0095', 'BAM:0096', 'BAM:0097', 'BAM:0098', 'BAM:0099', 'BAM:0100', 'BAM:0101', 'BAM:0102', 'BAM:0103', 'BAM:0104', 'BAM:0105', 'BAM:0106', 'BAM:0107', 'BAM:0108', 'BAM:0109', 'BAM:0110', 'BAM:0111', 'BAM:0112', 'BAM:0113', 'BAM:0114', 'BAM:0115', 'BAM:0116', 'BAM:0117', 'BAM:0118', 'BAM:0119', 'BAM:0120', 'BAM:0121', 'BAM:0122', 'BAM:0123', 'BAM:0124', 'BAM:0125', 'BAM:0126', 'BAM:0127', 'BAM:0128', 'THC:0001', 'THC:0002', 'THC:0003', 'THC:0004', 'THC:0005', 'THC:0006', 'THC:0007', 'THC:0008', 'THC:0009', 'THC:0010', 'THC:0011', 'THC:0012', 'THC:0013', 'THC:0014', 'THC:0015', 'THC:0016', 'THC:0017', 'THC:0018', 'THC:0019', 'THC:0020', 'THC:0021', 'THC:0022', 'THC:0023', 'THC:0024', 'THC:0025', 'THC:0026', 'THC:0027', 'THC:0028', 'THC:0029', 'THC:0030', 'THC:0031', 'THC:0032', 'THC:0033', 'THC:0034', 'THC:0035', 'THC:0036']\n",
      "  database_key = BAM:0001\n",
      "  available_runs = None\n",
      "  simulation_name = 2B_1.350_1.350_0.00_0.00_0.038\n",
      "  binary_type = None\n",
      "  reference_bibkeys = Bernuzzi:2014owa\n",
      "  id_code = LORENE\n",
      "  id_type = Irrotational\n",
      "  id_mass = 2.699952e+00\n",
      "  id_rest_mass = 3.050133e+00\n",
      "  id_mass_ratio = 1.000000e+00\n",
      "  id_ADM_mass = 2.677624e+00\n",
      "  id_ADM_angularmomentum = 7.662564e+00\n",
      "  id_gw_frequency_Hz = 4.545056e+02\n",
      "  id_gw_frequency_Momega22 = 3.797735e-02\n",
      "  id_eos = 2B\n",
      "  id_kappa2T = 2.376117e+01\n",
      "  id_Lambda = 1.267263e+02\n",
      "  id_eccentricity = 7.092541e-03\n",
      "  id_mass_starA = 1.349976e+00\n",
      "  id_rest_mass_starA = 1.525067e+00\n",
      "  id_spin_starA = 0, 0, 0\n",
      "  id_LoveNum_kell_starA = 6.899000e-02, 1.746000e-02, 5.990000e-03\n",
      "  id_Lambdaell_starA = 1.267263e+02, 1.524837e+02, 1.776546e+02\n",
      "  id_mass_starB = 1.349976e+00\n",
      "  id_rest_mass_starB = 1.525067e+00\n",
      "  id_spin_starB = 0, 0, 0\n",
      "  id_LoveNum_kell_starB = 6.899000e-02, 1.746000e-02, 5.990000e-03\n",
      "  id_Lambdaell_starB = 1.267263e+02, 1.524837e+02, 1.776546e+02\n",
      "  evolution_code = None\n",
      "  grid_refinement_levels = None\n",
      "  grid_refinement_levels_moving = None\n",
      "  grid_refinement_levels_npoints = None\n",
      "  grid_refinement_levels_moving_npoints = None\n",
      "  grid_spacing_min = None\n",
      "  grid_symmetries = None\n",
      "  grid_shells = None\n",
      "  grid_shells_radial_npoints = None\n",
      "  grid_shells_angular_npoints = None\n",
      "  grid_conservative_amr = None\n",
      "  subgrid_model = None\n",
      "  metric_scheme = None\n",
      "  metric_boundary_conditions = None\n",
      "  hydro_flux = None\n",
      "  hydro_reconstruction = None\n",
      "  hydro_atmosphere_level = None\n",
      "  hydro_atmosphere_factor = None\n",
      "  number_of_orbits = None\n",
      "  evolution_mol_scheme = None\n",
      "  eos_evolution_Gamma_thermal = None\n",
      "  neutrino_scheme = None\n",
      "  id_gw_NR_frequency_Hz = None\n",
      "  Hybrid_window_freq_Hz = None\n",
      "  TEOB_Lambda_starA = None\n",
      "  TEOB_Lambda_starB = None\n",
      "  TEOB_version = None\n",
      "  NR_simulation_key = None\n",
      "  available_resolutions = R01, R02, R03, R04\n",
      "Shown 1 entries\n"
     ]
    }
   ],
   "source": [
    "idb = cdb.idb\n",
    "\n",
    "print(idb.dbkeys) # show the database_key for each simulation\n",
    "\n",
    "# show the metadata in the CoRe DB index for each simulation\n",
    "entries = 0\n",
    "for i in idb.index: \n",
    "    entries += 1\n",
    "    for k, v in i.data.items():\n",
    "        print('  {} = {}'.format(k,v))\n",
    "    \n",
    "    break # uncomment to see all ... large output\n",
    "print('Shown {} entries'.format(entries))"
   ]
  },
  {
   "cell_type": "markdown",
   "metadata": {},
   "source": [
    "It is also possible to plot some quantities"
   ]
  },
  {
   "cell_type": "code",
   "execution_count": 5,
   "metadata": {},
   "outputs": [
    {
     "data": {
      "image/png": "[encoded data removed]",
      "text/plain": [
       "<Figure size 432x288 with 1 Axes>"
      ]
     },
     "metadata": {
      "needs_background": "light"
     },
     "output_type": "display_data"
    }
   ],
   "source": [
    "fig, ax = idb.show('id_eos', to_float=False) "
   ]
  },
  {
   "cell_type": "code",
   "execution_count": 6,
   "metadata": {},
   "outputs": [
    {
     "data": {
      "image/png": "[encoded data removed]",
      "text/plain": [
       "<Figure size 432x288 with 1 Axes>"
      ]
     },
     "metadata": {
      "needs_background": "light"
     },
     "output_type": "display_data"
    }
   ],
   "source": [
    "fig, ax = idb.show('id_gw_frequency_Momega22', to_float=True) \n",
    "\n",
    "#CHECK CoRe DB: some metadata val are not present in the json ! (None)\n",
    "# e.g. THC:0010\n",
    "# These entries needs to be fixed and pushed! "
   ]
  },
  {
   "cell_type": "markdown",
   "metadata": {},
   "source": [
    "**Note that the index contains only a subset of all the available metadata for each simulation.** We can find a group of simulations based on these metadata using usual dictionary manipulation:"
   ]
  },
  {
   "cell_type": "code",
   "execution_count": 7,
   "metadata": {},
   "outputs": [
    {
     "name": "stdout",
     "output_type": "stream",
     "text": [
      "  database_key = THC:0010\n",
      "  available_runs = None\n",
      "  simulation_name = DD2_1.200_1.200_0.00_0.00_0.047\n",
      "  binary_type = None\n",
      "  reference_bibkeys = Radice:2016rys Radice:2017lry\n",
      "  id_code = LORENE\n",
      "  id_type = Irrotational\n",
      "  id_mass = 2.4\n",
      "  id_rest_mass = 2.59384\n",
      "  id_mass_ratio = 1.0\n",
      "  id_ADM_mass = 2.38178\n",
      "  id_ADM_angularmomentum = 5.75981\n",
      "  id_gw_frequency_Hz = 633.08\n",
      "  id_gw_frequency_Momega22 = 0.0470247001245\n",
      "  id_eos = DD2\n",
      "  id_kappa2T = 302.2965055328028\n",
      "  id_Lambda = 1612.2480295082828\n",
      "  id_eccentricity = \n",
      "  id_mass_starA = 1.2\n",
      "  id_rest_mass_starA = 1.29692\n",
      "  id_spin_starA = 0, 0, 0\n",
      "  id_LoveNum_kell_starA = 0.10752, 0.02943, 0.01096\n",
      "  id_Lambdaell_starA = 1612.2480295082821, 4859.330076873647, 14233.516050669448\n",
      "  id_mass_starB = 1.2\n",
      "  id_rest_mass_starB = 1.29692\n",
      "  id_spin_starB = 0, 0, 0\n",
      "  id_LoveNum_kell_starB = 0.10752, 0.02943, 0.01096\n",
      "  id_Lambdaell_starB = 1612.2480295082821, 4859.330076873647, 14233.516050669448\n",
      "  evolution_code = None\n",
      "  grid_refinement_levels = None\n",
      "  grid_refinement_levels_moving = None\n",
      "  grid_refinement_levels_npoints = None\n",
      "  grid_refinement_levels_moving_npoints = None\n",
      "  grid_spacing_min = None\n",
      "  grid_symmetries = None\n",
      "  grid_shells = None\n",
      "  grid_shells_radial_npoints = None\n",
      "  grid_shells_angular_npoints = None\n",
      "  grid_conservative_amr = None\n",
      "  subgrid_model = None\n",
      "  metric_scheme = None\n",
      "  metric_boundary_conditions = None\n",
      "  hydro_flux = None\n",
      "  hydro_reconstruction = None\n",
      "  hydro_atmosphere_level = None\n",
      "  hydro_atmosphere_factor = None\n",
      "  number_of_orbits = None\n",
      "  evolution_mol_scheme = None\n",
      "  eos_evolution_Gamma_thermal = None\n",
      "  neutrino_scheme = None\n",
      "  id_gw_NR_frequency_Hz = None\n",
      "  Hybrid_window_freq_Hz = None\n",
      "  TEOB_Lambda_starA = None\n",
      "  TEOB_Lambda_starB = None\n",
      "  TEOB_version = None\n",
      "  NR_simulation_key = None\n",
      "  available_resolutions = R01\n",
      "  database_key = THC:0011\n",
      "  available_runs = None\n",
      "  simulation_name = DD2_1.250_1.250_0.00_0.00_0.050\n",
      "  binary_type = None\n",
      "  reference_bibkeys = Radice:2016rys Radice:2017lry\n",
      "  id_code = LORENE\n",
      "  id_type = Irrotational\n",
      "  id_mass = 2.5\n",
      "  id_rest_mass = 2.70598\n",
      "  id_mass_ratio = 1.0\n",
      "  id_ADM_mass = 2.47564\n",
      "  id_ADM_angularmomentum = 6.16715\n",
      "  id_gw_frequency_Hz = 644.684\n",
      "  id_gw_frequency_Momega22 = 0.0498819129216\n",
      "  id_eos = DD2\n",
      "  id_kappa2T = 242.86873383835237\n",
      "  id_Lambda = 1295.299913804546\n",
      "  id_eccentricity = \n",
      "  id_mass_starA = 1.25\n",
      "  id_rest_mass_starA = 1.35299\n",
      "  id_spin_starA = 0, 0, 0\n",
      "  id_LoveNum_kell_starA = 0.10517, 0.02864, 0.01061\n",
      "  id_Lambdaell_starA = 1295.2999138045457, 3590.1232699912975, 9669.000432709556\n",
      "  id_mass_starB = 1.25\n",
      "  id_rest_mass_starB = 1.35299\n",
      "  id_spin_starB = 0, 0, 0\n",
      "  id_LoveNum_kell_starB = 0.10517, 0.02864, 0.01061\n",
      "  id_Lambdaell_starB = 1295.2999138045457, 3590.1232699912975, 9669.000432709556\n",
      "  evolution_code = None\n",
      "  grid_refinement_levels = None\n",
      "  grid_refinement_levels_moving = None\n",
      "  grid_refinement_levels_npoints = None\n",
      "  grid_refinement_levels_moving_npoints = None\n",
      "  grid_spacing_min = None\n",
      "  grid_symmetries = None\n",
      "  grid_shells = None\n",
      "  grid_shells_radial_npoints = None\n",
      "  grid_shells_angular_npoints = None\n",
      "  grid_conservative_amr = None\n",
      "  subgrid_model = None\n",
      "  metric_scheme = None\n",
      "  metric_boundary_conditions = None\n",
      "  hydro_flux = None\n",
      "  hydro_reconstruction = None\n",
      "  hydro_atmosphere_level = None\n",
      "  hydro_atmosphere_factor = None\n",
      "  number_of_orbits = None\n",
      "  evolution_mol_scheme = None\n",
      "  eos_evolution_Gamma_thermal = None\n",
      "  neutrino_scheme = None\n",
      "  id_gw_NR_frequency_Hz = None\n",
      "  Hybrid_window_freq_Hz = None\n",
      "  TEOB_Lambda_starA = None\n",
      "  TEOB_Lambda_starB = None\n",
      "  TEOB_version = None\n",
      "  NR_simulation_key = None\n",
      "  available_resolutions = R01\n",
      "  database_key = THC:0012\n",
      "  available_runs = None\n",
      "  simulation_name = DD2_1.300_1.300_0.00_0.00_0.053\n",
      "  binary_type = None\n",
      "  reference_bibkeys = Radice:2016rys Radice:2017lry\n",
      "  id_code = LORENE\n",
      "  id_type = Irrotational\n",
      "  id_mass = 2.6\n",
      "  id_rest_mass = 2.83144\n",
      "  id_mass_ratio = 1.0\n",
      "  id_ADM_mass = 2.5796\n",
      "  id_ADM_angularmomentum = 6.60881\n",
      "  id_gw_frequency_Hz = 654.862\n",
      "  id_gw_frequency_Momega22 = 0.0526962046988\n",
      "  id_eos = DD2\n",
      "  id_kappa2T = 196.0638677357165\n",
      "  id_Lambda = 1045.6739612571548\n",
      "  id_eccentricity = \n",
      "  id_mass_starA = 1.3\n",
      "  id_rest_mass_starA = 1.41572\n",
      "  id_spin_starA = 0, 0, 0\n",
      "  id_LoveNum_kell_starA = 0.10267, 0.02781, 0.01024\n",
      "  id_Lambdaell_starA = 1045.6739612571548, 2671.7838008750186, 6628.5698390834705\n",
      "  id_mass_starB = 1.3\n",
      "  id_rest_mass_starB = 1.41572\n",
      "  id_spin_starB = 0, 0, 0\n",
      "  id_LoveNum_kell_starB = 0.10267, 0.02781, 0.01024\n",
      "  id_Lambdaell_starB = 1045.6739612571548, 2671.7838008750186, 6628.5698390834705\n",
      "  evolution_code = None\n",
      "  grid_refinement_levels = None\n",
      "  grid_refinement_levels_moving = None\n",
      "  grid_refinement_levels_npoints = None\n",
      "  grid_refinement_levels_moving_npoints = None\n",
      "  grid_spacing_min = None\n",
      "  grid_symmetries = None\n",
      "  grid_shells = None\n",
      "  grid_shells_radial_npoints = None\n",
      "  grid_shells_angular_npoints = None\n",
      "  grid_conservative_amr = None\n",
      "  subgrid_model = None\n",
      "  metric_scheme = None\n",
      "  metric_boundary_conditions = None\n",
      "  hydro_flux = None\n",
      "  hydro_reconstruction = None\n",
      "  hydro_atmosphere_level = None\n",
      "  hydro_atmosphere_factor = None\n",
      "  number_of_orbits = None\n",
      "  evolution_mol_scheme = None\n",
      "  eos_evolution_Gamma_thermal = None\n",
      "  neutrino_scheme = None\n",
      "  id_gw_NR_frequency_Hz = None\n",
      "  Hybrid_window_freq_Hz = None\n",
      "  TEOB_Lambda_starA = None\n",
      "  TEOB_Lambda_starB = None\n",
      "  TEOB_version = None\n",
      "  NR_simulation_key = None\n",
      "  available_resolutions = R01\n",
      "  database_key = THC:0013\n",
      "  available_runs = None\n",
      "  simulation_name = DD2_1.350_1.350_0.00_0.00_0.055\n",
      "  binary_type = None\n",
      "  reference_bibkeys = Radice:2016rys Radice:2017lry\n",
      "  id_code = LORENE\n",
      "  id_type = Irrotational\n",
      "  id_mass = 2.7\n",
      "  id_rest_mass = 2.94554\n",
      "  id_mass_ratio = 1.0\n",
      "  id_ADM_mass = 2.67288\n",
      "  id_ADM_angularmomentum = 7.01514\n",
      "  id_gw_frequency_Hz = 663.58\n",
      "  id_gw_frequency_Momega22 = 0.0554514940011\n",
      "  id_eos = DD2\n",
      "  id_kappa2T = 159.0084296249798\n",
      "  id_Lambda = 848.0449579998918\n",
      "  id_eccentricity = \n",
      "  id_mass_starA = 1.35\n",
      "  id_rest_mass_starA = 1.47277\n",
      "  id_spin_starA = 0, 0, 0\n",
      "  id_LoveNum_kell_starA = 0.09996, 0.0269, 0.00984\n",
      "  id_Lambdaell_starA = 848.0449579998921, 2001.0063178210328, 4584.234164607441\n",
      "  id_mass_starB = 1.35\n",
      "  id_rest_mass_starB = 1.47277\n",
      "  id_spin_starB = 0, 0, 0\n",
      "  id_LoveNum_kell_starB = 0.09996, 0.0269, 0.00984\n",
      "  id_Lambdaell_starB = 848.0449579998921, 2001.0063178210328, 4584.234164607441\n",
      "  evolution_code = None\n",
      "  grid_refinement_levels = None\n",
      "  grid_refinement_levels_moving = None\n",
      "  grid_refinement_levels_npoints = None\n",
      "  grid_refinement_levels_moving_npoints = None\n",
      "  grid_spacing_min = None\n",
      "  grid_symmetries = None\n",
      "  grid_shells = None\n",
      "  grid_shells_radial_npoints = None\n",
      "  grid_shells_angular_npoints = None\n",
      "  grid_conservative_amr = None\n",
      "  subgrid_model = None\n",
      "  metric_scheme = None\n",
      "  metric_boundary_conditions = None\n",
      "  hydro_flux = None\n",
      "  hydro_reconstruction = None\n",
      "  hydro_atmosphere_level = None\n",
      "  hydro_atmosphere_factor = None\n",
      "  number_of_orbits = None\n",
      "  evolution_mol_scheme = None\n",
      "  eos_evolution_Gamma_thermal = None\n",
      "  neutrino_scheme = None\n",
      "  id_gw_NR_frequency_Hz = None\n",
      "  Hybrid_window_freq_Hz = None\n",
      "  TEOB_Lambda_starA = None\n",
      "  TEOB_Lambda_starB = None\n",
      "  TEOB_version = None\n",
      "  NR_simulation_key = None\n",
      "  available_resolutions = R01, R02\n",
      "  database_key = THC:0014\n",
      "  available_runs = None\n",
      "  simulation_name = DD2_1.365_1.250_0.00_0.00_0.053\n",
      "  binary_type = None\n",
      "  reference_bibkeys = Radice:2016rys Radice:2017lry\n",
      "  id_code = LORENE\n",
      "  id_type = Irrotational\n",
      "  id_mass = 2.615\n",
      "  id_rest_mass = 2.84344\n",
      "  id_mass_ratio = 1.092\n",
      "  id_ADM_mass = 2.58906\n",
      "  id_ADM_angularmomentum = 6.63885\n",
      "  id_gw_frequency_Hz = 656\n",
      "  id_gw_frequency_Momega22 = 0.0530923234963\n",
      "  id_eos = DD2\n",
      "  id_kappa2T = 190.76860956190075\n",
      "  id_Lambda = 1016.9753576332756\n",
      "  id_eccentricity = \n",
      "  id_mass_starA = 1.365\n",
      "  id_rest_mass_starA = 1.49103\n",
      "  id_spin_starA = 0, 0, 0\n",
      "  id_LoveNum_kell_starA = 0.09914, 0.02663, 0.00972\n",
      "  id_Lambdaell_starA = 797.1340585207874, 1837.5243240619836, 4111.304457549288\n",
      "  id_mass_starB = 1.25\n",
      "  id_rest_mass_starB = 1.35241\n",
      "  id_spin_starB = 0, 0, 0\n",
      "  id_LoveNum_kell_starB = 0.10517, 0.02864, 0.01061\n",
      "  id_Lambdaell_starB = 1295.2999138045457, 3590.1232699912975, 9669.000432709556\n",
      "  evolution_code = None\n",
      "  grid_refinement_levels = None\n",
      "  grid_refinement_levels_moving = None\n",
      "  grid_refinement_levels_npoints = None\n",
      "  grid_refinement_levels_moving_npoints = None\n",
      "  grid_spacing_min = None\n",
      "  grid_symmetries = None\n",
      "  grid_shells = None\n",
      "  grid_shells_radial_npoints = None\n",
      "  grid_shells_angular_npoints = None\n",
      "  grid_conservative_amr = None\n",
      "  subgrid_model = None\n",
      "  metric_scheme = None\n",
      "  metric_boundary_conditions = None\n",
      "  hydro_flux = None\n",
      "  hydro_reconstruction = None\n",
      "  hydro_atmosphere_level = None\n",
      "  hydro_atmosphere_factor = None\n",
      "  number_of_orbits = None\n",
      "  evolution_mol_scheme = None\n",
      "  eos_evolution_Gamma_thermal = None\n",
      "  neutrino_scheme = None\n",
      "  id_gw_NR_frequency_Hz = None\n",
      "  Hybrid_window_freq_Hz = None\n",
      "  TEOB_Lambda_starA = None\n",
      "  TEOB_Lambda_starB = None\n",
      "  TEOB_version = None\n",
      "  NR_simulation_key = None\n",
      "  available_resolutions = R01\n",
      "  database_key = THC:0015\n",
      "  available_runs = None\n",
      "  simulation_name = DD2_1.400_1.200_0.00_0.00_0.053\n",
      "  binary_type = None\n",
      "  reference_bibkeys = Radice:2016rys Radice:2017lry\n",
      "  id_code = LORENE\n",
      "  id_type = Irrotational\n",
      "  id_mass = 2.6\n",
      "  id_rest_mass = 2.82946\n",
      "  id_mass_ratio = 1.16666666667\n",
      "  id_ADM_mass = 2.57644\n",
      "  id_ADM_angularmomentum = 6.53749\n",
      "  id_gw_frequency_Hz = 652.714\n",
      "  id_gw_frequency_Momega22 = 0.0525233569115\n",
      "  id_eos = DD2\n",
      "  id_kappa2T = 198.5671528237351\n",
      "  id_Lambda = 1057.5952309682204\n",
      "  id_eccentricity = \n",
      "  id_mass_starA = 1.4\n",
      "  id_rest_mass_starA = 1.53253\n",
      "  id_spin_starA = 0, 0, 0\n",
      "  id_LoveNum_kell_starA = 0.09713, 0.02596, 0.00942\n",
      "  id_Lambdaell_starA = 690.6300963090755, 1508.0652869857847, 3193.461363781705\n",
      "  id_mass_starB = 1.2\n",
      "  id_rest_mass_starB = 1.29693\n",
      "  id_spin_starB = 0, 0, 0\n",
      "  id_LoveNum_kell_starB = 0.10752, 0.02943, 0.01096\n",
      "  id_Lambdaell_starB = 1612.2480295082821, 4859.330076873647, 14233.516050669448\n",
      "  evolution_code = None\n",
      "  grid_refinement_levels = None\n",
      "  grid_refinement_levels_moving = None\n",
      "  grid_refinement_levels_npoints = None\n",
      "  grid_refinement_levels_moving_npoints = None\n",
      "  grid_spacing_min = None\n",
      "  grid_symmetries = None\n",
      "  grid_shells = None\n",
      "  grid_shells_radial_npoints = None\n",
      "  grid_shells_angular_npoints = None\n",
      "  grid_conservative_amr = None\n",
      "  subgrid_model = None\n",
      "  metric_scheme = None\n",
      "  metric_boundary_conditions = None\n",
      "  hydro_flux = None\n",
      "  hydro_reconstruction = None\n",
      "  hydro_atmosphere_level = None\n",
      "  hydro_atmosphere_factor = None\n",
      "  number_of_orbits = None\n",
      "  evolution_mol_scheme = None\n",
      "  eos_evolution_Gamma_thermal = None\n",
      "  neutrino_scheme = None\n",
      "  id_gw_NR_frequency_Hz = None\n",
      "  Hybrid_window_freq_Hz = None\n",
      "  TEOB_Lambda_starA = None\n",
      "  TEOB_Lambda_starB = None\n",
      "  TEOB_version = None\n",
      "  NR_simulation_key = None\n",
      "  available_resolutions = R01\n",
      "  database_key = THC:0016\n",
      "  available_runs = None\n",
      "  simulation_name = DD2_1.400_1.400_0.00_0.00_0.058\n",
      "  binary_type = None\n",
      "  reference_bibkeys = Radice:2016rys Radice:2017lry\n",
      "  id_code = LORENE\n",
      "  id_type = Irrotational\n",
      "  id_mass = 2.8\n",
      "  id_rest_mass = 3.06508\n",
      "  id_mass_ratio = 1.0\n",
      "  id_ADM_mass = 2.77062\n",
      "  id_ADM_angularmomentum = 7.44301\n",
      "  id_gw_frequency_Hz = 671.364\n",
      "  id_gw_frequency_Momega22 = 0.0581798075601\n",
      "  id_eos = DD2\n",
      "  id_kappa2T = 129.4931430579516\n",
      "  id_Lambda = 690.6300963090752\n",
      "  id_eccentricity = \n",
      "  id_mass_starA = 1.4\n",
      "  id_rest_mass_starA = 1.53254\n",
      "  id_spin_starA = 0, 0, 0\n",
      "  id_LoveNum_kell_starA = 0.09713, 0.02596, 0.00942\n",
      "  id_Lambdaell_starA = 690.6300963090755, 1508.0652869857847, 3193.461363781705\n",
      "  id_mass_starB = 1.4\n",
      "  id_rest_mass_starB = 1.53254\n",
      "  id_spin_starB = 0, 0, 0\n",
      "  id_LoveNum_kell_starB = 0.09713, 0.02596, 0.00942\n",
      "  id_Lambdaell_starB = 690.6300963090755, 1508.0652869857847, 3193.461363781705\n",
      "  evolution_code = None\n",
      "  grid_refinement_levels = None\n",
      "  grid_refinement_levels_moving = None\n",
      "  grid_refinement_levels_npoints = None\n",
      "  grid_refinement_levels_moving_npoints = None\n",
      "  grid_spacing_min = None\n",
      "  grid_symmetries = None\n",
      "  grid_shells = None\n",
      "  grid_shells_radial_npoints = None\n",
      "  grid_shells_angular_npoints = None\n",
      "  grid_conservative_amr = None\n",
      "  subgrid_model = None\n",
      "  metric_scheme = None\n",
      "  metric_boundary_conditions = None\n",
      "  hydro_flux = None\n",
      "  hydro_reconstruction = None\n",
      "  hydro_atmosphere_level = None\n",
      "  hydro_atmosphere_factor = None\n",
      "  number_of_orbits = None\n",
      "  evolution_mol_scheme = None\n",
      "  eos_evolution_Gamma_thermal = None\n",
      "  neutrino_scheme = None\n",
      "  id_gw_NR_frequency_Hz = None\n",
      "  Hybrid_window_freq_Hz = None\n",
      "  TEOB_Lambda_starA = None\n",
      "  TEOB_Lambda_starB = None\n",
      "  TEOB_version = None\n",
      "  NR_simulation_key = None\n",
      "  available_resolutions = R01, R02\n",
      "  database_key = THC:0017\n",
      "  available_runs = None\n",
      "  simulation_name = DD2_1.500_1.500_0.00_0.00_0.064\n",
      "  binary_type = None\n",
      "  reference_bibkeys = Radice:2016rys Radice:2017lry\n",
      "  id_code = LORENE\n",
      "  id_type = Irrotational\n",
      "  id_mass = 3.0\n",
      "  id_rest_mass = 3.313\n",
      "  id_mass_ratio = 1.0\n",
      "  id_ADM_mass = 2.9703\n",
      "  id_ADM_angularmomentum = 8.39708\n",
      "  id_gw_frequency_Hz = 689.77\n",
      "  id_gw_frequency_Momega22 = 0.0640444876732\n",
      "  id_eos = DD2\n",
      "  id_kappa2T = 86.72854370841495\n",
      "  id_Lambda = 462.5522331115464\n",
      "  id_eccentricity = \n",
      "  id_mass_starA = 1.5\n",
      "  id_rest_mass_starA = 1.6565\n",
      "  id_spin_starA = 0, 0, 0\n",
      "  id_LoveNum_kell_starA = 0.09118, 0.024, 0.00857\n",
      "  id_Lambdaell_starA = 462.55223311154634, 869.0472962917256, 1582.18015973377\n",
      "  id_mass_starB = 1.5\n",
      "  id_rest_mass_starB = 1.6565\n",
      "  id_spin_starB = 0, 0, 0\n",
      "  id_LoveNum_kell_starB = 0.09118, 0.024, 0.00857\n",
      "  id_Lambdaell_starB = 462.55223311154634, 869.0472962917256, 1582.18015973377\n",
      "  evolution_code = None\n",
      "  grid_refinement_levels = None\n",
      "  grid_refinement_levels_moving = None\n",
      "  grid_refinement_levels_npoints = None\n",
      "  grid_refinement_levels_moving_npoints = None\n",
      "  grid_spacing_min = None\n",
      "  grid_symmetries = None\n",
      "  grid_shells = None\n",
      "  grid_shells_radial_npoints = None\n",
      "  grid_shells_angular_npoints = None\n",
      "  grid_conservative_amr = None\n",
      "  subgrid_model = None\n",
      "  metric_scheme = None\n",
      "  metric_boundary_conditions = None\n",
      "  hydro_flux = None\n",
      "  hydro_reconstruction = None\n",
      "  hydro_atmosphere_level = None\n",
      "  hydro_atmosphere_factor = None\n",
      "  number_of_orbits = None\n",
      "  evolution_mol_scheme = None\n",
      "  eos_evolution_Gamma_thermal = None\n",
      "  neutrino_scheme = None\n",
      "  id_gw_NR_frequency_Hz = None\n",
      "  Hybrid_window_freq_Hz = None\n",
      "  TEOB_Lambda_starA = None\n",
      "  TEOB_Lambda_starB = None\n",
      "  TEOB_version = None\n",
      "  NR_simulation_key = None\n",
      "  available_resolutions = R01\n"
     ]
    }
   ],
   "source": [
    "key = 'id_eos'\n",
    "val = 'DD2'\n",
    "mdl_id_eos_DD2 = [i for i in idb.index if i.data[key]== val] # list of metadata(dictionaries)\n",
    "\n",
    "# show metadata for these runs\n",
    "for md in mdl_id_eos_DD2:\n",
    "    for k, v in md.data.items():\n",
    "        print('  {} = {}'.format(k,v))\n",
    "        "
   ]
  },
  {
   "cell_type": "markdown",
   "metadata": {},
   "source": [
    "The relative dbkeys are"
   ]
  },
  {
   "cell_type": "code",
   "execution_count": 8,
   "metadata": {},
   "outputs": [
    {
     "name": "stdout",
     "output_type": "stream",
     "text": [
      "['THC:0010', 'THC:0011', 'THC:0012', 'THC:0013', 'THC:0014', 'THC:0015', 'THC:0016', 'THC:0017']\n"
     ]
    }
   ],
   "source": [
    "dbkeys_id_eos_DD2 = [md.data['database_key'] for md in mdl_id_eos_DD2]\n",
    "\n",
    "print(dbkeys_id_eos_DD2)"
   ]
  },
  {
   "cell_type": "markdown",
   "metadata": {},
   "source": [
    "We can now sync use the local DB with the entire CoRe DB:"
   ]
  },
  {
   "cell_type": "code",
   "execution_count": 9,
   "metadata": {},
   "outputs": [],
   "source": [
    "#cdb.sync(lfs=True, verbose=False) # this takes some time ..."
   ]
  },
  {
   "cell_type": "markdown",
   "metadata": {},
   "source": [
    "But if only a subset of simulations are required, we can clone only the relative repositories. We can enforce the syncronization of a subset of simulations by passing explicitly the `dbkeys` argument:"
   ]
  },
  {
   "cell_type": "code",
   "execution_count": 10,
   "metadata": {},
   "outputs": [
    {
     "name": "stdout",
     "output_type": "stream",
     "text": [
      "git-pull THC_0010 ...\n",
      "done!\n",
      "git-pull THC_0011 ...\n",
      "done!\n",
      "git-pull THC_0012 ...\n",
      "done!\n",
      "git-pull THC_0013 ...\n",
      "done!\n",
      "git-pull THC_0014 ...\n",
      "done!\n",
      "git-pull THC_0015 ...\n",
      "done!\n",
      "git-pull THC_0016 ...\n",
      "done!\n",
      "git-pull THC_0017 ...\n",
      "done!\n",
      " Found R01\n",
      "Found THC:0012\n",
      " Found R01\n",
      "Found THC:0015\n",
      " Found R01\n",
      "Found THC:0017\n",
      "skip THC_0038, not a DB key\n",
      "skip core_database_index, not a DB key\n",
      " Found R02\n",
      " Found R01\n",
      "Found THC:0013\n",
      " Found R01\n",
      "Found THC:0014\n",
      "skip THC_0037, not a DB key\n",
      "skip THC_0039, not a DB key\n",
      " Found R01\n",
      "Found THC:0010\n",
      " Found R02\n",
      " Found R01\n",
      "Found THC:0016\n",
      " Found R01\n",
      "Found THC:0011\n"
     ]
    }
   ],
   "source": [
    "cdb.sync(dbkeys=dbkeys_id_eos_DD2, verbose=False, lfs=True, prot='https')"
   ]
  },
  {
   "cell_type": "markdown",
   "metadata": {},
   "source": [
    "The object `cdb` has inside a list of `CoRe_sim()` objects labelled by the `database_key`. Each  `CoRe_sim()` object contains metadata and data of all the runs of a simulation, i.e. the content of one of the git repo in the CoRe DB group."
   ]
  },
  {
   "cell_type": "code",
   "execution_count": 11,
   "metadata": {},
   "outputs": [
    {
     "name": "stdout",
     "output_type": "stream",
     "text": [
      "dict_keys(['THC:0012', 'THC:0015', 'THC:0017', 'THC:0013', 'THC:0014', 'THC:0010', 'THC:0016', 'THC:0011'])\n",
      "{'R02': <watpy.coredb.coredb.CoRe_run object at 0x7fa50a57b0a0>, 'R01': <watpy.coredb.coredb.CoRe_run object at 0x7fa5442889d0>}\n",
      "<watpy.coredb.coredb.CoRe_run object at 0x7fa5442889d0>\n",
      "<watpy.utils.coreh5.CoRe_h5 object at 0x7fa50a57b220>\n",
      "<watpy.coredb.metadata.CoRe_md object at 0x7fa544288520>\n"
     ]
    }
   ],
   "source": [
    "sim = cdb.sim\n",
    "\n",
    "# see also 2. below\n",
    "print(sim.keys())\n",
    "\n",
    "print(sim['THC:0013'].run)\n",
    "\n",
    "print(sim['THC:0013'].run['R01'])\n",
    "print(sim['THC:0013'].run['R01'].data) # now you can work with this!\n",
    "print(sim['THC:0013'].run['R01'].md) # now you can work with this!"
   ]
  },
  {
   "cell_type": "markdown",
   "metadata": {},
   "source": [
    "We now have the data we want."
   ]
  },
  {
   "cell_type": "code",
   "execution_count": 12,
   "metadata": {},
   "outputs": [],
   "source": [
    "# PS another show() of the metadata_main.txt :\n",
    "# fig, ax = cdb.show('id_rest_mass', to_float=True) \n",
    "# fig, ax = cdb.show('id_eos',to_float = False) "
   ]
  },
  {
   "cell_type": "markdown",
   "metadata": {},
   "source": [
    "# 2 Get the CoRe DB data"
   ]
  },
  {
   "cell_type": "markdown",
   "metadata": {},
   "source": [
    "Now, lets see better how to what is inside one simulation object:"
   ]
  },
  {
   "cell_type": "code",
   "execution_count": 13,
   "metadata": {},
   "outputs": [
    {
     "name": "stdout",
     "output_type": "stream",
     "text": [
      "  database_key = THC:0013\n",
      "  available_runs = None\n",
      "  simulation_name = DD2_1.350_1.350_0.00_0.00_0.055\n",
      "  binary_type = None\n",
      "  reference_bibkeys = Radice:2016rys Radice:2017lry\n",
      "  id_code = LORENE\n",
      "  id_type = Irrotational\n",
      "  id_mass = 2.7\n",
      "  id_rest_mass = 2.94554\n",
      "  id_mass_ratio = 1.0\n",
      "  id_ADM_mass = 2.67288\n",
      "  id_ADM_angularmomentum = 7.01514\n",
      "  id_gw_frequency_Hz = 663.58\n",
      "  id_gw_frequency_Momega22 = 0.0554514940011\n",
      "  id_eos = DD2\n",
      "  id_kappa2T = 159.0084296249798\n",
      "  id_Lambda = 848.0449579998918\n",
      "  id_eccentricity = \n",
      "  id_mass_starA = 1.35\n",
      "  id_rest_mass_starA = 1.47277\n",
      "  id_spin_starA = 0, 0, 0\n",
      "  id_LoveNum_kell_starA = 0.09996, 0.0269, 0.00984\n",
      "  id_Lambdaell_starA = 848.0449579998921, 2001.0063178210328, 4584.234164607441\n",
      "  id_mass_starB = 1.35\n",
      "  id_rest_mass_starB = 1.47277\n",
      "  id_spin_starB = 0, 0, 0\n",
      "  id_LoveNum_kell_starB = 0.09996, 0.0269, 0.00984\n",
      "  id_Lambdaell_starB = 848.0449579998921, 2001.0063178210328, 4584.234164607441\n",
      "  evolution_code = None\n",
      "  grid_refinement_levels = None\n",
      "  grid_refinement_levels_moving = None\n",
      "  grid_refinement_levels_npoints = None\n",
      "  grid_refinement_levels_moving_npoints = None\n",
      "  grid_spacing_min = None\n",
      "  grid_symmetries = None\n",
      "  grid_shells = None\n",
      "  grid_shells_radial_npoints = None\n",
      "  grid_shells_angular_npoints = None\n",
      "  grid_conservative_amr = None\n",
      "  subgrid_model = None\n",
      "  metric_scheme = None\n",
      "  metric_boundary_conditions = None\n",
      "  hydro_flux = None\n",
      "  hydro_reconstruction = None\n",
      "  hydro_atmosphere_level = None\n",
      "  hydro_atmosphere_factor = None\n",
      "  number_of_orbits = None\n",
      "  evolution_mol_scheme = None\n",
      "  eos_evolution_Gamma_thermal = None\n",
      "  neutrino_scheme = None\n",
      "  id_gw_NR_frequency_Hz = None\n",
      "  Hybrid_window_freq_Hz = None\n",
      "  TEOB_Lambda_starA = None\n",
      "  TEOB_Lambda_starB = None\n",
      "  TEOB_version = None\n",
      "  NR_simulation_key = None\n",
      "  available_resolutions = R01, R02\n"
     ]
    }
   ],
   "source": [
    "thc13 = sim['THC:0013']\n",
    "\n",
    "# metadata of this simulation - common data for all runs, from metadata_main.txt\n",
    "for k, v in thc13.md.data.items():\n",
    "    print('  {} = {}'.format(k,v))"
   ]
  },
  {
   "cell_type": "markdown",
   "metadata": {},
   "source": [
    "The runs available for this simulation:"
   ]
  },
  {
   "cell_type": "code",
   "execution_count": 14,
   "metadata": {},
   "outputs": [
    {
     "name": "stdout",
     "output_type": "stream",
     "text": [
      "dict_keys(['R02', 'R01'])\n"
     ]
    }
   ],
   "source": [
    "print(thc13.run.keys())"
   ]
  },
  {
   "cell_type": "markdown",
   "metadata": {},
   "source": [
    "Each run is a `CoRe_run()` object that contains the metadata for the run and the actual data. The metadata is as usual"
   ]
  },
  {
   "cell_type": "code",
   "execution_count": 15,
   "metadata": {},
   "outputs": [
    {
     "name": "stdout",
     "output_type": "stream",
     "text": [
      "  database_key = THC:0013:R01\n",
      "  available_runs = None\n",
      "  simulation_name = DD2_1.350_1.350_0.00_0.00_0.055_0.083\n",
      "  binary_type = None\n",
      "  reference_bibkeys = Radice:2016rys Radice:2017lry\n",
      "  id_code = LORENE\n",
      "  id_type = Irrotational\n",
      "  id_mass = 2.7\n",
      "  id_rest_mass = 2.94554\n",
      "  id_mass_ratio = 1.0\n",
      "  id_ADM_mass = 2.67288\n",
      "  id_ADM_angularmomentum = 7.01514\n",
      "  id_gw_frequency_Hz = 663.58\n",
      "  id_gw_frequency_Momega22 = 0.0554514940011\n",
      "  id_eos = DD2\n",
      "  id_kappa2T = 159.0084296249798\n",
      "  id_Lambda = 848.0449579998918\n",
      "  id_eccentricity = \n",
      "  id_mass_starA = 1.35\n",
      "  id_rest_mass_starA = 1.47277\n",
      "  id_spin_starA = 0, 0, 0\n",
      "  id_LoveNum_kell_starA = 0.09996, 0.0269, 0.00984\n",
      "  id_Lambdaell_starA = 848.0449579998921, 2001.0063178210328, 4584.234164607441\n",
      "  id_mass_starB = 1.35\n",
      "  id_rest_mass_starB = 1.47277\n",
      "  id_spin_starB = 0, 0, 0\n",
      "  id_LoveNum_kell_starB = 0.09996, 0.0269, 0.00984\n",
      "  id_Lambdaell_starB = 848.0449579998921, 2001.0063178210328, 4584.234164607441\n",
      "  evolution_code = THC\n",
      "  grid_refinement_levels = 7\n",
      "  grid_refinement_levels_moving = \n",
      "  grid_refinement_levels_npoints = \n",
      "  grid_refinement_levels_moving_npoints = \n",
      "  grid_spacing_min = 0.083333\n",
      "  grid_symmetries = bitant\n",
      "  grid_shells = no\n",
      "  grid_shells_radial_npoints = \n",
      "  grid_shells_angular_npoints = \n",
      "  grid_conservative_amr = yes\n",
      "  subgrid_model = None\n",
      "  metric_scheme = Z4c\n",
      "  metric_boundary_conditions = None\n",
      "  hydro_flux = HLLE\n",
      "  hydro_reconstruction = MP5\n",
      "  hydro_atmosphere_level = 1.000000e-14\n",
      "  hydro_atmosphere_factor = 0.000000\n",
      "  number_of_orbits = 3.071418e+00\n",
      "  evolution_mol_scheme = RK3\n",
      "  eos_evolution_Gamma_thermal = \n",
      "  neutrino_scheme = None\n",
      "  id_gw_NR_frequency_Hz = None\n",
      "  Hybrid_window_freq_Hz = None\n",
      "  TEOB_Lambda_starA = None\n",
      "  TEOB_Lambda_starB = None\n",
      "  TEOB_version = None\n",
      "  NR_simulation_key = None\n"
     ]
    }
   ],
   "source": [
    "thc13_r01 = thc13.run['R01']\n",
    "\n",
    "# metadata of this simulation run - note this has more info, from metadata.txt\n",
    "for k, v in thc13_r01.md.data.items():\n",
    "    print('  {} = {}'.format(k,v))"
   ]
  },
  {
   "cell_type": "markdown",
   "metadata": {},
   "source": [
    "The actual data are stored in a `CoRe_h5()` object that allows us to easily read (write) from (to) the HDF5 format. For example, we can dump the HDF5 data into `.txt` files. We can choose what to extract ($h$, $\\Psi_4$ or the energetics of the waveform) or just extract everything in the same directory where the original HDF5 archive was stored. The `.txt` files can now be loaded with any python routine (or with the `wave` classes of watpy)."
   ]
  },
  {
   "cell_type": "code",
   "execution_count": 16,
   "metadata": {},
   "outputs": [
    {
     "name": "stdout",
     "output_type": "stream",
     "text": [
      "<watpy.utils.coreh5.CoRe_h5 object at 0x7fa50a57b220>\n",
      "data.h5\n"
     ]
    }
   ],
   "source": [
    "# h5 data file\n",
    "print(thc13_r01.data)\n",
    "print(thc13_r01.data.dfile)\n",
    "\n",
    "# extract to txt\n",
    "thc13_r01.data.write_strain_to_txt() \n",
    "thc13_r01.data.write_psi4_to_txt()\n",
    "thc13_r01.data.write_EJ_to_txt()\n",
    "\n",
    "# or all three in one:\n",
    "#r01.h5.extract_all()"
   ]
  },
  {
   "cell_type": "markdown",
   "metadata": {},
   "source": [
    "**NOTE: The extracted files are not meant to be tracked by the CoRe DB repo and should not be added to any commit.**\n",
    "The `CoRe_run` object can help you to delete the `.txt` files as follows:"
   ]
  },
  {
   "cell_type": "code",
   "execution_count": 17,
   "metadata": {},
   "outputs": [
    {
     "name": "stdout",
     "output_type": "stream",
     "text": [
      "Removed 3 files\n"
     ]
    }
   ],
   "source": [
    "thc13_r01.clean_txt() # delete files extracted from the HDF5"
   ]
  },
  {
   "cell_type": "markdown",
   "metadata": {},
   "source": [
    "The `CoRe_h5()` object has also routines to directly read the data at the chosen extraction radius. If no radius is given, or if the selected radius is not within the available ones, the largest is chosen by default. So, one can finally see the data:"
   ]
  },
  {
   "cell_type": "code",
   "execution_count": 18,
   "metadata": {},
   "outputs": [
    {
     "data": {
      "image/png": "[encoded data removed]",
      "text/plain": [
       "<Figure size 432x288 with 1 Axes>"
      ]
     },
     "metadata": {
      "needs_background": "light"
     },
     "output_type": "display_data"
    }
   ],
   "source": [
    "fig, ax = thc13_r01.data.show('rh_22')"
   ]
  },
  {
   "cell_type": "markdown",
   "metadata": {},
   "source": [
    "Finally, we can check the content of the HDF5 and import the dataset as a numpy array:"
   ]
  },
  {
   "cell_type": "code",
   "execution_count": 19,
   "metadata": {},
   "outputs": [
    {
     "name": "stdout",
     "output_type": "stream",
     "text": [
      "energy\n",
      "energy/EJ_r00400.txt\n",
      "rh_00\n",
      "rh_00/Rh_l0_m0_r00400.txt\n",
      "rh_10\n",
      "rh_10/Rh_l1_m0_r00400.txt\n",
      "rh_11\n",
      "rh_11/Rh_l1_m1_r00400.txt\n",
      "rh_20\n",
      "rh_20/Rh_l2_m0_r00400.txt\n",
      "rh_21\n",
      "rh_21/Rh_l2_m1_r00400.txt\n",
      "rh_22\n",
      "rh_22/Rh_l2_m2_r00400.txt\n",
      "rh_30\n",
      "rh_30/Rh_l3_m0_r00400.txt\n",
      "rh_31\n",
      "rh_31/Rh_l3_m1_r00400.txt\n",
      "rh_32\n",
      "rh_32/Rh_l3_m2_r00400.txt\n",
      "rh_33\n",
      "rh_33/Rh_l3_m3_r00400.txt\n",
      "rh_40\n",
      "rh_40/Rh_l4_m0_r00400.txt\n",
      "rh_41\n",
      "rh_41/Rh_l4_m1_r00400.txt\n",
      "rh_42\n",
      "rh_42/Rh_l4_m2_r00400.txt\n",
      "rh_43\n",
      "rh_43/Rh_l4_m3_r00400.txt\n",
      "rh_44\n",
      "rh_44/Rh_l4_m4_r00400.txt\n",
      "rpsi4_00\n",
      "rpsi4_00/Rpsi4_l0_m0_r00400.txt\n",
      "rpsi4_10\n",
      "rpsi4_10/Rpsi4_l1_m0_r00400.txt\n",
      "rpsi4_11\n",
      "rpsi4_11/Rpsi4_l1_m1_r00400.txt\n",
      "rpsi4_20\n",
      "rpsi4_20/Rpsi4_l2_m0_r00400.txt\n",
      "rpsi4_21\n",
      "rpsi4_21/Rpsi4_l2_m1_r00400.txt\n",
      "rpsi4_22\n",
      "rpsi4_22/Rpsi4_l2_m2_r00400.txt\n",
      "rpsi4_30\n",
      "rpsi4_30/Rpsi4_l3_m0_r00400.txt\n",
      "rpsi4_31\n",
      "rpsi4_31/Rpsi4_l3_m1_r00400.txt\n",
      "rpsi4_32\n",
      "rpsi4_32/Rpsi4_l3_m2_r00400.txt\n",
      "rpsi4_33\n",
      "rpsi4_33/Rpsi4_l3_m3_r00400.txt\n",
      "rpsi4_40\n",
      "rpsi4_40/Rpsi4_l4_m0_r00400.txt\n",
      "rpsi4_41\n",
      "rpsi4_41/Rpsi4_l4_m1_r00400.txt\n",
      "rpsi4_42\n",
      "rpsi4_42/Rpsi4_l4_m2_r00400.txt\n",
      "rpsi4_43\n",
      "rpsi4_43/Rpsi4_l4_m3_r00400.txt\n",
      "rpsi4_44\n",
      "rpsi4_44/Rpsi4_l4_m4_r00400.txt\n",
      "[[-1.57746444e+02  0.00000000e+00  0.00000000e+00 ...  0.00000000e+00\n",
      "  -0.00000000e+00  0.00000000e+00]\n",
      " [-1.56561259e+02  9.61352712e-17 -2.63305000e-16 ...  2.80306107e-16\n",
      "   1.22072446e+00  3.20000000e+00]\n",
      " [-1.55376074e+02  5.44390266e-10 -1.59448267e-09 ...  1.68485481e-09\n",
      "   1.24178439e+00  6.40000000e+00]\n",
      " ...\n",
      " [ 2.13321652e+03  7.50600951e-10 -1.63780384e-09 ...  1.80161128e-09\n",
      "   3.78132182e+02  6.18560000e+03]\n",
      " [ 2.13440170e+03  1.16436018e-16 -2.67557813e-16 ...  2.91795355e-16\n",
      "   3.78151453e+02  6.18880000e+03]\n",
      " [ 2.13558689e+03  0.00000000e+00  0.00000000e+00 ...  0.00000000e+00\n",
      "   3.76991118e+02  6.19200000e+03]]\n"
     ]
    },
    {
     "data": {
      "text/plain": [
       "[<matplotlib.lines.Line2D at 0x7fa50a532670>]"
      ]
     },
     "execution_count": 19,
     "metadata": {},
     "output_type": "execute_result"
    },
    {
     "data": {
      "image/png": "[encoded data removed]",
      "text/plain": [
       "<Figure size 432x288 with 1 Axes>"
      ]
     },
     "metadata": {
      "needs_background": "light"
     },
     "output_type": "display_data"
    }
   ],
   "source": [
    "# check dset, h5dump -n\n",
    "dset = thc13_r01.data.dump()\n",
    "\n",
    "# import as numpy array\n",
    "# 'read' is deprecated, use read_dset if possible\n",
    "dset = thc13_r01.data.read('rh_22')\n",
    "print(dset)\n",
    "\n",
    "# plot it\n",
    "import matplotlib.pyplot as plt\n",
    "plt.plot(dset[:,0],dset[:,1])"
   ]
  },
  {
   "cell_type": "markdown",
   "metadata": {},
   "source": [
    "## 3. Add a simulation to the CoRe DB"
   ]
  },
  {
   "cell_type": "markdown",
   "metadata": {},
   "source": [
    "Let's assume you have a new simulation in some folder, e.g. in `MySim_THC_135135/CoReDB`, and want to update this particular run to the CoRe DB. A way to proceed is the following:\n",
    "\n",
    " * Create a 'pre-release' folder with data in CoRe format\n",
    " * Create a metadata file\n",
    " * Add the simulation to the CoRe_db() object\n",
    " * Push as a new CoRe repo (or as a R?? folder in an existing repo)\n",
    "\n",
    "An upload of a new run requires a `data.h5` and either a `metadata.txt` or a python dictionary with the same information. So first we discuss how to prepare those. We then return to the `CoRe_db()` object."
   ]
  },
  {
   "cell_type": "markdown",
   "metadata": {},
   "source": [
    "Before proceeding, let's check how many runs are already present in the DB. This is done looking at the index of course."
   ]
  },
  {
   "cell_type": "code",
   "execution_count": 20,
   "metadata": {},
   "outputs": [
    {
     "name": "stdout",
     "output_type": "stream",
     "text": [
      "Codes ['THC', 'BAM']\n",
      "THC : 36 simulations\n",
      "BAM : 128 simulations\n"
     ]
    }
   ],
   "source": [
    "code_list = [x.split(':')[0] for x in idb.dbkeys]\n",
    "code_list_unique = list(set(code_list))\n",
    "\n",
    "print('Codes {}'.format(code_list_unique))\n",
    "for c in code_list_unique:\n",
    "    print('{} : {} simulations'.format(c,code_list.count(c)))"
   ]
  },
  {
   "cell_type": "markdown",
   "metadata": {},
   "source": [
    "The specific format of `data.h5` can be seen in the CoRe DB. These HDF5 can be produced easily; watpy provides classes to prepare it from the simulation's output. Please see the tutorial in `watpy_wave.ipynb`."
   ]
  },
  {
   "cell_type": "markdown",
   "metadata": {},
   "source": [
    "### 3.1 Prepare the metadata"
   ]
  },
  {
   "cell_type": "markdown",
   "metadata": {},
   "source": [
    "The *(key,value)* pairs that have to be in the metadata can be seen in any `CoRe_md()` object, "
   ]
  },
  {
   "cell_type": "code",
   "execution_count": 21,
   "metadata": {},
   "outputs": [
    {
     "name": "stdout",
     "output_type": "stream",
     "text": [
      "File metadata.txt not found\n",
      "\n",
      " *** CoRe DB METADATA ***\n",
      "\n",
      "database_key : A string like BAM:0001:R01 or THC:0013:R02 that identifies the simulation by the code employed for the evolution and a unique progressive number in the CoRe DB. The first part of the string corresponds to the repository name, like `BAM:0001` or `THC:0013`, and appears in the summary `metadata_main.txt`. The full string includes the different runs (different resolutions, grid setups, hydro scheme, etc.) and appears in the `metadata.txt` inside each run folder.\n",
      "\n",
      "available_runs : This is the list of runs (different resolutions, grid setups, hydro scheme, etc.) available for a given simulation, e.g. R01, R02, R03, etc. Note that with \"simulation\" here we indicate the  set of runs of a given physical setup, i.e. of the same initial data and with the same physical assumptions (e.g. description of matter fields).\n",
      "\n",
      "simulation_name : A string that identifies the simulated binary. The convention used so far is `<EOS>_<mass1>_<mass2>_<spin1z>_<spin2z>_<initial_frequency>_<setup_details>` formatted as e.g. `2B_1.350_1.350_0.00_0.00_0.038_0.186`. Similarly to the database_key, the first part of this string common to all runs of a simulation appears in the summary `metadata_main.txt`, While the full string appears in the `metadata.txt` inside each run folder.\n",
      "\n",
      "binary_type : Type of binary: BBH, BNS, or BHNS.\n",
      "\n",
      "reference_bibkeys : BibTeX code(s) from HEP-SPIRES referrring to the publication of the simulation..\n",
      "\n",
      "id_code : Initial data: Code employed for generating initial data.\n",
      "\n",
      "id_type : Initial data: Assumptions employed in the initial data contruction, e.g. Irrotational.\n",
      "\n",
      "id_mass : Initial data: Binarys gravitational mass (solar masses).\n",
      "\n",
      "id_rest_mass : Initial data: Binarys rest-mass (solar masses).\n",
      "\n",
      "id_mass_ratio : Initial data: Binarys mass ratio.\n",
      "\n",
      "id_ADM_mass : Initial data: ADM mass (solar masses).\n",
      "\n",
      "id_ADM_angularmomentum : Initial data: ADM angular momentum (c=G=Msun=1 units).\n",
      "\n",
      "id_gw_frequency_Hz : Initial data: initial GW frequency (Hz).\n",
      "\n",
      "id_gw_frequency_Momega22 : Initial data: Mass-rescaled initial GW frequency (c=G=Msun=1 units).\n",
      "\n",
      "id_eos : Initial data: EOS employed for the matter.\n",
      "\n",
      "id_kappa2T : Initial data: tidal coupling constant.\n",
      "\n",
      "id_Lambda : Initial data: reduced tidal parameters (this is really $\tilde{\\Lambda}$).\n",
      "\n",
      "id_eccentricity : Initial data: measured eccentricity..\n",
      "\n",
      "id_mass_starA : Initial data: Gravitational (TOV) mass of star A (solar masses).\n",
      "\n",
      "id_rest_mass_starA : Initial data: Rest-mass of star A (solar masses).\n",
      "\n",
      "id_spin_starA : Initial data: components of spin vector of star A.\n",
      "\n",
      "id_LoveNum_kell_starA : Initial data: Gravitoelectric Love numbers for star A and for ell=2,3,4.\n",
      "\n",
      "id_Lambdaell_starA : Initial data: tidal polarizability parameters for star A and for ell=2,3,4.\n",
      "\n",
      "id_mass_starB : Initial data: Gravitational (TOV) mass of star B (solar masses).\n",
      "\n",
      "id_rest_mass_starB : Initial data: Rest-mass of star B (solar masses).\n",
      "\n",
      "id_spin_starB : Initial data: components of spin vector of star B.\n",
      "\n",
      "id_LoveNum_kell_starB : Initial data: Gravitoelectric Love numbers for star B and for ell=2,3,4.\n",
      "\n",
      "id_Lambdaell_starB : Initial data: tidal polarizability parameters for star B and for ell=2,3,4.\n",
      "\n",
      "evolution_code : Code employed for the evolution of initial data, e.g. BAM, THC, etc.\n",
      "\n",
      "grid_refinement_levels : Number of AMR refinement levels.\n",
      "\n",
      "grid_refinement_levels_moving : Number of moving AMR refinement levels.\n",
      "\n",
      "grid_refinement_levels_npoints : Grid points per direction (approximate) in non-moving refinement levels.\n",
      "\n",
      "grid_refinement_levels_moving_npoints : Grid point per direction (approximate) i moving refinement levels.\n",
      "\n",
      "grid_spacing_min : AMR minimum grid spacing (approximate).\n",
      "\n",
      "grid_symmetries : Symmetries imposed to the grid.\n",
      "\n",
      "grid_shells : Spherical patches for wave zone/wave extraction.\n",
      "\n",
      "grid_shells_radial_npoints : Number of radial points in spherical patches.\n",
      "\n",
      "grid_shells_angular_npoints : Number of angular points in spherical patches.\n",
      "\n",
      "grid_conservative_amr : Tells if a refluxing scheme was employed in the simulations.\n",
      "\n",
      "subgrid_model : Subgrid model: None, visL5, visL10, or visK.\n",
      "\n",
      "metric_scheme : Formulation employed for the metric field, e.g. Z4c, BSSN, etc.\n",
      "\n",
      "metric_boundary_conditions : Boundary conditions for the metric fields.\n",
      "\n",
      "hydro_flux : Numerical flux employed in the hydrodynamics scheme.\n",
      "\n",
      "hydro_reconstruction : Reconstruction method employed in the hydrodynamics.\n",
      "\n",
      "hydro_atmosphere_level : Atmosphere value of the rest-mass density (c=G=Msun=1 units).\n",
      "\n",
      "hydro_atmosphere_factor : Atmosphere is set when rest-mass density drops below the atmosphere level times this factor.\n",
      "\n",
      "number_of_orbits : Number of orbits.\n",
      "\n",
      "evolution_mol_scheme : Time integrator used in the method of line scheme.\n",
      "\n",
      "eos_evolution_Gamma_thermal : EOS employed in the evolution or value of the adiabatic exponent for the thermal pressure component.\n",
      "\n",
      "neutrino_scheme : Neutrino scheme: None, Leakage, or M0.\n",
      "\n",
      "id_gw_NR_frequency_Hz : Initial frequency of the waveform in Herz.\n",
      "\n",
      "Hybrid_window_freq_Hz : Frequency window for the hrybrid part of the waveform in Herz.\n",
      "\n",
      "TEOB_Lambda_starA : Tidal deformability of star A for TEOB waveform.\n",
      "\n",
      "TEOB_Lambda_starB : Tidal deformability of star B for TEOB waveform.\n",
      "\n",
      "TEOB_version : version of TEOBResumS used.\n",
      "\n",
      "NR_simulation_key : database_key of the simulation used, identifying it by the code employed for the evolution, e.g. BAM:0013:R02.\n",
      "\n"
     ]
    }
   ],
   "source": [
    "from watpy.coredb.metadata import *\n",
    "\n",
    "md = CoRe_md()\n",
    "md.info()"
   ]
  },
  {
   "cell_type": "markdown",
   "metadata": {},
   "source": [
    "Preparing a file or a dictionary with this information is rather straighforward. In fact, we usually have this information, e.g. as JSON files, already when performing the simulations. There are only two things to know. \n",
    "\n",
    "First, the `database_key` and the `available_resolutions` are filled later by the method in the `CoRe_db()` we are going to use to add a simulations. Hence, it does not matter what values you put in these fields.\n",
    "\n",
    "Second, we need a `simulation_name`. This is more annoying. The name is typically a string that identifies the physical properties of the simulated binary. So far, we have been using names like `MS1b_1.350_1.350_0.00_0.00_0.038_0.291_bigbox` (see e.g. `BAM:0065:R08`) and they can be generated with the function below. This naming convention can be in principle changed when adding a new simulation. **NOTE: the `metadata_main.txt` at the simulation level contains a field `simulation_name` which has a different value of the same field in the `metadata.txt` at the run level (check any repo of the CoRe DB). The value of the former value is the sub-string (initial part) of the latter that is common to all the runs**. We need to take care of this manually, so for the moment we will generate TWO names: a long and a short one."
   ]
  },
  {
   "cell_type": "code",
   "execution_count": 22,
   "metadata": {},
   "outputs": [],
   "source": [
    "def generate_simulation_name(EOS,MA,MB,SzA,SzB,Momega0,extra=None):\n",
    "    \"\"\" String for simulation name as appearing in the metadata_main.txt \"\"\"\n",
    "    name = '{}_{:.3f}_{:.3f}_{:.2f}_{:.2f}_{:.3f}'.format(EOS,MA,MB,SzA,SzB,Momega0)\n",
    "    if extra is not None:\n",
    "        name += extra\n",
    "    return name"
   ]
  },
  {
   "cell_type": "code",
   "execution_count": 23,
   "metadata": {},
   "outputs": [
    {
     "name": "stdout",
     "output_type": "stream",
     "text": [
      "ABC_1.350_1.350_0.00_0.00_0.038\n",
      "ABC_1.350_1.350_0.00_0.00_0.038_R01_0.058_gridX\n"
     ]
    }
   ],
   "source": [
    "simname_short = generate_simulation_name('ABC',1.35,1.35,0,0,0.03789461)\n",
    "\n",
    "# IMPORTANT: add to the long name some info on resolution (and other specs) \n",
    "# and append a tag 'R01' so it is clear this is a run of a simulation\n",
    "simname_long = generate_simulation_name('ABC',1.35,1.35,0,0,0.03789461,\"_R01_0.058_gridX\") \n",
    "\n",
    "print(simname_short)\n",
    "print(simname_long)"
   ]
  },
  {
   "cell_type": "markdown",
   "metadata": {},
   "source": [
    "A (incomplete) dictionary for the metadata looks like the following. Note there can be as many keys as we like, those that are not reconized by the CoRe metadata will be simply discarded (If instead you do want to add a key, take a look at `watpy/coredb/metadata.py`. It is simple to add one metadata but then we need to ensure consistency of the database entries.)"
   ]
  },
  {
   "cell_type": "code",
   "execution_count": 24,
   "metadata": {},
   "outputs": [],
   "source": [
    "from watpy.utils.units import MSun_sec\n",
    "Msun_sec = MSun_sec() #4.925794970773135e-06\n",
    "\n",
    "# metadata -------------------------\n",
    "\n",
    "thcsim = {}\n",
    "thcsim['database_key'] = 'will_be_assigned_by_watpy_CoRe_db'\n",
    "thcsim['simulation_name'] =  simname_short # use first the short name !\n",
    "thcsim['reference_bibkeys'] = 'bibitem:2021avg'\n",
    "thcsim['available_runs'] = '' # empty, this will be added on the way ...\n",
    "\n",
    "thcsim['id_code']                  = 'LORENE'\n",
    "thcsim['id_type']                  = 'Irrotational'\n",
    "thcsim['id_mass']                  = 2.7\n",
    "thcsim['id_rest_mass']             = 2.94554\n",
    "thcsim['id_mass_ratio']            = 1.0\n",
    "thcsim['id_ADM_mass']              = 2.67288\n",
    "thcsim['id_ADM_angularmomentum']   = 7.01514\n",
    "thcsim['id_gw_frequency_Hz']       = 663.58\n",
    "thcsim['id_gw_frequency_Momega22'] = 0.0554514940011\n",
    "thcsim['id_eos']                   = 'ABC'\n",
    "thcsim['id_kappa2T']               = 159.0084296249798\n",
    "thcsim['id_Lambda']                = 848.0449579998918\n",
    "thcsim['id_eccentricity']          = None # None entries wil remain such in the DB !\n",
    "\n",
    "thcsim['id_mass_starA']            = 1.35\n",
    "thcsim['id_rest_mass_starA']       = 1.47277\n",
    "thcsim['id_spin_starA']            = 0, 0, 0\n",
    "thcsim['id_LoveNum_kell_starA']    = 0.09996, 0.0269, 0.00984\n",
    "thcsim['id_Lambdaell_starA']       = 848.0449579998921, 2001.0063178210328, 4584.234164607441\n",
    "thcsim['id_mass_starB']            = 1.35\n",
    "thcsim['id_rest_mass_starB']       = 1.47277\n",
    "\n",
    "# etc., etc. add all entries !\n",
    "\n",
    "# ----------------------------------\n",
    "\n",
    "# can add other keys, they will be eventually discarded if the the CoRe_md() method is used to write the .txt file\n",
    "\n",
    "thcsim['mass'] = 2 * 1.364 # binary mass in solar masses\n",
    "thcsim['q'] = 1.0 # mass ratio, >= 1\n",
    "thcsim['f0_Hz'] = 565.08 # initial GW frequency in Hz\n",
    "thcsim['f0'] = thcsim['f0_Hz'] * Msun_sec\n",
    "thcsim['Momg22'] = thcsim['mass'] * thcsim['f0'] / (2*np.pi) # initial GW frequency in geom. units\n",
    "\n",
    "thcsim['folder'] = './TestData/MySim_THC_135135' # simulation folder\n",
    "thcsim['pre-release-folder'] = simname_long # folder with CoRe formatted files"
   ]
  },
  {
   "cell_type": "markdown",
   "metadata": {},
   "source": [
    "### 3.1 Prepare the HDF5 data"
   ]
  },
  {
   "cell_type": "markdown",
   "metadata": {},
   "source": [
    "Now we prepare the HDF5 data in the pre-release folder. If we assume waveforms, energy curves, etc have been already put in CoRe format .txt files in `thcsim['folder']/CoReDB` (see e.g. the `wat_wave.ipynb` tutorial), then we simply copy them in the pre-release folder:"
   ]
  },
  {
   "cell_type": "code",
   "execution_count": 25,
   "metadata": {},
   "outputs": [],
   "source": [
    "import shutil, glob\n",
    "\n",
    "os.makedirs(thcsim['pre-release-folder'], exist_ok=True)\n",
    "\n",
    "for f in glob.glob(os.path.join(thcsim['folder'],'CoReDB/*.txt')):\n",
    "    shutil.copyfile(f, os.path.join(thcsim['pre-release-folder'], os.path.split(f)[1]) )"
   ]
  },
  {
   "cell_type": "markdown",
   "metadata": {},
   "source": [
    "Now we create the data.h5 using the `CoRe_h5()` class"
   ]
  },
  {
   "cell_type": "code",
   "execution_count": 26,
   "metadata": {},
   "outputs": [],
   "source": [
    "from watpy.utils.coreh5 import CoRe_h5\n",
    "\n",
    "ch5 = CoRe_h5(thcsim['pre-release-folder'])\n",
    "\n",
    "# make a list of groups and files for each group\n",
    "# IMPORTANT: \n",
    "# * group names must follow the CoRe conventions\n",
    "# * file names must follow the CoRe conventions\n",
    "thcdat = {}\n",
    "thcdat['energy'] = ['EJ_r00400.txt']\n",
    "thcdat['rh_22'] = ['Rh_l2_m2_r00400.txt']\n",
    "thcdat['rh_30'] = ['Rh_l3_m0_r00400.txt']\n",
    "thcdat['rpsi4_20'] = ['Rpsi4_l2_m0_r00400.txt']\n",
    "thcdat['rpsi4_22'] = ['Rpsi4_l2_m2_r00400.txt']\n",
    "\n",
    "# etc., etc. ...\n",
    "\n",
    "# create a h5 with the create_dset method\n",
    "ch5.create_dset(thcdat, path = thcsim['pre-release-folder'])"
   ]
  },
  {
   "cell_type": "markdown",
   "metadata": {},
   "source": [
    "Let's have a look at the content:"
   ]
  },
  {
   "cell_type": "code",
   "execution_count": null,
   "metadata": {},
   "outputs": [],
   "source": [
    "ch5.dump()"
   ]
  },
  {
   "cell_type": "markdown",
   "metadata": {},
   "source": [
    "### 3.3 Add to the local DB"
   ]
  },
  {
   "cell_type": "markdown",
   "metadata": {},
   "source": [
    "Now we can proceed adding a new run. The first step is to reserve a DB key for the new simulation and make the folder with the correct name. Here it is also a good idea to pass the metadata information, part of which will be written in the 'metadata_main.txt'. "
   ]
  },
  {
   "cell_type": "code",
   "execution_count": null,
   "metadata": {},
   "outputs": [],
   "source": [
    "newdbkey = cdb.add_simulation('THC', thcsim['simulation_name'], metadata = thcsim)"
   ]
  },
  {
   "cell_type": "markdown",
   "metadata": {},
   "source": [
    "The second step is to add HDF5 data and metadata for each new runs"
   ]
  },
  {
   "cell_type": "code",
   "execution_count": null,
   "metadata": {},
   "outputs": [],
   "source": [
    "thcsim['simulation_name'] = simname_long # switch to long name for the run !\n",
    "cdb.sim[newdbkey].add_run(path = thcsim['pre-release-folder'], metadata = thcsim)"
   ]
  },
  {
   "cell_type": "markdown",
   "metadata": {},
   "source": [
    "Thats it! If everything went fine, you have a simulation foldert to add as a repo of the CoRe DB."
   ]
  },
  {
   "cell_type": "code",
   "execution_count": null,
   "metadata": {},
   "outputs": [],
   "source": [
    "#cdb.sim[newdbkey].run['R01'].clean_txt() # (except metadata) to prepare git commit ..."
   ]
  },
  {
   "cell_type": "markdown",
   "metadata": {},
   "source": [
    "### 3.4 git add, git commit and git push"
   ]
  },
  {
   "cell_type": "markdown",
   "metadata": {},
   "source": [
    "These steps must be done by hand or with a script. Make sure to have the permission to push to the repo and talk to CoRe members to coordinate this."
   ]
  },
  {
   "cell_type": "code",
   "execution_count": null,
   "metadata": {},
   "outputs": [],
   "source": []
  }
 ],
 "metadata": {
  "kernelspec": {
   "display_name": "Python 3.10.7 64-bit",
   "language": "python",
   "name": "python3"
  },
  "language_info": {
   "codemirror_mode": {
    "name": "ipython",
    "version": 3
   },
   "file_extension": ".py",
   "mimetype": "text/x-python",
   "name": "python",
   "nbconvert_exporter": "python",
   "pygments_lexer": "ipython3",
   "version": "3.10.7 (tags/v3.10.7:6cc6b13, Sep  5 2022, 14:08:36) [MSC v.1933 64 bit (AMD64)]"
  },
  "vscode": {
   "interpreter": {
    "hash": "26de051ba29f2982a8de78e945f0abaf191376122a1563185a90213a26c5da77"
   }
  }
 },
 "nbformat": 4,
 "nbformat_minor": 4
}
