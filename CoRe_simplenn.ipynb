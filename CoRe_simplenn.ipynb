{
 "cells": [
  {
   "attachments": {},
   "cell_type": "markdown",
   "metadata": {},
   "source": [
    "# Todo\n",
    " - Masked transformers\n",
    " - any more data reductions?\n",
    " "
   ]
  },
  {
   "cell_type": "code",
   "execution_count": null,
   "metadata": {},
   "outputs": [],
   "source": [
    "from CoReDataLoader import  dataset, dataloader\n",
    "\n",
    "import torch\n",
    "import torch.nn as nn\n",
    "import torch.nn.functional as F\n",
    "import torch.optim as optim\n",
    "from torch.utils.data import DataLoader\n",
    "import torchmetrics as metrics\n",
    "import wandb"
   ]
  },
  {
   "cell_type": "code",
   "execution_count": null,
   "metadata": {},
   "outputs": [],
   "source": [
    "class classifier(nn.Module):\n",
    "    def __init__(self,input_length = dataset.output_length):\n",
    "        super().__init__()\n",
    "        self.inlayer = nn.Linear(input_length,4096*3)\n",
    "        self.bnorm1 = nn.BatchNorm1d(4096*3)\n",
    "        self.inter1 = nn.Linear(4096*3,4096*2)\n",
    "        self.bnorm2 = nn.BatchNorm1d(4096*2)\n",
    "        self.inter2 = nn.Linear(4096*2,4096)\n",
    "        self.bnorm3 = nn.BatchNorm1d(4096)\n",
    "        self.inter3 = nn.Linear(4096,2)\n",
    "        self.softmax = nn.Softmax()\n",
    "        self.activation = nn.GELU()\n",
    "\n",
    "    def forward(self,inp):\n",
    "        itn = inp.to(torch.float32)\n",
    "        itn = F.normalize(itn, 0)\n",
    "        itn = self.inlayer(itn)\n",
    "        itn = self.bnorm1(itn)\n",
    "        itn = self.inter1(itn)\n",
    "        itn = self.activation(itn)\n",
    "        itn = self.bnorm2(itn)\n",
    "        itn = self.inter2(itn)\n",
    "        itn = self.activation(itn)\n",
    "        itn = self.bnorm3(itn)\n",
    "        itn = self.inter3(itn)\n",
    "        itn = self.activation(itn)\n",
    "\n",
    "        return itn\n",
    "        \n",
    "net = classifier().to(dataset.device)"
   ]
  },
  {
   "cell_type": "code",
   "execution_count": null,
   "metadata": {},
   "outputs": [],
   "source": [
    "wmape = metrics.WeightedMeanAbsolutePercentageError()\n",
    "gwmape = metrics.WeightedMeanAbsolutePercentageError().to(dataset.device)\n",
    "mse = metrics.MeanSquaredError()\n",
    "mae = metrics.MeanAbsoluteError()\n",
    "msle = metrics.MeanSquaredLogError()\n",
    "lce = metrics.LogCoshError(num_outputs=2)\n",
    "smape = metrics.SymmetricMeanAbsolutePercentageError()\n",
    "mape = metrics.MeanAbsolutePercentageError()\n",
    "collection = metrics.MetricCollection([wmape,mse,mae,mape,smape,lce,msle])\n"
   ]
  },
  {
   "cell_type": "code",
   "execution_count": null,
   "metadata": {},
   "outputs": [],
   "source": [
    "def ensemble_error(metric : metrics.Metric = collection):\n",
    "    with torch.no_grad():\n",
    "        tss,params = next(iter(DataLoader(dataset, batch_size=len(dataset))))\n",
    "        cparams = params.to(\"cpu\")\n",
    "        del params\n",
    "        return metric(net(tss).to(\"cpu\"),cparams[:,1:])"
   ]
  },
  {
   "cell_type": "code",
   "execution_count": null,
   "metadata": {},
   "outputs": [],
   "source": [
    "ensemble_error()"
   ]
  },
  {
   "attachments": {},
   "cell_type": "markdown",
   "metadata": {},
   "source": [
    "# Run from below here to test new runs"
   ]
  },
  {
   "cell_type": "code",
   "execution_count": null,
   "metadata": {},
   "outputs": [],
   "source": [
    "\"\"\"\n",
    " ▄▄▄▄▄▄   ▄▄   ▄▄ ▄▄    ▄    ▄▄▄▄▄▄▄ ▄▄▄▄▄▄   ▄▄▄▄▄▄▄ ▄▄   ▄▄\n",
    "█   ▄  █ █  █ █  █  █  █ █  █       █   ▄  █ █       █  █▄█  █\n",
    "█  █ █ █ █  █ █  █   █▄█ █  █    ▄▄▄█  █ █ █ █   ▄   █       █\n",
    "█   █▄▄█▄█  █▄█  █       █  █   █▄▄▄█   █▄▄█▄█  █ █  █       █\n",
    "█    ▄▄  █       █  ▄    █  █    ▄▄▄█    ▄▄  █  █▄█  █       █\n",
    "█   █  █ █       █ █ █   █  █   █   █   █  █ █       █ ██▄██ █\n",
    "█▄▄▄█  █▄█▄▄▄▄▄▄▄█▄█  █▄▄█  █▄▄▄█   █▄▄▄█  █▄█▄▄▄▄▄▄▄█▄█   █▄█\n",
    "\n",
    "\"\"\"\n",
    "print(\"Original error: \", ensemble_error())"
   ]
  },
  {
   "cell_type": "code",
   "execution_count": null,
   "metadata": {},
   "outputs": [],
   "source": [
    "criterion = nn.MSELoss()\n",
    "criterion2 = nn.L1Loss()\n",
    "lr = 3e-5\n",
    "amsgrad = False\n",
    "# sgd = optim.SGD(net.parameters(), lr=lr,momentum = 0.8,nesterov = True)\n",
    "adam = optim.Adam(net.parameters(),lr = lr,amsgrad=amsgrad)\n",
    "optimizer = adam\n",
    "scheduler = optim.lr_scheduler.ReduceLROnPlateau(optimizer, 'min',patience = 50)\n",
    "epochs = 1200\n"
   ]
  },
  {
   "cell_type": "code",
   "execution_count": null,
   "metadata": {},
   "outputs": [],
   "source": [
    "from datetime import datetime\n",
    "ctime = datetime.now()\n",
    "stime = f\"{ctime.date().isoformat()}-{ctime.time().hour}-{ctime.time().minute}\"\n",
    "stime"
   ]
  },
  {
   "cell_type": "code",
   "execution_count": null,
   "metadata": {},
   "outputs": [],
   "source": [
    "from collections import OrderedDict\n",
    "best = OrderedDict()"
   ]
  },
  {
   "cell_type": "code",
   "execution_count": null,
   "metadata": {},
   "outputs": [],
   "source": [
    "import pandas as pd"
   ]
  },
  {
   "cell_type": "code",
   "execution_count": 67,
   "metadata": {},
   "outputs": [],
   "source": [
    "error_df = pd.DataFrame()"
   ]
  },
  {
   "cell_type": "code",
   "execution_count": null,
   "metadata": {},
   "outputs": [],
   "source": [
    "wandb.init(project=\"M1M2regressor\")\n",
    "wandb.watch(net)\n",
    "wandb.log({\"lr\":lr,\"amsgrad\":amsgrad})\n",
    "losses = []\n",
    "errors = []\n",
    "dee = ensemble_error()\n",
    "bestepoch = 0\n",
    "for epoch in range(epochs):\n",
    "    for batch, (ts,params) in enumerate(dataloader):\n",
    "        params = params[:,1:].to(dataset.device)    \n",
    "        optimizer.zero_grad()\n",
    "        outputs = net(ts.to(dataset.device))\n",
    "        \n",
    "        loss = criterion(outputs,params)\n",
    "        loss += criterion2(outputs,params)\n",
    "        loss.backward()\n",
    "        optimizer.step()\n",
    "\n",
    "        losses.append(loss.item())\n",
    "        # scheduler.step(error)\n",
    "        wandb.log({\"loss\":loss.item(),\"batch_err\":gwmape(outputs,params)})\n",
    "\n",
    "    dee = ensemble_error()\n",
    "    error_df = pd.concat([error_df,pd.DataFrame(dee)],axis = 1)\n",
    "    print(error_df)\n",
    "    error = dee[\"MeanAbsoluteError\"]\n",
    "    errors.append(error)\n",
    "    if error <= min(errors) or (error <= min(errors) and loss.item() <= min(losses)): # ignore\n",
    "        best = net.state_dict()\n",
    "        torch.save(best, f\"./saved_models/INTRAIN_{stime}_wmape_{lr}_{amsgrad}.pt\")\n",
    "        bestepoch = epoch\n",
    "        print(f\"MODEL SAVED AT error: {error}, MSE error {error}, and EPOCH {epoch}\")\n",
    "    wandb.log(dee | {\"epoch\":epoch})\n",
    "\n",
    "\n",
    "torch.save(best, f\"./saved_models/{stime}_Best_Model_Epoch_{bestepoch}_err_{max(errors)}_{lr}_{amsgrad}.pt\")"
   ]
  },
  {
   "cell_type": "code",
   "execution_count": null,
   "metadata": {},
   "outputs": [],
   "source": [
    "torch.save(best, f\"./saved_models/{stime}_Best_Model_Epoch_{bestepoch}_wmape_{min(errors)}_{lr}_{amsgrad}.pt\")"
   ]
  },
  {
   "cell_type": "code",
   "execution_count": null,
   "metadata": {},
   "outputs": [],
   "source": [
    "net.load_state_dict(best)"
   ]
  },
  {
   "cell_type": "code",
   "execution_count": null,
   "metadata": {},
   "outputs": [],
   "source": [
    "print(best)"
   ]
  },
  {
   "cell_type": "code",
   "execution_count": null,
   "metadata": {},
   "outputs": [],
   "source": [
    "lends = len(dataset)\n",
    "lends = 5\n",
    "tss,params = next(iter(DataLoader(dataset, batch_size=lends,shuffle=True)))\n",
    "outs = net(tss)\n",
    "\n",
    "# for i,v in zip():\n",
    "errors = [[] for i in dataset.eoss]\n",
    "print(dataset.eoss)\n",
    "for a,b,c in zip(outs.reshape(-1),params[:,1:].reshape(-1),params[:,0].reshape(-1)):\n",
    "    print(f\"{a.item()},{b.item()} | {a.item()-b.item()} | {c.item()}\")\n",
    "    errors[int(c.item())].append(a.item()-b.item())\n",
    "errors"
   ]
  },
  {
   "cell_type": "code",
   "execution_count": null,
   "metadata": {},
   "outputs": [],
   "source": [
    "errors"
   ]
  },
  {
   "cell_type": "code",
   "execution_count": null,
   "metadata": {},
   "outputs": [],
   "source": [
    "from scipy.stats import describe\n",
    "for i,v in enumerate(errors):\n",
    "    print(i,describe(v))"
   ]
  },
  {
   "cell_type": "code",
   "execution_count": null,
   "metadata": {},
   "outputs": [],
   "source": [
    "import matplotlib.pyplot as plt"
   ]
  },
  {
   "cell_type": "code",
   "execution_count": null,
   "metadata": {},
   "outputs": [],
   "source": [
    "plt.plot(errors)"
   ]
  },
  {
   "cell_type": "code",
   "execution_count": null,
   "metadata": {},
   "outputs": [],
   "source": [
    "plt.hist(errors)"
   ]
  },
  {
   "cell_type": "code",
   "execution_count": null,
   "metadata": {},
   "outputs": [],
   "source": [
    "import torcheval as te \n",
    "tss,params = next(iter(DataLoader(dataset, batch_size=len(dataset))))\n",
    "r2 = te.metrics.functional.r2_score(net(tss),params[:,1:])\n",
    "r2"
   ]
  }
 ],
 "metadata": {
  "kernelspec": {
   "display_name": "Python 3 (ipykernel)",
   "language": "python",
   "name": "python3"
  },
  "language_info": {
   "codemirror_mode": {
    "name": "ipython",
    "version": 3
   },
   "file_extension": ".py",
   "mimetype": "text/x-python",
   "name": "python",
   "nbconvert_exporter": "python",
   "pygments_lexer": "ipython3",
   "version": "3.10.7"
  },
  "orig_nbformat": 4,
  "vscode": {
   "interpreter": {
    "hash": "26de051ba29f2982a8de78e945f0abaf191376122a1563185a90213a26c5da77"
   }
  }
 },
 "nbformat": 4,
 "nbformat_minor": 2
}
