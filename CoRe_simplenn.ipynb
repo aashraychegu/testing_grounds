{
 "cells": [
  {
   "attachments": {},
   "cell_type": "markdown",
   "metadata": {},
   "source": [
    "# Todo\n",
    " - Masked transformers\n",
    " - any more data reductions?\n",
    " "
   ]
  },
  {
   "cell_type": "code",
   "execution_count": null,
   "metadata": {},
   "outputs": [],
   "source": [
    "from CoReDataLoader import  dataset, dataloader"
   ]
  },
  {
   "cell_type": "code",
   "execution_count": null,
   "metadata": {},
   "outputs": [],
   "source": [
    "import torch\n",
    "import torch.nn as nn\n",
    "import torch.nn.functional as F\n",
    "import torch.optim as optim\n",
    "from torch.utils.data import DataLoader\n",
    "import torchmetrics as metrics"
   ]
  },
  {
   "cell_type": "code",
   "execution_count": null,
   "metadata": {},
   "outputs": [],
   "source": [
    "acc = metrics.Accuracy(task = \"multiclass\",num_classes = dataset.numeoss).to(dataset.device)\n",
    "auroc = metrics.AUROC(task = \"multiclass\",num_classes=dataset.numeoss).to(dataset.device)\n",
    "prec = metrics.Precision(task=\"multiclass\",num_classes=dataset.numeoss).to(dataset.device)\n",
    "f1score = metrics.F1Score(task = \"multiclass\",num_classes=dataset.numeoss).to(dataset.device)\n",
    "avgprec = metrics.AveragePrecision(task = \"multiclass\",num_classes=dataset.numeoss).to(dataset.device)\n",
    "precrecall =metrics.PrecisionRecallCurve(task = \"multiclass\",num_classes=dataset.numeoss).to(dataset.device)\n",
    "recall = metrics.Recall(task = \"multiclass\",num_classes=dataset.numeoss).to(dataset.device)\n",
    "roc = metrics.ROC(task = \"multiclass\",num_classes=dataset.numeoss).to(dataset.device)\n",
    "conf = metrics.ConfusionMatrix(task = \"multiclass\",num_classes=dataset.numeoss).to(dataset.device)"
   ]
  },
  {
   "cell_type": "code",
   "execution_count": null,
   "metadata": {},
   "outputs": [],
   "source": [
    "class classifier(nn.Module):\n",
    "    def __init__(self,input_length = dataset.output_length):\n",
    "        super().__init__()\n",
    "        self.inlayer = nn.Linear(input_length,4096*3)\n",
    "        self.bnorm1 = nn.BatchNorm1d(4096*3)\n",
    "        self.inter1 = nn.Linear(4096*3,4096*2)\n",
    "        self.bnorm2 = nn.BatchNorm1d(4096*2)\n",
    "        self.inter2 = nn.Linear(4096*2,dataset.numeoss)\n",
    "        self.softmax = nn.Softmax()\n",
    "        self.activation = nn.GELU()\n",
    "\n",
    "    def forward(self,inp):\n",
    "        itn = inp.to(torch.float32)\n",
    "        itn = F.normalize(itn, 0)\n",
    "        itn = self.inlayer(itn)\n",
    "        itn = self.bnorm1(itn)\n",
    "        itn = self.inter1(itn)\n",
    "        itn = self.activation(itn)\n",
    "        itn = self.bnorm2(itn)\n",
    "        itn = self.inter2(itn)\n",
    "        itn = self.activation(itn)\n",
    "        return itn\n",
    "        \n",
    "net = classifier().to(dataset.device)"
   ]
  },
  {
   "cell_type": "code",
   "execution_count": null,
   "metadata": {},
   "outputs": [],
   "source": [
    "import wandb"
   ]
  },
  {
   "cell_type": "code",
   "execution_count": null,
   "metadata": {},
   "outputs": [],
   "source": [
    "def get_accuracy():\n",
    "    with torch.no_grad():\n",
    "        outputs = torch.zeros((len(dataset),19)).to(\"cuda:0\")\n",
    "        corrects = torch.zeros(len(dataset)).to(\"cuda:0\")\n",
    "        net.eval()\n",
    "        for ctr, (ts,params) in enumerate(dataset):\n",
    "            ts = ts.view(1,-1).to(\"cuda:0\")\n",
    "            params = params.view(1,-1)\n",
    "            params = params[:,0]\n",
    "            results = net(ts)\n",
    "            outputs[ctr] = results\n",
    "            corrects[ctr] = params\n",
    "    net.train()\n",
    "    return acc(outputs,corrects).item()"
   ]
  },
  {
   "cell_type": "code",
   "execution_count": null,
   "metadata": {},
   "outputs": [],
   "source": [
    "def new_accuracy():\n",
    "    with torch.no_grad():\n",
    "        net.eval()\n",
    "        tss,params = next(iter(DataLoader(dataset, batch_size=len(dataset))))\n",
    "        net.train()\n",
    "    return acc(net(tss),params[:,0])*100\n"
   ]
  },
  {
   "attachments": {},
   "cell_type": "markdown",
   "metadata": {},
   "source": [
    "# Run from below here to test new runs"
   ]
  },
  {
   "cell_type": "code",
   "execution_count": null,
   "metadata": {},
   "outputs": [],
   "source": [
    "print(\"Original Accuracy: \", new_accuracy())"
   ]
  },
  {
   "cell_type": "code",
   "execution_count": null,
   "metadata": {},
   "outputs": [],
   "source": [
    "criterion = nn.CrossEntropyLoss()\n",
    "lr = 5e-5\n",
    "amsgrad = False\n",
    "sgd = optim.SGD(net.parameters(), lr=lr,momentum = 0.8,nesterov = True)\n",
    "adam = optim.Adam(net.parameters(),lr = lr,amsgrad=amsgrad)\n",
    "optimizer = adam\n",
    "epochs = 600\n"
   ]
  },
  {
   "cell_type": "code",
   "execution_count": 32,
   "metadata": {},
   "outputs": [
    {
     "data": {
      "text/plain": [
       "'2023-01-15-16-30'"
      ]
     },
     "execution_count": 32,
     "metadata": {},
     "output_type": "execute_result"
    }
   ],
   "source": [
    "from datetime import datetime\n",
    "ctime = datetime.now()\n",
    "stime = f\"{ctime.date().isoformat()}-{ctime.time().hour}-{ctime.time().minute}\"\n",
    "stime"
   ]
  },
  {
   "cell_type": "code",
   "execution_count": 33,
   "metadata": {},
   "outputs": [],
   "source": [
    "from collections import OrderedDict\n",
    "best = OrderedDict()"
   ]
  },
  {
   "cell_type": "code",
   "execution_count": 34,
   "metadata": {},
   "outputs": [
    {
     "data": {
      "text/html": [
       "Finishing last run (ID:hl9xfcem) before initializing another..."
      ],
      "text/plain": [
       "<IPython.core.display.HTML object>"
      ]
     },
     "metadata": {},
     "output_type": "display_data"
    },
    {
     "data": {
      "text/html": [
       "Waiting for W&B process to finish... <strong style=\"color:green\">(success).</strong>"
      ],
      "text/plain": [
       "<IPython.core.display.HTML object>"
      ]
     },
     "metadata": {},
     "output_type": "display_data"
    },
    {
     "data": {
      "application/vnd.jupyter.widget-view+json": {
       "model_id": "f0a58d3b814b46cb921e9d717e4e21e7",
       "version_major": 2,
       "version_minor": 0
      },
      "text/plain": [
       "VBox(children=(Label(value='0.001 MB of 0.001 MB uploaded (0.000 MB deduped)\\r'), FloatProgress(value=1.0, max…"
      ]
     },
     "metadata": {},
     "output_type": "display_data"
    },
    {
     "data": {
      "text/html": [
       "<style>\n",
       "    table.wandb td:nth-child(1) { padding: 0 10px; text-align: left ; width: auto;} td:nth-child(2) {text-align: left ; width: 100%}\n",
       "    .wandb-row { display: flex; flex-direction: row; flex-wrap: wrap; justify-content: flex-start; width: 100% }\n",
       "    .wandb-col { display: flex; flex-direction: column; flex-basis: 100%; flex: 1; padding: 10px; }\n",
       "    </style>\n",
       "<div class=\"wandb-row\"><div class=\"wandb-col\"><h3>Run history:</h3><br/><table class=\"wandb\"><tr><td>batch_acc</td><td>▅▇▃▅▇▆▅▅▅▃█▄▆▄▅▃▃▇▁▅▁▄▃▆▅▄▆▄▄▃▃▇▃▅▄▃▅▅▄▅</td></tr><tr><td>loss</td><td>▅▂▇▃▂▂▃▄▄▅▁▄▂▅▄▆▆▂█▅█▄▅▂▃▆▃▅▄▄▆▂▅▄▄▄▄▄▄▃</td></tr></table><br/></div><div class=\"wandb-col\"><h3>Run summary:</h3><br/><table class=\"wandb\"><tr><td>batch_acc</td><td>0.57143</td></tr><tr><td>loss</td><td>1.21762</td></tr></table><br/></div></div>"
      ],
      "text/plain": [
       "<IPython.core.display.HTML object>"
      ]
     },
     "metadata": {},
     "output_type": "display_data"
    },
    {
     "data": {
      "text/html": [
       " View run <strong style=\"color:#cdcd00\">frosty-planet-34</strong> at: <a href=\"https://wandb.ai/alabs/simple%20ann%20classifier/runs/hl9xfcem\" target=\"_blank\">https://wandb.ai/alabs/simple%20ann%20classifier/runs/hl9xfcem</a><br/>Synced 5 W&B file(s), 0 media file(s), 0 artifact file(s) and 0 other file(s)"
      ],
      "text/plain": [
       "<IPython.core.display.HTML object>"
      ]
     },
     "metadata": {},
     "output_type": "display_data"
    },
    {
     "data": {
      "text/html": [
       "Find logs at: <code>.\\wandb\\run-20230115_152919-hl9xfcem\\logs</code>"
      ],
      "text/plain": [
       "<IPython.core.display.HTML object>"
      ]
     },
     "metadata": {},
     "output_type": "display_data"
    },
    {
     "data": {
      "text/html": [
       "Successfully finished last run (ID:hl9xfcem). Initializing new run:<br/>"
      ],
      "text/plain": [
       "<IPython.core.display.HTML object>"
      ]
     },
     "metadata": {},
     "output_type": "display_data"
    },
    {
     "data": {
      "application/vnd.jupyter.widget-view+json": {
       "model_id": "4355ffcb78d64dbdaae2198e6dfbd6c5",
       "version_major": 2,
       "version_minor": 0
      },
      "text/plain": [
       "VBox(children=(Label(value='Waiting for wandb.init()...\\r'), FloatProgress(value=0.016916666666656966, max=1.0…"
      ]
     },
     "metadata": {},
     "output_type": "display_data"
    },
    {
     "data": {
      "text/html": [
       "Tracking run with wandb version 0.13.9"
      ],
      "text/plain": [
       "<IPython.core.display.HTML object>"
      ]
     },
     "metadata": {},
     "output_type": "display_data"
    },
    {
     "data": {
      "text/html": [
       "Run data is saved locally in <code>c:\\Users\\aashr\\Desktop\\research\\testing_grounds\\wandb\\run-20230115_163014-8gbf7jf5</code>"
      ],
      "text/plain": [
       "<IPython.core.display.HTML object>"
      ]
     },
     "metadata": {},
     "output_type": "display_data"
    },
    {
     "data": {
      "text/html": [
       "Syncing run <strong><a href=\"https://wandb.ai/alabs/simple%20ann%20classifier/runs/8gbf7jf5\" target=\"_blank\">happy-blaze-35</a></strong> to <a href=\"https://wandb.ai/alabs/simple%20ann%20classifier\" target=\"_blank\">Weights & Biases</a> (<a href=\"https://wandb.me/run\" target=\"_blank\">docs</a>)<br/>"
      ],
      "text/plain": [
       "<IPython.core.display.HTML object>"
      ]
     },
     "metadata": {},
     "output_type": "display_data"
    },
    {
     "data": {
      "text/html": [
       " View project at <a href=\"https://wandb.ai/alabs/simple%20ann%20classifier\" target=\"_blank\">https://wandb.ai/alabs/simple%20ann%20classifier</a>"
      ],
      "text/plain": [
       "<IPython.core.display.HTML object>"
      ]
     },
     "metadata": {},
     "output_type": "display_data"
    },
    {
     "data": {
      "text/html": [
       " View run at <a href=\"https://wandb.ai/alabs/simple%20ann%20classifier/runs/8gbf7jf5\" target=\"_blank\">https://wandb.ai/alabs/simple%20ann%20classifier/runs/8gbf7jf5</a>"
      ],
      "text/plain": [
       "<IPython.core.display.HTML object>"
      ]
     },
     "metadata": {},
     "output_type": "display_data"
    },
    {
     "name": "stdout",
     "output_type": "stream",
     "text": [
      "MODEL SAVED AT ACCURACY: 63.37028884887695 and EPOCH 0\n",
      "MODEL SAVED AT ACCURACY: 63.547672271728516 and EPOCH 115\n",
      "MODEL SAVED AT ACCURACY: 65.94235229492188 and EPOCH 116\n",
      "MODEL SAVED AT ACCURACY: 68.42572021484375 and EPOCH 118\n",
      "MODEL SAVED AT ACCURACY: 72.23947143554688 and EPOCH 121\n",
      "MODEL SAVED AT ACCURACY: 72.2838134765625 and EPOCH 141\n",
      "MODEL SAVED AT ACCURACY: 73.88026428222656 and EPOCH 148\n",
      "MODEL SAVED AT ACCURACY: 75.65409851074219 and EPOCH 149\n",
      "MODEL SAVED AT ACCURACY: 76.23059844970703 and EPOCH 152\n",
      "MODEL SAVED AT ACCURACY: 77.07316589355469 and EPOCH 153\n",
      "MODEL SAVED AT ACCURACY: 77.60531616210938 and EPOCH 154\n",
      "MODEL SAVED AT ACCURACY: 79.51219940185547 and EPOCH 158\n",
      "MODEL SAVED AT ACCURACY: 79.5565414428711 and EPOCH 171\n",
      "MODEL SAVED AT ACCURACY: 80.57649993896484 and EPOCH 173\n",
      "MODEL SAVED AT ACCURACY: 81.50775909423828 and EPOCH 195\n",
      "MODEL SAVED AT ACCURACY: 81.68514251708984 and EPOCH 196\n",
      "MODEL SAVED AT ACCURACY: 82.1729507446289 and EPOCH 231\n",
      "MODEL SAVED AT ACCURACY: 89.8004379272461 and EPOCH 232\n",
      "MODEL SAVED AT ACCURACY: 90.46562957763672 and EPOCH 233\n",
      "MODEL SAVED AT ACCURACY: 91.08647918701172 and EPOCH 234\n",
      "MODEL SAVED AT ACCURACY: 91.44124603271484 and EPOCH 253\n",
      "MODEL SAVED AT ACCURACY: 91.70732116699219 and EPOCH 279\n",
      "MODEL SAVED AT ACCURACY: 92.54988861083984 and EPOCH 280\n",
      "MODEL SAVED AT ACCURACY: 93.5698471069336 and EPOCH 409\n",
      "MODEL SAVED AT ACCURACY: 94.4567642211914 and EPOCH 410\n"
     ]
    }
   ],
   "source": [
    "wandb.init(project=\"simple ann classifier\")\n",
    "losses = []\n",
    "accuracies = [0]\n",
    "sacc = []\n",
    "accuracy = 0\n",
    "bestepoch = 0\n",
    "for epoch in range(epochs):\n",
    "    for batch, (ts,params) in enumerate(dataloader):\n",
    "        params = params[:,0].to(torch.long).to(dataset.device)\n",
    "        optimizer.zero_grad()\n",
    "        outputs = net(ts.to(dataset.device))\n",
    "        # print(outputs.shape,params[:,0].to(torch.long).shape)\n",
    "        loss = criterion(outputs,params)\n",
    "        loss.backward()\n",
    "        optimizer.step()\n",
    "        losses.append(loss.item())\n",
    "        # print(outputs.shape,params.shape)\n",
    "        wandb.log({\"loss\":loss.item(),\"batch_acc\":acc(outputs,params)})\n",
    "\n",
    "    accuracy = new_accuracy()\n",
    "    accuracies.append(accuracy)\n",
    "\n",
    "    if accuracy >= max(accuracies) or (accuracy >= max(accuracies) and loss.item() <= min(losses)):\n",
    "        net.state_dict(destination = best)\n",
    "        best = net.state_dict()\n",
    "        torch.save(best, f\"./saved_models/{stime}_Acc_{lr}_{amsgrad}.pt\")\n",
    "        bestepoch = epoch\n",
    "        print(f\"MODEL SAVED AT ACCURACY: {accuracy} and EPOCH {epoch}\")\n",
    "\n",
    "    \n",
    "    wandb.log({\"epoch\":epoch,\"acc\":accuracy,\"max_accuracy\":max(accuracies)})\n",
    "\n",
    "torch.save(best, f\"./saved_models/{stime}_Best_Model_Epoch_{bestepoch}_Acc_{max(accuracies)}_{lr}_{amsgrad}.pt\")"
   ]
  },
  {
   "cell_type": "code",
   "execution_count": 35,
   "metadata": {},
   "outputs": [],
   "source": [
    "torch.save(best, f\"./saved_models/{stime}_Best_Model_Epoch_{epoch}_Acc_{max(accuracies)}_{lr}_{amsgrad}.pt\")"
   ]
  },
  {
   "cell_type": "code",
   "execution_count": 36,
   "metadata": {},
   "outputs": [
    {
     "data": {
      "text/plain": [
       "tensor(58.8470, device='cuda:0')"
      ]
     },
     "execution_count": 36,
     "metadata": {},
     "output_type": "execute_result"
    }
   ],
   "source": [
    "net.load_state_dict(best)\n",
    "new_accuracy()"
   ]
  },
  {
   "cell_type": "code",
   "execution_count": 37,
   "metadata": {},
   "outputs": [
    {
     "name": "stdout",
     "output_type": "stream",
     "text": [
      "OrderedDict([('inlayer.weight', tensor([[-0.0271, -0.0271, -0.0179,  ..., -0.0148,  0.0136, -0.0085],\n",
      "        [ 0.0214,  0.0172, -0.0002,  ...,  0.0060, -0.0062,  0.0109],\n",
      "        [-0.0569, -0.0381, -0.0543,  ...,  0.0042, -0.0101, -0.0135],\n",
      "        ...,\n",
      "        [-0.0094, -0.0139, -0.0167,  ...,  0.0125,  0.0010, -0.0057],\n",
      "        [-0.0234, -0.0040, -0.0083,  ...,  0.0060,  0.0123, -0.0084],\n",
      "        [-0.0131,  0.0063, -0.0042,  ...,  0.0107, -0.0050,  0.0125]],\n",
      "       device='cuda:0')), ('inlayer.bias', tensor([-0.0351,  0.0239, -0.0089,  ...,  0.0101,  0.0078, -0.0089],\n",
      "       device='cuda:0')), ('bnorm1.weight', tensor([1.0736, 1.0731, 1.0695,  ..., 1.0613, 1.0492, 1.0012], device='cuda:0')), ('bnorm1.bias', tensor([-0.0025,  0.0017, -0.0004,  ..., -0.0056, -0.0011,  0.0115],\n",
      "       device='cuda:0')), ('bnorm1.running_mean', tensor([-0.0351,  0.0239, -0.0089,  ...,  0.0101,  0.0078, -0.0089],\n",
      "       device='cuda:0')), ('bnorm1.running_var', tensor([9.1924e-08, 1.9659e-08, 4.2868e-08,  ..., 1.0517e-07, 6.1514e-08,\n",
      "        2.7594e-08], device='cuda:0')), ('bnorm1.num_batches_tracked', tensor(150558, device='cuda:0')), ('inter1.weight', tensor([[ 0.0181, -0.0071, -0.0076,  ...,  0.0027, -0.0083, -0.0037],\n",
      "        [-0.0023,  0.0253,  0.0076,  ..., -0.0082, -0.0025,  0.0079],\n",
      "        [-0.0248,  0.0129, -0.0088,  ...,  0.0165, -0.0047, -0.0207],\n",
      "        ...,\n",
      "        [ 0.0091, -0.0207, -0.0102,  ...,  0.0130,  0.0081, -0.0019],\n",
      "        [-0.0062, -0.0069,  0.0028,  ...,  0.0158,  0.0100, -0.0247],\n",
      "        [-0.0191, -0.0239, -0.0216,  ...,  0.0222,  0.0139,  0.0036]],\n",
      "       device='cuda:0')), ('inter1.bias', tensor([-0.0376, -0.0716, -0.0764,  ..., -0.0636, -0.0508, -0.0934],\n",
      "       device='cuda:0')), ('bnorm2.weight', tensor([0.9146, 0.9817, 0.9372,  ..., 0.9239, 0.9722, 1.0076], device='cuda:0')), ('bnorm2.bias', tensor([-0.0836, -0.0016,  0.2680,  ..., -0.1279, -0.0833, -0.0955],\n",
      "       device='cuda:0')), ('bnorm2.running_mean', tensor([ 0.0252,  0.0810, -0.0046,  ..., -0.0188, -0.1076, -0.0010],\n",
      "       device='cuda:0')), ('bnorm2.running_var', tensor([4.2477, 8.5725, 0.4217,  ..., 0.0351, 0.1210, 2.5686], device='cuda:0')), ('bnorm2.num_batches_tracked', tensor(150558, device='cuda:0')), ('inter2.weight', tensor([[ 0.0164, -0.0074, -0.0093,  ..., -0.0007, -0.0192,  0.0477],\n",
      "        [ 0.0046,  0.0063, -0.0424,  ...,  0.0137, -0.0201,  0.0207],\n",
      "        [-0.0137, -0.0464,  0.0128,  ...,  0.0022,  0.0271,  0.0444],\n",
      "        ...,\n",
      "        [ 0.0015, -0.0077,  0.0134,  ...,  0.0031,  0.0083, -0.0162],\n",
      "        [-0.0033,  0.0262,  0.0263,  ...,  0.0265, -0.0194,  0.0255],\n",
      "        [ 0.0011, -0.0010, -0.0392,  ...,  0.0052,  0.0033,  0.0302]],\n",
      "       device='cuda:0')), ('inter2.bias', tensor([-0.1104, -0.1269, -0.0391, -0.1136, -0.0649, -0.1415, -0.1424, -0.1135,\n",
      "        -0.1136, -0.1326,  0.0003, -0.1155, -0.1150, -0.1166,  0.0624, -0.1281,\n",
      "         0.1986, -0.0945, -0.1277], device='cuda:0'))])\n"
     ]
    }
   ],
   "source": [
    "print(best)"
   ]
  }
 ],
 "metadata": {
  "kernelspec": {
   "display_name": "Python 3",
   "language": "python",
   "name": "python3"
  },
  "language_info": {
   "codemirror_mode": {
    "name": "ipython",
    "version": 3
   },
   "file_extension": ".py",
   "mimetype": "text/x-python",
   "name": "python",
   "nbconvert_exporter": "python",
   "pygments_lexer": "ipython3",
   "version": "3.10.7"
  },
  "orig_nbformat": 4,
  "vscode": {
   "interpreter": {
    "hash": "26de051ba29f2982a8de78e945f0abaf191376122a1563185a90213a26c5da77"
   }
  }
 },
 "nbformat": 4,
 "nbformat_minor": 2
}
