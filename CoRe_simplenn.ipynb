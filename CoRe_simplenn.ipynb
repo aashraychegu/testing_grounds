{
 "cells": [
  {
   "attachments": {},
   "cell_type": "markdown",
   "metadata": {},
   "source": [
    "# Todo\n",
    " - Masked transformers\n",
    " - any more data reductions?\n",
    " "
   ]
  },
  {
   "cell_type": "code",
   "execution_count": null,
   "metadata": {},
   "outputs": [],
   "source": [
    "from CoReDataLoader import  dataset,dataloader, maxlen\n",
    "numclasses = len(dataset.eoss)"
   ]
  },
  {
   "cell_type": "code",
   "execution_count": null,
   "metadata": {},
   "outputs": [],
   "source": [
    "import torch\n",
    "import torch.nn as nn\n",
    "import torch.nn.functional as F\n",
    "import torch.optim as optim\n",
    "from torch.utils.data import DataLoader\n",
    "import torchmetrics as metrics"
   ]
  },
  {
   "cell_type": "code",
   "execution_count": null,
   "metadata": {},
   "outputs": [],
   "source": [
    "acc = metrics.Accuracy(task = \"multiclass\",num_classes = numclasses)\n",
    "auroc = metrics.AUROC(task = \"multiclass\",num_classes=numclasses)\n",
    "prec = metrics.Precision(task=\"multiclass\",num_classes=numclasses)\n",
    "f1score = metrics.F1Score(task = \"multiclass\",num_classes=numclasses)\n",
    "avgprec = metrics.AveragePrecision(task = \"multiclass\",num_classes=numclasses)\n",
    "precrecall = metrics.PrecisionRecallCurve(task = \"multiclass\",num_classes = numclasses)\n",
    "recall = metrics.Recall(task = \"multiclass\",num_classes=numclasses)\n",
    "roc = metrics.ROC(task = \"multiclass\",num_classes=numclasses)\n",
    "conf = metrics.ConfusionMatrix(task = \"multiclass\",num_classes=numclasses)"
   ]
  },
  {
   "cell_type": "code",
   "execution_count": null,
   "metadata": {},
   "outputs": [],
   "source": [
    "class classifier(nn.Module):\n",
    "    def __init__(self,input_length = dataset.output_length):\n",
    "        super().__init__()\n",
    "        self.inlayer = nn.Linear(input_length,4096)\n",
    "        self.bnorm = nn.BatchNorm1d(4096)\n",
    "        self.silu = nn.SiLU()\n",
    "        self.inter1 = nn.Linear(4096,2056)\n",
    "        self.inter2 = nn.Linear(2056,1024)\n",
    "        self.inter3 = nn.Linear(1024,1024)\n",
    "        self.output = nn.Linear(1024,numclasses)\n",
    "        self.softmax = nn.Softmax()\n",
    "        self.activation = nn.GELU()\n",
    "\n",
    "    def forward(self,inp):\n",
    "        itn = inp.to(torch.float32)\n",
    "        itn = F.normalize(itn, 0)\n",
    "        itn = self.inlayer(itn)\n",
    "        itn = self.bnorm1(itn)\n",
    "        itn = self.inter1(itn)\n",
    "        itn = self.activation(itn)\n",
    "        itn = self.bnorm2(itn)\n",
    "        itn = self.inter2(itn)\n",
    "        itn = self.activation(itn)\n",
    "        return itn\n",
    "        \n",
    "net = classifier().to(dataset.device)"
   ]
  },
  {
   "cell_type": "code",
   "execution_count": null,
   "metadata": {},
   "outputs": [],
   "source": [
    "import wandb"
   ]
  },
  {
   "cell_type": "code",
   "execution_count": null,
   "metadata": {},
   "outputs": [],
   "source": [
    "def get_accuracy():\n",
    "    with torch.no_grad():\n",
    "        outputs = torch.zeros((len(dataset),19)).to(\"cuda:0\")\n",
    "        corrects = torch.zeros(len(dataset)).to(\"cuda:0\")\n",
    "        net.eval()\n",
    "        for ctr, (ts,params) in enumerate(dataset):\n",
    "            ts = ts.view(1,-1).to(\"cuda:0\")\n",
    "            params = params.view(1,-1)\n",
    "            params = params[:,0]\n",
    "            results = net(ts)\n",
    "            outputs[ctr] = results\n",
    "            corrects[ctr] = params\n",
    "    net.train()\n",
    "    return acc(outputs,corrects).item()"
   ]
  },
  {
   "cell_type": "code",
   "execution_count": null,
   "metadata": {},
   "outputs": [],
   "source": [
    "def new_accuracy():\n",
    "    with torch.no_grad():\n",
    "        net.eval()\n",
    "        tss,params = next(iter(DataLoader(dataset, batch_size=len(dataset))))\n",
    "        net.train()\n",
    "    return acc(net(tss),params[:,0])*100\n"
   ]
  },
  {
   "attachments": {},
   "cell_type": "markdown",
   "metadata": {},
   "source": [
    "# Run from below here to test new runs"
   ]
  },
  {
   "cell_type": "code",
   "execution_count": null,
   "metadata": {},
   "outputs": [],
   "source": [
    "print(\"Original Accuracy: \", new_accuracy())"
   ]
  },
  {
   "cell_type": "code",
   "execution_count": null,
   "metadata": {},
   "outputs": [],
   "source": [
    "criterion = nn.CrossEntropyLoss()\n",
    "lr = 5e-5\n",
    "amsgrad = False\n",
    "sgd = optim.SGD(net.parameters(), lr=lr,momentum = 0.8,nesterov = True)\n",
    "adam = optim.Adam(net.parameters(),lr = lr,amsgrad=amsgrad)\n",
    "optimizer = adam\n",
    "epochs = 600\n"
   ]
  },
  {
   "cell_type": "code",
   "execution_count": null,
   "metadata": {},
   "outputs": [],
   "source": [
    "from collections import OrderedDict\n",
    "best = OrderedDict()"
   ]
  },
  {
   "cell_type": "code",
   "execution_count": null,
   "metadata": {},
   "outputs": [],
   "source": [
    "wandb.init(project=\"simple ann classifier\")\n",
    "losses = []\n",
    "accuracies = [0]\n",
    "sacc = []\n",
    "accuracy = 0\n",
    "bestepoch = 0\n",
    "for epoch in range(epochs):\n",
    "    for batch, (ts,params) in enumerate(dataloader):\n",
    "        params = params[:,0].to(torch.long)\n",
    "        optimizer.zero_grad()\n",
    "        outputs = net(ts.to(dataset.device))\n",
    "        # print(outputs.shape,params[:,0].to(torch.long).shape)\n",
    "        loss = criterion(outputs,params)\n",
    "        loss.backward()\n",
    "        optimizer.step()\n",
    "        losses.append(loss.item())\n",
    "        # print(outputs.shape,params.shape)\n",
    "        wandb.log({\"loss\":loss.item(),\"batch_acc\":acc(outputs,params)})\n",
    "\n",
    "        print(f\"{epoch+1}/{epochs} {batch+1}/{len(dataloader)} loss = {loss.item()} accuracy = {acc(outputs,params)*100}% {auroc(outputs,params) = } {prec(outputs,params) = } {f1score(outputs,params) = } {avgprec(outputs,params) = } {recall(outputs,params) = } \\n\",end = \"\\r\",flush = True)\n",
    "        correct = 0\n",
    "    wandb.log()\n",
    "    print(f\"Epoch finished: {epoch+1}\\n\")"
   ]
  },
  {
   "cell_type": "code",
   "execution_count": null,
   "metadata": {},
   "outputs": [],
   "source": [
    "torch.save(best, f\"./saved_models/{stime}_Best_Model_Epoch_{epoch}_Acc_{max(accuracies)}_{lr}_{amsgrad}.pt\")"
   ]
  },
  {
   "cell_type": "code",
   "execution_count": null,
   "metadata": {},
   "outputs": [],
   "source": [
    "net.load_state_dict(best)\n",
    "new_accuracy()"
   ]
  },
  {
   "cell_type": "code",
   "execution_count": null,
   "metadata": {},
   "outputs": [],
   "source": [
    "print(best)"
   ]
  }
 ],
 "metadata": {
  "kernelspec": {
   "display_name": "Python 3",
   "language": "python",
   "name": "python3"
  },
  "language_info": {
   "codemirror_mode": {
    "name": "ipython",
    "version": 3
   },
   "file_extension": ".py",
   "mimetype": "text/x-python",
   "name": "python",
   "nbconvert_exporter": "python",
   "pygments_lexer": "ipython3",
   "version": "3.10.7"
  },
  "orig_nbformat": 4,
  "vscode": {
   "interpreter": {
    "hash": "26de051ba29f2982a8de78e945f0abaf191376122a1563185a90213a26c5da77"
   }
  }
 },
 "nbformat": 4,
 "nbformat_minor": 2
}
