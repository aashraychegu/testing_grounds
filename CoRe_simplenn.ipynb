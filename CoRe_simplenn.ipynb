{
 "cells": [
  {
   "attachments": {},
   "cell_type": "markdown",
   "metadata": {},
   "source": [
    "# Todo\n",
    " - Masked transformers\n",
    " - any more data reductions?\n",
    " "
   ]
  },
  {
   "cell_type": "code",
   "execution_count": null,
   "metadata": {},
   "outputs": [],
   "source": [
    "from CoReDataLoader import  dataset, dataloader, maxlen\n",
    "numclasses = len(dataset.eoss)"
   ]
  },
  {
   "cell_type": "code",
   "execution_count": null,
   "metadata": {},
   "outputs": [],
   "source": [
    "import torch\n",
    "import torch.nn as nn\n",
    "import torch.nn.functional as F\n",
    "import torch.optim as optim\n",
    "from torch.utils.data import DataLoader\n",
    "import torchmetrics as metrics"
   ]
  },
  {
   "cell_type": "code",
   "execution_count": null,
   "metadata": {},
   "outputs": [],
   "source": [
    "acc = metrics.Accuracy(task = \"multiclass\",num_classes = numclasses).to(dataset.device)\n",
    "auroc = metrics.AUROC(task = \"multiclass\",num_classes=numclasses).to(dataset.device)\n",
    "prec = metrics.Precision(task=\"multiclass\",num_classes=numclasses).to(dataset.device)\n",
    "f1score = metrics.F1Score(task = \"multiclass\",num_classes=numclasses).to(dataset.device)\n",
    "avgprec = metrics.AveragePrecision(task = \"multiclass\",num_classes=numclasses).to(dataset.device)\n",
    "precrecall =metrics.PrecisionRecallCurve(task = \"multiclass\",num_classes=numclasses).to(dataset.device)\n",
    "recall = metrics.Recall(task = \"multiclass\",num_classes=numclasses).to(dataset.device)\n",
    "roc = metrics.ROC(task = \"multiclass\",num_classes=numclasses).to(dataset.device)\n",
    "conf = metrics.ConfusionMatrix(task = \"multiclass\",num_classes=numclasses).to(dataset.device)"
   ]
  },
  {
   "cell_type": "code",
   "execution_count": null,
   "metadata": {},
   "outputs": [],
   "source": [
    "class classifier(nn.Module):\n",
    "    def __init__(self,input_length = maxlen):\n",
    "        super().__init__()\n",
    "        self.inlayer = nn.Linear(input_length,4096*3)\n",
    "        self.bnorm1 = nn.BatchNorm1d(4096*3)\n",
    "        self.inter1 = nn.Linear(4096*3,4096*2)\n",
    "        self.bnorm2 = nn.BatchNorm1d(4096*2)\n",
    "        self.inter2 = nn.Linear(4096*2,numclasses)\n",
    "        self.softmax = nn.Softmax()\n",
    "        self.activation = nn.GELU()\n",
    "\n",
    "    def forward(self,inp):\n",
    "        itn = inp.to(torch.float32)\n",
    "        itn = F.normalize(itn, 0)\n",
    "        itn = self.inlayer(itn)\n",
    "        itn = self.bnorm1(itn)\n",
    "        itn = self.inter1(itn)\n",
    "        itn = self.activation(itn)\n",
    "        itn = self.bnorm2(itn)\n",
    "        itn = self.inter2(itn)\n",
    "        itn = self.activation(itn)\n",
    "        return itn\n",
    "        \n",
    "net = classifier().to(dataset.device)"
   ]
  },
  {
   "cell_type": "code",
   "execution_count": null,
   "metadata": {},
   "outputs": [],
   "source": [
    "import wandb"
   ]
  },
  {
   "cell_type": "code",
   "execution_count": null,
   "metadata": {},
   "outputs": [],
   "source": [
    "def get_accuracy():\n",
    "    with torch.no_grad():\n",
    "        outputs = torch.zeros((len(dataset),19)).to(\"cuda:0\")\n",
    "        corrects = torch.zeros(len(dataset)).to(\"cuda:0\")\n",
    "        net.eval()\n",
    "        for ctr, (ts,params) in enumerate(dataset):\n",
    "            ts = ts.view(1,-1).to(\"cuda:0\")\n",
    "            params = params.view(1,-1)\n",
    "            params = params[:,0]\n",
    "            results = net(ts)\n",
    "            outputs[ctr] = results\n",
    "            corrects[ctr] = params\n",
    "    net.train()\n",
    "    return acc(outputs,corrects).item()"
   ]
  },
  {
   "cell_type": "code",
   "execution_count": null,
   "metadata": {},
   "outputs": [],
   "source": [
    "def new_accuracy():\n",
    "    with torch.no_grad():\n",
    "        tss,params = next(iter(DataLoader(dataset, batch_size=len(dataset))))\n",
    "    return acc(net(tss),params[:,0])*100\n"
   ]
  },
  {
   "attachments": {},
   "cell_type": "markdown",
   "metadata": {},
   "source": [
    "# Run from below here to test new runs"
   ]
  },
  {
   "cell_type": "code",
   "execution_count": null,
   "metadata": {},
   "outputs": [],
   "source": [
    "print(\"Original Accuracy: \", new_accuracy())"
   ]
  },
  {
   "cell_type": "code",
   "execution_count": null,
   "metadata": {},
   "outputs": [],
   "source": [
    "criterion = nn.CrossEntropyLoss()\n",
    "optimizer = optim.Adam(net.parameters(),lr = 2e-3,amsgrad = True)\n",
    "epochs = 500"
   ]
  },
  {
   "cell_type": "code",
   "execution_count": null,
   "metadata": {},
   "outputs": [],
   "source": [
    "from datetime import datetime\n",
    "stime = datetime.now().date().isoformat()"
   ]
  },
  {
   "cell_type": "code",
   "execution_count": null,
   "metadata": {},
   "outputs": [],
   "source": [
    "from collections import OrderedDict\n",
    "best = OrderedDict()"
   ]
  },
  {
   "cell_type": "code",
   "execution_count": null,
   "metadata": {},
   "outputs": [],
   "source": [
    "wandb.init(project=\"simple ann classifier\")\n",
    "losses = []\n",
    "accuracies = [0]\n",
    "sacc = []\n",
    "accuracy = 0\n",
    "for epoch in range(epochs):\n",
    "    for batch, (ts,params) in enumerate(dataloader):\n",
    "        params = params[:,0].to(torch.long).to(dataset.device)\n",
    "        optimizer.zero_grad()\n",
    "        outputs = net(ts.to(dataset.device))\n",
    "        # print(outputs.shape,params[:,0].to(torch.long).shape)\n",
    "        loss = criterion(outputs,params)\n",
    "        loss.backward()\n",
    "        optimizer.step()\n",
    "        losses.append(loss.item())\n",
    "        # print(outputs.shape,params.shape)\n",
    "        wandb.log({\"loss\":loss.item(),\"batch_acc\":acc(outputs,params)})\n",
    "    accuracy = get_accuracy()\n",
    "    accuracies.append(accuracy)\n",
    "    if accuracy >= max(accuracies):\n",
    "        print(f\"MODEL SAVED AT ACCURACY: {accuracy} and EPOCH {epoch}\")\n",
    "        net.state_dict(destination = best)\n",
    "        wandb.alert(text = f\"MODEL SAVED AT ACCURACY: {accuracy} and EPOCH {epoch}\", title = \"Model Saved\")\n",
    "    wandb.log({\"epoch\":epoch,\"acc\":accuracy,\"max_accuracy\":max(accuracies)})\n",
    "    "
   ]
  },
  {
   "cell_type": "code",
   "execution_count": null,
   "metadata": {},
   "outputs": [],
   "source": [
    "torch.save(best, f\"./saved_models/{stime}_Best_Model_Epoch_{epoch}_Acc_{max(accuracies)}.pt\")"
   ]
  },
  {
   "cell_type": "code",
   "execution_count": null,
   "metadata": {},
   "outputs": [],
   "source": [
    "print(best)"
   ]
  }
 ],
 "metadata": {
  "kernelspec": {
   "display_name": "Python 3",
   "language": "python",
   "name": "python3"
  },
  "language_info": {
   "codemirror_mode": {
    "name": "ipython",
    "version": 3
   },
   "file_extension": ".py",
   "mimetype": "text/x-python",
   "name": "python",
   "nbconvert_exporter": "python",
   "pygments_lexer": "ipython3",
   "version": "3.10.7"
  },
  "orig_nbformat": 4,
  "vscode": {
   "interpreter": {
    "hash": "26de051ba29f2982a8de78e945f0abaf191376122a1563185a90213a26c5da77"
   }
  }
 },
 "nbformat": 4,
 "nbformat_minor": 2
}
