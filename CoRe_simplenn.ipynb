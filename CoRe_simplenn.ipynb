{
 "cells": [
  {
   "cell_type": "code",
   "execution_count": 13,
   "metadata": {},
   "outputs": [],
   "source": [
    "from CoReDataLoader import  dataset,dataloader, maxlen\n",
    "numclasses = len(dataset.eoss)"
   ]
  },
  {
   "cell_type": "code",
   "execution_count": 14,
   "metadata": {},
   "outputs": [],
   "source": [
    "import torch\n",
    "import torch.nn as nn\n",
    "import torch.nn.functional as F\n",
    "import torch.optim as optim\n",
    "import torchmetrics as metrics"
   ]
  },
  {
   "cell_type": "code",
   "execution_count": 15,
   "metadata": {},
   "outputs": [],
   "source": [
    "acc = metrics.Accuracy(task = \"multiclass\",num_classes = numclasses)\n",
    "auroc = metrics.AUROC(task = \"multiclass\",num_classes=numclasses)\n",
    "prec = metrics.Precision(task=\"multiclass\",num_classes=numclasses)\n",
    "f1score = metrics.F1Score(task = \"multiclass\",num_classes=numclasses)\n",
    "avgprec = metrics.AveragePrecision(task = \"multiclass\",num_classes=numclasses)\n",
    "precrecall = metrics.PrecisionRecallCurve(task = \"multiclass\",num_classes = numclasses)\n",
    "recall = metrics.Recall(task = \"multiclass\",num_classes=numclasses)\n",
    "roc = metrics.ROC(task = \"multiclass\",num_classes=numclasses)\n",
    "conf = metrics.ConfusionMatrix(task = \"multiclass\",num_classes=numclasses)"
   ]
  },
  {
   "cell_type": "code",
   "execution_count": null,
   "metadata": {},
   "outputs": [],
   "source": [
    "class classifier(nn.Module):\n",
    "    def __init__(self,input_length = maxlen):\n",
    "        super().__init__()\n",
    "        self.inlayer = nn.Linear(input_length,4096)\n",
    "        self.bnorm = nn.BatchNorm1d(4096)\n",
    "        self.silu = nn.SiLU()\n",
    "        self.inter1 = nn.Linear(4096,2056)\n",
    "        self.inter2 = nn.Linear(2056,1024)\n",
    "        self.inter3 = nn.Linear(1024,1024)\n",
    "        self.output = nn.Linear(1024,numclasses)\n",
    "        self.softmax = nn.Softmax()\n",
    "\n",
    "        \n",
    "    def forward(self,inp):\n",
    "        inp = inp.to(torch.float32)\n",
    "        itn = self.inlayer(inp)\n",
    "        itn = self.bnorm(itn)\n",
    "        itn = self.silu(itn)\n",
    "        itn = self.silu(self.inter1(itn))\n",
    "        itn = self.silu(self.inter2(itn))\n",
    "        itn = self.silu(self.inter3(itn))\n",
    "        itn = self.silu(self.output(itn))\n",
    "        return itn\n",
    "net = classifier()"
   ]
  },
  {
   "cell_type": "code",
   "execution_count": null,
   "metadata": {},
   "outputs": [
    {
     "data": {
      "text/plain": [
       "classifier(\n",
       "  (inlayer): Linear(in_features=40817, out_features=4096, bias=True)\n",
       "  (bnorm): BatchNorm1d(4096, eps=1e-05, momentum=0.1, affine=True, track_running_stats=True)\n",
       "  (silu): SiLU()\n",
       "  (inter1): Linear(in_features=4096, out_features=2056, bias=True)\n",
       "  (inter2): Linear(in_features=2056, out_features=1024, bias=True)\n",
       "  (inter3): Linear(in_features=1024, out_features=1024, bias=True)\n",
       "  (output): Linear(in_features=1024, out_features=19, bias=True)\n",
       "  (softmax): Softmax(dim=None)\n",
       ")"
      ]
     },
     "execution_count": 9,
     "metadata": {},
     "output_type": "execute_result"
    }
   ],
   "source": [
    "criterion = nn.CrossEntropyLoss()\n",
    "optimizer = optim.Adam(net.parameters(),lr = 1,betas = (0.9,0.999))\n",
    "epochs = 100\n",
    "net.to(\"cpu\")"
   ]
  },
  {
   "cell_type": "code",
   "execution_count": 16,
   "metadata": {},
   "outputs": [
    {
     "name": "stdout",
     "output_type": "stream",
     "text": [
      "1/100 1/148 loss = 2.944438934326172 accuracy = 0.0% auroc(outputs,params) = tensor(0.1053) prec(outputs,params) = tensor(0.) f1score(outputs,params) = tensor(0.) avgprec(outputs,params) = tensor(0.2500) recall(outputs,params) = tensor(0.) \n",
      "1/100 2/148 loss = 2.944438934326172 accuracy = 0.0% auroc(outputs,params) = tensor(0.2368) prec(outputs,params) = tensor(0.) f1score(outputs,params) = tensor(0.) avgprec(outputs,params) = tensor(0.1111) recall(outputs,params) = tensor(0.) \n",
      "1/100 3/148 loss = 2.944438934326172 accuracy = 0.0% auroc(outputs,params) = tensor(0.1316) prec(outputs,params) = tensor(0.) f1score(outputs,params) = tensor(0.) avgprec(outputs,params) = tensor(0.2000) recall(outputs,params) = tensor(0.) \n",
      "1/100 4/148 loss = 2.944438934326172 accuracy = 0.0% auroc(outputs,params) = tensor(0.1842) prec(outputs,params) = tensor(0.) f1score(outputs,params) = tensor(0.) avgprec(outputs,params) = tensor(0.1429) recall(outputs,params) = tensor(0.) \n",
      "1/100 5/148 loss = 2.944438934326172 accuracy = 0.0% auroc(outputs,params) = tensor(0.0789) prec(outputs,params) = tensor(0.) f1score(outputs,params) = tensor(0.) avgprec(outputs,params) = tensor(0.3333) recall(outputs,params) = tensor(0.) \n",
      "1/100 6/148 loss = 2.944438934326172 accuracy = 0.0% auroc(outputs,params) = tensor(0.2105) prec(outputs,params) = tensor(0.) f1score(outputs,params) = tensor(0.) avgprec(outputs,params) = tensor(0.1250) recall(outputs,params) = tensor(0.) \n",
      "1/100 7/148 loss = 2.944438934326172 accuracy = 0.0% auroc(outputs,params) = tensor(0.1316) prec(outputs,params) = tensor(0.) f1score(outputs,params) = tensor(0.) avgprec(outputs,params) = tensor(0.2000) recall(outputs,params) = tensor(0.) \n",
      "1/100 8/148 loss = 2.944438934326172 accuracy = 0.0% auroc(outputs,params) = tensor(0.1842) prec(outputs,params) = tensor(0.) f1score(outputs,params) = tensor(0.) avgprec(outputs,params) = tensor(0.1429) recall(outputs,params) = tensor(0.) \n",
      "1/100 9/148 loss = 2.944438934326172 accuracy = 0.0% auroc(outputs,params) = tensor(0.1579) prec(outputs,params) = tensor(0.) f1score(outputs,params) = tensor(0.) avgprec(outputs,params) = tensor(0.1667) recall(outputs,params) = tensor(0.) \n",
      "1/100 10/148 loss = 2.944438934326172 accuracy = 0.0% auroc(outputs,params) = tensor(0.2105) prec(outputs,params) = tensor(0.) f1score(outputs,params) = tensor(0.) avgprec(outputs,params) = tensor(0.1250) recall(outputs,params) = tensor(0.) \n",
      "1/100 11/148 loss = 2.944438934326172 accuracy = 0.0% auroc(outputs,params) = tensor(0.1053) prec(outputs,params) = tensor(0.) f1score(outputs,params) = tensor(0.) avgprec(outputs,params) = tensor(0.2500) recall(outputs,params) = tensor(0.) \n",
      "1/100 12/148 loss = 2.944438934326172 accuracy = 0.0% auroc(outputs,params) = tensor(0.1316) prec(outputs,params) = tensor(0.) f1score(outputs,params) = tensor(0.) avgprec(outputs,params) = tensor(0.2000) recall(outputs,params) = tensor(0.) \n",
      "1/100 13/148 loss = 2.944438934326172 accuracy = 0.0% auroc(outputs,params) = tensor(0.1316) prec(outputs,params) = tensor(0.) f1score(outputs,params) = tensor(0.) avgprec(outputs,params) = tensor(0.2000) recall(outputs,params) = tensor(0.) \n",
      "1/100 14/148 loss = 2.944438934326172 accuracy = 0.0% auroc(outputs,params) = tensor(0.1053) prec(outputs,params) = tensor(0.) f1score(outputs,params) = tensor(0.) avgprec(outputs,params) = tensor(0.2500) recall(outputs,params) = tensor(0.) \n",
      "1/100 15/148 loss = 2.944438934326172 accuracy = 0.0% auroc(outputs,params) = tensor(0.1842) prec(outputs,params) = tensor(0.) f1score(outputs,params) = tensor(0.) avgprec(outputs,params) = tensor(0.1429) recall(outputs,params) = tensor(0.) \n",
      "1/100 16/148 loss = 2.944438934326172 accuracy = 0.0% auroc(outputs,params) = tensor(0.1579) prec(outputs,params) = tensor(0.) f1score(outputs,params) = tensor(0.) avgprec(outputs,params) = tensor(0.1667) recall(outputs,params) = tensor(0.) \n",
      "1/100 17/148 loss = 2.944438934326172 accuracy = 0.0% auroc(outputs,params) = tensor(0.1579) prec(outputs,params) = tensor(0.) f1score(outputs,params) = tensor(0.) avgprec(outputs,params) = tensor(0.1667) recall(outputs,params) = tensor(0.) \n",
      "1/100 18/148 loss = 2.944438934326172 accuracy = 0.0% auroc(outputs,params) = tensor(0.1579) prec(outputs,params) = tensor(0.) f1score(outputs,params) = tensor(0.) avgprec(outputs,params) = tensor(0.1667) recall(outputs,params) = tensor(0.) \n",
      "1/100 19/148 loss = 2.944438934326172 accuracy = 0.0% auroc(outputs,params) = tensor(0.1316) prec(outputs,params) = tensor(0.) f1score(outputs,params) = tensor(0.) avgprec(outputs,params) = tensor(0.2000) recall(outputs,params) = tensor(0.) \n",
      "1/100 20/148 loss = 2.944438934326172 accuracy = 0.0% auroc(outputs,params) = tensor(0.1579) prec(outputs,params) = tensor(0.) f1score(outputs,params) = tensor(0.) avgprec(outputs,params) = tensor(0.1667) recall(outputs,params) = tensor(0.) \n",
      "1/100 21/148 loss = 2.944438934326172 accuracy = 6.25% auroc(outputs,params) = tensor(0.1842) prec(outputs,params) = tensor(0.0625) f1score(outputs,params) = tensor(0.0625) avgprec(outputs,params) = tensor(0.1429) recall(outputs,params) = tensor(0.0625) \n",
      "1/100 22/148 loss = 2.944438934326172 accuracy = 0.0% auroc(outputs,params) = tensor(0.1579) prec(outputs,params) = tensor(0.) f1score(outputs,params) = tensor(0.) avgprec(outputs,params) = tensor(0.1667) recall(outputs,params) = tensor(0.) \n",
      "1/100 23/148 loss = 2.944438934326172 accuracy = 0.0% auroc(outputs,params) = tensor(0.1842) prec(outputs,params) = tensor(0.) f1score(outputs,params) = tensor(0.) avgprec(outputs,params) = tensor(0.1429) recall(outputs,params) = tensor(0.) \n",
      "1/100 24/148 loss = 2.944438934326172 accuracy = 0.0% auroc(outputs,params) = tensor(0.2368) prec(outputs,params) = tensor(0.) f1score(outputs,params) = tensor(0.) avgprec(outputs,params) = tensor(0.1111) recall(outputs,params) = tensor(0.) \n",
      "1/100 25/148 loss = 2.944438934326172 accuracy = 0.0% auroc(outputs,params) = tensor(0.1316) prec(outputs,params) = tensor(0.) f1score(outputs,params) = tensor(0.) avgprec(outputs,params) = tensor(0.2000) recall(outputs,params) = tensor(0.) \n",
      "1/100 26/148 loss = 2.944438934326172 accuracy = 0.0% auroc(outputs,params) = tensor(0.1316) prec(outputs,params) = tensor(0.) f1score(outputs,params) = tensor(0.) avgprec(outputs,params) = tensor(0.2000) recall(outputs,params) = tensor(0.) \n",
      "1/100 27/148 loss = 2.944438934326172 accuracy = 0.0% auroc(outputs,params) = tensor(0.1579) prec(outputs,params) = tensor(0.) f1score(outputs,params) = tensor(0.) avgprec(outputs,params) = tensor(0.1667) recall(outputs,params) = tensor(0.) \n",
      "1/100 28/148 loss = 2.944438934326172 accuracy = 0.0% auroc(outputs,params) = tensor(0.1316) prec(outputs,params) = tensor(0.) f1score(outputs,params) = tensor(0.) avgprec(outputs,params) = tensor(0.2000) recall(outputs,params) = tensor(0.) \n",
      "1/100 29/148 loss = 2.944438934326172 accuracy = 0.0% auroc(outputs,params) = tensor(0.1842) prec(outputs,params) = tensor(0.) f1score(outputs,params) = tensor(0.) avgprec(outputs,params) = tensor(0.1429) recall(outputs,params) = tensor(0.) \n",
      "1/100 30/148 loss = 2.944438934326172 accuracy = 0.0% auroc(outputs,params) = tensor(0.1579) prec(outputs,params) = tensor(0.) f1score(outputs,params) = tensor(0.) avgprec(outputs,params) = tensor(0.1667) recall(outputs,params) = tensor(0.) \n",
      "1/100 31/148 loss = 2.944438934326172 accuracy = 0.0% auroc(outputs,params) = tensor(0.1842) prec(outputs,params) = tensor(0.) f1score(outputs,params) = tensor(0.) avgprec(outputs,params) = tensor(0.1429) recall(outputs,params) = tensor(0.) \n",
      "1/100 32/148 loss = 2.944438934326172 accuracy = 6.25% auroc(outputs,params) = tensor(0.1053) prec(outputs,params) = tensor(0.0625) f1score(outputs,params) = tensor(0.0625) avgprec(outputs,params) = tensor(0.2500) recall(outputs,params) = tensor(0.0625) \n",
      "1/100 33/148 loss = 2.944438934326172 accuracy = 0.0% auroc(outputs,params) = tensor(0.1579) prec(outputs,params) = tensor(0.) f1score(outputs,params) = tensor(0.) avgprec(outputs,params) = tensor(0.1667) recall(outputs,params) = tensor(0.) \n",
      "1/100 34/148 loss = 2.944438934326172 accuracy = 0.0% auroc(outputs,params) = tensor(0.1842) prec(outputs,params) = tensor(0.) f1score(outputs,params) = tensor(0.) avgprec(outputs,params) = tensor(0.1429) recall(outputs,params) = tensor(0.) \n",
      "1/100 35/148 loss = 2.944438934326172 accuracy = 0.0% auroc(outputs,params) = tensor(0.1316) prec(outputs,params) = tensor(0.) f1score(outputs,params) = tensor(0.) avgprec(outputs,params) = tensor(0.2000) recall(outputs,params) = tensor(0.) \n",
      "1/100 36/148 loss = 2.944438934326172 accuracy = 0.0% auroc(outputs,params) = tensor(0.1842) prec(outputs,params) = tensor(0.) f1score(outputs,params) = tensor(0.) avgprec(outputs,params) = tensor(0.1429) recall(outputs,params) = tensor(0.) \n",
      "1/100 37/148 loss = 2.944438934326172 accuracy = 0.0% auroc(outputs,params) = tensor(0.1316) prec(outputs,params) = tensor(0.) f1score(outputs,params) = tensor(0.) avgprec(outputs,params) = tensor(0.2000) recall(outputs,params) = tensor(0.) \n",
      "1/100 38/148 loss = 2.944438934326172 accuracy = 0.0% auroc(outputs,params) = tensor(0.2105) prec(outputs,params) = tensor(0.) f1score(outputs,params) = tensor(0.) avgprec(outputs,params) = tensor(0.1250) recall(outputs,params) = tensor(0.) \n",
      "1/100 39/148 loss = 2.944438934326172 accuracy = 0.0% auroc(outputs,params) = tensor(0.2105) prec(outputs,params) = tensor(0.) f1score(outputs,params) = tensor(0.) avgprec(outputs,params) = tensor(0.1250) recall(outputs,params) = tensor(0.) \n",
      "1/100 40/148 loss = 2.944438934326172 accuracy = 0.0% auroc(outputs,params) = tensor(0.1842) prec(outputs,params) = tensor(0.) f1score(outputs,params) = tensor(0.) avgprec(outputs,params) = tensor(0.1429) recall(outputs,params) = tensor(0.) \n",
      "1/100 41/148 loss = 2.944438934326172 accuracy = 0.0% auroc(outputs,params) = tensor(0.1579) prec(outputs,params) = tensor(0.) f1score(outputs,params) = tensor(0.) avgprec(outputs,params) = tensor(0.1667) recall(outputs,params) = tensor(0.) \n",
      "1/100 42/148 loss = 2.944438934326172 accuracy = 0.0% auroc(outputs,params) = tensor(0.1316) prec(outputs,params) = tensor(0.) f1score(outputs,params) = tensor(0.) avgprec(outputs,params) = tensor(0.2000) recall(outputs,params) = tensor(0.) \n",
      "1/100 43/148 loss = 2.944438934326172 accuracy = 6.25% auroc(outputs,params) = tensor(0.1579) prec(outputs,params) = tensor(0.0625) f1score(outputs,params) = tensor(0.0625) avgprec(outputs,params) = tensor(0.1667) recall(outputs,params) = tensor(0.0625) \n",
      "1/100 44/148 loss = 2.944438934326172 accuracy = 0.0% auroc(outputs,params) = tensor(0.1579) prec(outputs,params) = tensor(0.) f1score(outputs,params) = tensor(0.) avgprec(outputs,params) = tensor(0.1667) recall(outputs,params) = tensor(0.) \n",
      "1/100 45/148 loss = 2.944438934326172 accuracy = 6.25% auroc(outputs,params) = tensor(0.2105) prec(outputs,params) = tensor(0.0625) f1score(outputs,params) = tensor(0.0625) avgprec(outputs,params) = tensor(0.1250) recall(outputs,params) = tensor(0.0625) \n",
      "1/100 46/148 loss = 2.944438934326172 accuracy = 0.0% auroc(outputs,params) = tensor(0.1579) prec(outputs,params) = tensor(0.) f1score(outputs,params) = tensor(0.) avgprec(outputs,params) = tensor(0.1667) recall(outputs,params) = tensor(0.) \n",
      "1/100 47/148 loss = 2.944438934326172 accuracy = 0.0% auroc(outputs,params) = tensor(0.2105) prec(outputs,params) = tensor(0.) f1score(outputs,params) = tensor(0.) avgprec(outputs,params) = tensor(0.1250) recall(outputs,params) = tensor(0.) \n",
      "1/100 48/148 loss = 2.944438934326172 accuracy = 0.0% auroc(outputs,params) = tensor(0.1842) prec(outputs,params) = tensor(0.) f1score(outputs,params) = tensor(0.) avgprec(outputs,params) = tensor(0.1429) recall(outputs,params) = tensor(0.) \n",
      "1/100 49/148 loss = 2.944438934326172 accuracy = 6.25% auroc(outputs,params) = tensor(0.1579) prec(outputs,params) = tensor(0.0625) f1score(outputs,params) = tensor(0.0625) avgprec(outputs,params) = tensor(0.1667) recall(outputs,params) = tensor(0.0625) \n",
      "1/100 50/148 loss = 2.944438934326172 accuracy = 0.0% auroc(outputs,params) = tensor(0.2368) prec(outputs,params) = tensor(0.) f1score(outputs,params) = tensor(0.) avgprec(outputs,params) = tensor(0.1111) recall(outputs,params) = tensor(0.) \n",
      "1/100 51/148 loss = 2.944438934326172 accuracy = 0.0% auroc(outputs,params) = tensor(0.1316) prec(outputs,params) = tensor(0.) f1score(outputs,params) = tensor(0.) avgprec(outputs,params) = tensor(0.2000) recall(outputs,params) = tensor(0.) \n",
      "1/100 52/148 loss = 2.944438934326172 accuracy = 0.0% auroc(outputs,params) = tensor(0.1316) prec(outputs,params) = tensor(0.) f1score(outputs,params) = tensor(0.) avgprec(outputs,params) = tensor(0.2000) recall(outputs,params) = tensor(0.) \n",
      "1/100 53/148 loss = 2.944438934326172 accuracy = 0.0% auroc(outputs,params) = tensor(0.1053) prec(outputs,params) = tensor(0.) f1score(outputs,params) = tensor(0.) avgprec(outputs,params) = tensor(0.2500) recall(outputs,params) = tensor(0.) \n",
      "1/100 54/148 loss = 2.944438934326172 accuracy = 0.0% auroc(outputs,params) = tensor(0.1053) prec(outputs,params) = tensor(0.) f1score(outputs,params) = tensor(0.) avgprec(outputs,params) = tensor(0.2500) recall(outputs,params) = tensor(0.) \n",
      "1/100 55/148 loss = 2.944438934326172 accuracy = 0.0% auroc(outputs,params) = tensor(0.1316) prec(outputs,params) = tensor(0.) f1score(outputs,params) = tensor(0.) avgprec(outputs,params) = tensor(0.2000) recall(outputs,params) = tensor(0.) \n",
      "1/100 56/148 loss = 2.944438934326172 accuracy = 0.0% auroc(outputs,params) = tensor(0.1579) prec(outputs,params) = tensor(0.) f1score(outputs,params) = tensor(0.) avgprec(outputs,params) = tensor(0.1667) recall(outputs,params) = tensor(0.) \n",
      "1/100 57/148 loss = 2.944438934326172 accuracy = 0.0% auroc(outputs,params) = tensor(0.1316) prec(outputs,params) = tensor(0.) f1score(outputs,params) = tensor(0.) avgprec(outputs,params) = tensor(0.2000) recall(outputs,params) = tensor(0.) \n",
      "1/100 58/148 loss = 2.944438934326172 accuracy = 0.0% auroc(outputs,params) = tensor(0.1316) prec(outputs,params) = tensor(0.) f1score(outputs,params) = tensor(0.) avgprec(outputs,params) = tensor(0.2000) recall(outputs,params) = tensor(0.) \n",
      "1/100 59/148 loss = 2.944438934326172 accuracy = 6.25% auroc(outputs,params) = tensor(0.1842) prec(outputs,params) = tensor(0.0625) f1score(outputs,params) = tensor(0.0625) avgprec(outputs,params) = tensor(0.1429) recall(outputs,params) = tensor(0.0625) \n",
      "1/100 60/148 loss = 2.944438934326172 accuracy = 0.0% auroc(outputs,params) = tensor(0.1579) prec(outputs,params) = tensor(0.) f1score(outputs,params) = tensor(0.) avgprec(outputs,params) = tensor(0.1667) recall(outputs,params) = tensor(0.) \n",
      "1/100 61/148 loss = 2.944438934326172 accuracy = 0.0% auroc(outputs,params) = tensor(0.1316) prec(outputs,params) = tensor(0.) f1score(outputs,params) = tensor(0.) avgprec(outputs,params) = tensor(0.2000) recall(outputs,params) = tensor(0.) \n",
      "1/100 62/148 loss = 2.944438934326172 accuracy = 0.0% auroc(outputs,params) = tensor(0.1579) prec(outputs,params) = tensor(0.) f1score(outputs,params) = tensor(0.) avgprec(outputs,params) = tensor(0.1667) recall(outputs,params) = tensor(0.) \n",
      "1/100 63/148 loss = 2.944438934326172 accuracy = 0.0% auroc(outputs,params) = tensor(0.1579) prec(outputs,params) = tensor(0.) f1score(outputs,params) = tensor(0.) avgprec(outputs,params) = tensor(0.1667) recall(outputs,params) = tensor(0.) \n",
      "1/100 64/148 loss = 2.944438934326172 accuracy = 0.0% auroc(outputs,params) = tensor(0.1579) prec(outputs,params) = tensor(0.) f1score(outputs,params) = tensor(0.) avgprec(outputs,params) = tensor(0.1667) recall(outputs,params) = tensor(0.) \n",
      "1/100 65/148 loss = 2.944438934326172 accuracy = 0.0% auroc(outputs,params) = tensor(0.1316) prec(outputs,params) = tensor(0.) f1score(outputs,params) = tensor(0.) avgprec(outputs,params) = tensor(0.2000) recall(outputs,params) = tensor(0.) \n",
      "1/100 66/148 loss = 2.944438934326172 accuracy = 0.0% auroc(outputs,params) = tensor(0.2105) prec(outputs,params) = tensor(0.) f1score(outputs,params) = tensor(0.) avgprec(outputs,params) = tensor(0.1250) recall(outputs,params) = tensor(0.) \n",
      "1/100 67/148 loss = 2.944438934326172 accuracy = 6.25% auroc(outputs,params) = tensor(0.2105) prec(outputs,params) = tensor(0.0625) f1score(outputs,params) = tensor(0.0625) avgprec(outputs,params) = tensor(0.1250) recall(outputs,params) = tensor(0.0625) \n",
      "1/100 68/148 loss = 2.944438934326172 accuracy = 6.25% auroc(outputs,params) = tensor(0.1842) prec(outputs,params) = tensor(0.0625) f1score(outputs,params) = tensor(0.0625) avgprec(outputs,params) = tensor(0.1429) recall(outputs,params) = tensor(0.0625) \n",
      "1/100 69/148 loss = 2.944438934326172 accuracy = 0.0% auroc(outputs,params) = tensor(0.1842) prec(outputs,params) = tensor(0.) f1score(outputs,params) = tensor(0.) avgprec(outputs,params) = tensor(0.1429) recall(outputs,params) = tensor(0.) \n",
      "1/100 70/148 loss = 2.944438934326172 accuracy = 6.25% auroc(outputs,params) = tensor(0.1579) prec(outputs,params) = tensor(0.0625) f1score(outputs,params) = tensor(0.0625) avgprec(outputs,params) = tensor(0.1667) recall(outputs,params) = tensor(0.0625) \n",
      "1/100 71/148 loss = 2.944438934326172 accuracy = 6.25% auroc(outputs,params) = tensor(0.1316) prec(outputs,params) = tensor(0.0625) f1score(outputs,params) = tensor(0.0625) avgprec(outputs,params) = tensor(0.2000) recall(outputs,params) = tensor(0.0625) \n",
      "1/100 72/148 loss = 2.944438934326172 accuracy = 0.0% auroc(outputs,params) = tensor(0.1316) prec(outputs,params) = tensor(0.) f1score(outputs,params) = tensor(0.) avgprec(outputs,params) = tensor(0.2000) recall(outputs,params) = tensor(0.) \n",
      "1/100 73/148 loss = 2.944438934326172 accuracy = 0.0% auroc(outputs,params) = tensor(0.1053) prec(outputs,params) = tensor(0.) f1score(outputs,params) = tensor(0.) avgprec(outputs,params) = tensor(0.2500) recall(outputs,params) = tensor(0.) \n",
      "1/100 74/148 loss = 2.944438934326172 accuracy = 0.0% auroc(outputs,params) = tensor(0.1316) prec(outputs,params) = tensor(0.) f1score(outputs,params) = tensor(0.) avgprec(outputs,params) = tensor(0.2000) recall(outputs,params) = tensor(0.) \n",
      "1/100 75/148 loss = 2.944438934326172 accuracy = 0.0% auroc(outputs,params) = tensor(0.1316) prec(outputs,params) = tensor(0.) f1score(outputs,params) = tensor(0.) avgprec(outputs,params) = tensor(0.2000) recall(outputs,params) = tensor(0.) \n",
      "1/100 76/148 loss = 2.944438934326172 accuracy = 6.25% auroc(outputs,params) = tensor(0.1579) prec(outputs,params) = tensor(0.0625) f1score(outputs,params) = tensor(0.0625) avgprec(outputs,params) = tensor(0.1667) recall(outputs,params) = tensor(0.0625) \n",
      "1/100 77/148 loss = 2.944438934326172 accuracy = 0.0% auroc(outputs,params) = tensor(0.1053) prec(outputs,params) = tensor(0.) f1score(outputs,params) = tensor(0.) avgprec(outputs,params) = tensor(0.2500) recall(outputs,params) = tensor(0.) \n",
      "1/100 78/148 loss = 2.944438934326172 accuracy = 0.0% auroc(outputs,params) = tensor(0.1316) prec(outputs,params) = tensor(0.) f1score(outputs,params) = tensor(0.) avgprec(outputs,params) = tensor(0.2000) recall(outputs,params) = tensor(0.) \n",
      "1/100 79/148 loss = 2.944438934326172 accuracy = 0.0% auroc(outputs,params) = tensor(0.1579) prec(outputs,params) = tensor(0.) f1score(outputs,params) = tensor(0.) avgprec(outputs,params) = tensor(0.1667) recall(outputs,params) = tensor(0.) \n",
      "1/100 80/148 loss = 2.944438934326172 accuracy = 0.0% auroc(outputs,params) = tensor(0.1316) prec(outputs,params) = tensor(0.) f1score(outputs,params) = tensor(0.) avgprec(outputs,params) = tensor(0.2000) recall(outputs,params) = tensor(0.) \n",
      "1/100 81/148 loss = 2.944438934326172 accuracy = 0.0% auroc(outputs,params) = tensor(0.1842) prec(outputs,params) = tensor(0.) f1score(outputs,params) = tensor(0.) avgprec(outputs,params) = tensor(0.1429) recall(outputs,params) = tensor(0.) \n",
      "1/100 82/148 loss = 2.944438934326172 accuracy = 0.0% auroc(outputs,params) = tensor(0.2105) prec(outputs,params) = tensor(0.) f1score(outputs,params) = tensor(0.) avgprec(outputs,params) = tensor(0.1250) recall(outputs,params) = tensor(0.) \n",
      "1/100 83/148 loss = 2.944438934326172 accuracy = 0.0% auroc(outputs,params) = tensor(0.2105) prec(outputs,params) = tensor(0.) f1score(outputs,params) = tensor(0.) avgprec(outputs,params) = tensor(0.1250) recall(outputs,params) = tensor(0.) \n",
      "1/100 84/148 loss = 2.944438934326172 accuracy = 6.25% auroc(outputs,params) = tensor(0.1842) prec(outputs,params) = tensor(0.0625) f1score(outputs,params) = tensor(0.0625) avgprec(outputs,params) = tensor(0.1429) recall(outputs,params) = tensor(0.0625) \n",
      "1/100 85/148 loss = 2.944438934326172 accuracy = 0.0% auroc(outputs,params) = tensor(0.1842) prec(outputs,params) = tensor(0.) f1score(outputs,params) = tensor(0.) avgprec(outputs,params) = tensor(0.1429) recall(outputs,params) = tensor(0.) \n",
      "1/100 86/148 loss = 2.944438934326172 accuracy = 6.25% auroc(outputs,params) = tensor(0.1316) prec(outputs,params) = tensor(0.0625) f1score(outputs,params) = tensor(0.0625) avgprec(outputs,params) = tensor(0.2000) recall(outputs,params) = tensor(0.0625) \n",
      "1/100 87/148 loss = 2.944438934326172 accuracy = 0.0% auroc(outputs,params) = tensor(0.1316) prec(outputs,params) = tensor(0.) f1score(outputs,params) = tensor(0.) avgprec(outputs,params) = tensor(0.2000) recall(outputs,params) = tensor(0.) \n",
      "1/100 88/148 loss = 2.944438934326172 accuracy = 0.0% auroc(outputs,params) = tensor(0.1316) prec(outputs,params) = tensor(0.) f1score(outputs,params) = tensor(0.) avgprec(outputs,params) = tensor(0.2000) recall(outputs,params) = tensor(0.) \n",
      "1/100 89/148 loss = 2.944438934326172 accuracy = 0.0% auroc(outputs,params) = tensor(0.1579) prec(outputs,params) = tensor(0.) f1score(outputs,params) = tensor(0.) avgprec(outputs,params) = tensor(0.1667) recall(outputs,params) = tensor(0.) \n",
      "1/100 90/148 loss = 2.944438934326172 accuracy = 0.0% auroc(outputs,params) = tensor(0.2105) prec(outputs,params) = tensor(0.) f1score(outputs,params) = tensor(0.) avgprec(outputs,params) = tensor(0.1250) recall(outputs,params) = tensor(0.) \n",
      "1/100 91/148 loss = 2.944438934326172 accuracy = 0.0% auroc(outputs,params) = tensor(0.1579) prec(outputs,params) = tensor(0.) f1score(outputs,params) = tensor(0.) avgprec(outputs,params) = tensor(0.1667) recall(outputs,params) = tensor(0.) \n",
      "1/100 92/148 loss = 2.944438934326172 accuracy = 0.0% auroc(outputs,params) = tensor(0.1316) prec(outputs,params) = tensor(0.) f1score(outputs,params) = tensor(0.) avgprec(outputs,params) = tensor(0.2000) recall(outputs,params) = tensor(0.) \n",
      "1/100 93/148 loss = 2.944438934326172 accuracy = 0.0% auroc(outputs,params) = tensor(0.1842) prec(outputs,params) = tensor(0.) f1score(outputs,params) = tensor(0.) avgprec(outputs,params) = tensor(0.1429) recall(outputs,params) = tensor(0.) \n",
      "1/100 94/148 loss = 2.944438934326172 accuracy = 0.0% auroc(outputs,params) = tensor(0.1316) prec(outputs,params) = tensor(0.) f1score(outputs,params) = tensor(0.) avgprec(outputs,params) = tensor(0.2000) recall(outputs,params) = tensor(0.) \n",
      "1/100 95/148 loss = 2.944438934326172 accuracy = 0.0% auroc(outputs,params) = tensor(0.1579) prec(outputs,params) = tensor(0.) f1score(outputs,params) = tensor(0.) avgprec(outputs,params) = tensor(0.1667) recall(outputs,params) = tensor(0.) \n",
      "1/100 96/148 loss = 2.944438934326172 accuracy = 0.0% auroc(outputs,params) = tensor(0.1842) prec(outputs,params) = tensor(0.) f1score(outputs,params) = tensor(0.) avgprec(outputs,params) = tensor(0.1429) recall(outputs,params) = tensor(0.) \n",
      "1/100 97/148 loss = 2.944438934326172 accuracy = 0.0% auroc(outputs,params) = tensor(0.1579) prec(outputs,params) = tensor(0.) f1score(outputs,params) = tensor(0.) avgprec(outputs,params) = tensor(0.1667) recall(outputs,params) = tensor(0.) \n",
      "1/100 98/148 loss = 2.944438934326172 accuracy = 0.0% auroc(outputs,params) = tensor(0.2105) prec(outputs,params) = tensor(0.) f1score(outputs,params) = tensor(0.) avgprec(outputs,params) = tensor(0.1250) recall(outputs,params) = tensor(0.) \n",
      "1/100 99/148 loss = 2.944438934326172 accuracy = 0.0% auroc(outputs,params) = tensor(0.2105) prec(outputs,params) = tensor(0.) f1score(outputs,params) = tensor(0.) avgprec(outputs,params) = tensor(0.1250) recall(outputs,params) = tensor(0.) \n",
      "1/100 100/148 loss = 2.944438934326172 accuracy = 0.0% auroc(outputs,params) = tensor(0.1842) prec(outputs,params) = tensor(0.) f1score(outputs,params) = tensor(0.) avgprec(outputs,params) = tensor(0.1429) recall(outputs,params) = tensor(0.) \n",
      "1/100 101/148 loss = 2.944438934326172 accuracy = 0.0% auroc(outputs,params) = tensor(0.1053) prec(outputs,params) = tensor(0.) f1score(outputs,params) = tensor(0.) avgprec(outputs,params) = tensor(0.2500) recall(outputs,params) = tensor(0.) \n",
      "1/100 102/148 loss = 2.944438934326172 accuracy = 0.0% auroc(outputs,params) = tensor(0.1316) prec(outputs,params) = tensor(0.) f1score(outputs,params) = tensor(0.) avgprec(outputs,params) = tensor(0.2000) recall(outputs,params) = tensor(0.) \n",
      "1/100 103/148 loss = 2.944438934326172 accuracy = 0.0% auroc(outputs,params) = tensor(0.1316) prec(outputs,params) = tensor(0.) f1score(outputs,params) = tensor(0.) avgprec(outputs,params) = tensor(0.2000) recall(outputs,params) = tensor(0.) \n",
      "1/100 104/148 loss = 2.944438934326172 accuracy = 0.0% auroc(outputs,params) = tensor(0.1316) prec(outputs,params) = tensor(0.) f1score(outputs,params) = tensor(0.) avgprec(outputs,params) = tensor(0.2000) recall(outputs,params) = tensor(0.) \n",
      "1/100 105/148 loss = 2.944438934326172 accuracy = 0.0% auroc(outputs,params) = tensor(0.1842) prec(outputs,params) = tensor(0.) f1score(outputs,params) = tensor(0.) avgprec(outputs,params) = tensor(0.1429) recall(outputs,params) = tensor(0.) \n",
      "1/100 106/148 loss = 2.944438934326172 accuracy = 0.0% auroc(outputs,params) = tensor(0.1842) prec(outputs,params) = tensor(0.) f1score(outputs,params) = tensor(0.) avgprec(outputs,params) = tensor(0.1429) recall(outputs,params) = tensor(0.) \n",
      "1/100 107/148 loss = 2.944438934326172 accuracy = 6.25% auroc(outputs,params) = tensor(0.1316) prec(outputs,params) = tensor(0.0625) f1score(outputs,params) = tensor(0.0625) avgprec(outputs,params) = tensor(0.2000) recall(outputs,params) = tensor(0.0625) \n",
      "1/100 108/148 loss = 2.944438934326172 accuracy = 0.0% auroc(outputs,params) = tensor(0.1579) prec(outputs,params) = tensor(0.) f1score(outputs,params) = tensor(0.) avgprec(outputs,params) = tensor(0.1667) recall(outputs,params) = tensor(0.) \n",
      "1/100 109/148 loss = 2.944438934326172 accuracy = 0.0% auroc(outputs,params) = tensor(0.1316) prec(outputs,params) = tensor(0.) f1score(outputs,params) = tensor(0.) avgprec(outputs,params) = tensor(0.2000) recall(outputs,params) = tensor(0.) \n",
      "1/100 110/148 loss = 2.944438934326172 accuracy = 12.5% auroc(outputs,params) = tensor(0.1316) prec(outputs,params) = tensor(0.1250) f1score(outputs,params) = tensor(0.1250) avgprec(outputs,params) = tensor(0.2000) recall(outputs,params) = tensor(0.1250) \n",
      "1/100 111/148 loss = 2.944438934326172 accuracy = 0.0% auroc(outputs,params) = tensor(0.1053) prec(outputs,params) = tensor(0.) f1score(outputs,params) = tensor(0.) avgprec(outputs,params) = tensor(0.2500) recall(outputs,params) = tensor(0.) \n",
      "\r"
     ]
    }
   ],
   "source": [
    "losses = []\n",
    "correct = 0\n",
    "for epoch in range(epochs):\n",
    "    for batch, (ts,params) in enumerate(dataloader):\n",
    "        params = params[:,0].to(torch.long)\n",
    "        optimizer.zero_grad()\n",
    "        outputs = net(ts)\n",
    "        # print(outputs.shape,params[:,0].to(torch.long).shape)\n",
    "        loss = criterion(outputs,params.to(torch.long))\n",
    "        loss.backward()\n",
    "        optimizer.step()\n",
    "        losses.append(loss.item())\n",
    "\n",
    "        print(f\"{epoch+1}/{epochs} {batch+1}/{len(dataloader)} loss = {loss.item()} accuracy = {acc(outputs,params)*100}% {auroc(outputs,params) = } {prec(outputs,params) = } {f1score(outputs,params) = } {avgprec(outputs,params) = } {recall(outputs,params) = } \\n\",end = \"\\r\",flush = True)\n",
    "        correct = 0\n",
    "    print(f\"Epoch finished: {epoch+1}\\n\")"
   ]
  },
  {
   "cell_type": "code",
   "execution_count": null,
   "metadata": {},
   "outputs": [],
   "source": [
    "import matplotlib.pyplot as plt\n",
    "plt.plot(losses)\n",
    "plt.show()"
   ]
  }
 ],
 "metadata": {
  "kernelspec": {
   "display_name": "Python 3",
   "language": "python",
   "name": "python3"
  },
  "language_info": {
   "codemirror_mode": {
    "name": "ipython",
    "version": 3
   },
   "file_extension": ".py",
   "mimetype": "text/x-python",
   "name": "python",
   "nbconvert_exporter": "python",
   "pygments_lexer": "ipython3",
   "version": "3.10.8 (tags/v3.10.8:aaaf517, Oct 11 2022, 16:50:30) [MSC v.1933 64 bit (AMD64)]"
  },
  "orig_nbformat": 4,
  "vscode": {
   "interpreter": {
    "hash": "5b5579af3731f6410547d30894d3cfa69af3dd817cb29011736dbe918371f0ab"
   }
  }
 },
 "nbformat": 4,
 "nbformat_minor": 2
}
