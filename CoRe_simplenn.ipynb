{
 "cells": [
  {
   "cell_type": "code",
   "execution_count": 1,
   "metadata": {},
   "outputs": [],
   "source": [
    "from CoReDataLoader import  dataloader, maxlen"
   ]
  },
  {
   "cell_type": "code",
   "execution_count": null,
   "metadata": {},
   "outputs": [],
   "source": [
    "import torch\n",
    "import torch.nn as nn\n",
    "import torch.nn.functional as F\n",
    "import torch.optim as optim\n"
   ]
  },
  {
   "cell_type": "code",
   "execution_count": null,
   "metadata": {},
   "outputs": [],
   "source": [
    "class classifier(nn.Module):\n",
    "    def __init__(self,input_length = maxlen):\n",
    "        self.model = nn.Sequential([\n",
    "            nn.Linear(input_length,4096),\n",
    "            nn.BatchNorm1d(4096),\n",
    "            nn.GeLU(),\n",
    "            nn.Linear(4096,2056),\n",
    "            nn.GeLU(),\n",
    "            nn.Linear(2056,1024),\n",
    "            nn.GeLU(),\n",
    "            nn.Linear(1024,1024),\n",
    "            nn.GeLU(),\n",
    "            nn.Linear(1024,12)\n",
    "            nn.Softmax(),\n",
    "\n",
    "        ])\n",
    "    def forward(self,in):\n",
    "        return self.model(in)\n",
    "net = classifier()"
   ]
  },
  {
   "cell_type": "code",
   "execution_count": null,
   "metadata": {},
   "outputs": [],
   "source": [
    "criterion = nn.CrossEntropyLoss()\n",
    "optimizer = optim.Adam(classifier.parameters(),lr = 1,betas = (0.9,0.999))\n",
    "epochs = 100\n",
    "net.to(dataloader.device)"
   ]
  },
  {
   "cell_type": "code",
   "execution_count": null,
   "metadata": {},
   "outputs": [],
   "source": [
    "losses = []\n",
    "for epoch in range(epochs):\n",
    "    for batch, (ts,params) in enumerate(dataloader):\n",
    "        optimizer.zero_grad()\n",
    "        outputs = net(ts)\n",
    "        loss = criterion(outputs,params[:0])\n",
    "        loss.backward()\n",
    "        optimizer.step()\n",
    "        losses.append(loss.item())\n",
    "        print(f\"{epoch+1}/{epochs} {batch+1}/{len(dataloader)} loss = {loss.item()}\\n\",end = \"\\r\",flush = True)\n",
    "    print(f\"Epoch finished: {epoch+1}\\n\")"
   ]
  },
  {
   "cell_type": "code",
   "execution_count": null,
   "metadata": {},
   "outputs": [],
   "source": [
    "import matplotlib.pyplot as plt\n",
    "plt.plot(losses)\n",
    "plt.show()"
   ]
  }
 ],
 "metadata": {
  "kernelspec": {
   "display_name": "Python 3",
   "language": "python",
   "name": "python3"
  },
  "language_info": {
   "codemirror_mode": {
    "name": "ipython",
    "version": 3
   },
   "file_extension": ".py",
   "mimetype": "text/x-python",
   "name": "python",
   "nbconvert_exporter": "python",
   "pygments_lexer": "ipython3",
   "version": "3.10.8"
  },
  "orig_nbformat": 4,
  "vscode": {
   "interpreter": {
    "hash": "5b5579af3731f6410547d30894d3cfa69af3dd817cb29011736dbe918371f0ab"
   }
  }
 },
 "nbformat": 4,
 "nbformat_minor": 2
}
