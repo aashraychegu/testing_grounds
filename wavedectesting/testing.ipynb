{
 "cells": [
  {
   "cell_type": "code",
   "execution_count": 22,
   "metadata": {},
   "outputs": [],
   "source": [
    "from CoRe_Dataloader_Envelope_Cut import CoRe_DB_Dataset\n",
    "import pathlib as p\n",
    "import matplotlib.pyplot as plt\n",
    "import numpy as np\n",
    "import torch\n",
    "ds = CoRe_DB_Dataset(cdb_path=p.Path(r'C:\\Users\\aashr\\Desktop\\research\\testing_grounds\\CoRe_DB'))"
   ]
  },
  {
   "cell_type": "code",
   "execution_count": 23,
   "metadata": {},
   "outputs": [
    {
     "data": {
      "text/plain": [
       "(array(['2B', '2H', 'ALF2', 'BHBlp', 'BLQ', 'BLh', 'DD2', 'ENG', 'G2',\n",
       "        'G2k123', 'H4', 'LS220', 'MPA1', 'MS1', 'MS1b', 'SFHo', 'SLy',\n",
       "        'SLy4', 'sly'], dtype='<U6'),\n",
       " 19,\n",
       " array([ 24,  12, 215,  13,  20,  52,  29,  11,  52,  16, 293,  28,  21,\n",
       "         39, 475,  30, 990,   9,  36], dtype=int64),\n",
       " 2365,\n",
       " 2365,\n",
       " 2365)"
      ]
     },
     "execution_count": 23,
     "metadata": {},
     "output_type": "execute_result"
    }
   ],
   "source": [
    "ds.ueoss,len(ds.ueoss),ds.ueosscounts,sum(ds.ueosscounts),len(ds.pspace),len(ds)"
   ]
  },
  {
   "cell_type": "code",
   "execution_count": 24,
   "metadata": {},
   "outputs": [],
   "source": [
    "mds = []\n",
    "for c in range(len(ds)):\n",
    "    st,md = ds[c]\n",
    "    mds.append(md)\n",
    "te = torch.vstack(mds)[:,0]"
   ]
  },
  {
   "cell_type": "code",
   "execution_count": 25,
   "metadata": {},
   "outputs": [],
   "source": [
    "a,b = np.unique(te,return_counts=True)"
   ]
  },
  {
   "cell_type": "code",
   "execution_count": 26,
   "metadata": {},
   "outputs": [],
   "source": [
    "import torch.nn.functional as F"
   ]
  },
  {
   "cell_type": "code",
   "execution_count": 30,
   "metadata": {},
   "outputs": [
    {
     "data": {
      "text/plain": [
       "(tensor([0.9847, 0.9998, 0.6142, 0.9995, 0.9933, 0.8725, 0.9692, 0.9999, 0.8725,\n",
       "         0.9981, 0.5845, 0.9727, 0.9915, 0.9285, 0.5524, 0.9656, 0.5252, 1.0000,\n",
       "         0.9415], dtype=torch.float64),\n",
       " tensor([0.9995, 1.0000, 0.4342, 1.0000, 0.9999, 0.9582, 0.9980, 1.0000, 0.9582,\n",
       "         1.0000, 0.3286, 0.9984, 0.9999, 0.9882, 0.2075, 0.9975, 0.1007, 1.0000,\n",
       "         0.9923]))"
      ]
     },
     "execution_count": 30,
     "metadata": {},
     "output_type": "execute_result"
    }
   ],
   "source": [
    "x = torch.tensor(1/b)\n",
    "x = x*100\n",
    "F.sigmoid(x),F.tanh(x).to(torch.float32)"
   ]
  }
 ],
 "metadata": {
  "kernelspec": {
   "display_name": "Python 3",
   "language": "python",
   "name": "python3"
  },
  "language_info": {
   "codemirror_mode": {
    "name": "ipython",
    "version": 3
   },
   "file_extension": ".py",
   "mimetype": "text/x-python",
   "name": "python",
   "nbconvert_exporter": "python",
   "pygments_lexer": "ipython3",
   "version": "3.10.7"
  },
  "orig_nbformat": 4,
  "vscode": {
   "interpreter": {
    "hash": "26de051ba29f2982a8de78e945f0abaf191376122a1563185a90213a26c5da77"
   }
  }
 },
 "nbformat": 4,
 "nbformat_minor": 2
}
