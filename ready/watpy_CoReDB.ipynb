{
 "cells": [
  {
   "cell_type": "code",
   "execution_count": null,
   "metadata": {
    "slideshow": {
     "slide_type": "slide"
    }
   },
   "outputs": [],
   "source": [
    "from watpy.coredb.coredb import *\n",
    "from watpy.wave.wave import *\n",
    "import h5py\n",
    "import matplotlib.pyplot as plt\n",
    "\n",
    "db_path = \"./CoRe_DB_clone/\"\n",
    "cdb = CoRe_db(db_path)\n",
    "sim = cdb.sim"
   ]
  },
  {
   "cell_type": "code",
   "execution_count": null,
   "metadata": {
    "slideshow": {
     "slide_type": "slide"
    },
    "tags": [
     "parameters"
    ]
   },
   "outputs": [],
   "source": [
    "#how to iterate over all of the runs\n",
    "\n",
    "\n",
    "print(f\"Simulation Name : Run | Simulation data file path | Availible Rh_## waveforms \\\n",
    ": # waveforms : total waveforms | Extraction radii : # of Extraction Radii\")\n",
    "\n",
    "total_rh_waveforms = 0\n",
    "total_rh_waveform_extraction_radii = 0 \n",
    "lens_of_arrays = []\n",
    "\n",
    "def toggle(inp , ret = \"on\"):\n",
    "    if ret or ret == \"on\":\n",
    "        return inp\n",
    "\n",
    "for sim_key in sim:\n",
    "    sel_sims = sim[sim_key]\n",
    "    for sim_run in sel_sims.run:\n",
    "\n",
    "        current_data = sim[sim_key].run[sim_run].data\n",
    "        current_numpy_array = current_data.read(\"rh_22\")\n",
    "        current_meta_data = current_data.mdata.data\n",
    "        lens_of_arrays.append(current_numpy_array.shape[0])\n",
    "        # current_h5_file = h5py.File(os.path.join(current_data.path,current_data.dfile),\"r\")\n",
    "        # current_rh_waveforms = [i for i in current_h5_file.keys() if i[:2] =='rh']\n",
    "        # total_rh_waveforms += len(current_rh_waveforms)\n",
    "        # num_extraction_radii = 0\n",
    "        # exrad = []\n",
    "        # for rh_xx in current_rh_waveforms:\n",
    "        #     num_extraction_radii += len(current_h5_file[rh_xx].keys())  # type: ignore\n",
    "        #     if True:\n",
    "        #         fig = plt.figure(figsize=(20,15))\n",
    "        #         start, end = 0, 4000\n",
    "        #         print(current_h5_file[rh_xx][list(current_h5_file[rh_xx].keys())[-1]])\n",
    "            \n",
    "        #     exrad += current_h5_file[rh_xx].keys()  # type: ignore\n",
    "        #     break\n",
    "        # total_rh_waveform_extraction_radii += num_extraction_radii\n",
    "        # print(f\"{sim_key} : {sim_run_key} | {current_data.path}\\\\{current_data.dfile} | {current_rh_waveforms}: # waveforms: {len(current_rh_waveforms)} : {total_rh_waveforms} | {num_extraction_radii} : {total_rh_waveform_extraction_radii} | {toggle(exrad,'off')}\")\n",
    "        # print(current_data,current_meta_data,current_numpy_array)\n",
    "print(max(lens_of_arrays))\n"
   ]
  },
  {
   "cell_type": "code",
   "execution_count": null,
   "metadata": {},
   "outputs": [],
   "source": [
    "list_of_selected_attributes = []\n",
    "for sim_key in sim:\n",
    "    sel_sims = sim[sim_key]\n",
    "    # print(sel_sims.md.data)\n",
    "    for sim_run in sel_sims.run:\n",
    "\n",
    "        current_data = sim[sim_key].run[sim_run].data\n",
    "        current_numpy_array = current_data.read(\"rh_22\")\n",
    "        current_meta_data = current_data.mdata.data\n",
    "        attr_dict = {\"id_eos\":current_meta_data[\"id_eos\"].upper(),\n",
    "                      \"m1\":current_meta_data[\"id_mass_starA\"],\n",
    "                      \"m2\":current_meta_data[\"id_mass_starB\"],\n",
    "                      \"db_key\": current_meta_data[\"database_key\"],\n",
    "                      \"r1\": -1,\n",
    "                      \"r2\": -1\n",
    "                     }\n",
    "        list_of_selected_attributes.append(attr_dict)\n",
    "def sortfunc(x):\n",
    "    # print(x)\n",
    "    return x[\"id_eos\"]\n",
    "list_of_selected_attributes.sort(key=sortfunc)\n",
    "ordered_by_eos = {}\n",
    "for i in list_of_selected_attributes:\n",
    "    # print(i[\"id_eos\"],ordered_by_eos)\n",
    "    if not ordered_by_eos.get(i[\"id_eos\"].upper(),False):\n",
    "        ordered_by_eos[i[\"id_eos\"].upper()] = []\n",
    "        ordered_by_eos[i[\"id_eos\"].upper()].append(i)\n",
    "    else:\n",
    "        ordered_by_eos[i[\"id_eos\"].upper()].append(i)\n",
    "\n",
    "\n",
    "import json\n",
    "with open(\"sorted_eos_runs.json\",\"w\") as w:\n",
    "    json.dump(ordered_by_eos, w, indent=4)"
   ]
  },
  {
   "cell_type": "code",
   "execution_count": null,
   "metadata": {
    "slideshow": {
     "slide_type": "slide"
    }
   },
   "outputs": [],
   "source": [
    "# getting the data of a single run\\\n",
    "sim_name = \"THC\" + \":\" + \"0036\"\n",
    "sel_sim = sim[sim_name]\n",
    "sel_run = sel_sim.run[\"R01\"]\n",
    "sel_data = sel_run.data\n",
    "sel_md = sel_run.md.data\n",
    "# print(sel_md)\n",
    "for i in sel_md:\n",
    "    print(f\"{i} | {sel_md[i]}\")"
   ]
  },
  {
   "cell_type": "code",
   "execution_count": null,
   "metadata": {
    "slideshow": {
     "slide_type": "subslide"
    }
   },
   "outputs": [],
   "source": [
    "current_h5_file = h5py.File(os.path.join(sel_data.path, sel_data.dfile), \"r\")\n",
    "print(current_h5_file.keys())\n",
    "sel_data.show(\"rh_22\")\n",
    "plt.show()\n",
    "dset = sel_data.read(\"rh_22\")\n",
    "fig = plt.plot(dset[:, 0], dset[:, 1])  # gets the real data\n",
    "plt.show()"
   ]
  },
  {
   "cell_type": "code",
   "execution_count": null,
   "metadata": {
    "slideshow": {
     "slide_type": "subslide"
    }
   },
   "outputs": [],
   "source": [
    "# print(current_h5_file[\"rh_22\"].keys())\n",
    "npds = current_h5_file[\"rh_22\"][\"Rh_l2_m2_rInf.txt\"]\n",
    "# print(npds)\n",
    "# print(sel_data.mdata.data)\n",
    "# fig1 = plt.figure(figsize=(20, 15))\\\n",
    "\n",
    "print(len(npds[:,0]),len(npds[:,1]))\n",
    "plt.plot(\n",
    "    npds[:, 0]*(4.925*10**-6*float(sel_md[\"id_mass\"])),\n",
    "    npds[:,1],\n",
    ")\n",
    "# fig, ax = sel_data.show(\"rh_22\")\n",
    "# fig.set_size_inches(20, 15)\n",
    "# print(npds[:,1],len(npds[:,1]))"
   ]
  },
  {
   "cell_type": "code",
   "execution_count": null,
   "metadata": {},
   "outputs": [],
   "source": [
    "from scipy import signal\n",
    "from scipy.fft import fftshift\n",
    "from scipy.cluster.vq import whiten\n",
    "import matplotlib.pyplot as plt\n",
    "print(len(npds[:,1]),len(npds[:,0]))\n",
    "cnpds = npds[:,1]\n",
    "tsig = npds[:,0]\n",
    "total_mass_multiplier = (4.925*10**-6*float(sel_md[\"id_mass\"]))\n",
    "\n",
    "\n"
   ]
  },
  {
   "cell_type": "code",
   "execution_count": null,
   "metadata": {},
   "outputs": [],
   "source": [
    "import pywt\n",
    "print(pywt.families())\n",
    "for i in pywt.wavelist(kind=\"discrete\"):\n",
    "    a,b = pywt.dwt(cnpds,i)\n",
    "    plt.plot(sorted(a),sorted(b))\n",
    "    plt.show()"
   ]
  },
  {
   "cell_type": "code",
   "execution_count": null,
   "metadata": {},
   "outputs": [],
   "source": [
    "f, t, Sxx = signal.spectrogram(cnpds,fs = (tsig[-1]-tsig[0])/len(tsig))\n",
    "plt.pcolormesh(t*total_mass_multiplier, fftshift(f), fftshift(Sxx, axes=0))\n",
    "plt.ylabel('Frequency [Hz]')\n",
    "plt.xlabel('Time [sec]')\n",
    "plt.show()"
   ]
  },
  {
   "cell_type": "code",
   "execution_count": null,
   "metadata": {
    "slideshow": {
     "slide_type": "skip"
    }
   },
   "outputs": [],
   "source": [
    "Msun_sec = 4.925794970773135e-06\n",
    "w = wave(\n",
    "    path=sel_data.path,\n",
    "    code=\"core\",\n",
    "    filename=\"Rpsi4_l2_m2_r00400.txt\",\n",
    "    mass=float(sel_data.mdata.data[\"id_rest_mass\"]),\n",
    "    f0=float(sel_data.mdata.data[\"id_gw_frequency_Hz\"]) * Msun_sec,\n",
    ")\n",
    "import glob\n",
    "\n",
    "fnames = [\n",
    "    os.path.split(x)[1] for x in glob.glob(\"{}/{}\".format(sel_data.path, \"Rpsi4_*.txt\"))\n",
    "]\n",
    "print(fnames)\n",
    "wm = mwaves(\n",
    "    path=sel_data.path,\n",
    "    code=\"core\",\n",
    "    filenames=fnames,\n",
    "    mass=float(sel_data.mdata.data[\"id_rest_mass\"]),\n",
    "    f0=float(sel_data.mdata.data[\"id_gw_frequency_Hz\"]) * Msun_sec,\n",
    "    ignore_negative_m=True,\n",
    ")\n",
    "print(wm.modes)\n",
    "sel_data.mdata.data[\"id_gw_frequency_Hz\"]"
   ]
  },
  {
   "cell_type": "code",
   "execution_count": null,
   "metadata": {},
   "outputs": [],
   "source": [
    "\n",
    "import pandas as pd\n",
    "df = pd.DataFrame(columns=[\"m1\",\"m2\",\"eos\"])\n",
    "\n",
    "for i in ordered_by_eos:\n",
    "    for j in (ordered_by_eos[i]):\n",
    "        # plt.scatter(float(j[\"m1\"]),float(j[\"m2\"]))\n",
    "        df = df.append({\n",
    "            \"m1\":float(j[\"m1\"]),\n",
    "            \"m2\":float(j[\"m2\"]),\n",
    "            \"eos\":j[\"id_eos\"]\n",
    "        },ignore_index=True)\n"
   ]
  },
  {
   "cell_type": "code",
   "execution_count": null,
   "metadata": {},
   "outputs": [],
   "source": [
    "plt.scatter(df[\"m1\"], df[\"m2\"])"
   ]
  },
  {
   "cell_type": "code",
   "execution_count": null,
   "metadata": {},
   "outputs": [],
   "source": [
    "from matplotlib.lines import Line2D\n",
    "for c,i in enumerate(set(np.array(df[\"eos\"]))):\n",
    "    tdf = df[df['eos'].str.contains(i)]\n",
    "    plt.scatter(tdf[\"m1\"], tdf[\"m2\"],marker=list(Line2D.markers.items())[c][0])\n"
   ]
  },
  {
   "cell_type": "code",
   "execution_count": null,
   "metadata": {},
   "outputs": [],
   "source": [
    "print(df[\"eos\"])"
   ]
  }
 ],
 "metadata": {
  "celltoolbar": "Slideshow",
  "kernelspec": {
   "display_name": "Python 3 (ipykernel)",
   "language": "python",
   "name": "python3"
  },
  "language_info": {
   "codemirror_mode": {
    "name": "ipython",
    "version": 3
   },
   "file_extension": ".py",
   "mimetype": "text/x-python",
   "name": "python",
   "nbconvert_exporter": "python",
   "pygments_lexer": "ipython3",
   "version": "3.10.7 (tags/v3.10.7:6cc6b13, Sep  5 2022, 14:08:36) [MSC v.1933 64 bit (AMD64)]"
  },
  "vscode": {
   "interpreter": {
    "hash": "26de051ba29f2982a8de78e945f0abaf191376122a1563185a90213a26c5da77"
   }
  }
 },
 "nbformat": 4,
 "nbformat_minor": 4
}
