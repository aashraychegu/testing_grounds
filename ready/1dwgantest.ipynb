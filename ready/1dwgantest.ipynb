{
 "cells": [
  {
   "cell_type": "code",
   "execution_count": null,
   "metadata": {},
   "outputs": [],
   "source": [
    "import numpy as np\n",
    "import matplotlib.pyplot as plt\n",
    "\n",
    "from torch.utils.data import Dataset, DataLoader"
   ]
  },
  {
   "cell_type": "code",
   "execution_count": null,
   "metadata": {},
   "outputs": [],
   "source": [
    "class sinDataLoader(Dataset):\n",
    "    def __init__(self,start,end):\n",
    "        self.start = start\n",
    "        self.end = end\n",
    "        self.pspace = np.arange(start,end+1)\n",
    "    def return_sin_wave(self, sinmod=1, offset = np.pi*2,step = 1/1000):\n",
    "        x = np.linspace(0,int(offset),int(1/step))\n",
    "        y = np.sin(x*(sinmod*step))\n",
    "        return y\n",
    "    def __len__(self):\n",
    "        return len(self.pspace)\n",
    "    def __getitem__(self,index):\n",
    "        return self.return_sin_wave(sinmod = self.pspace[index])"
   ]
  },
  {
   "cell_type": "code",
   "execution_count": null,
   "metadata": {},
   "outputs": [],
   "source": [
    "dl = DataLoader(sinDataLoader(0,3000),batch_size = 16,shuffle = True)"
   ]
  },
  {
   "cell_type": "code",
   "execution_count": null,
   "metadata": {},
   "outputs": [],
   "source": [
    "# plt.plot(next(iter(dl))[8])\n",
    "# next(iter(dl))[0].shape"
   ]
  },
  {
   "cell_type": "code",
   "execution_count": null,
   "metadata": {},
   "outputs": [],
   "source": [
    "import torch.nn as nn\n",
    "import torch.nn.functional as F\n",
    "import torch.autograd as autograd\n",
    "from torch.autograd import Variable\n",
    "import torch\n"
   ]
  },
  {
   "cell_type": "code",
   "execution_count": null,
   "metadata": {},
   "outputs": [],
   "source": [
    "in_shape = 1000"
   ]
  },
  {
   "cell_type": "code",
   "execution_count": null,
   "metadata": {},
   "outputs": [],
   "source": [
    "class Discriminator(nn.Module):\n",
    "    def __init__(self):\n",
    "        super(Discriminator, self).__init__()\n",
    "\n",
    "        self.model = nn.Sequential(\n",
    "            nn.Linear(in_shape, 512),\n",
    "            nn.LeakyReLU(0.2, inplace=True),\n",
    "            nn.Linear(512, 256),\n",
    "            nn.LeakyReLU(0.2, inplace=True),\n",
    "            nn.Linear(256, 1),\n",
    "        )\n",
    "\n",
    "    def forward(self, inp):\n",
    "        validity = self.model(inp)\n",
    "        return validity\n"
   ]
  },
  {
   "cell_type": "code",
   "execution_count": null,
   "metadata": {},
   "outputs": [],
   "source": [
    "class Generator(nn.Module):\n",
    "    def __init__(self):\n",
    "        super(Generator, self).__init__()\n",
    "\n",
    "        def block(in_feat, out_feat, normalize=True):\n",
    "            layers = [nn.Linear(in_feat, out_feat)]\n",
    "            if normalize:\n",
    "                layers.append(nn.BatchNorm1d(out_feat))\n",
    "            layers.append(nn.LeakyReLU(.2, inplace=True))\n",
    "            return layers\n",
    "\n",
    "        self.model = nn.Sequential(\n",
    "            *block(1, 128, normalize=False),\n",
    "            *block(128,128*4),\n",
    "            *block(128*4, 256*4),\n",
    "            *block(256*4, 512*4),\n",
    "            *block(512*4, 1024*4),\n",
    "            *block(1024*4,1024*8),\n",
    "            nn.Linear(1024*8,1024*16),\n",
    "            nn.Linear(1024*16, in_shape),\n",
    "            nn.Tanh()\n",
    "        )\n",
    "    def forward(self,inp):\n",
    "            return self.model(inp)\n"
   ]
  },
  {
   "cell_type": "code",
   "execution_count": null,
   "metadata": {},
   "outputs": [],
   "source": [
    "k = 2\n",
    "p = 6\n",
    "cuda = torch.cuda.is_available()"
   ]
  },
  {
   "cell_type": "code",
   "execution_count": null,
   "metadata": {},
   "outputs": [],
   "source": [
    "generator = Generator()\n",
    "discriminator = Discriminator()\n",
    "\n",
    "if cuda:\n",
    "    generator.cuda()\n",
    "    discriminator.cuda()\n"
   ]
  },
  {
   "cell_type": "code",
   "execution_count": null,
   "metadata": {},
   "outputs": [],
   "source": [
    "\n",
    "optimizer_G = torch.optim.Adam(\n",
    "    generator.parameters(), lr=0.0002, betas=(0.5, 0.999))\n",
    "optimizer_D = torch.optim.Adam(\n",
    "    discriminator.parameters(), lr=0.0002, betas=(0.5, 0.999))\n"
   ]
  },
  {
   "cell_type": "code",
   "execution_count": null,
   "metadata": {},
   "outputs": [],
   "source": [
    "Tensor = torch.cuda.FloatTensor if cuda else torch.FloatTensor\n",
    "import sys"
   ]
  },
  {
   "cell_type": "code",
   "execution_count": null,
   "metadata": {},
   "outputs": [],
   "source": [
    "savedImgs = []"
   ]
  },
  {
   "cell_type": "code",
   "execution_count": null,
   "metadata": {},
   "outputs": [],
   "source": [
    "batches_done = 0\n",
    "n_epochs = 100\n",
    "for epoch in range(n_epochs):\n",
    "    print(f\"\\nStarted Epoch {epoch+1}\")\n",
    "    for i, imgs in enumerate(dl):\n",
    "\n",
    "        # Configure input\n",
    "        real_imgs = Variable(imgs.type(Tensor), requires_grad=True)\n",
    "\n",
    "        # ---------------------\n",
    "        #  Train Discriminator\n",
    "        # ---------------------\n",
    "\n",
    "        optimizer_D.zero_grad()\n",
    "\n",
    "        # Sample noise as generator input\n",
    "        z = Variable(Tensor(np.random.normal(\n",
    "            0, 1, (imgs.shape[0], 1))))\n",
    "\n",
    "        # Generate a batch of images\n",
    "        fake_imgs = generator(z)\n",
    "\n",
    "        # Real images\n",
    "        real_validity = discriminator(real_imgs)\n",
    "        # Fake images\n",
    "        fake_validity = discriminator(fake_imgs)\n",
    "\n",
    "        # Compute W-div gradient penalty\n",
    "        real_grad_out = Variable(\n",
    "            Tensor(real_imgs.size(0), 1).fill_(1.0), requires_grad=False)\n",
    "        real_grad = autograd.grad(\n",
    "            real_validity, real_imgs, real_grad_out, create_graph=True, retain_graph=True, only_inputs=True\n",
    "        )[0]\n",
    "        real_grad_norm = real_grad.view(\n",
    "            real_grad.size(0), -1).pow(2).sum(1) ** (p / 2)\n",
    "\n",
    "        fake_grad_out = Variable(\n",
    "            Tensor(fake_imgs.size(0), 1).fill_(1.0), requires_grad=False)\n",
    "        fake_grad = autograd.grad(\n",
    "            fake_validity, fake_imgs, fake_grad_out, create_graph=True, retain_graph=True, only_inputs=True\n",
    "        )[0]\n",
    "        fake_grad_norm = fake_grad.view(\n",
    "            fake_grad.size(0), -1).pow(2).sum(1) ** (p / 2)\n",
    "\n",
    "        div_gp = torch.mean(real_grad_norm + fake_grad_norm) * k / 2\n",
    "\n",
    "        # Adversarial loss\n",
    "        d_loss = -torch.mean(real_validity) + \\\n",
    "            torch.mean(fake_validity) + div_gp\n",
    "\n",
    "        d_loss.backward()\n",
    "        optimizer_D.step()\n",
    "\n",
    "        optimizer_G.zero_grad()\n",
    "\n",
    "        # Train the generator every n_critic steps\n",
    "        # -----------------\n",
    "        #  Train Generator\n",
    "        # -----------------\n",
    "\n",
    "        # Generate a batch of images\n",
    "        fake_imgs = generator(z)\n",
    "        # Loss measures generator's ability to fool the discriminator\n",
    "        # Train on fake images\n",
    "        fake_validity = discriminator(fake_imgs)\n",
    "        g_loss = -torch.mean(fake_validity)\n",
    "\n",
    "        g_loss.backward()\n",
    "        optimizer_G.step()\n",
    "        if i%10 == 0:\n",
    "            print(\n",
    "            f\"\\t [Epoch {epoch+1}/{n_epochs}] [Batch {i}/{len(dl)}] [D loss: {d_loss.item()}] [G loss: {g_loss.item()}]\",flush=True, end = \"\\r\",\n",
    "            )\n",
    "        batches_done += 1\n",
    "    # print()\n",
    "    print(f\"\\nFinished Epoch {epoch+1}\")\n",
    "    if (epoch+1)%5 == 0:\n",
    "        print(\"\\r\")\n",
    "\n"
   ]
  },
  {
   "cell_type": "code",
   "execution_count": null,
   "metadata": {},
   "outputs": [],
   "source": [
    "z = Variable(Tensor(np.random.normal(\n",
    "    0, 1, (imgs.shape[0], 1))))\n",
    "\n",
    "# Generate a batch of images\n",
    "fake_imgs = generator(z)\n"
   ]
  },
  {
   "cell_type": "code",
   "execution_count": null,
   "metadata": {},
   "outputs": [],
   "source": [
    "fake_imgs.shape"
   ]
  },
  {
   "cell_type": "code",
   "execution_count": null,
   "metadata": {},
   "outputs": [],
   "source": [
    "for i in range(fake_imgs.shape[0]):\n",
    "    plt.plot(fake_imgs[i].cpu().detach().numpy())\n",
    "    plt.show()"
   ]
  },
  {
   "cell_type": "code",
   "execution_count": null,
   "metadata": {},
   "outputs": [],
   "source": [
    "import scipy"
   ]
  },
  {
   "cell_type": "code",
   "execution_count": null,
   "metadata": {},
   "outputs": [],
   "source": [
    "# scipy.cluster.vq.whiten()"
   ]
  }
 ],
 "metadata": {
  "kernelspec": {
   "display_name": "Python 3",
   "language": "python",
   "name": "python3"
  },
  "language_info": {
   "codemirror_mode": {
    "name": "ipython",
    "version": 3
   },
   "file_extension": ".py",
   "mimetype": "text/x-python",
   "name": "python",
   "nbconvert_exporter": "python",
   "pygments_lexer": "ipython3",
   "version": "3.10.7"
  },
  "orig_nbformat": 4,
  "vscode": {
   "interpreter": {
    "hash": "26de051ba29f2982a8de78e945f0abaf191376122a1563185a90213a26c5da77"
   }
  }
 },
 "nbformat": 4,
 "nbformat_minor": 2
}
