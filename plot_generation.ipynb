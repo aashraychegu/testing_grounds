{
 "cells": [
  {
   "cell_type": "code",
   "execution_count": null,
   "metadata": {},
   "outputs": [],
   "source": [
    "import sys\n",
    "from CoRe_Dataloader_ECSG import *\n",
    "from CoRe_Dataloader_From_File_With_Random_From_Tensors import *\n",
    "import torch\n",
    "import numpy as np\n",
    "import matplotlib.pyplot as plt\n",
    "import plotly as pt \n",
    "import plotly.graph_objects as go \n",
    "from  watpy.coredb.coredb import *\n",
    "cdb = CoRe_db(\"./CoRe_DB/\")\n"
   ]
  },
  {
   "cell_type": "code",
   "execution_count": null,
   "metadata": {},
   "outputs": [],
   "source": [
    "a = CoRe_DB_Dataset()"
   ]
  },
  {
   "cell_type": "code",
   "execution_count": null,
   "metadata": {},
   "outputs": [],
   "source": [
    "a"
   ]
  },
  {
   "cell_type": "code",
   "execution_count": null,
   "metadata": {},
   "outputs": [],
   "source": [
    "# create a function to create a layout for plotly after taking in the x axes title, y axes title, and plot title \n",
    "def get_layout(xtitle: str, ytitle: str, title: str, height: int, width: int) -> go.Layout:\n",
    "    primary_color = rgba(133, 162, 204)\n",
    "    secondary_color = rgba(168, 217, 255)\n",
    "    grid_color = rgba(83, 107, 126)\n",
    "    return go.Layout(\n",
    "        title=dict(text=title,\n",
    "                   font=dict(size=90, family=\"Verdana\",color=primary_color),\n",
    "                   y = .98,\n",
    "        ),\n",
    "        xaxis=dict(title=dict(text=xtitle, font=dict(size=60, family=\"Verdana\", color=secondary_color)),\n",
    "                    showline=False,\n",
    "                    linewidth=2,\n",
    "                    linecolor=grid_color,\n",
    "                    mirror=True,\n",
    "                    showgrid=True,\n",
    "                    gridwidth=2,\n",
    "                    gridcolor=grid_color,\n",
    "                    ),\n",
    "        yaxis=dict(title=dict(text=ytitle, font=dict(size=60, family=\"Verdana\", color=secondary_color)),\n",
    "                    showline=False,\n",
    "                    linewidth=2,\n",
    "                    linecolor=grid_color,\n",
    "                    mirror=True,\n",
    "                    showgrid=True,\n",
    "                    gridwidth=2,\n",
    "                    gridcolor=grid_color,\n",
    "                    ),\n",
    "        showlegend=True,\n",
    "        legend=dict(\n",
    "                    font=dict(size=60, family=\"Verdana\",color=secondary_color),\n",
    "                    itemwidth = 90,\n",
    "                    itemsizing = \"constant\",\n",
    "                    orientation = \"h\",\n",
    "                    xanchor = \"center\",\n",
    "                    yanchor = \"top\",\n",
    "                    x = .5,\n",
    "                    y = 1\n",
    "                    ),\n",
    "        margin = dict(t = 200),\n",
    "        font=dict(size=25, family=\"Verdana\", color=secondary_color),\n",
    "        width=width,\n",
    "        height=height,\n",
    "        plot_bgcolor=rgba(0,0,0,255),\n",
    "        paper_bgcolor=rgba(0,0,0,255),\n",
    "    )\n",
    "def pplt(data: List[object], xtitle: str = \"XTITLE the quick brown fox jumped over the lazy dog\", ytitle: str = \"YTITLE the quick brown fox jumped over the lazy dog\", title: str = \"PLOTTITLE the quick brown fox jumped over the lazy dog\", height: int = -1, width: int = -1):\n",
    "    fig = go.Figure(data=data, layout=get_layout(xtitle, ytitle, title, height, width))\n",
    "    return fig\n",
    "def rgba(r:int = 0,g:int = 0,b:int = 0,a:int = 255) -> str:\n",
    "    return f\"rgba({r},{g},{b},{a})\""
   ]
  },
  {
   "cell_type": "code",
   "execution_count": null,
   "metadata": {},
   "outputs": [],
   "source": [
    "example_total_data = cdb.sim[\"THC:0087\"].run[\"R01\"].data.read(\"rh_22\").T"
   ]
  },
  {
   "cell_type": "code",
   "execution_count": null,
   "metadata": {},
   "outputs": [],
   "source": [
    "initial_time = example_total_data[0]*4.975e-6\n",
    "initial_rstr = example_total_data[1]\n",
    "initial_istr = example_total_data[2]\n",
    "initial_ener = (example_total_data[1]**2 + example_total_data[2]**2)"
   ]
  },
  {
   "cell_type": "code",
   "execution_count": null,
   "metadata": {},
   "outputs": [],
   "source": [
    "postmerger_rstr = cut_at_lowest_envelope(initial_rstr, initial_istr)\n",
    "postmerger_time = initial_time[-len(postmerger_rstr):]\n",
    "postmerger_rstr.shape, postmerger_time.shape\n"
   ]
  },
  {
   "cell_type": "code",
   "execution_count": null,
   "metadata": {},
   "outputs": [],
   "source": [
    "lts = len(postmerger_time)"
   ]
  },
  {
   "cell_type": "code",
   "execution_count": null,
   "metadata": {},
   "outputs": [],
   "source": [
    "window = planck_window(math.floor(math.log(lts/2)*6), lts+2)\n",
    "windowx = np.linspace(0, len(window), len(window))"
   ]
  },
  {
   "cell_type": "code",
   "execution_count": null,
   "metadata": {},
   "outputs": [],
   "source": [
    "post_planck_rstr = np.multiply(postmerger_rstr, window,)"
   ]
  },
  {
   "cell_type": "code",
   "execution_count": null,
   "metadata": {},
   "outputs": [],
   "source": [
    "plt.plot(post_planck_rstr)"
   ]
  },
  {
   "cell_type": "code",
   "execution_count": null,
   "metadata": {},
   "outputs": [],
   "source": [
    "postmerger_time"
   ]
  },
  {
   "cell_type": "code",
   "execution_count": null,
   "metadata": {},
   "outputs": [],
   "source": [
    "from scipy import signal\n",
    "morlet = signal.morlet(1000,w=10,s = .6)"
   ]
  },
  {
   "cell_type": "code",
   "execution_count": null,
   "metadata": {},
   "outputs": [],
   "source": [
    "sam_p = (postmerger_time[-1] - postmerger_time[0])/len(postmerger_time)\n"
   ]
  },
  {
   "cell_type": "code",
   "execution_count": null,
   "metadata": {},
   "outputs": [],
   "source": [
    "# postmerger_awt = pad_width(wt(postmerger_rstr, sam_p))\n"
   ]
  },
  {
   "cell_type": "code",
   "execution_count": null,
   "metadata": {},
   "outputs": [],
   "source": [
    "# plt.pcolormesh(postmerger_awt)"
   ]
  },
  {
   "cell_type": "code",
   "execution_count": null,
   "metadata": {},
   "outputs": [],
   "source": [
    "# noised = np.random.normal(loc = 0,scale = 0.001/3.5, size = (400,400)) + postmerger_awt"
   ]
  },
  {
   "cell_type": "code",
   "execution_count": null,
   "metadata": {},
   "outputs": [],
   "source": [
    "fig = pplt(\n",
    "    [\n",
    "        # go.Heatmap(z=noised, colorscale=\"Ice\",\n",
    "        #            colorbar=dict(title='Energy')),\n",
    "\n",
    "        go.Scatter(x=initial_time, y=initial_rstr, name=\"Complete Merger Waveform\", line=dict(\n",
    "            width=4, color=rgba(255, 255, 255))),\n",
    "        # go.Scatter(x=postmerger_time, y=postmerger_rstr, name=\"Postmerger Only Waveform\", line=dict(\n",
    "        #     width=4, color=rgba(140, 255, 205))),\n",
    "        go.Scatter(x=initial_time, y=initial_ener, name=\"Total Waveform Energy\", line=dict(\n",
    "            width=4, color=rgba(255, 200-20, 200-20))),\n",
    "\n",
    "    ],\n",
    "    height=1000,\n",
    "    width=3000, title=\"Complete Waveform Strain and Energy Vs. Time [THC:0087]\", ytitle=\"Strain\", xtitle=\"Time [ms]\")\n",
    "fig.update_yaxes(range=[-.25, .25])\n",
    "fig.show()\n"
   ]
  }
 ],
 "metadata": {
  "kernelspec": {
   "display_name": "Python 3",
   "language": "python",
   "name": "python3"
  },
  "language_info": {
   "codemirror_mode": {
    "name": "ipython",
    "version": 3
   },
   "file_extension": ".py",
   "mimetype": "text/x-python",
   "name": "python",
   "nbconvert_exporter": "python",
   "pygments_lexer": "ipython3",
   "version": "3.10.7"
  },
  "orig_nbformat": 4
 },
 "nbformat": 4,
 "nbformat_minor": 2
}
