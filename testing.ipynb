{
 "cells": [
  {
   "cell_type": "code",
   "execution_count": 1,
   "metadata": {},
   "outputs": [],
   "source": [
    "from modelsxn import *"
   ]
  },
  {
   "cell_type": "code",
   "execution_count": 2,
   "metadata": {},
   "outputs": [
    {
     "name": "stdout",
     "output_type": "stream",
     "text": [
      "32 64\n",
      "4 8\n"
     ]
    }
   ],
   "source": [
    "generator = Generator(\n",
    "        depth1=6,\n",
    "        depth2=4,\n",
    "        depth3=1,\n",
    "        start_image_side_size=4,\n",
    "        dim=128*4,\n",
    "        heads=4,\n",
    "        mlp_ratio=4,\n",
    "        drop_rate=0.5,\n",
    "        latent_dim=256*2,\n",
    "        psfac=4,\n",
    "        cvupmult = 2\n",
    "    ).to(\"cuda:0\")"
   ]
  },
  {
   "cell_type": "code",
   "execution_count": 3,
   "metadata": {},
   "outputs": [
    {
     "data": {
      "text/plain": [
       "torch.Size([5, 10])"
      ]
     },
     "execution_count": 3,
     "metadata": {},
     "output_type": "execute_result"
    }
   ],
   "source": [
    "a = nn.Linear(5,10)\n",
    "a(torch.randn(5,5)).shape"
   ]
  },
  {
   "cell_type": "code",
   "execution_count": 4,
   "metadata": {},
   "outputs": [
    {
     "name": "stdout",
     "output_type": "stream",
     "text": [
      "torch.Size([2, 16, 512]) initial MLP\n",
      "torch.Size([2, 16, 512]) encoder block 1\n",
      "torch.Size([2, 256, 32]) upsampling 1\n",
      "torch.Size([2, 256, 64]) cvup 1\n",
      "torch.Size([2, 256, 64]) encoder block 2\n",
      "torch.Size([2, 4096, 4]) upsampling 2\n",
      "torch.Size([2, 4096, 8]) cvup 2\n",
      "torch.Size([2, 4096, 8]) encoder block 3\n",
      "torch.Size([2, 1, 64, 64]) reshaping for output\n"
     ]
    },
    {
     "data": {
      "text/plain": [
       "torch.Size([2, 1, 64, 64])"
      ]
     },
     "execution_count": 4,
     "metadata": {},
     "output_type": "execute_result"
    }
   ],
   "source": [
    "generator.generate(2).shape\n"
   ]
  }
 ],
 "metadata": {
  "kernelspec": {
   "display_name": "Python 3",
   "language": "python",
   "name": "python3"
  },
  "language_info": {
   "codemirror_mode": {
    "name": "ipython",
    "version": 3
   },
   "file_extension": ".py",
   "mimetype": "text/x-python",
   "name": "python",
   "nbconvert_exporter": "python",
   "pygments_lexer": "ipython3",
   "version": "3.10.7"
  },
  "orig_nbformat": 4
 },
 "nbformat": 4,
 "nbformat_minor": 2
}
