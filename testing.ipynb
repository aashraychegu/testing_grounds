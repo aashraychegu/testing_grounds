{
 "cells": [
  {
   "cell_type": "code",
   "execution_count": 1,
   "metadata": {},
   "outputs": [
    {
     "name": "stdout",
     "output_type": "stream",
     "text": [
      "[['THC:0071', 'R02', 'rh_22', 'Rh_l2_m2_r00400.txt', 0], ['THC:0016', 'R02', 'rh_22', 'Rh_l2_m2_r00400.txt', 0], ['THC:0049', 'R02', 'rh_22', 'Rh_l2_m2_r00400.txt', 0], ['THC:0087', 'R01', 'rh_22', 'Rh_l2_m2_r00400.txt', 0], ['THC:0017', 'R01', 'rh_22', 'Rh_l2_m2_r00400.txt', 0], ['BAM:0092', 'R01', 'rh_22', 'Rh_l2_m2_r01000.txt', 0], ['BAM:0141', 'R03', 'rh_22', 'Rh_l2_m2_r00900.txt', 0], ['BAM:0133', 'R02', 'rh_22', 'Rh_l2_m2_r00900.txt', 0], ['BAM:0032', 'R01', 'rh_22', 'Rh_l2_m2_r00400.txt', 0], ['BAM:0008', 'R01', 'rh_22', 'Rh_l2_m2_r01000.txt', 0], ['BAM:0133', 'R01', 'rh_22', 'Rh_l2_m2_r00900.txt', 0], ['THC:0072', 'R02', 'rh_22', 'Rh_l2_m2_r00400.txt', 0], ['BAM:0095', 'R04', 'rh_22', 'Rh_l2_m2_r01000.txt', 0], ['BAM:0048', 'R02', 'rh_22', 'Rh_l2_m2_r01000.txt', 0], ['THC:0035', 'R01', 'rh_22', 'Rh_l2_m2_r00400.txt', 0], ['BAM:0077', 'R01', 'rh_22', 'Rh_l2_m2_r00900.txt', 0], ['BAM:0135', 'R02', 'rh_22', 'Rh_l2_m2_r00900.txt', 0], ['BAM:0100', 'R31', 'rh_22', 'Rh_l2_m2_r00900.txt', 0], ['BAM:0123', 'R05', 'rh_22', 'Rh_l2_m2_r01000.txt', 0], ['BAM:0111', 'R01', 'rh_22', 'Rh_l2_m2_r01000.txt', 0], ['BAM:0108', 'R01', 'rh_22', 'Rh_l2_m2_r01000.txt', 0], ['BAM:0098', 'R01', 'rh_22', 'Rh_l2_m2_r01000.txt', 0], ['BAM:0100', 'R23', 'rh_22', 'Rh_l2_m2_r00900.txt', 0], ['BAM:0117', 'R03', 'rh_22', 'Rh_l2_m2_r00900.txt', 0], ['BAM:0071', 'R02', 'rh_22', 'Rh_l2_m2_r00900.txt', 0], ['THC:0036', 'R02', 'rh_22', 'Rh_l2_m2_rInf.txt', 0], ['BAM:0139', 'R01', 'rh_22', 'Rh_l2_m2_r00900.txt', 0], ['BAM:0051', 'R02', 'rh_22', 'Rh_l2_m2_r01000.txt', 0], ['THC:0063', 'R03', 'rh_22', 'Rh_l2_m2_r00400.txt', 0], ['BAM:0006', 'R01', 'rh_22', 'Rh_l2_m2_r01000.txt', 0], ['THC:0075', 'R02', 'rh_22', 'Rh_l2_m2_r00400.txt', 0], ['BAM:0100', 'R10', 'rh_22', 'Rh_l2_m2_r00900.txt', 0], ['BAM:0114', 'R03', 'rh_22', 'Rh_l2_m2_r00900.txt', 0], ['THC:0074', 'R02', 'rh_22', 'Rh_l2_m2_r00400.txt', 0], ['BAM:0147', 'R03', 'rh_22', 'Rh_l2_mm2_r01400.txt', 0], ['THC:0039', 'R01', 'rh_22', 'Rh_l2_m2_r00400.txt', 0], ['THC:0061', 'R01', 'rh_22', 'Rh_l2_m2_r00400.txt', 0], ['BAM:0004', 'R01', 'rh_22', 'Rh_l2_m2_r01000.txt', 0], ['THC:0042', 'R02', 'rh_22', 'Rh_l2_m2_r00400.txt', 0], ['THC:0082', 'R01', 'rh_22', 'Rh_l2_m2_r00400.txt', 0], ['THC:0107', 'R02', 'rh_22', 'Rh_l2_m2_r00400.txt', 0], ['THC:0105', 'R01', 'rh_22', 'Rh_l2_m2_r00400.txt', 0], ['THC:0089', 'R03', 'rh_22', 'Rh_l2_m2_r00400.txt', 0], ['BAM:0124', 'R03', 'rh_22', 'Rh_l2_m2_r01000.txt', 0], ['BAM:0097', 'R01', 'rh_22', 'Rh_l2_m2_r01000.txt', 0], ['BAM:0097', 'R04', 'rh_22', 'Rh_l2_m2_r01000.txt', 0], ['THC:0038', 'R02', 'rh_22', 'Rh_l2_m2_r00400.txt', 0], ['BAM:0093', 'R02', 'rh_22', 'Rh_l2_m2_r01000.txt', 0], ['BAM:0024', 'R01', 'rh_22', 'Rh_l2_m2_r00400.txt', 0], ['THC:0019', 'R06', 'rh_22', 'Rh_l2_m2_r00400.txt', 0], ['THC:0099', 'R02', 'rh_22', 'Rh_l2_m2_r00400.txt', 0], ['BAM:0147', 'R01', 'rh_22', 'Rh_l2_mm2_r01400.txt', 0], ['THC:0038', 'R01', 'rh_22', 'Rh_l2_m2_r00400.txt', 0], ['BAM:0100', 'R06', 'rh_22', 'Rh_l2_m2_r00800.txt', 0], ['BAM:0039', 'R01', 'rh_22', 'Rh_l2_m2_r01000.txt', 0], ['BAM:0022', 'R02', 'rh_22', 'Rh_l2_m2_r01000.txt', 0], ['BAM:0087', 'R02', 'rh_22', 'Rh_l2_m2_r01000.txt', 0], ['BAM:0061', 'R01', 'rh_22', 'Rh_l2_m2_r01000.txt', 0], ['BAM:0097', 'R07', 'rh_22', 'Rh_l2_m2_r01000.txt', 0], ['BAM:0088', 'R02', 'rh_22', 'Rh_l2_m2_r01000.txt', 0], ['THC:0058', 'R01', 'rh_22', 'Rh_l2_m2_r00400.txt', 0], ['BAM:0070', 'R01', 'rh_22', 'Rh_l2_m2_r01000.txt', 0], ['BAM:0140', 'R03', 'rh_22', 'Rh_l2_m2_r00850.txt', 0], ['BAM:0141', 'R02', 'rh_22', 'Rh_l2_m2_r00900.txt', 0], ['BAM:0064', 'R02', 'rh_22', 'Rh_l2_m2_r01400.txt', 0], ['BAM:0091', 'R02', 'rh_22', 'Rh_l2_m2_r01000.txt', 0], ['THC:0085', 'R01', 'rh_22', 'Rh_l2_m2_r00400.txt', 0], ['BAM:0130', 'R01', 'rh_22', 'Rh_l2_m2_r00900.txt', 0], ['BAM:0062', 'R03', 'rh_22', 'Rh_l2_m2_r01000.txt', 0], ['THC:0039', 'R02', 'rh_22', 'Rh_l2_m2_r00400.txt', 0], ['BAM:0012', 'R01', 'rh_22', 'Rh_l2_m2_r01000.txt', 0], ['BAM:0038', 'R01', 'rh_22', 'Rh_l2_m2_r01000.txt', 0], ['BAM:0110', 'R03', 'rh_22', 'Rh_l2_m2_r01000.txt', 0], ['BAM:0059', 'R01', 'rh_22', 'Rh_l2_m2_r01000.txt', 0], ['BAM:0147', 'R02', 'rh_22', 'Rh_l2_mm2_r01400.txt', 0], ['BAM:0144', 'R03', 'rh_22', 'Rh_l2_mm2_r01400.txt', 0], ['BAM:0114', 'R01', 'rh_22', 'Rh_l2_m2_r00900.txt', 0], ['THC:0056', 'R02', 'rh_22', 'Rh_l2_m2_r00400.txt', 0], ['THC:0062', 'R02', 'rh_22', 'Rh_l2_m2_r00400.txt', 0], ['BAM:0047', 'R02', 'rh_22', 'Rh_l2_m2_r01000.txt', 0], ['THC:0028', 'R01', 'rh_22', 'Rh_l2_m2_r00600.txt', 0], ['BAM:0111', 'R02', 'rh_22', 'Rh_l2_m2_r01000.txt', 0], ['THC:0023', 'R01', 'rh_22', 'Rh_l2_m2_r00400.txt', 0], ['BAM:0145', 'R03', 'rh_22', 'Rh_l2_mm2_r01400.txt', 0], ['THC:0048', 'R02', 'rh_22', 'Rh_l2_m2_r00400.txt', 0], ['BAM:0092', 'R02', 'rh_22', 'Rh_l2_m2_r01000.txt', 0], ['THC:0078', 'R01', 'rh_22', 'Rh_l2_m2_r00400.txt', 0], ['THC:0036', 'R01', 'rh_22', 'Rh_l2_m2_rInf.txt', 0], ['BAM:0009', 'R01', 'rh_22', 'Rh_l2_m2_r01000.txt', 0], ['BAM:0096', 'R02', 'rh_22', 'Rh_l2_m2_r01000.txt', 0], ['BAM:0095', 'R05', 'rh_22', 'Rh_l2_m2_r01000.txt', 0], ['BAM:0067', 'R01', 'rh_22', 'Rh_l2_m2_r01000.txt', 0], ['BAM:0068', 'R01', 'rh_22', 'Rh_l2_m2_r01000.txt', 0], ['BAM:0043', 'R01', 'rh_22', 'Rh_l2_m2_r01000.txt', 0], ['THC:0029', 'R04', 'rh_22', 'Rh_l2_m2_rInf.txt', 0], ['BAM:0065', 'R03', 'rh_22', 'Rh_l2_m2_r01000.txt', 0], ['BAM:0058', 'R01', 'rh_22', 'Rh_l2_m2_r00900.txt', 0], ['BAM:0147', 'R04', 'rh_22', 'Rh_l2_mm2_r01400.txt', 0], ['BAM:0055', 'R02', 'rh_22', 'Rh_l2_m2_r01000.txt', 0], ['BAM:0100', 'R07', 'rh_22', 'Rh_l2_m2_r00900.txt', 0], ['BAM:0102', 'R01', 'rh_22', 'Rh_l2_m2_r01000.txt', 0], ['BAM:0131', 'R02', 'rh_22', 'Rh_l2_m2_r00900.txt', 0], ['BAM:0119', 'R01', 'rh_22', 'Rh_l2_m2_r00900.txt', 0], ['BAM:0013', 'R01', 'rh_22', 'Rh_l2_m2_r01000.txt', 0], ['BAM:0100', 'R28', 'rh_22', 'Rh_l2_m2_r00850.txt', 0], ['BAM:0088', 'R01', 'rh_22', 'Rh_l2_m2_r01000.txt', 0], ['BAM:0091', 'R03', 'rh_22', 'Rh_l2_m2_r01000.txt', 0], ['THC:0056', 'R01', 'rh_22', 'Rh_l2_m2_r00400.txt', 0], ['BAM:0086', 'R01', 'rh_22', 'Rh_l2_m2_r01000.txt', 0], ['BAM:0056', 'R01', 'rh_22', 'Rh_l2_m2_r01000.txt', 0], ['BAM:0037', 'R03', 'rh_22', 'Rh_l2_m2_r01000.txt', 0], ['BAM:0127', 'R02', 'rh_22', 'Rh_l2_m2_r01000.txt', 0], ['THC:0052', 'R01', 'rh_22', 'Rh_l2_m2_r00400.txt', 0], ['BAM:0109', 'R03', 'rh_22', 'Rh_l2_m2_r01000.txt', 0], ['THC:0090', 'R02', 'rh_22', 'Rh_l2_m2_r00400.txt', 0], ['BAM:0106', 'R01', 'rh_22', 'Rh_l2_m2_r01000.txt', 0], ['THC:0052', 'R03', 'rh_22', 'Rh_l2_m2_r00400.txt', 0], ['THC:0037', 'R03', 'rh_22', 'Rh_l2_m2_r00400.txt', 0], ['BAM:0123', 'R01', 'rh_22', 'Rh_l2_m2_r01000.txt', 0], ['BAM:0035', 'R02', 'rh_22', 'Rh_l2_m2_r01000.txt', 0], ['THC:0088', 'R03', 'rh_22', 'Rh_l2_m2_r00400.txt', 0], ['BAM:0065', 'R08', 'rh_22', 'Rh_l2_m2_r01000.txt', 0], ['THC:0071', 'R01', 'rh_22', 'Rh_l2_m2_r00400.txt', 0], ['THC:0095', 'R01', 'rh_22', 'Rh_l2_m2_r00400.txt', 0], ['BAM:0087', 'R06', 'rh_22', 'Rh_l2_m2_r01000.txt', 0], ['THC:0046', 'R01', 'rh_22', 'Rh_l2_m2_r00400.txt', 0], ['BAM:0044', 'R01', 'rh_22', 'Rh_l2_m2_r01000.txt', 0], ['BAM:0083', 'R01', 'rh_22', 'Rh_l2_m2_r01000.txt', 0], ['BAM:0129', 'R01', 'rh_22', 'Rh_l2_mm2_r01400.txt', 0], ['THC:0096', 'R01', 'rh_22', 'Rh_l2_m2_r00400.txt', 0], ['THC:0081', 'R02', 'rh_22', 'Rh_l2_m2_r00400.txt', 0], ['BAM:0058', 'R02', 'rh_22', 'Rh_l2_m2_r01000.txt', 0], ['BAM:0129', 'R04', 'rh_22', 'Rh_l2_mm2_r01400.txt', 0], ['BAM:0035', 'R01', 'rh_22', 'Rh_l2_m2_r01000.txt', 0], ['BAM:0081', 'R02', 'rh_22', 'Rh_l2_m2_r01000.txt', 0], ['BAM:0100', 'R14', 'rh_22', 'Rh_l2_m2_r00900.txt', 0], ['THC:0055', 'R02', 'rh_22', 'Rh_l2_m2_r00400.txt', 0], ['THC:0075', 'R01', 'rh_22', 'Rh_l2_m2_r00400.txt', 0], ['THC:0051', 'R02', 'rh_22', 'Rh_l2_m2_r00400.txt', 0], ['THC:0013', 'R02', 'rh_22', 'Rh_l2_m2_r00400.txt', 0], ['BAM:0021', 'R02', 'rh_22', 'Rh_l2_m2_r01000.txt', 0], ['THC:0063', 'R01', 'rh_22', 'Rh_l2_m2_r00400.txt', 0], ['THC:0029', 'R01', 'rh_22', 'Rh_l2_m2_rInf.txt', 0], ['BAM:0114', 'R02', 'rh_22', 'Rh_l2_m2_r00900.txt', 0], ['BAM:0107', 'R03', 'rh_22', 'Rh_l2_m2_r01000.txt', 0], ['BAM:0111', 'R03', 'rh_22', 'Rh_l2_m2_r01000.txt', 0], ['BAM:0097', 'R06', 'rh_22', 'Rh_l2_m2_r00850.txt', 0], ['BAM:0107', 'R02', 'rh_22', 'Rh_l2_m2_r01000.txt', 0], ['BAM:0024', 'R02', 'rh_22', 'Rh_l2_m2_r00400.txt', 0], ['THC:0060', 'R02', 'rh_22', 'Rh_l2_m2_r00400.txt', 0], ['BAM:0100', 'R09', 'rh_22', 'Rh_l2_m2_r00900.txt', 0], ['BAM:0103', 'R01', 'rh_22', 'Rh_l2_m2_r01000.txt', 0], ['THC:0069', 'R01', 'rh_22', 'Rh_l2_m2_r00400.txt', 0], ['BAM:0137', 'R03', 'rh_22', 'Rh_l2_m2_r00900.txt', 0], ['BAM:0078', 'R01', 'rh_22', 'Rh_l2_m2_r00900.txt', 0], ['THC:0041', 'R01', 'rh_22', 'Rh_l2_m2_r00400.txt', 0], ['THC:0074', 'R01', 'rh_22', 'Rh_l2_m2_r00400.txt', 0], ['THC:0021', 'R01', 'rh_22', 'Rh_l2_m2_r00400.txt', 0], ['BAM:0011', 'R02', 'rh_22', 'Rh_l2_m2_r00800.txt', 0], ['BAM:0140', 'R02', 'rh_22', 'Rh_l2_m2_r00850.txt', 0], ['THC:0082', 'R02', 'rh_22', 'Rh_l2_m2_r00400.txt', 0], ['BAM:0131', 'R05', 'rh_22', 'Rh_l2_m2_r00900.txt', 0], ['THC:0034', 'R01', 'rh_22', 'Rh_l2_m2_r00400.txt', 0], ['BAM:0104', 'R01', 'rh_22', 'Rh_l2_m2_r01000.txt', 0], ['BAM:0113', 'R01', 'rh_22', 'Rh_l2_m2_r00900.txt', 0], ['BAM:0089', 'R01', 'rh_22', 'Rh_l2_m2_r01000.txt', 0], ['BAM:0144', 'R02', 'rh_22', 'Rh_l2_mm2_r01400.txt', 0], ['BAM:0026', 'R05', 'rh_22', 'Rh_l2_m2_r00400.txt', 0], ['BAM:0090', 'R02', 'rh_22', 'Rh_l2_m2_r01000.txt', 0], ['BAM:0136', 'R02', 'rh_22', 'Rh_l2_m2_r00900.txt', 0], ['BAM:0125', 'R02', 'rh_22', 'Rh_l2_m2_r01000.txt', 0], ['BAM:0104', 'R03', 'rh_22', 'Rh_l2_m2_r01000.txt', 0], ['THC:0097', 'R02', 'rh_22', 'Rh_l2_m2_r00400.txt', 0], ['THC:0002', 'R01', 'rh_22', 'Rh_l2_m2_r00400.txt', 0], ['BAM:0123', 'R06', 'rh_22', 'Rh_l2_m2_r01000.txt', 0], ['THC:0100', 'R01', 'rh_22', 'Rh_l2_m2_r00400.txt', 0], ['THC:0107', 'R01', 'rh_22', 'Rh_l2_m2_r00400.txt', 0], ['BAM:0126', 'R02', 'rh_22', 'Rh_l2_m2_r01000.txt', 0], ['THC:0066', 'R01', 'rh_22', 'Rh_l2_m2_r00400.txt', 0], ['BAM:0132', 'R07', 'rh_22', 'Rh_l2_m2_r01400.txt', 0], ['BAM:0139', 'R02', 'rh_22', 'Rh_l2_m2_r00900.txt', 0], ['BAM:0120', 'R03', 'rh_22', 'Rh_l2_m2_r01000.txt', 0], ['BAM:0073', 'R02', 'rh_22', 'Rh_l2_m2_r00900.txt', 0], ['BAM:0109', 'R02', 'rh_22', 'Rh_l2_m2_r01000.txt', 0], ['BAM:0146', 'R03', 'rh_22', 'Rh_l2_mm2_r01400.txt', 0], ['BAM:0125', 'R01', 'rh_22', 'Rh_l2_m2_r01000.txt', 0], ['THC:0103', 'R02', 'rh_22', 'Rh_l2_m2_r00400.txt', 0], ['BAM:0051', 'R01', 'rh_22', 'Rh_l2_m2_r01000.txt', 0], ['BAM:0129', 'R03', 'rh_22', 'Rh_l2_mm2_r01400.txt', 0], ['BAM:0120', 'R01', 'rh_22', 'Rh_l2_m2_r01000.txt', 0], ['BAM:0100', 'R30', 'rh_22', 'Rh_l2_m2_r00850.txt', 0], ['THC:0078', 'R03', 'rh_22', 'Rh_l2_m2_r00400.txt', 0], ['THC:0010', 'R01', 'rh_22', 'Rh_l2_m2_r00400.txt', 0], ['THC:0048', 'R01', 'rh_22', 'Rh_l2_m2_r00400.txt', 0], ['BAM:0145', 'R01', 'rh_22', 'Rh_l2_mm2_r01400.txt', 0], ['THC:0104', 'R02', 'rh_22', 'Rh_l2_m2_r00400.txt', 0], ['BAM:0116', 'R01', 'rh_22', 'Rh_l2_m2_r00900.txt', 0], ['THC:0038', 'R03', 'rh_22', 'Rh_l2_m2_r00400.txt', 0], ['BAM:0138', 'R01', 'rh_22', 'Rh_l2_m2_r00900.txt', 0], ['THC:0040', 'R01', 'rh_22', 'Rh_l2_m2_r00400.txt', 0], ['BAM:0060', 'R02', 'rh_22', 'Rh_l2_m2_r01000.txt', 0], ['BAM:0123', 'R03', 'rh_22', 'Rh_l2_m2_r01000.txt', 0], ['BAM:0104', 'R04', 'rh_22', 'Rh_l2_m2_r01000.txt', 0], ['BAM:0057', 'R01', 'rh_22', 'Rh_l2_m2_r01000.txt', 0], ['BAM:0101', 'R02', 'rh_22', 'Rh_l2_m2_r01000.txt', 0], ['THC:0105', 'R02', 'rh_22', 'Rh_l2_m2_r00400.txt', 0], ['BAM:0087', 'R03', 'rh_22', 'Rh_l2_m2_r01000.txt', 0], ['THC:0019', 'R05', 'rh_22', 'Rh_l2_m2_r00400.txt', 0], ['THC:0047', 'R02', 'rh_22', 'Rh_l2_m2_r00400.txt', 0], ['BAM:0103', 'R02', 'rh_22', 'Rh_l2_m2_r01000.txt', 0], ['BAM:0039', 'R03', 'rh_22', 'Rh_l2_m2_r01000.txt', 0], ['BAM:0066', 'R03', 'rh_22', 'Rh_l2_m2_r01000.txt', 0], ['THC:0097', 'R01', 'rh_22', 'Rh_l2_m2_r00400.txt', 0], ['BAM:0061', 'R02', 'rh_22', 'Rh_l2_m2_r01000.txt', 0], ['BAM:0097', 'R10', 'rh_22', 'Rh_l2_m2_r01100.txt', 0], ['THC:0022', 'R02', 'rh_22', 'Rh_l2_m2_r00400.txt', 0], ['BAM:0010', 'R01', 'rh_22', 'Rh_l2_m2_r01000.txt', 0], ['BAM:0134', 'R02', 'rh_22', 'Rh_l2_m2_r00900.txt', 0], ['BAM:0056', 'R02', 'rh_22', 'Rh_l2_m2_r01000.txt', 0], ['BAM:0008', 'R02', 'rh_22', 'Rh_l2_m2_r01000.txt', 0], ['BAM:0037', 'R04', 'rh_22', 'Rh_l2_m2_r01000.txt', 0], ['THC:0033', 'R01', 'rh_22', 'Rh_l2_m2_r00400.txt', 0], ['BAM:0132', 'R04', 'rh_22', 'Rh_l2_m2_r01400.txt', 0], ['BAM:0105', 'R01', 'rh_22', 'Rh_l2_m2_r01000.txt', 0], ['BAM:0034', 'R01', 'rh_22', 'Rh_l2_m2_r00400.txt', 0], ['THC:0043', 'R03', 'rh_22', 'Rh_l2_m2_r00400.txt', 0], ['BAM:0017', 'R01', 'rh_22', 'Rh_l2_m2_r01000.txt', 0], ['BAM:0117', 'R02', 'rh_22', 'Rh_l2_m2_r00900.txt', 0], ['THC:0073', 'R02', 'rh_22', 'Rh_l2_m2_r00400.txt', 0], ['BAM:0001', 'R01', 'rh_22', 'Rh_l2_m2_r00850.txt', 0], ['THC:0094', 'R02', 'rh_22', 'Rh_l2_m2_r00400.txt', 0], ['THC:0024', 'R01', 'rh_22', 'Rh_l2_m2_r00400.txt', 0], ['BAM:0091', 'R01', 'rh_22', 'Rh_l2_m2_r01000.txt', 0], ['BAM:0100', 'R12', 'rh_22', 'Rh_l2_m2_r00900.txt', 0], ['BAM:0001', 'R02', 'rh_22', 'Rh_l2_m2_r00850.txt', 0], ['THC:0070', 'R02', 'rh_22', 'Rh_l2_m2_r00400.txt', 0], ['THC:0091', 'R03', 'rh_22', 'Rh_l2_m2_r00400.txt', 0], ['BAM:0137', 'R01', 'rh_22', 'Rh_l2_m2_r00900.txt', 0], ['THC:0054', 'R01', 'rh_22', 'Rh_l2_m2_r00400.txt', 0], ['BAM:0124', 'R02', 'rh_22', 'Rh_l2_m2_r01000.txt', 0], ['BAM:0130', 'R04', 'rh_22', 'Rh_l2_m2_r00900.txt', 0], ['BAM:0028', 'R01', 'rh_22', 'Rh_l2_m2_r00400.txt', 0], ['BAM:0100', 'R17', 'rh_22', 'Rh_l2_m2_r01000.txt', 0], ['THC:0049', 'R01', 'rh_22', 'Rh_l2_m2_r00400.txt', 0], ['BAM:0021', 'R01', 'rh_22', 'Rh_l2_m2_r01000.txt', 0], ['BAM:0130', 'R03', 'rh_22', 'Rh_l2_m2_r00900.txt', 0], ['BAM:0006', 'R02', 'rh_22', 'Rh_l2_m2_r01000.txt', 0], ['BAM:0100', 'R21', 'rh_22', 'Rh_l2_m2_r00900.txt', 0], ['BAM:0109', 'R01', 'rh_22', 'Rh_l2_m2_r01000.txt', 0], ['BAM:0068', 'R03', 'rh_22', 'Rh_l2_m2_r01000.txt', 0], ['THC:0086', 'R02', 'rh_22', 'Rh_l2_m2_r00400.txt', 0], ['THC:0020', 'R01', 'rh_22', 'Rh_l2_m2_r00400.txt', 0], ['BAM:0020', 'R01', 'rh_22', 'Rh_l2_m2_r01000.txt', 0], ['BAM:0100', 'R27', 'rh_22', 'Rh_l2_m2_r00900.txt', 0], ['BAM:0005', 'R01', 'rh_22', 'Rh_l2_m2_r01000.txt', 0], ['BAM:0127', 'R01', 'rh_22', 'Rh_l2_m2_r01000.txt', 0], ['BAM:0054', 'R01', 'rh_22', 'Rh_l2_m2_r01000.txt', 0], ['THC:0043', 'R01', 'rh_22', 'Rh_l2_m2_r00400.txt', 0], ['BAM:0007', 'R02', 'rh_22', 'Rh_l2_m2_r01000.txt', 0], ['BAM:0019', 'R01', 'rh_22', 'Rh_l2_m2_r01000.txt', 0], ['THC:0086', 'R01', 'rh_22', 'Rh_l2_m2_r00400.txt', 0], ['BAM:0037', 'R02', 'rh_22', 'Rh_l2_m2_r01000.txt', 0], ['THC:0059', 'R01', 'rh_22', 'Rh_l2_m2_r00400.txt', 0], ['THC:0084', 'R01', 'rh_22', 'Rh_l2_m2_r00400.txt', 0], ['THC:0030', 'R03', 'rh_22', 'Rh_l2_m2_r00400.txt', 0], ['BAM:0132', 'R05', 'rh_22', 'Rh_l2_m2_r01400.txt', 0], ['BAM:0141', 'R04', 'rh_22', 'Rh_l2_m2_r00900.txt', 0], ['BAM:0101', 'R03', 'rh_22', 'Rh_l2_m2_r01000.txt', 0], ['BAM:0066', 'R02', 'rh_22', 'Rh_l2_m2_r01000.txt', 0], ['BAM:0130', 'R05', 'rh_22', 'Rh_l2_m2_r00900.txt', 0], ['BAM:0126', 'R03', 'rh_22', 'Rh_l2_m2_r01000.txt', 0], ['BAM:0094', 'R03', 'rh_22', 'Rh_l2_m2_r01000.txt', 0], ['BAM:0030', 'R01', 'rh_22', 'Rh_l2_m2_r00400.txt', 0], ['BAM:0100', 'R13', 'rh_22', 'Rh_l2_m2_r00900.txt', 0], ['BAM:0063', 'R01', 'rh_22', 'Rh_l2_m2_r01000.txt', 0], ['BAM:0099', 'R02', 'rh_22', 'Rh_l2_m2_r00900.txt', 0], ['THC:0019', 'R01', 'rh_22', 'Rh_l2_m2_r00400.txt', 0], ['BAM:0027', 'R01', 'rh_22', 'Rh_l2_m2_r00400.txt', 0], ['BAM:0137', 'R05', 'rh_22', 'Rh_l2_m2_r00900.txt', 0], ['BAM:0065', 'R09', 'rh_22', 'Rh_l2_m2_r01000.txt', 0], ['THC:0047', 'R01', 'rh_22', 'Rh_l2_m2_r00400.txt', 0], ['THC:0039', 'R03', 'rh_22', 'Rh_l2_m2_r00400.txt', 0], ['BAM:0074', 'R01', 'rh_22', 'Rh_l2_m2_r00900.txt', 0], ['BAM:0120', 'R02', 'rh_22', 'Rh_l2_m2_r01000.txt', 0], ['BAM:0010', 'R02', 'rh_22', 'Rh_l2_m2_r01000.txt', 0], ['BAM:0146', 'R01', 'rh_22', 'Rh_l2_mm2_r01400.txt', 0], ['THC:0099', 'R01', 'rh_22', 'Rh_l2_m2_r00400.txt', 0], ['BAM:0115', 'R01', 'rh_22', 'Rh_l2_m2_r00900.txt', 0], ['BAM:0096', 'R01', 'rh_22', 'Rh_l2_m2_r01000.txt', 0], ['BAM:0145', 'R02', 'rh_22', 'Rh_l2_mm2_r01400.txt', 0], ['THC:0019', 'R02', 'rh_22', 'Rh_l2_m2_r00400.txt', 0], ['THC:0088', 'R01', 'rh_22', 'Rh_l2_m2_r00400.txt', 0], ['BAM:0044', 'R02', 'rh_22', 'Rh_l2_m2_r01000.txt', 0], ['BAM:0041', 'R01', 'rh_22', 'Rh_l2_m2_r01000.txt', 0], ['BAM:0049', 'R02', 'rh_22', 'Rh_l2_m2_r01000.txt', 0], ['BAM:0100', 'R01', 'rh_22', 'Rh_l2_m2_r00600.txt', 0], ['THC:0050', 'R02', 'rh_22', 'Rh_l2_m2_r00400.txt', 0], ['BAM:0065', 'R07', 'rh_22', 'Rh_l2_m2_r01000.txt', 0], ['THC:0068', 'R02', 'rh_22', 'Rh_l2_m2_r00400.txt', 0], ['THC:0022', 'R01', 'rh_22', 'Rh_l2_m2_r00400.txt', 0], ['THC:0013', 'R01', 'rh_22', 'Rh_l2_m2_r00400.txt', 0], ['BAM:0070', 'R02', 'rh_22', 'Rh_l2_m2_r01000.txt', 0], ['BAM:0132', 'R01', 'rh_22', 'Rh_l2_m2_r01400.txt', 0], ['THC:0036', 'R03', 'rh_22', 'Rh_l2_m2_rInf.txt', 0], ['BAM:0004', 'R02', 'rh_22', 'Rh_l2_m2_r01000.txt', 0], ['BAM:0136', 'R01', 'rh_22', 'Rh_l2_m2_r00900.txt', 0], ['THC:0028', 'R02', 'rh_22', 'Rh_l2_m2_r00600.txt', 0], ['BAM:0101', 'R04', 'rh_22', 'Rh_l2_m2_r01000.txt', 0], ['BAM:0095', 'R02', 'rh_22', 'Rh_l2_m2_r01000.txt', 0], ['THC:0007', 'R01', 'rh_22', 'Rh_l2_m2_r00400.txt', 0], ['BAM:0137', 'R04', 'rh_22', 'Rh_l2_m2_r00900.txt', 0], ['THC:0067', 'R02', 'rh_22', 'Rh_l2_m2_r00400.txt', 0], ['BAM:0131', 'R04', 'rh_22', 'Rh_l2_m2_r00900.txt', 0], ['BAM:0087', 'R01', 'rh_22', 'Rh_l2_m2_r01000.txt', 0], ['BAM:0029', 'R01', 'rh_22', 'Rh_l2_m2_r00400.txt', 0], ['BAM:0095', 'R03', 'rh_22', 'Rh_l2_m2_r01000.txt', 0], ['BAM:0122', 'R01', 'rh_22', 'Rh_l2_m2_r01000.txt', 0], ['BAM:0112', 'R01', 'rh_22', 'Rh_l2_m2_r00900.txt', 0], ['BAM:0065', 'R01', 'rh_22', 'Rh_l2_m2_r01000.txt', 0], ['BAM:0048', 'R01', 'rh_22', 'Rh_l2_m2_r01000.txt', 0], ['THC:0073', 'R01', 'rh_22', 'Rh_l2_m2_r00400.txt', 0], ['BAM:0026', 'R04', 'rh_22', 'Rh_l2_m2_r00400.txt', 0], ['BAM:0142', 'R04', 'rh_22', 'Rh_l2_mm2_r01400.txt', 0], ['THC:0085', 'R02', 'rh_22', 'Rh_l2_m2_r00400.txt', 0], ['BAM:0100', 'R29', 'rh_22', 'Rh_l2_m2_r00850.txt', 0], ['BAM:0018', 'R02', 'rh_22', 'Rh_l2_m2_r01000.txt', 0], ['THC:0045', 'R02', 'rh_22', 'Rh_l2_m2_r00400.txt', 0], ['BAM:0014', 'R01', 'rh_22', 'Rh_l2_m2_r01000.txt', 0], ['THC:0063', 'R02', 'rh_22', 'Rh_l2_m2_r00400.txt', 0], ['THC:0061', 'R02', 'rh_22', 'Rh_l2_m2_r00400.txt', 0], ['THC:0016', 'R01', 'rh_22', 'Rh_l2_m2_r00400.txt', 0], ['THC:0027', 'R01', 'rh_22', 'Rh_l2_m2_r00400.txt', 0], ['THC:0055', 'R01', 'rh_22', 'Rh_l2_m2_r00400.txt', 0], ['BAM:0123', 'R04', 'rh_22', 'Rh_l2_m2_r01000.txt', 0], ['BAM:0014', 'R02', 'rh_22', 'Rh_l2_m2_r01000.txt', 0], ['BAM:0036', 'R02', 'rh_22', 'Rh_l2_m2_r01000.txt', 0], ['BAM:0053', 'R02', 'rh_22', 'Rh_l2_m2_r01000.txt', 0], ['BAM:0100', 'R19', 'rh_22', 'Rh_l2_m2_r00900.txt', 0], ['BAM:0142', 'R02', 'rh_22', 'Rh_l2_mm2_r01400.txt', 0], ['BAM:0085', 'R01', 'rh_22', 'Rh_l2_m2_r01000.txt', 0], ['BAM:0104', 'R02', 'rh_22', 'Rh_l2_m2_r01000.txt', 0], ['BAM:0135', 'R03', 'rh_22', 'Rh_l2_m2_r00900.txt', 0], ['BAM:0107', 'R01', 'rh_22', 'Rh_l2_m2_r01000.txt', 0], ['BAM:0045', 'R02', 'rh_22', 'Rh_l2_m2_r01000.txt', 0], ['THC:0098', 'R01', 'rh_22', 'Rh_l2_m2_r00400.txt', 0], ['BAM:0062', 'R02', 'rh_22', 'Rh_l2_m2_r01000.txt', 0], ['BAM:0145', 'R04', 'rh_22', 'Rh_l2_mm2_r01400.txt', 0], ['BAM:0108', 'R02', 'rh_22', 'Rh_l2_m2_r01000.txt', 0], ['THC:0031', 'R01', 'rh_22', 'Rh_l2_m2_r00400.txt', 0], ['BAM:0042', 'R01', 'rh_22', 'Rh_l2_m2_r01000.txt', 0], ['THC:0057', 'R01', 'rh_22', 'Rh_l2_m2_r00400.txt', 0], ['BAM:0134', 'R01', 'rh_22', 'Rh_l2_m2_r00900.txt', 0], ['THC:0008', 'R01', 'rh_22', 'Rh_l2_m2_r00400.txt', 0], ['THC:0052', 'R02', 'rh_22', 'Rh_l2_m2_r00400.txt', 0], ['BAM:0065', 'R04', 'rh_22', 'Rh_l2_m2_r01000.txt', 0], ['BAM:0095', 'R01', 'rh_22', 'Rh_l2_m2_r01000.txt', 0], ['THC:0003', 'R02', 'rh_22', 'Rh_l2_m2_r00400.txt', 0], ['THC:0089', 'R01', 'rh_22', 'Rh_l2_m2_r00400.txt', 0], ['BAM:0012', 'R02', 'rh_22', 'Rh_l2_m2_r01000.txt', 0], ['BAM:0068', 'R04', 'rh_22', 'Rh_l2_m2_r01000.txt', 0], ['THC:0005', 'R01', 'rh_22', 'Rh_l2_m2_r00400.txt', 0], ['BAM:0003', 'R01', 'rh_22', 'Rh_l2_m2_r00900.txt', 0], ['THC:0019', 'R04', 'rh_22', 'Rh_l2_m2_r00400.txt', 0], ['BAM:0080', 'R01', 'rh_22', 'Rh_l2_m2_r01000.txt', 0], ['BAM:0025', 'R01', 'rh_22', 'Rh_l2_m2_r00400.txt', 0], ['BAM:0062', 'R04', 'rh_22', 'Rh_l2_m2_r01000.txt', 0], ['BAM:0001', 'R03', 'rh_22', 'Rh_l2_m2_r00850.txt', 0], ['BAM:0057', 'R02', 'rh_22', 'Rh_l2_m2_r01000.txt', 0], ['BAM:0130', 'R02', 'rh_22', 'Rh_l2_m2_r00900.txt', 0], ['BAM:0082', 'R01', 'rh_22', 'Rh_l2_m2_r01000.txt', 0], ['BAM:0126', 'R01', 'rh_22', 'Rh_l2_m2_r01000.txt', 0], ['BAM:0002', 'R02', 'rh_22', 'Rh_l2_m2_r00900.txt', 0], ['THC:0036', 'R04', 'rh_22', 'Rh_l2_m2_rInf.txt', 0], ['BAM:0075', 'R01', 'rh_22', 'Rh_l2_m2_r00900.txt', 0], ['BAM:0026', 'R01', 'rh_22', 'Rh_l2_m2_r00400.txt', 0], ['BAM:0143', 'R01', 'rh_22', 'Rh_l2_mm2_r01400.txt', 0], ['BAM:0138', 'R03', 'rh_22', 'Rh_l2_m2_r00850.txt', 0], ['THC:0103', 'R01', 'rh_22', 'Rh_l2_m2_r00400.txt', 0], ['THC:0018', 'R01', 'rh_22', 'Rh_l2_m2_r00400.txt', 0], ['BAM:0084', 'R01', 'rh_22', 'Rh_l2_m2_r01000.txt', 0], ['THC:0029', 'R03', 'rh_22', 'Rh_l2_m2_rInf.txt', 0], ['THC:0094', 'R01', 'rh_22', 'Rh_l2_m2_r00400.txt', 0], ['THC:0026', 'R01', 'rh_22', 'Rh_l2_m2_r00400.txt', 0], ['THC:0091', 'R01', 'rh_22', 'Rh_l2_m2_r00400.txt', 0], ['THC:0051', 'R01', 'rh_22', 'Rh_l2_m2_r00400.txt', 0], ['THC:0014', 'R01', 'rh_22', 'Rh_l2_m2_r00400.txt', 0], ['BAM:0037', 'R01', 'rh_22', 'Rh_l2_m2_r01000.txt', 0], ['THC:0001', 'R01', 'rh_22', 'Rh_l2_m2_r00400.txt', 0], ['BAM:0114', 'R04', 'rh_22', 'Rh_l2_m2_r00900.txt', 0], ['BAM:0007', 'R01', 'rh_22', 'Rh_l2_m2_r01000.txt', 0], ['BAM:0137', 'R02', 'rh_22', 'Rh_l2_m2_r00900.txt', 0], ['BAM:0093', 'R01', 'rh_22', 'Rh_l2_m2_r01000.txt', 0], ['BAM:0100', 'R22', 'rh_22', 'Rh_l2_m2_r00900.txt', 0], ['BAM:0100', 'R15', 'rh_22', 'Rh_l2_m2_r00900.txt', 0], ['BAM:0079', 'R01', 'rh_22', 'Rh_l2_m2_r00900.txt', 0], ['THC:0088', 'R02', 'rh_22', 'Rh_l2_m2_r00400.txt', 0], ['BAM:0055', 'R01', 'rh_22', 'Rh_l2_m2_r01000.txt', 0], ['BAM:0100', 'R04', 'rh_22', 'Rh_l2_m2_r00450.txt', 0], ['BAM:0136', 'R05', 'rh_22', 'Rh_l2_m2_r00900.txt', 0], ['BAM:0072', 'R01', 'rh_22', 'Rh_l2_m2_r00900.txt', 0], ['BAM:0013', 'R02', 'rh_22', 'Rh_l2_m2_r01000.txt', 0], ['BAM:0052', 'R02', 'rh_22', 'Rh_l2_m2_r01000.txt', 0], ['BAM:0138', 'R02', 'rh_22', 'Rh_l2_m2_r00850.txt', 0], ['THC:0069', 'R02', 'rh_22', 'Rh_l2_m2_r00400.txt', 0], ['BAM:0016', 'R02', 'rh_22', 'Rh_l2_m2_r01000.txt', 0], ['THC:0030', 'R02', 'rh_22', 'Rh_l2_m2_r00400.txt', 0], ['THC:0077', 'R01', 'rh_22', 'Rh_l2_m2_r00400.txt', 0], ['BAM:0065', 'R06', 'rh_22', 'Rh_l2_m2_r00900.txt', 0], ['BAM:0129', 'R02', 'rh_22', 'Rh_l2_mm2_r01400.txt', 0], ['BAM:0035', 'R04', 'rh_22', 'Rh_l2_m2_r01000.txt', 0], ['THC:0064', 'R03', 'rh_22', 'Rh_l2_m2_r00400.txt', 0], ['BAM:0146', 'R04', 'rh_22', 'Rh_l2_mm2_r01400.txt', 0], ['BAM:0065', 'R05', 'rh_22', 'Rh_l2_m2_r01000.txt', 0], ['BAM:0100', 'R25', 'rh_22', 'Rh_l2_m2_r00900.txt', 0], ['BAM:0045', 'R01', 'rh_22', 'Rh_l2_m2_r01000.txt', 0], ['BAM:0142', 'R03', 'rh_22', 'Rh_l2_mm2_r01400.txt', 0], ['THC:0044', 'R02', 'rh_22', 'Rh_l2_m2_r00400.txt', 0], ['BAM:0132', 'R08', 'rh_22', 'Rh_l2_m2_r01400.txt', 0], ['BAM:0031', 'R01', 'rh_22', 'Rh_l2_m2_r00400.txt', 0], ['THC:0053', 'R01', 'rh_22', 'Rh_l2_m2_r00400.txt', 0], ['THC:0022', 'R03', 'rh_22', 'Rh_l2_m2_r00400.txt', 0], ['BAM:0017', 'R02', 'rh_22', 'Rh_l2_m2_r01000.txt', 0], ['BAM:0023', 'R01', 'rh_22', 'Rh_l2_m2_r00400.txt', 0], ['BAM:0100', 'R26', 'rh_22', 'Rh_l2_m2_r00900.txt', 0], ['BAM:0118', 'R01', 'rh_22', 'Rh_l2_m2_r00900.txt', 0], ['BAM:0018', 'R01', 'rh_22', 'Rh_l2_m2_r01000.txt', 0], ['BAM:0011', 'R01', 'rh_22', 'Rh_l2_m2_r01000.txt', 0], ['THC:0101', 'R01', 'rh_22', 'Rh_l2_m2_r00400.txt', 0], ['THC:0076', 'R02', 'rh_22', 'Rh_l2_m2_r00400.txt', 0], ['THC:0081', 'R01', 'rh_22', 'Rh_l2_m2_r00400.txt', 0], ['BAM:0052', 'R01', 'rh_22', 'Rh_l2_m2_r01000.txt', 0], ['BAM:0140', 'R01', 'rh_22', 'Rh_l2_m2_r00900.txt', 0], ['BAM:0100', 'R03', 'rh_22', 'Rh_l2_m2_r00800.txt', 0], ['THC:0068', 'R01', 'rh_22', 'Rh_l2_m2_r00400.txt', 0], ['BAM:0090', 'R01', 'rh_22', 'Rh_l2_m2_r01000.txt', 0], ['THC:0091', 'R02', 'rh_22', 'Rh_l2_m2_r00400.txt', 0], ['BAM:0136', 'R03', 'rh_22', 'Rh_l2_m2_r00900.txt', 0], ['BAM:0100', 'R24', 'rh_22', 'Rh_l2_m2_r01000.txt', 0], ['BAM:0001', 'R04', 'rh_22', 'Rh_l2_m2_r00900.txt', 0], ['BAM:0099', 'R01', 'rh_22', 'Rh_l2_m2_r00650.txt', 0], ['THC:0064', 'R02', 'rh_22', 'Rh_l2_m2_r00400.txt', 0], ['BAM:0144', 'R04', 'rh_22', 'Rh_l2_mm2_r01400.txt', 0], ['THC:0102', 'R01', 'rh_22', 'Rh_l2_m2_r00400.txt', 0], ['BAM:0070', 'R03', 'rh_22', 'Rh_l2_m2_r01000.txt', 0], ['BAM:0100', 'R20', 'rh_22', 'Rh_l2_m2_r01000.txt', 0], ['THC:0090', 'R03', 'rh_22', 'Rh_l2_m2_r00400.txt', 0], ['BAM:0128', 'R02', 'rh_22', 'Rh_l2_m2_r01000.txt', 0], ['BAM:0135', 'R01', 'rh_22', 'Rh_l2_m2_r00900.txt', 0], ['THC:0054', 'R02', 'rh_22', 'Rh_l2_m2_r00400.txt', 0], ['THC:0037', 'R02', 'rh_22', 'Rh_l2_m2_r00400.txt', 0], ['BAM:0124', 'R01', 'rh_22', 'Rh_l2_m2_r01000.txt', 0], ['BAM:0097', 'R02', 'rh_22', 'Rh_l2_m2_r01000.txt', 0], ['THC:0015', 'R01', 'rh_22', 'Rh_l2_m2_r00400.txt', 0], ['THC:0032', 'R01', 'rh_22', 'Rh_l2_m2_r00400.txt', 0], ['BAM:0042', 'R02', 'rh_22', 'Rh_l2_m2_r01000.txt', 0], ['THC:0072', 'R01', 'rh_22', 'Rh_l2_m2_r00400.txt', 0], ['BAM:0113', 'R03', 'rh_22', 'Rh_l2_m2_r00900.txt', 0], ['BAM:0033', 'R01', 'rh_22', 'Rh_l2_m2_r00400.txt', 0], ['BAM:0081', 'R01', 'rh_22', 'Rh_l2_m2_r01000.txt', 0], ['THC:0054', 'R03', 'rh_22', 'Rh_l2_m2_r00400.txt', 0], ['BAM:0054', 'R02', 'rh_22', 'Rh_l2_m2_r01000.txt', 0], ['THC:0093', 'R02', 'rh_22', 'Rh_l2_m2_r00400.txt', 0], ['BAM:0139', 'R03', 'rh_22', 'Rh_l2_m2_r00850.txt', 0], ['BAM:0089', 'R03', 'rh_22', 'Rh_l2_m2_r01000.txt', 0], ['BAM:0047', 'R01', 'rh_22', 'Rh_l2_m2_r01000.txt', 0], ['THC:0012', 'R01', 'rh_22', 'Rh_l2_m2_r00400.txt', 0], ['THC:0044', 'R01', 'rh_22', 'Rh_l2_m2_r00400.txt', 0], ['BAM:0101', 'R01', 'rh_22', 'Rh_l2_m2_r01000.txt', 0], ['BAM:0043', 'R02', 'rh_22', 'Rh_l2_m2_r01000.txt', 0], ['THC:0059', 'R02', 'rh_22', 'Rh_l2_m2_r00400.txt', 0], ['BAM:0110', 'R01', 'rh_22', 'Rh_l2_m2_r01000.txt', 0], ['BAM:0069', 'R01', 'rh_22', 'Rh_l2_m2_r00500.txt', 0], ['BAM:0144', 'R01', 'rh_22', 'Rh_l2_mm2_r01400.txt', 0], ['THC:0037', 'R01', 'rh_22', 'Rh_l2_m2_r00400.txt', 0], ['BAM:0036', 'R01', 'rh_22', 'Rh_l2_m2_r01000.txt', 0], ['THC:0060', 'R01', 'rh_22', 'Rh_l2_m2_r00400.txt', 0], ['BAM:0066', 'R01', 'rh_22', 'Rh_l2_m2_r01000.txt', 0], ['BAM:0110', 'R02', 'rh_22', 'Rh_l2_m2_r01000.txt', 0], ['BAM:0132', 'R02', 'rh_22', 'Rh_l2_m2_r01400.txt', 0], ['BAM:0099', 'R04', 'rh_22', 'Rh_l2_m2_r00900.txt', 0], ['THC:0089', 'R02', 'rh_22', 'Rh_l2_m2_r00400.txt', 0], ['BAM:0131', 'R03', 'rh_22', 'Rh_l2_m2_r00900.txt', 0], ['THC:0102', 'R02', 'rh_22', 'Rh_l2_m2_r00400.txt', 0], ['BAM:0132', 'R06', 'rh_22', 'Rh_l2_m2_r01400.txt', 0], ['THC:0083', 'R01', 'rh_22', 'Rh_l2_m2_r00400.txt', 0], ['BAM:0100', 'R18', 'rh_22', 'Rh_l2_m2_r00900.txt', 0], ['BAM:0097', 'R03', 'rh_22', 'Rh_l2_m2_r01000.txt', 0], ['THC:0028', 'R03', 'rh_22', 'Rh_l2_m2_r00600.txt', 0], ['THC:0025', 'R01', 'rh_22', 'Rh_l2_m2_r00400.txt', 0], ['BAM:0143', 'R02', 'rh_22', 'Rh_l2_mm2_r01400.txt', 0], ['THC:0050', 'R01', 'rh_22', 'Rh_l2_m2_r00400.txt', 0], ['BAM:0060', 'R01', 'rh_22', 'Rh_l2_m2_r00900.txt', 0], ['BAM:0136', 'R04', 'rh_22', 'Rh_l2_m2_r00900.txt', 0], ['THC:0046', 'R02', 'rh_22', 'Rh_l2_m2_r00400.txt', 0], ['BAM:0100', 'R08', 'rh_22', 'Rh_l2_m2_r00900.txt', 0], ['BAM:0146', 'R02', 'rh_22', 'Rh_l2_mm2_r01400.txt', 0], ['THC:0041', 'R02', 'rh_22', 'Rh_l2_m2_r00400.txt', 0], ['BAM:0108', 'R03', 'rh_22', 'Rh_l2_m2_r01000.txt', 0], ['THC:0078', 'R02', 'rh_22', 'Rh_l2_m2_r00400.txt', 0], ['THC:0019', 'R03', 'rh_22', 'Rh_l2_m2_r00400.txt', 0], ['BAM:0132', 'R03', 'rh_22', 'Rh_l2_m2_r01400.txt', 0], ['THC:0064', 'R01', 'rh_22', 'Rh_l2_m2_r00400.txt', 0], ['BAM:0123', 'R02', 'rh_22', 'Rh_l2_m2_r01000.txt', 0], ['THC:0079', 'R01', 'rh_22', 'Rh_l2_m2_r00400.txt', 0], ['BAM:0113', 'R02', 'rh_22', 'Rh_l2_m2_r00900.txt', 0], ['BAM:0087', 'R05', 'rh_22', 'Rh_l2_m2_r01000.txt', 0], ['BAM:0117', 'R01', 'rh_22', 'Rh_l2_m2_r00900.txt', 0], ['THC:0057', 'R02', 'rh_22', 'Rh_l2_m2_r00400.txt', 0], ['THC:0106', 'R01', 'rh_22', 'Rh_l2_m2_r00400.txt', 0], ['BAM:0081', 'R03', 'rh_22', 'Rh_l2_m2_r01000.txt', 0], ['BAM:0015', 'R01', 'rh_22', 'Rh_l2_m2_r01000.txt', 0], ['BAM:0100', 'R05', 'rh_22', 'Rh_l2_m2_r00900.txt', 0], ['BAM:0064', 'R03', 'rh_22', 'Rh_l2_m2_r01400.txt', 0], ['THC:0030', 'R01', 'rh_22', 'Rh_l2_m2_r00400.txt', 0], ['BAM:0094', 'R02', 'rh_22', 'Rh_l2_m2_r01000.txt', 0], ['BAM:0022', 'R01', 'rh_22', 'Rh_l2_m2_r00900.txt', 0], ['BAM:0064', 'R04', 'rh_22', 'Rh_l2_m2_r01300.txt', 0], ['BAM:0059', 'R02', 'rh_22', 'Rh_l2_m2_r01000.txt', 0], ['BAM:0121', 'R01', 'rh_22', 'Rh_l2_m2_r01000.txt', 0], ['BAM:0127', 'R03', 'rh_22', 'Rh_l2_m2_r01000.txt', 0], ['BAM:0040', 'R01', 'rh_22', 'Rh_l2_m2_r01000.txt', 0], ['BAM:0049', 'R01', 'rh_22', 'Rh_l2_m2_r01000.txt', 0], ['BAM:0046', 'R01', 'rh_22', 'Rh_l2_m2_r01200.txt', 0], ['BAM:0094', 'R01', 'rh_22', 'Rh_l2_m2_r01000.txt', 0], ['THC:0076', 'R01', 'rh_22', 'Rh_l2_m2_r00400.txt', 0], ['BAM:0141', 'R01', 'rh_22', 'Rh_l2_m2_r00900.txt', 0], ['THC:0065', 'R01', 'rh_22', 'Rh_l2_m2_r00400.txt', 0], ['BAM:0039', 'R04', 'rh_22', 'Rh_l2_m2_r01000.txt', 0], ['BAM:0016', 'R01', 'rh_22', 'Rh_l2_m2_r01000.txt', 0], ['BAM:0050', 'R02', 'rh_22', 'Rh_l2_m2_r01000.txt', 0], ['BAM:0142', 'R01', 'rh_22', 'Rh_l2_mm2_r01400.txt', 0], ['BAM:0026', 'R02', 'rh_22', 'Rh_l2_m2_r00400.txt', 0], ['THC:0106', 'R02', 'rh_22', 'Rh_l2_m2_r00400.txt', 0], ['BAM:0097', 'R05', 'rh_22', 'Rh_l2_m2_r00900.txt', 0], ['THC:0006', 'R01', 'rh_22', 'Rh_l2_m2_r00400.txt', 0], ['THC:0067', 'R01', 'rh_22', 'Rh_l2_m2_r00400.txt', 0], ['BAM:0097', 'R08', 'rh_22', 'Rh_l2_m2_r01100.txt', 0], ['BAM:0050', 'R01', 'rh_22', 'Rh_l2_m2_r01000.txt', 0], ['BAM:0073', 'R01', 'rh_22', 'Rh_l2_m2_r00900.txt', 0], ['BAM:0052', 'R04', 'rh_22', 'Rh_l2_m2_r01000.txt', 0], ['BAM:0053', 'R01', 'rh_22', 'Rh_l2_m2_r01000.txt', 0], ['BAM:0100', 'R16', 'rh_22', 'Rh_l2_m2_r00900.txt', 0], ['THC:0092', 'R01', 'rh_22', 'Rh_l2_m2_r00400.txt', 0], ['THC:0104', 'R01', 'rh_22', 'Rh_l2_m2_r00400.txt', 0], ['BAM:0003', 'R02', 'rh_22', 'Rh_l2_m2_r01000.txt', 0], ['BAM:0066', 'R04', 'rh_22', 'Rh_l2_m2_r01000.txt', 0], ['THC:0090', 'R01', 'rh_22', 'Rh_l2_m2_r00400.txt', 0], ['BAM:0039', 'R02', 'rh_22', 'Rh_l2_m2_r01000.txt', 0], ['THC:0084', 'R02', 'rh_22', 'Rh_l2_m2_r00400.txt', 0], ['BAM:0087', 'R04', 'rh_22', 'Rh_l2_m2_r01000.txt', 0], ['THC:0004', 'R01', 'rh_22', 'Rh_l2_m2_r00400.txt', 0], ['THC:0009', 'R01', 'rh_22', 'Rh_l2_m2_r00400.txt', 0], ['THC:0029', 'R02', 'rh_22', 'Rh_l2_m2_rInf.txt', 0], ['BAM:0020', 'R02', 'rh_22', 'Rh_l2_m2_r01000.txt', 0], ['BAM:0026', 'R03', 'rh_22', 'Rh_l2_m2_r00400.txt', 0], ['BAM:0099', 'R03', 'rh_22', 'Rh_l2_m2_r00900.txt', 0], ['THC:0042', 'R01', 'rh_22', 'Rh_l2_m2_r00400.txt', 0], ['BAM:0088', 'R04', 'rh_22', 'Rh_l2_m2_r01000.txt', 0], ['BAM:0019', 'R02', 'rh_22', 'Rh_l2_m2_r01000.txt', 0], ['THC:0043', 'R02', 'rh_22', 'Rh_l2_m2_r00400.txt', 0], ['THC:0011', 'R01', 'rh_22', 'Rh_l2_m2_r00400.txt', 0], ['BAM:0088', 'R03', 'rh_22', 'Rh_l2_m2_r01000.txt', 0], ['BAM:0072', 'R02', 'rh_22', 'Rh_l2_m2_r00900.txt', 0], ['BAM:0064', 'R01', 'rh_22', 'Rh_l2_m2_r01400.txt', 0], ['BAM:0046', 'R02', 'rh_22', 'Rh_l2_m2_r01200.txt', 0], ['BAM:0100', 'R02', 'rh_22', 'Rh_l2_m2_r01000.txt', 0], ['BAM:0071', 'R01', 'rh_22', 'Rh_l2_m2_r00900.txt', 0], ['THC:0070', 'R01', 'rh_22', 'Rh_l2_m2_r00400.txt', 0], ['BAM:0097', 'R09', 'rh_22', 'Rh_l2_m2_r01100.txt', 0], ['THC:0080', 'R01', 'rh_22', 'Rh_l2_m2_r00400.txt', 0], ['BAM:0005', 'R02', 'rh_22', 'Rh_l2_m2_r01000.txt', 0], ['BAM:0128', 'R01', 'rh_22', 'Rh_l2_m2_r01000.txt', 0], ['BAM:0035', 'R03', 'rh_22', 'Rh_l2_m2_r00900.txt', 0], ['THC:0100', 'R02', 'rh_22', 'Rh_l2_m2_r00400.txt', 0], ['BAM:0131', 'R01', 'rh_22', 'Rh_l2_m2_r00900.txt', 0], ['BAM:0015', 'R02', 'rh_22', 'Rh_l2_m2_r01000.txt', 0], ['THC:0093', 'R01', 'rh_22', 'Rh_l2_m2_r00400.txt', 0], ['BAM:0100', 'R11', 'rh_22', 'Rh_l2_m2_r00900.txt', 0], ['THC:0006', 'R02', 'rh_22', 'Rh_l2_m2_r00400.txt', 0], ['BAM:0089', 'R02', 'rh_22', 'Rh_l2_m2_r01000.txt', 0], ['BAM:0068', 'R02', 'rh_22', 'Rh_l2_m2_r01000.txt', 0], ['THC:0045', 'R01', 'rh_22', 'Rh_l2_m2_r00400.txt', 0], ['BAM:0002', 'R01', 'rh_22', 'Rh_l2_m2_r01000.txt', 0], ['BAM:0052', 'R03', 'rh_22', 'Rh_l2_m2_r01000.txt', 0], ['THC:0003', 'R01', 'rh_22', 'Rh_l2_m2_r00400.txt', 0], ['BAM:0065', 'R02', 'rh_22', 'Rh_l2_m2_r01000.txt', 0], ['BAM:0076', 'R01', 'rh_22', 'Rh_l2_m2_r00900.txt', 0], ['BAM:0062', 'R01', 'rh_22', 'Rh_l2_m2_r01000.txt', 0], ['THC:0058', 'R02', 'rh_22', 'Rh_l2_m2_r00400.txt', 0], ['THC:0062', 'R01', 'rh_22', 'Rh_l2_m2_r00400.txt', 0]]\n"
     ]
    }
   ],
   "source": [
    "from CoRe_Dataloader_ECSG import *\n",
    "import time\n",
    "import pandas as pd\n",
    "import numpy as np\n",
    "import torch\n",
    "import matplotlib.pyplot as plt"
   ]
  },
  {
   "cell_type": "code",
   "execution_count": 2,
   "metadata": {},
   "outputs": [],
   "source": [
    "# btime = time.time()\n",
    "# len_dataset = len(dataset)\n",
    "# print(\"finished with Initialization\")\n",
    "# print(\"pspace: \", len(dataset.pspace))\n",
    "# spectrograms = []\n",
    "# params = []\n",
    "# for i, (spectrogram, param) in enumerate(dataset):  # type: ignore\n",
    "#     print(i, len_dataset, spectrogram.shape, (time.time() - btime) / 60)\n",
    "#     spectrograms.append(spectrogram.cpu())\n",
    "#     params.append(param.cpu()) "
   ]
  },
  {
   "cell_type": "code",
   "execution_count": 3,
   "metadata": {},
   "outputs": [],
   "source": [
    "# comb = list(zip(spectrograms, params))\n",
    "# len(comb)\n"
   ]
  },
  {
   "cell_type": "code",
   "execution_count": 4,
   "metadata": {},
   "outputs": [],
   "source": [
    "# ! del ./spectrograms/*\n",
    "# for i,v in enumerate(comb):\n",
    "#     torch.save(v, \"./spectrograms/\" + str(i) + \"_\" + str(v[1][0].item()) + \"_\" + str(v[1][1].item())+ \"_\" + str(v[1][2].item()) + \".pt\")\n",
    "# import os\n",
    "# len(os.listdir(\"./spectrograms/\"))"
   ]
  },
  {
   "cell_type": "code",
   "execution_count": 5,
   "metadata": {},
   "outputs": [],
   "source": [
    "# ! del /A /Q padded_spectrograms\n",
    "# # ! rm -rf ./padded_spectrograms/*\n",
    "# # ! mkdir ./padded_spectrograms\n",
    "# ctr = 0\n",
    "# for i, (sgram, params) in enumerate(comb):\n",
    "#     for shift in range(0,101,5):\n",
    "#         padded_spectrogram = torch.tensor(pad_width(sgram, shift))\n",
    "#         name = f\"./padded_spectrograms/{i}_{shift}_{params[0].item()}_{params[1].item()}_{params[2].item()}.pt\"\n",
    "#         torch.save((padded_spectrogram, torch.concat((params, torch.tensor([shift])))), name)\n",
    "#         ctr += 1\n",
    "#         print(i,shift,ctr,params,torch.concat((params, torch.tensor([shift]))), end=\"\\r\\r\")\n",
    "#     print(\"\\nFinished with \", i, ctr,params,\"                \"*4)"
   ]
  },
  {
   "cell_type": "code",
   "execution_count": 6,
   "metadata": {},
   "outputs": [],
   "source": [
    "# len(os.listdir(\"./padded_spectrograms/\"))"
   ]
  },
  {
   "cell_type": "code",
   "execution_count": 7,
   "metadata": {},
   "outputs": [],
   "source": [
    "# import pathlib as p"
   ]
  },
  {
   "cell_type": "code",
   "execution_count": 8,
   "metadata": {},
   "outputs": [],
   "source": [
    "# len(list(p.Path(\"./padded_spectrograms/\").glob(\"*.pt\")))"
   ]
  },
  {
   "cell_type": "code",
   "execution_count": 9,
   "metadata": {},
   "outputs": [],
   "source": [
    "from CoRe_Dataloader_From_Files_With_OvGN import *"
   ]
  },
  {
   "cell_type": "code",
   "execution_count": 10,
   "metadata": {},
   "outputs": [
    {
     "name": "stdout",
     "output_type": "stream",
     "text": [
      "507990 length of original set\n",
      "length of testval set 0\n",
      "length of train set 507990\n",
      "length of test set 0\n",
      "length of valid set 0\n"
     ]
    }
   ],
   "source": [
    "a,_,_ = get_new_test_train_validation_datasets(0,0)"
   ]
  },
  {
   "cell_type": "code",
   "execution_count": 11,
   "metadata": {},
   "outputs": [
    {
     "name": "stdout",
     "output_type": "stream",
     "text": [
      "tensor([14.0000,  1.3813,  1.3813, 90.0000])\n",
      "0.405\n"
     ]
    },
    {
     "data": {
      "text/plain": [
       "torch.Size([5])"
      ]
     },
     "execution_count": 11,
     "metadata": {},
     "output_type": "execute_result"
    }
   ],
   "source": [
    "a[0][1].shape"
   ]
  }
 ],
 "metadata": {
  "kernelspec": {
   "display_name": "Python 3",
   "language": "python",
   "name": "python3"
  },
  "language_info": {
   "codemirror_mode": {
    "name": "ipython",
    "version": 3
   },
   "file_extension": ".py",
   "mimetype": "text/x-python",
   "name": "python",
   "nbconvert_exporter": "python",
   "pygments_lexer": "ipython3",
   "version": "3.10.7"
  },
  "orig_nbformat": 4
 },
 "nbformat": 4,
 "nbformat_minor": 2
}
