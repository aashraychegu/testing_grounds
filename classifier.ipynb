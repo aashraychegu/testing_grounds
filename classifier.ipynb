{
 "cells": [
  {
   "cell_type": "code",
   "execution_count": 1,
   "metadata": {},
   "outputs": [],
   "source": [
    "from CoRe_Dataloader_ECSG import load_pth_file,load_raw_from_pth_file\n",
    "import torch\n",
    "import torch.nn as nn\n",
    "import torch.nn.functional as F\n",
    "import torch.optim as optim\n",
    "from torch.utils.data import DataLoader\n",
    "import math\n",
    "import torchinfo\n",
    "import time\n",
    "import numpy as np\n",
    "import wandb\n",
    "import datetime\n",
    "from collections import OrderedDict\n",
    "# trainds = get_dataset()\n",
    "# train_dl = DataLoader(trainds,batch_size=6,shuffle = True,)\n",
    "# test_dl = DataLoader(trainds,batch_size=16*2,shuffle = True,)"
   ]
  },
  {
   "cell_type": "code",
   "execution_count": 2,
   "metadata": {},
   "outputs": [],
   "source": [
    "train_dl, test_dl = load_pth_file(train_dl_batch_size=8)\n",
    "raw_train_ds, raw_test_ds = load_raw_from_pth_file()"
   ]
  },
  {
   "cell_type": "code",
   "execution_count": 3,
   "metadata": {},
   "outputs": [],
   "source": [
    "torch.cuda.empty_cache()"
   ]
  },
  {
   "cell_type": "code",
   "execution_count": 4,
   "metadata": {},
   "outputs": [],
   "source": [
    "class LDB(nn.Module):\n",
    "    def __init__(self,inD,outD,dropout) -> None:\n",
    "        super().__init__()\n",
    "        inD = int(inD)\n",
    "        outD = int(outD)\n",
    "        self.seq = nn.Sequential(\n",
    "            nn.Linear(inD,outD),\n",
    "            nn.Dropout1d(p = dropout),\n",
    "            nn.BatchNorm1d(outD)\n",
    "        )\n",
    "    def forward(self,x):\n",
    "        return self.seq(x)\n",
    "\n",
    "\n",
    "def conv_formula(d_in,kernel_size,padding = 0,dilation = 1,stride = 1):\n",
    "    return math.floor(((d_in+(2*padding)-(dilation*(kernel_size-1))-1)/stride)+1)\n",
    "\n",
    "\n",
    "class CDB(nn.Module):\n",
    "    def __init__(self,x_in,y_in,in_channels:int,out_channels:int,kernel_size:int,stride = 1,padding = 0,dilation = 1,dropout = .2,) -> None:\n",
    "        super().__init__()\n",
    "        self.seq = nn.Sequential( # type: ignore\n",
    "            nn.Conv2d(in_channels=in_channels,\n",
    "                      out_channels= out_channels,\n",
    "                      kernel_size=kernel_size,\n",
    "                      stride = stride,\n",
    "                      padding = padding,\n",
    "                      dilation=dilation\n",
    "                      ),\n",
    "            nn.BatchNorm2d(out_channels),\n",
    "            nn.Dropout2d(dropout),\n",
    "        )\n",
    "        self.x_out = conv_formula(x_in,kernel_size=kernel_size,stride=stride,padding=padding,dilation=dilation)\n",
    "        self.y_out = conv_formula(y_in,kernel_size=kernel_size,stride=stride,padding=padding,dilation=dilation)\n",
    "        self.out_channels = out_channels\n",
    "    def forward(self,x):\n",
    "        return self.seq(x)\n",
    "\n",
    "def new_CDB(x_in,y_in,in_channels:int = 1,out_channels:int = 1,kernel_size:int = 3,stride = 1,padding = 0,dilation = 1,dropout = .2,device = \"cpu\"):\n",
    "    cdb = CDB(x_in,y_in,in_channels,out_channels,kernel_size,stride,padding,dilation,dropout).to(device)\n",
    "    return cdb,cdb.x_out,cdb.y_out,cdb.out_channels"
   ]
  },
  {
   "cell_type": "code",
   "execution_count": 5,
   "metadata": {},
   "outputs": [],
   "source": [
    "# problems: needs serious resizing to even work on this computer\n",
    "class simple_ann_cog(nn.Module):\n",
    "    def __init__(self,x,y,out_classes,device = \"cpu\") -> None:\n",
    "        super().__init__()\n",
    "        self.resize = Resize((200,200))\n",
    "        self.norm1 = nn.BatchNorm2d(1).to(device)\n",
    "        self.flatten = nn.Flatten().to(device)\n",
    "        self.l1 = LDB(x*y,4096,dropout = .2).to(device)\n",
    "        self.l2 = LDB(4096,4096/2,.2).to(device)\n",
    "        self.l3 = LDB(4096/2,out_classes,.2).to(device)\n",
    "        self.seq = nn.Sequential(self.l1,self.l2,self.l3)\n",
    "        self.softmax = nn.Softmax(-1).to(device)\n",
    "    def forward(self,x: torch.Tensor):\n",
    "        ix = self.resize(x)\n",
    "        xs = ix.shape\n",
    "        ix = ix.view((xs[0],1,xs[1],xs[2]))\n",
    "        ix = self.norm1(ix)\n",
    "        ix = self.flatten(ix)\n",
    "        ix = self.seq(ix)\n",
    "        return self.softmax(ix)"
   ]
  },
  {
   "cell_type": "code",
   "execution_count": 6,
   "metadata": {},
   "outputs": [],
   "source": [
    "# problems: needs serious resizing to even work on this computer\n",
    "class double_cnn_ann_cog(nn.Module):\n",
    "    def __init__(self,x,y,out_classes,device = \"cpu\") -> None:\n",
    "        super().__init__()\n",
    "        self.norm1 = nn.BatchNorm2d(1).to(device)\n",
    "        self.conv1,xout,yout,out_channels = new_CDB(x_in = 400, y_in = 400,in_channels = 1, out_channels = 8,kernel_size = 7,stride = 3,dropout=0,device=device)\n",
    "        self.conv2,xout,yout,out_channels = new_CDB(x_in = xout,y_in=yout,in_channels=8,out_channels=16,kernel_size=5,stride=2,dropout=0,device=device)\n",
    "        self.flatten = nn.Flatten().to(device)\n",
    "        self.l1 = LDB(xout*yout*out_channels,2048,dropout = 0).to(device)\n",
    "        self.l2 = LDB(2048,1024,0).to(device)\n",
    "        self.l3 = LDB(1024,out_classes,0).to(device)\n",
    "        self.seq = nn.Sequential(self.flatten,self.l1,self.l2,self.l3)\n",
    "        self.softmax = nn.Softmax(-1).to(device)\n",
    "        print(xout,yout,out_channels)\n",
    "    def forward(self,x: torch.Tensor):\n",
    "        xs = x.shape\n",
    "        ix = x.view((xs[0],1,xs[1],xs[2]))\n",
    "        ix = self.norm1(ix)\n",
    "        ix = self.conv1(ix)\n",
    "        ix = self.conv2(ix)\n",
    "        ix = self.seq(ix)\n",
    "        return self.softmax(ix)\n",
    "# model = double_cnn_ann_cog(400,400,19,\"cuda:0\")\n",
    "# torchinfo.summary(model,(1,400,400))"
   ]
  },
  {
   "cell_type": "code",
   "execution_count": 7,
   "metadata": {},
   "outputs": [
    {
     "name": "stdout",
     "output_type": "stream",
     "text": [
      "47 47 36 79524\n",
      "47 47 36\n"
     ]
    }
   ],
   "source": [
    "class multi_cnn_ann_cog(nn.Module):\n",
    "    def __init__(self,x=400,y=400,out_classes=19,device = \"cpu\") -> None:\n",
    "        super().__init__()\n",
    "        self.name = \"multi_cnn_ann_cog\"\n",
    "        self.norm1 = nn.BatchNorm2d(1).to(device)\n",
    "        self.conv1,xout,yout,out_channels = new_CDB(x_in = 400, y_in = 400,in_channels = 1, out_channels = 12,kernel_size = 7,stride = 2,dropout=0,device=device)\n",
    "        self.conv2,xout,yout,out_channels = new_CDB(x_in = xout,y_in=yout,in_channels=out_channels,out_channels=24,kernel_size=5,stride=2,dropout=0,device=device)\n",
    "        self.conv3, xout, yout,out_channels = new_CDB(x_in=xout,y_in=yout,in_channels=out_channels,out_channels=36,kernel_size=5,stride=2,dropout=0,device=device)\n",
    "        print(xout,yout,out_channels,xout*yout*out_channels)\n",
    "        self.flatten = nn.Flatten().to(device)\n",
    "        self.l1 = LDB(xout*yout*out_channels,2048,dropout = 0).to(device)\n",
    "        self.l2 = LDB(2048,1024,0).to(device)\n",
    "        self.l3 = LDB(1024,out_classes,0).to(device)\n",
    "        self.seq = nn.Sequential(self.flatten,self.l1,self.l2,self.l3)\n",
    "        self.softmax = nn.Softmax(-1).to(device)\n",
    "        print(xout,yout,out_channels)\n",
    "    def forward(self,x: torch.Tensor):\n",
    "        xs = x.shape\n",
    "        ix = x.view((xs[0],1,xs[1],xs[2]))\n",
    "        ix = self.norm1(ix)\n",
    "        ix = self.conv1(ix)\n",
    "        ix = self.conv2(ix)\n",
    "        ix = self.conv3(ix)\n",
    "        ix = self.seq(ix)\n",
    "        return self.softmax(ix)\n",
    "model = multi_cnn_ann_cog(400,400,19,\"cuda:0\")\n",
    "# torchinfo.summary(model,(1,400,400))"
   ]
  },
  {
   "cell_type": "code",
   "execution_count": 8,
   "metadata": {},
   "outputs": [],
   "source": [
    "class hyper_cnn_ann_cog(nn.Module):\n",
    "    def __init__(self, x=400, y=400, out_classes=19, device=\"cpu\") -> None:\n",
    "        super().__init__()\n",
    "        self.name = \"multi_cnn_ann_cog\"\n",
    "        self.norm1 = nn.BatchNorm2d(1).to(device)\n",
    "        self.conv1, xout, yout, out_channels = new_CDB(\n",
    "            x_in=400, y_in=400, in_channels=1, out_channels=8, kernel_size=3, stride=2, dropout=0, device=device)\n",
    "        self.conv2, xout, yout, out_channels = new_CDB(\n",
    "            x_in=xout, y_in=yout, in_channels=out_channels, out_channels=16, kernel_size=3, stride=2, dropout=0, device=device)\n",
    "        self.conv3, xout, yout, out_channels = new_CDB(\n",
    "            x_in=xout, y_in=yout, in_channels=out_channels, out_channels=32, kernel_size=3, stride=2, dropout=0, device=device)\n",
    "        self.conv4, xout, yout, out_channels = new_CDB(\n",
    "            x_in=xout, y_in=yout, in_channels=out_channels, out_channels=64, kernel_size=3, stride=2, dropout=0, device=device)\n",
    "        self.conv5, xout, yout, out_channels = new_CDB(\n",
    "            x_in=xout, y_in=yout, in_channels=out_channels, out_channels=128, kernel_size=3, stride=2, dropout=0, device=device)\n",
    "        self.conv6, xout, yout, out_channels = new_CDB(\n",
    "            x_in=xout, y_in=yout, in_channels=out_channels, out_channels=256, kernel_size=3, stride=2, dropout=0, device=device)\n",
    "        print(xout, yout, out_channels, xout*yout*out_channels)\n",
    "        self.flatten = nn.Flatten().to(device)\n",
    "        self.l1 = LDB(xout*yout*out_channels, 2048, dropout=0).to(device)\n",
    "        self.l2 = LDB(2048, 1024, 0).to(device)\n",
    "        self.l3 = LDB(1024, out_classes, 0).to(device)\n",
    "        self.seq = nn.Sequential(self.flatten, self.l1, self.l2, self.l3)\n",
    "        self.softmax = nn.Softmax(-1).to(device)\n",
    "\n",
    "    def forward(self, x: torch.Tensor):\n",
    "        xs = x.shape\n",
    "        print(xs)\n",
    "        ix = x.view((xs[0], 1, xs[1], xs[2]))\n",
    "        ix = self.norm1(ix)\n",
    "        ix = self.conv1(ix)\n",
    "        ix = self.conv2(ix)\n",
    "        ix = self.conv3(ix)\n",
    "        ix = self.conv4(ix)\n",
    "        ix = self.conv5(ix)\n",
    "        ix = self.conv6(ix)\n",
    "        ix = self.seq(ix)\n",
    "        return self.softmax(ix)\n",
    "\n",
    "\n",
    "# model = hyper_cnn_ann_cog(400, 400, 19, \"cuda:0\")\n",
    "# torchsummary.summary(model, (400, 400))\n"
   ]
  },
  {
   "cell_type": "code",
   "execution_count": 9,
   "metadata": {},
   "outputs": [],
   "source": [
    "# problems: needs serious resizing to even work on this computer\n",
    "class multi_dilated_cnn_ann_cog(nn.Module):\n",
    "    def __init__(self,x,y,out_classes,device = \"cpu\") -> None:\n",
    "        super().__init__()\n",
    "        self.norm1 = nn.BatchNorm2d(1).to(device)\n",
    "        xout, yout = 400, 400\n",
    "        self.conv1,xout,yout,out_channels = new_CDB(x_in = xout,y_in=yout,in_channels = 1, out_channels = 12*3,kernel_size = 7,stride = 3,dropout=.4,dilation = 3, device=device)\n",
    "        self.conv2,xout,yout,out_channels = new_CDB(x_in = xout,y_in=yout,in_channels=out_channels,out_channels=24*3,kernel_size=7,stride=3,dropout=.4,dilation = 3, device=device)\n",
    "        self.conv3,xout,yout,out_channels = new_CDB(x_in = xout,y_in=yout,in_channels=out_channels,out_channels=36*3,kernel_size=5,stride=2,dropout=.4,dilation = 2, device=device)\n",
    "        print(xout,yout,out_channels,xout*yout*out_channels)\n",
    "        self.flatten = nn.Flatten().to(device)\n",
    "        self.l1 = LDB(xout*yout*out_channels,2048*2,dropout = .4).to(device)\n",
    "        self.l2 = LDB(2048*2,1024*2,.4).to(device)\n",
    "        self.l3 = LDB(1024*2,64,.4).to(device)\n",
    "        self.l4 = LDB(64,19,.1).to(device)\n",
    "        self.seq = nn.Sequential(self.flatten,self.l1,self.l2,self.l3,self.l4)\n",
    "        self.softmax = nn.Softmax(-1).to(device)\n",
    "        print(xout,yout,out_channels)\n",
    "    def forward(self,x: torch.Tensor):\n",
    "        xs = x.shape\n",
    "        ix = x.view((xs[0],1,xs[1],xs[2]))\n",
    "        ix = self.norm1(ix)\n",
    "        ix = self.conv1(ix)\n",
    "        ix = self.conv2(ix)\n",
    "        ix = self.conv3(ix)\n",
    "        ix = self.seq(ix)\n",
    "        return self.softmax(ix)\n",
    "# model = multi_dilated_cnn_ann_cog(400,400,19,\"cuda:0\")\n",
    "# torchinfo.summary(model,(1,400,400))"
   ]
  },
  {
   "cell_type": "code",
   "execution_count": 10,
   "metadata": {},
   "outputs": [],
   "source": [
    "class hyper_cnn_ann_cog(nn.Module):\n",
    "    def __init__(self, x=400, y=400, out_classes=19, device=\"cpu\") -> None:\n",
    "        super().__init__()\n",
    "        self.name = \"multi_cnn_ann_cog\"\n",
    "        self.norm1 = nn.BatchNorm2d(1).to(device)\n",
    "        self.conv1, xout, yout, out_channels = new_CDB(\n",
    "            x_in=400, y_in=400, in_channels=1, out_channels=8, kernel_size=3, stride=2, dropout=0, device=device)\n",
    "        self.conv2, xout, yout, out_channels = new_CDB(\n",
    "            x_in=xout, y_in=yout, in_channels=out_channels, out_channels=16, kernel_size=3, stride=2, dropout=0, device=device)\n",
    "        self.conv3, xout, yout, out_channels = new_CDB(\n",
    "            x_in=xout, y_in=yout, in_channels=out_channels, out_channels=32, kernel_size=3, stride=2, dropout=0, device=device)\n",
    "        self.conv3, xout, yout, out_channels = new_CDB(\n",
    "            x_in=xout, y_in=yout, in_channels=out_channels, out_channels=64, kernel_size=3, stride=2, dropout=0, device=device)\n",
    "        self.conv3, xout, yout, out_channels = new_CDB(\n",
    "            x_in=xout, y_in=yout, in_channels=out_channels, out_channels=128, kernel_size=3, stride=2, dropout=0, device=device)\n",
    "        self.conv3, xout, yout, out_channels = new_CDB(\n",
    "            x_in=xout, y_in=yout, in_channels=out_channels, out_channels=256, kernel_size=3, stride=2, dropout=0, device=device)\n",
    "        # print(xout, yout, out_channels, xout*yout*out_channels)\n",
    "        self.flatten = nn.Flatten().to(device)\n",
    "        self.l1 = LDB(xout*yout*out_channels, 2048, dropout=0).to(device)\n",
    "        self.l2 = LDB(2048, 1024, 0).to(device)\n",
    "        self.l3 = LDB(1024, out_classes, 0).to(device)\n",
    "        self.seq = nn.Sequential(self.flatten, self.l1, self.l2, self.l3)\n",
    "        self.softmax = nn.Softmax(-1).to(device)\n",
    "        print(xout, yout, out_channels)\n",
    "\n",
    "    def forward(self, x: torch.Tensor):\n",
    "        xs = x.shape\n",
    "        ix = x.view((xs[0], 1, xs[1], xs[2]))\n",
    "        ix = self.norm1(ix)\n",
    "        ix = self.conv1(ix)\n",
    "        ix = self.conv2(ix)\n",
    "        ix = self.conv3(ix)\n",
    "        ix = self.seq(ix)\n",
    "        return self.softmax(ix)\n",
    "\n",
    "\n",
    "# model = hyper_cnn_ann_cog(400, 400, 19, \"cuda:0\")\n",
    "# torchinfo.summary(model,(1,400,400))\n"
   ]
  },
  {
   "cell_type": "code",
   "execution_count": 11,
   "metadata": {},
   "outputs": [],
   "source": [
    "# torch.onnx.export(model, torch.randn(1,400,400).to(\"cuda:0\"), 'test.onnx', input_names=[\"features\"], output_names=[\"logits\"])"
   ]
  },
  {
   "cell_type": "code",
   "execution_count": 12,
   "metadata": {},
   "outputs": [],
   "source": [
    "import torchmetrics as metrics\n",
    "acc = metrics.Accuracy(task=\"multiclass\",num_classes=19).to(\"cuda:0\")\n",
    "auroc = metrics.AUROC(task = \"multiclass\",num_classes=19).to(\"cuda:0\")\n"
   ]
  },
  {
   "cell_type": "code",
   "execution_count": 13,
   "metadata": {},
   "outputs": [],
   "source": [
    "def new_accuracy(model:torch.nn.Module,dl:DataLoader):\n",
    "    model.eval()\n",
    "    raw_output = []\n",
    "    parameters = []\n",
    "    with torch.no_grad():\n",
    "        for batch,(sg,params) in enumerate(dl):\n",
    "            sg = sg.to(\"cuda:0\").to(torch.float)\n",
    "            params = params[:,0].to(\"cuda:0\").to(torch.long)\n",
    "            raw_output.append(model(sg).detach())\n",
    "            parameters.append(params)\n",
    "    model.train()\n",
    "    output = torch.vstack(raw_output)\n",
    "    parameters = torch.hstack(parameters)\n",
    "    accuracy = acc(output,parameters)\n",
    "    auc = auroc(output,parameters)\n",
    "    return accuracy,auc\n"
   ]
  },
  {
   "cell_type": "code",
   "execution_count": null,
   "metadata": {},
   "outputs": [],
   "source": [
    "startlr = 3e-4\n",
    "optimizer = optim.Adam(params=model.parameters(), lr=startlr)\n",
    "optimizer1 = optim.NAdam(params=model.parameters(), lr=startlr)\n",
    "step_scheduler = optim.lr_scheduler.MultiStepLR(\n",
    "    optimizer, milestones=[5, 15, 45, 135], gamma=0.9)\n",
    "# at the end of 600 epochs, the learning rate is 0.000,002,62\n",
    "scheduler = torch.optim.lr_scheduler.StepLR(\n",
    "    optimizer, step_size=5, gamma=0.986)\n",
    "scheduler_pl = torch.optim.lr_scheduler.ReduceLROnPlateau(optimizer=optimizer, mode='max', factor=0.7, patience=30, verbose=True)\n",
    "lossfn = nn.CrossEntropyLoss()\n"
   ]
  },
  {
   "cell_type": "code",
   "execution_count": null,
   "metadata": {},
   "outputs": [],
   "source": [
    "def train_eval_model(config,adam = True,nadam = False):\n",
    "    tot_acc,auc = new_accuracy(model=model,dl = test_dl)\n",
    "    max_acc = -1\n",
    "    max_auc = -1\n",
    "    for epoch in range(1,config.epochs+2):\n",
    "        btime = time.time()\n",
    "        ldl = len(train_dl)\n",
    "        for batch,(sg,params) in enumerate(train_dl):\n",
    "            stime = time.time()\n",
    "            sg = sg.to(\"cuda:0\").to(torch.float)\n",
    "            params = params[:,0].to(\"cuda:0\").to(torch.long)\n",
    "            optimizer.zero_grad()\n",
    "            outputs = model(sg)\n",
    "            loss = lossfn(outputs,params)\n",
    "            loss.backward()\n",
    "            optimizer.step() if adam else None\n",
    "            optimizer1.step() if nadam else None\n",
    "            wandb.log({\"loss\":loss.item(),\"batch_accuracy\":acc(outputs,params),\"lr\":scheduler.get_last_lr()[0],\"epoch\":epoch})\n",
    "            print(f\"{epoch:5}/{config.epochs:5} // {batch:5}/{ldl:5} | Loss: {loss.item():2.4},batch_accuracy:{acc(outputs,params):3.4}, last_total_accuracy: {tot_acc}, Maximum Accuracy {max_acc} last AUROC {auc} Max AUC {max_auc} lr:{scheduler.get_last_lr()[0]:1.5},Time per Batch: {time.time()-stime:1.2} seconds     \",end = \"\\r\",flush=True)\n",
    "            torch.cuda.empty_cache()\n",
    "        scheduler.step()\n",
    "        step_scheduler.step()\n",
    "        scheduler_pl.step()\n",
    "        tot_acc,auc = new_accuracy(model=model,dl = test_dl)\n",
    "        if(tot_acc > max_acc):\n",
    "            max_acc = tot_acc\n",
    "            config.best_model = model.state_dict()\n",
    "            try:\n",
    "                torch.save(config.best_model, f\"./saved_models/cnns/best_model_state_dict_at_for{config.run_name}_stime_{config.start_time.replace(':', '-')}__acc_{max_acc}__auc_{auc}.pt\")\n",
    "            except:  pass    \n",
    "            print(\"\\nSAVING MODEL\")\n",
    "        max_auc = max(max_auc,auc)\n",
    "        print(f\"\\nEpoch {epoch+1}/{config.epochs} finished. Total accuracy: {tot_acc:3.5} AUROC: {auc} Time per Epoch: {time.time()-btime:1.5}\")\n",
    "\n",
    "        wandb.log({\"epoch\":epoch,\"accuracy\":tot_acc,\"max_accuracy\":max_acc,\"lr\":scheduler.get_last_lr()[0],\"auroc\":auc})"
   ]
  },
  {
   "cell_type": "code",
   "execution_count": null,
   "metadata": {},
   "outputs": [],
   "source": [
    "wandb.init(project = \"sdisc-2d-2convlayer\")\n",
    "config = wandb.config\n",
    "config.run_name = wandb.run._run_id\n",
    "config = wandb.config\n",
    "config.epochs = 1000\n",
    "config.inx = 400\n",
    "config.iny = 400\n",
    "config.lr = startlr     \n",
    "config.best_model = OrderedDict()\n",
    "config.start_time = datetime.datetime.now().isoformat()\n",
    "config.savename = f\"best_model_state_dict_at_for{config.run_name}_stime_{config.start_time.replace(':', '-')}__acc_max_acc__auc_auc.pt\"\n",
    "\n",
    "train_eval_model(wandb.config,nadam=True)"
   ]
  },
  {
   "cell_type": "code",
   "execution_count": null,
   "metadata": {},
   "outputs": [],
   "source": [
    "torch.save(config.best_model,\n",
    "           f\"./saved_models/cnns/best_model_state_dict_at_for{config.run_name}_stime_{config.start_time.replace(':', '-')}_BEST_MODEL.pt\")\n"
   ]
  },
  {
   "cell_type": "code",
   "execution_count": null,
   "metadata": {},
   "outputs": [],
   "source": [
    "train_eval_model(config=config,adam = False, nadam = True)"
   ]
  },
  {
   "cell_type": "code",
   "execution_count": 14,
   "metadata": {},
   "outputs": [
    {
     "name": "stdout",
     "output_type": "stream",
     "text": [
      "47 47 36 79524\n",
      "47 47 36\n"
     ]
    },
    {
     "ename": "RuntimeError",
     "evalue": "Error(s) in loading state_dict for multi_cnn_ann_cog:\n\tMissing key(s) in state_dict: \"norm1.weight\", \"norm1.bias\", \"norm1.running_mean\", \"norm1.running_var\", \"conv1.seq.0.weight\", \"conv1.seq.0.bias\", \"conv1.seq.1.weight\", \"conv1.seq.1.bias\", \"conv1.seq.1.running_mean\", \"conv1.seq.1.running_var\", \"conv2.seq.0.weight\", \"conv2.seq.0.bias\", \"conv2.seq.1.weight\", \"conv2.seq.1.bias\", \"conv2.seq.1.running_mean\", \"conv2.seq.1.running_var\", \"conv3.seq.0.weight\", \"conv3.seq.0.bias\", \"conv3.seq.1.weight\", \"conv3.seq.1.bias\", \"conv3.seq.1.running_mean\", \"conv3.seq.1.running_var\", \"l1.seq.0.weight\", \"l1.seq.0.bias\", \"l1.seq.2.weight\", \"l1.seq.2.bias\", \"l1.seq.2.running_mean\", \"l1.seq.2.running_var\", \"l2.seq.0.weight\", \"l2.seq.0.bias\", \"l2.seq.2.weight\", \"l2.seq.2.bias\", \"l2.seq.2.running_mean\", \"l2.seq.2.running_var\", \"l3.seq.0.weight\", \"l3.seq.0.bias\", \"l3.seq.2.weight\", \"l3.seq.2.bias\", \"l3.seq.2.running_mean\", \"l3.seq.2.running_var\", \"seq.1.seq.0.weight\", \"seq.1.seq.0.bias\", \"seq.1.seq.2.weight\", \"seq.1.seq.2.bias\", \"seq.1.seq.2.running_mean\", \"seq.1.seq.2.running_var\", \"seq.2.seq.0.weight\", \"seq.2.seq.0.bias\", \"seq.2.seq.2.weight\", \"seq.2.seq.2.bias\", \"seq.2.seq.2.running_mean\", \"seq.2.seq.2.running_var\", \"seq.3.seq.0.weight\", \"seq.3.seq.0.bias\", \"seq.3.seq.2.weight\", \"seq.3.seq.2.bias\", \"seq.3.seq.2.running_mean\", \"seq.3.seq.2.running_var\". \n\tUnexpected key(s) in state_dict: \"pos_embedding\", \"cls_token\", \"to_patch_embedding.1.weight\", \"to_patch_embedding.1.bias\", \"to_patch_embedding.2.weight\", \"to_patch_embedding.2.bias\", \"to_patch_embedding.3.weight\", \"to_patch_embedding.3.bias\", \"transformer.layers.0.0.norm.weight\", \"transformer.layers.0.0.norm.bias\", \"transformer.layers.0.0.fn.to_qkv.weight\", \"transformer.layers.0.0.fn.to_out.0.weight\", \"transformer.layers.0.0.fn.to_out.0.bias\", \"transformer.layers.0.1.norm.weight\", \"transformer.layers.0.1.norm.bias\", \"transformer.layers.0.1.fn.net.0.weight\", \"transformer.layers.0.1.fn.net.0.bias\", \"transformer.layers.0.1.fn.net.3.weight\", \"transformer.layers.0.1.fn.net.3.bias\", \"transformer.layers.1.0.norm.weight\", \"transformer.layers.1.0.norm.bias\", \"transformer.layers.1.0.fn.to_qkv.weight\", \"transformer.layers.1.0.fn.to_out.0.weight\", \"transformer.layers.1.0.fn.to_out.0.bias\", \"transformer.layers.1.1.norm.weight\", \"transformer.layers.1.1.norm.bias\", \"transformer.layers.1.1.fn.net.0.weight\", \"transformer.layers.1.1.fn.net.0.bias\", \"transformer.layers.1.1.fn.net.3.weight\", \"transformer.layers.1.1.fn.net.3.bias\", \"transformer.layers.2.0.norm.weight\", \"transformer.layers.2.0.norm.bias\", \"transformer.layers.2.0.fn.to_qkv.weight\", \"transformer.layers.2.0.fn.to_out.0.weight\", \"transformer.layers.2.0.fn.to_out.0.bias\", \"transformer.layers.2.1.norm.weight\", \"transformer.layers.2.1.norm.bias\", \"transformer.layers.2.1.fn.net.0.weight\", \"transformer.layers.2.1.fn.net.0.bias\", \"transformer.layers.2.1.fn.net.3.weight\", \"transformer.layers.2.1.fn.net.3.bias\", \"mlp_head.0.weight\", \"mlp_head.0.bias\", \"mlp_head.1.weight\", \"mlp_head.1.bias\". ",
     "output_type": "error",
     "traceback": [
      "\u001b[1;31m---------------------------------------------------------------------------\u001b[0m",
      "\u001b[1;31mRuntimeError\u001b[0m                              Traceback (most recent call last)",
      "Cell \u001b[1;32mIn[14], line 1\u001b[0m\n\u001b[1;32m----> 1\u001b[0m model \u001b[39m=\u001b[39m multi_cnn_ann_cog(device\u001b[39m=\u001b[39;49m\u001b[39m\"\u001b[39;49m\u001b[39mcuda:0\u001b[39;49m\u001b[39m\"\u001b[39;49m)\u001b[39m.\u001b[39;49mload_state_dict(torch\u001b[39m.\u001b[39;49mload(\u001b[39mr\u001b[39;49m\u001b[39m\"\u001b[39;49m\u001b[39mC:\u001b[39;49m\u001b[39m\\\u001b[39;49m\u001b[39mUsers\u001b[39;49m\u001b[39m\\\u001b[39;49m\u001b[39maashr\u001b[39;49m\u001b[39m\\\u001b[39;49m\u001b[39mDesktop\u001b[39;49m\u001b[39m\\\u001b[39;49m\u001b[39mresearch\u001b[39;49m\u001b[39m\\\u001b[39;49m\u001b[39mtesting_grounds\u001b[39;49m\u001b[39m\\\u001b[39;49m\u001b[39msaved_models\u001b[39;49m\u001b[39m\\\u001b[39;49m\u001b[39mcnns\u001b[39;49m\u001b[39m\\\u001b[39;49m\u001b[39mbest_model_state_dict_at_for6mf1ze6n_stime_2023-03-07T16-04-03.828356__acc_0.8732394576072693__auc_0.8983896970748901.pt\u001b[39;49m\u001b[39m\"\u001b[39;49m))\n",
      "File \u001b[1;32m~\\AppData\\Roaming\\Python\\Python310\\site-packages\\torch\\nn\\modules\\module.py:2001\u001b[0m, in \u001b[0;36mModule.load_state_dict\u001b[1;34m(self, state_dict, strict)\u001b[0m\n\u001b[0;32m   1996\u001b[0m         error_msgs\u001b[39m.\u001b[39minsert(\n\u001b[0;32m   1997\u001b[0m             \u001b[39m0\u001b[39m, \u001b[39m'\u001b[39m\u001b[39mMissing key(s) in state_dict: \u001b[39m\u001b[39m{}\u001b[39;00m\u001b[39m. \u001b[39m\u001b[39m'\u001b[39m\u001b[39m.\u001b[39mformat(\n\u001b[0;32m   1998\u001b[0m                 \u001b[39m'\u001b[39m\u001b[39m, \u001b[39m\u001b[39m'\u001b[39m\u001b[39m.\u001b[39mjoin(\u001b[39m'\u001b[39m\u001b[39m\"\u001b[39m\u001b[39m{}\u001b[39;00m\u001b[39m\"\u001b[39m\u001b[39m'\u001b[39m\u001b[39m.\u001b[39mformat(k) \u001b[39mfor\u001b[39;00m k \u001b[39min\u001b[39;00m missing_keys)))\n\u001b[0;32m   2000\u001b[0m \u001b[39mif\u001b[39;00m \u001b[39mlen\u001b[39m(error_msgs) \u001b[39m>\u001b[39m \u001b[39m0\u001b[39m:\n\u001b[1;32m-> 2001\u001b[0m     \u001b[39mraise\u001b[39;00m \u001b[39mRuntimeError\u001b[39;00m(\u001b[39m'\u001b[39m\u001b[39mError(s) in loading state_dict for \u001b[39m\u001b[39m{}\u001b[39;00m\u001b[39m:\u001b[39m\u001b[39m\\n\u001b[39;00m\u001b[39m\\t\u001b[39;00m\u001b[39m{}\u001b[39;00m\u001b[39m'\u001b[39m\u001b[39m.\u001b[39mformat(\n\u001b[0;32m   2002\u001b[0m                        \u001b[39mself\u001b[39m\u001b[39m.\u001b[39m\u001b[39m__class__\u001b[39m\u001b[39m.\u001b[39m\u001b[39m__name__\u001b[39m, \u001b[39m\"\u001b[39m\u001b[39m\\n\u001b[39;00m\u001b[39m\\t\u001b[39;00m\u001b[39m\"\u001b[39m\u001b[39m.\u001b[39mjoin(error_msgs)))\n\u001b[0;32m   2003\u001b[0m \u001b[39mreturn\u001b[39;00m _IncompatibleKeys(missing_keys, unexpected_keys)\n",
      "\u001b[1;31mRuntimeError\u001b[0m: Error(s) in loading state_dict for multi_cnn_ann_cog:\n\tMissing key(s) in state_dict: \"norm1.weight\", \"norm1.bias\", \"norm1.running_mean\", \"norm1.running_var\", \"conv1.seq.0.weight\", \"conv1.seq.0.bias\", \"conv1.seq.1.weight\", \"conv1.seq.1.bias\", \"conv1.seq.1.running_mean\", \"conv1.seq.1.running_var\", \"conv2.seq.0.weight\", \"conv2.seq.0.bias\", \"conv2.seq.1.weight\", \"conv2.seq.1.bias\", \"conv2.seq.1.running_mean\", \"conv2.seq.1.running_var\", \"conv3.seq.0.weight\", \"conv3.seq.0.bias\", \"conv3.seq.1.weight\", \"conv3.seq.1.bias\", \"conv3.seq.1.running_mean\", \"conv3.seq.1.running_var\", \"l1.seq.0.weight\", \"l1.seq.0.bias\", \"l1.seq.2.weight\", \"l1.seq.2.bias\", \"l1.seq.2.running_mean\", \"l1.seq.2.running_var\", \"l2.seq.0.weight\", \"l2.seq.0.bias\", \"l2.seq.2.weight\", \"l2.seq.2.bias\", \"l2.seq.2.running_mean\", \"l2.seq.2.running_var\", \"l3.seq.0.weight\", \"l3.seq.0.bias\", \"l3.seq.2.weight\", \"l3.seq.2.bias\", \"l3.seq.2.running_mean\", \"l3.seq.2.running_var\", \"seq.1.seq.0.weight\", \"seq.1.seq.0.bias\", \"seq.1.seq.2.weight\", \"seq.1.seq.2.bias\", \"seq.1.seq.2.running_mean\", \"seq.1.seq.2.running_var\", \"seq.2.seq.0.weight\", \"seq.2.seq.0.bias\", \"seq.2.seq.2.weight\", \"seq.2.seq.2.bias\", \"seq.2.seq.2.running_mean\", \"seq.2.seq.2.running_var\", \"seq.3.seq.0.weight\", \"seq.3.seq.0.bias\", \"seq.3.seq.2.weight\", \"seq.3.seq.2.bias\", \"seq.3.seq.2.running_mean\", \"seq.3.seq.2.running_var\". \n\tUnexpected key(s) in state_dict: \"pos_embedding\", \"cls_token\", \"to_patch_embedding.1.weight\", \"to_patch_embedding.1.bias\", \"to_patch_embedding.2.weight\", \"to_patch_embedding.2.bias\", \"to_patch_embedding.3.weight\", \"to_patch_embedding.3.bias\", \"transformer.layers.0.0.norm.weight\", \"transformer.layers.0.0.norm.bias\", \"transformer.layers.0.0.fn.to_qkv.weight\", \"transformer.layers.0.0.fn.to_out.0.weight\", \"transformer.layers.0.0.fn.to_out.0.bias\", \"transformer.layers.0.1.norm.weight\", \"transformer.layers.0.1.norm.bias\", \"transformer.layers.0.1.fn.net.0.weight\", \"transformer.layers.0.1.fn.net.0.bias\", \"transformer.layers.0.1.fn.net.3.weight\", \"transformer.layers.0.1.fn.net.3.bias\", \"transformer.layers.1.0.norm.weight\", \"transformer.layers.1.0.norm.bias\", \"transformer.layers.1.0.fn.to_qkv.weight\", \"transformer.layers.1.0.fn.to_out.0.weight\", \"transformer.layers.1.0.fn.to_out.0.bias\", \"transformer.layers.1.1.norm.weight\", \"transformer.layers.1.1.norm.bias\", \"transformer.layers.1.1.fn.net.0.weight\", \"transformer.layers.1.1.fn.net.0.bias\", \"transformer.layers.1.1.fn.net.3.weight\", \"transformer.layers.1.1.fn.net.3.bias\", \"transformer.layers.2.0.norm.weight\", \"transformer.layers.2.0.norm.bias\", \"transformer.layers.2.0.fn.to_qkv.weight\", \"transformer.layers.2.0.fn.to_out.0.weight\", \"transformer.layers.2.0.fn.to_out.0.bias\", \"transformer.layers.2.1.norm.weight\", \"transformer.layers.2.1.norm.bias\", \"transformer.layers.2.1.fn.net.0.weight\", \"transformer.layers.2.1.fn.net.0.bias\", \"transformer.layers.2.1.fn.net.3.weight\", \"transformer.layers.2.1.fn.net.3.bias\", \"mlp_head.0.weight\", \"mlp_head.0.bias\", \"mlp_head.1.weight\", \"mlp_head.1.bias\". "
     ]
    }
   ],
   "source": [
    "model = multi_cnn_ann_cog(device=\"cuda:0\").load_state_dict(torch.load(r\"C:\\Users\\aashr\\Desktop\\research\\testing_grounds\\saved_models\\cnns\\best_model_state_dict_at_for6mf1ze6n_stime_2023-03-07T16-04-03.828356__acc_0.8732394576072693__auc_0.8983896970748901.pt\"))\n"
   ]
  },
  {
   "cell_type": "code",
   "execution_count": 15,
   "metadata": {},
   "outputs": [],
   "source": [
    "import glob"
   ]
  },
  {
   "cell_type": "code",
   "execution_count": 20,
   "metadata": {},
   "outputs": [
    {
     "data": {
      "text/plain": [
       "['C:\\\\Users\\\\aashr\\\\Desktop\\\\research\\\\testing_grounds\\\\saved_models\\\\cnns\\\\best_model_state_dict_at_forc7kk02nb_stime_2023-03-03T22-19-32.826179__acc_0.7336152195930481__auc_0.6865194439888.pt',\n",
       " 'C:\\\\Users\\\\aashr\\\\Desktop\\\\research\\\\testing_grounds\\\\saved_models\\\\cnns\\\\best_model_state_dict_at_forc7kk02nb_stime_2023-03-03T22-19-32.826179__acc_0.7501056790351868__auc_0.6972088813781738.pt',\n",
       " 'C:\\\\Users\\\\aashr\\\\Desktop\\\\research\\\\testing_grounds\\\\saved_models\\\\cnns\\\\best_model_state_dict_at_forc7kk02nb_stime_2023-03-03T22-19-32.826179__acc_0.75095134973526__auc_0.7015225887298584.pt',\n",
       " 'C:\\\\Users\\\\aashr\\\\Desktop\\\\research\\\\testing_grounds\\\\saved_models\\\\cnns\\\\best_model_state_dict_at_forc7kk02nb_stime_2023-03-03T22-19-32.826179__acc_0.762367844581604__auc_0.7025383114814758.pt',\n",
       " 'C:\\\\Users\\\\aashr\\\\Desktop\\\\research\\\\testing_grounds\\\\saved_models\\\\cnns\\\\best_model_state_dict_at_forc7kk02nb_stime_2023-03-03T22-19-32.826179__acc_0.7674418687820435__auc_0.76778644323349.pt',\n",
       " 'C:\\\\Users\\\\aashr\\\\Desktop\\\\research\\\\testing_grounds\\\\saved_models\\\\cnns\\\\best_model_state_dict_at_forc7kk02nb_stime_2023-03-03T22-19-32.826179__acc_0.7699788808822632__auc_0.7722192406654358.pt',\n",
       " 'C:\\\\Users\\\\aashr\\\\Desktop\\\\research\\\\testing_grounds\\\\saved_models\\\\cnns\\\\best_model_state_dict_at_forc7kk02nb_stime_2023-03-03T22-19-32.826179__acc_0.7716701626777649__auc_0.7732415199279785.pt',\n",
       " 'C:\\\\Users\\\\aashr\\\\Desktop\\\\research\\\\testing_grounds\\\\saved_models\\\\cnns\\\\best_model_state_dict_at_forc7kk02nb_stime_2023-03-03T22-19-32.826179__acc_0.7725158333778381__auc_0.7748449444770813.pt',\n",
       " 'C:\\\\Users\\\\aashr\\\\Desktop\\\\research\\\\testing_grounds\\\\saved_models\\\\cnns\\\\best_model_state_dict_at_forf0wuvb2u_stime_2023-03-03T22-54-14.595830__acc_0.4139534831047058__auc_0.7013433575630188.pt',\n",
       " 'C:\\\\Users\\\\aashr\\\\Desktop\\\\research\\\\testing_grounds\\\\saved_models\\\\cnns\\\\best_model_state_dict_at_forf0wuvb2u_stime_2023-03-03T22-54-14.595830__acc_0.421141654253006__auc_0.6211912035942078.pt',\n",
       " 'C:\\\\Users\\\\aashr\\\\Desktop\\\\research\\\\testing_grounds\\\\saved_models\\\\cnns\\\\best_model_state_dict_at_forfhbpeo1w_stime_2023-03-03T23-14-04.949765__acc_0.4198731482028961__auc_0.6556599140167236.pt',\n",
       " 'C:\\\\Users\\\\aashr\\\\Desktop\\\\research\\\\testing_grounds\\\\saved_models\\\\cnns\\\\best_model_state_dict_at_forfhbpeo1w_stime_2023-03-03T23-14-04.949765__acc_0.4938689172267914__auc_0.6906877756118774.pt',\n",
       " 'C:\\\\Users\\\\aashr\\\\Desktop\\\\research\\\\testing_grounds\\\\saved_models\\\\cnns\\\\best_model_state_dict_at_forfhbpeo1w_stime_2023-03-03T23-14-04.949765__acc_0.53699791431427__auc_0.7154099345207214.pt',\n",
       " 'C:\\\\Users\\\\aashr\\\\Desktop\\\\research\\\\testing_grounds\\\\saved_models\\\\cnns\\\\best_model_state_dict_at_forfhbpeo1w_stime_2023-03-03T23-14-04.949765__acc_0.6300211548805237__auc_0.7202610969543457.pt',\n",
       " 'C:\\\\Users\\\\aashr\\\\Desktop\\\\research\\\\testing_grounds\\\\saved_models\\\\cnns\\\\best_model_state_dict_at_forfhbpeo1w_stime_2023-03-03T23-14-04.949765__acc_0.6397463083267212__auc_0.707884669303894.pt',\n",
       " 'C:\\\\Users\\\\aashr\\\\Desktop\\\\research\\\\testing_grounds\\\\saved_models\\\\cnns\\\\best_model_state_dict_at_forfhbpeo1w_stime_2023-03-03T23-14-04.949765__acc_0.6465116143226624__auc_0.7134388089179993.pt',\n",
       " 'C:\\\\Users\\\\aashr\\\\Desktop\\\\research\\\\testing_grounds\\\\saved_models\\\\cnns\\\\best_model_state_dict_at_forfhbpeo1w_stime_2023-03-03T23-14-04.949765__acc_0.689217746257782__auc_0.7180365324020386.pt',\n",
       " 'C:\\\\Users\\\\aashr\\\\Desktop\\\\research\\\\testing_grounds\\\\saved_models\\\\cnns\\\\best_model_state_dict_at_forfhbpeo1w_stime_2023-03-03T23-14-04.949765__acc_0.7116279006004333__auc_0.7243354916572571.pt',\n",
       " 'C:\\\\Users\\\\aashr\\\\Desktop\\\\research\\\\testing_grounds\\\\saved_models\\\\cnns\\\\best_model_state_dict_at_forfhbpeo1w_stime_2023-03-03T23-14-04.949765__acc_0.7293868660926819__auc_0.7432771325111389.pt',\n",
       " 'C:\\\\Users\\\\aashr\\\\Desktop\\\\research\\\\testing_grounds\\\\saved_models\\\\cnns\\\\best_model_state_dict_at_forfhbpeo1w_stime_2023-03-03T23-14-04.949765__acc_0.7403805255889893__auc_0.749068021774292.pt',\n",
       " 'C:\\\\Users\\\\aashr\\\\Desktop\\\\research\\\\testing_grounds\\\\saved_models\\\\cnns\\\\best_model_state_dict_at_forfhbpeo1w_stime_2023-03-03T23-14-04.949765__acc_0.7539111971855164__auc_0.7673875689506531.pt',\n",
       " 'C:\\\\Users\\\\aashr\\\\Desktop\\\\research\\\\testing_grounds\\\\saved_models\\\\cnns\\\\best_model_state_dict_at_forfhbpeo1w_stime_2023-03-03T23-14-04.949765__acc_0.7678647041320801__auc_0.7834160327911377.pt',\n",
       " 'C:\\\\Users\\\\aashr\\\\Desktop\\\\research\\\\testing_grounds\\\\saved_models\\\\cnns\\\\best_model_state_dict_at_forfhbpeo1w_stime_2023-03-03T23-14-04.949765__acc_0.7704017162322998__auc_0.781237006187439.pt',\n",
       " 'C:\\\\Users\\\\aashr\\\\Desktop\\\\research\\\\testing_grounds\\\\saved_models\\\\cnns\\\\best_model_state_dict_at_forfhbpeo1w_stime_2023-03-03T23-14-04.949765__acc_0.7733615040779114__auc_0.7875961661338806.pt',\n",
       " 'C:\\\\Users\\\\aashr\\\\Desktop\\\\research\\\\testing_grounds\\\\saved_models\\\\cnns\\\\best_model_state_dict_at_forfhbpeo1w_stime_2023-03-03T23-14-04.949765__acc_0.7754756808280945__auc_0.7887837290763855.pt',\n",
       " 'C:\\\\Users\\\\aashr\\\\Desktop\\\\research\\\\testing_grounds\\\\saved_models\\\\cnns\\\\best_model_state_dict_at_forfhbpeo1w_stime_2023-03-03T23-14-04.949765__acc_0.788583517074585__auc_0.7916774749755859.pt',\n",
       " 'C:\\\\Users\\\\aashr\\\\Desktop\\\\research\\\\testing_grounds\\\\saved_models\\\\cnns\\\\best_model_state_dict_at_forvwyd0r92_stime_2023-03-03T21-45-36.555066__acc_0.43382662534713745__auc_0.5999635457992554.pt',\n",
       " 'C:\\\\Users\\\\aashr\\\\Desktop\\\\research\\\\testing_grounds\\\\saved_models\\\\cnns\\\\best_model_state_dict_at_forvwyd0r92_stime_2023-03-03T21-45-36.555066__acc_0.48160675168037415__auc_0.6398794651031494.pt',\n",
       " 'C:\\\\Users\\\\aashr\\\\Desktop\\\\research\\\\testing_grounds\\\\saved_models\\\\cnns\\\\best_model_state_dict_at_forvwyd0r92_stime_2023-03-03T21-45-36.555066__acc_0.593234658241272__auc_0.6388818025588989.pt',\n",
       " 'C:\\\\Users\\\\aashr\\\\Desktop\\\\research\\\\testing_grounds\\\\saved_models\\\\cnns\\\\best_model_state_dict_at_forvwyd0r92_stime_2023-03-03T21-45-36.555066__acc_0.6562367677688599__auc_0.6625520586967468.pt',\n",
       " 'C:\\\\Users\\\\aashr\\\\Desktop\\\\research\\\\testing_grounds\\\\saved_models\\\\cnns\\\\best_model_state_dict_at_forvwyd0r92_stime_2023-03-03T21-45-36.555066__acc_0.7281184196472168__auc_0.6733605265617371.pt']"
      ]
     },
     "execution_count": 20,
     "metadata": {},
     "output_type": "execute_result"
    }
   ],
   "source": [
    "glob.glob(r\"C:\\Users\\aashr\\Desktop\\research\\testing_grounds\\saved_models\\cnns/*2023-03-03*\")\n"
   ]
  }
 ],
 "metadata": {
  "kernelspec": {
   "display_name": "Python 3",
   "language": "python",
   "name": "python3"
  },
  "language_info": {
   "codemirror_mode": {
    "name": "ipython",
    "version": 3
   },
   "file_extension": ".py",
   "mimetype": "text/x-python",
   "name": "python",
   "nbconvert_exporter": "python",
   "pygments_lexer": "ipython3",
   "version": "3.10.7"
  },
  "orig_nbformat": 4,
  "vscode": {
   "interpreter": {
    "hash": "26de051ba29f2982a8de78e945f0abaf191376122a1563185a90213a26c5da77"
   }
  }
 },
 "nbformat": 4,
 "nbformat_minor": 2
}
