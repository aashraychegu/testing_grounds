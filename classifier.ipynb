{
 "cells": [
  {
   "cell_type": "code",
   "execution_count": 1,
   "metadata": {},
   "outputs": [],
   "source": [
    "from CoRe_Dataloader_From_File_With_Random_From_Tensors import get_new_ttv_dataloaders, get_new_test_train_validation_datasets\n",
    "from CoRe_Dataloader_ECSG import dataset\n",
    "import torch\n",
    "import torch.nn as nn\n",
    "import torch.nn.functional as F\n",
    "import torch.optim as optim\n",
    "from torch.utils.data import DataLoader,TensorDataset\n",
    "import math\n",
    "import torchinfo\n",
    "import time\n",
    "import numpy as np\n",
    "import wandb\n",
    "import datetime\n",
    "from collections import OrderedDict"
   ]
  },
  {
   "cell_type": "code",
   "execution_count": 2,
   "metadata": {},
   "outputs": [],
   "source": [
    "import torchmetrics as metrics\n",
    "import pandas as pd\n",
    "mae = metrics.MeanAbsoluteError()\n",
    "mse = metrics.MeanSquaredError()\n",
    "combined = metrics.MetricCollection([\n",
    "    mae, mse\n",
    "    metrics.MeanAbsolutePercentageError(),\n",
    "    metrics.MeanSquaredLogError()\n",
    "])\n",
    "combined.to(\"cuda:0\")\n",
    "\n",
    "def get_df_from_rdict(rdict):\n",
    "    return pd.DataFrame(pd.Series(rdict).map(lambda x: x.item())).T\n"
   ]
  },
  {
   "cell_type": "code",
   "execution_count": 3,
   "metadata": {},
   "outputs": [],
   "source": [
    "def calc_metrics(model:torch.nn.Module,dl:DataLoader):\n",
    "    model.eval()\n",
    "    raw_output = []\n",
    "    parameters = []\n",
    "    with torch.no_grad():\n",
    "        for batch,(sg,params) in enumerate(dl):\n",
    "            sg = sg.to(\"cuda:0\").to(torch.float)\n",
    "            sgsh = sg.shape\n",
    "            sg = sg.view(sgsh[0], 1, sgsh[1], sgsh[2])\n",
    "\n",
    "            params = params[:,0].to(\"cuda:0\").to(torch.long)\n",
    "            \n",
    "            raw_output.append(model(sg).detach().cpu())\n",
    "            parameters.append(params.cpu())\n",
    "            # print(batch)\n",
    "    model.train()\n",
    "    output = torch.vstack(raw_output)\n",
    "    parameters = torch.hstack(parameters)\n",
    "    return combined(output,parameters)\n"
   ]
  },
  {
   "cell_type": "code",
   "execution_count": 4,
   "metadata": {},
   "outputs": [],
   "source": [
    "# import vit\n",
    "# import vit_pytorch\n",
    "from vit_pytorch import vit_for_small_dataset as vit_sd\n",
    "from vit_pytorch import vit as simple_vit\n",
    "from vit_pytorch.deepvit import DeepViT\n",
    "def init_model():\n",
    "    # return simple_vit.ViT(image_size=400,\n",
    "    #                patch_size=20,\n",
    "    #                num_classes=19,\n",
    "    #                dim=int(1024/2),\n",
    "    #                depth=2,\n",
    "    #                heads=8,\n",
    "    #                mlp_dim=int(2048/2),\n",
    "    #                channels=1).to(\"cuda:0\")\n",
    "    # return vit_sd.ViT(image_size=400,\n",
    "    #                patch_size=20,\n",
    "    #                num_classes=19,\n",
    "    #                dim=1024,\n",
    "    #                depth=4,\n",
    "    #                heads=16,\n",
    "    #                mlp_dim=int(2048/2),\n",
    "    #                dropout = 0.1,\n",
    "    #                emb_dropout = 0,\n",
    "    #                channels=1).to(\"cuda:0\")\n",
    "    return DeepViT(image_size=400,\n",
    "                    patch_size=20,\n",
    "                    num_classes=2,\n",
    "                    dim=1024,\n",
    "                    depth=4,\n",
    "                    heads=16,\n",
    "                    mlp_dim=int(2048/2),\n",
    "                    dropout=0.1,\n",
    "                    emb_dropout=0.1,\n",
    "                    channels=1).to(\"cuda:0\")\n"
   ]
  },
  {
   "cell_type": "code",
   "execution_count": 5,
   "metadata": {},
   "outputs": [
    {
     "name": "stdout",
     "output_type": "stream",
     "text": [
      "tensor([[ 0.2334,  0.0739, -0.1752,  0.0668, -0.3540, -0.2102,  0.3499,  0.3490,\n",
      "          0.2714,  0.0628,  1.0866, -0.4875, -0.7810,  0.9733, -0.3499,  0.4128,\n",
      "         -0.4465,  0.2090,  0.8769]], device='cuda:0',\n",
      "       grad_fn=<AddmmBackward0>)\n"
     ]
    },
    {
     "name": "stderr",
     "output_type": "stream",
     "text": [
      "C:\\Users\\aashr\\AppData\\Roaming\\Python\\Python310\\site-packages\\torch\\storage.py:315: UserWarning: TypedStorage is deprecated. It will be removed in the future and UntypedStorage will be the only storage class. This should only matter to you if you are using storages directly.\n",
      "  warnings.warn(message, UserWarning)\n"
     ]
    },
    {
     "data": {
      "text/plain": [
       "==============================================================================================================\n",
       "Layer (type:depth-idx)                                       Output Shape              Param #\n",
       "==============================================================================================================\n",
       "DeepViT                                                      [1, 19]                   411,648\n",
       "├─Sequential: 1-1                                            [1, 40, 1024]             --\n",
       "│    └─Rearrange: 2-1                                        [1, 40, 400]              --\n",
       "│    └─LayerNorm: 2-2                                        [1, 40, 400]              800\n",
       "│    └─Linear: 2-3                                           [1, 40, 1024]             410,624\n",
       "│    └─LayerNorm: 2-4                                        [1, 40, 1024]             2,048\n",
       "├─Dropout: 1-2                                               [1, 41, 1024]             --\n",
       "├─Transformer: 1-3                                           [1, 41, 1024]             --\n",
       "│    └─ModuleList: 2-5                                       --                        --\n",
       "│    │    └─ModuleList: 3-1                                  --                        6,298,912\n",
       "│    │    └─ModuleList: 3-2                                  --                        6,298,912\n",
       "│    │    └─ModuleList: 3-3                                  --                        6,298,912\n",
       "│    │    └─ModuleList: 3-4                                  --                        6,298,912\n",
       "├─Identity: 1-4                                              [1, 1024]                 --\n",
       "├─Sequential: 1-5                                            [1, 19]                   --\n",
       "│    └─LayerNorm: 2-6                                        [1, 1024]                 2,048\n",
       "│    └─Linear: 2-7                                           [1, 19]                   19,475\n",
       "==============================================================================================================\n",
       "Total params: 26,042,291\n",
       "Trainable params: 26,042,291\n",
       "Non-trainable params: 0\n",
       "Total mult-adds (M): 25.63\n",
       "==============================================================================================================\n",
       "Input size (MB): 0.06\n",
       "Forward/backward pass size (MB): 12.40\n",
       "Params size (MB): 102.52\n",
       "Estimated Total Size (MB): 114.98\n",
       "=============================================================================================================="
      ]
     },
     "execution_count": 5,
     "metadata": {},
     "output_type": "execute_result"
    }
   ],
   "source": [
    "model = init_model()\n",
    "img = torch.randn(1,1, 400,400).to(\"cuda:0\")\n",
    "preds = model(img)  # (1, 1000)\n",
    "print(preds)\n",
    "torchinfo.summary(model, input_size=(1,1, 400, 40))"
   ]
  },
  {
   "cell_type": "code",
   "execution_count": 6,
   "metadata": {},
   "outputs": [],
   "source": [
    "startlr = 3e-5\n",
    "optimizer = optim.AdamW(params=model.parameters(), lr=startlr)\n",
    "optimizer1 = optim.NAdam(params=model.parameters(), lr=startlr)\n",
    "step_scheduler = optim.lr_scheduler.MultiStepLR(\n",
    "    optimizer, milestones=[1,2,3,4], gamma=0.5)\n",
    "# at the end of 600 epochs, the learning rate is 0.000,002,62\n",
    "scheduler = torch.optim.lr_scheduler.StepLR(\n",
    "    optimizer, step_size=1, gamma=0.8)\n",
    "scheduler_pl = torch.optim.lr_scheduler.ReduceLROnPlateau(optimizer=optimizer, mode='max', factor=0.7, patience=35, verbose=True)\n",
    "l1 = nn.L1Loss(reduction = \"sum\")\n",
    "l2 = nn.L2Loss(reduction = \"sum\")\n",
    "lossfn = lambda x,y: l1(x,y) + l2(x,y)"
   ]
  },
  {
   "cell_type": "code",
   "execution_count": 7,
   "metadata": {},
   "outputs": [],
   "source": [
    "def to_seconds(s):\n",
    "    return f\"{s//3600}H:{(s%3600)//60}M:{round(s%60,3)}S\"\n",
    "def ismult(n,div):\n",
    "    return bool(1>>(n%div))"
   ]
  },
  {
   "cell_type": "code",
   "execution_count": null,
   "metadata": {},
   "outputs": [],
   "source": [
    "def save_model(best_model,config,m1,m2,m1name = \"l1\",m2name = \"l2\"):\n",
    "    try:\n",
    "        torch.save(\n",
    "            best_model, f\"./saved_models/ViT/WithNoise/best_model_state_dict_ViT_regressor_for{config.run_name}_stime_{config.start_time.replace(':', '-')}__{m1name}_{max_acc}__{m2name}_{max_auc}.pt\")\n",
    "        print(\"\\nSAVING MODEL\")\n",
    "    except:\n",
    "        wandb.alert(level=\"warning\", title=\"OUT OF MEMORY\")"
   ]
  },
  {
   "cell_type": "code",
   "execution_count": 8,
   "metadata": {},
   "outputs": [],
   "source": [
    "def train_eval_model(config, train_dl, test_dl, adam=True, nadam=False):\n",
    "    ldl = len(train_dl)\n",
    "    results = pd.DataFrame()\n",
    "    best_model = OrderedDict()\n",
    "    for epoch in range(1,config.epochs+1):\n",
    "        \n",
    "        print(\"preeval finished\")\n",
    "        etime = time.time()\n",
    "        for batch,(sg,params) in enumerate(train_dl):\n",
    "            stime = time.time()\n",
    "            sgsh = sg.shape\n",
    "            sg = sg.to(\"cuda:0\").to(torch.float).view(sgsh[0],1,sgsh[1],sgsh[2])\n",
    "            params = params[:,0].to(\"cuda:0\").to(torch.long)\n",
    "            optimizer.zero_grad()\n",
    "            outputs = model(sg)\n",
    "            loss = lossfn(outputs,params)\n",
    "            loss.backward()\n",
    "            optimizer.step() if adam else None\n",
    "            optimizer1.step() if nadam else None\n",
    "            #\n",
    "            torch.cuda.empty_cache()\n",
    "            #\n",
    "            wandb.log({\"loss\": loss.item(), \"batch_mae\": mae(outputs.to(\n",
    "                \"cpu\"), params.to(\"cpu\")),\"batch_mse\":mse(outputs.to(\n",
    "                \"cpu\"), params.to(\"cpu\")) \"lr\": scheduler.get_last_lr()[0], \"epoch\": epoch})\n",
    "            \n",
    "            print(\n",
    "                f\"{epoch:5}/{config.epochs:5} // {batch:5}/{ldl:5} | Loss: {loss.item():2.4},batch_mae:{mae(outputs.to('cpu'),params.to('cpu')):3.4}, lr:{scheduler.get_last_lr()[0]:1.5}, Time per Batch: {time.time()-stime:.3} seconds, Accumulated Time {to_seconds(round(time.time()-etime,3))}    \", end=\"\\r\", flush=True)\n",
    "            \n",
    "            if (batch-1) % 5000 == 0:\n",
    "                epoch_results = calc_metrics(model, test_dl)\n",
    "                results = pd.concat([results, get_df_from_rdict(epoch_results)])\n",
    "                min_mae = min(results[\"MeanAbsoluteError\"])\n",
    "                min_mse = min(results[\"MeanSquaredError\"])\n",
    "                #\n",
    "                if epoch_results[\"MeanAbsoluteError\"] == min_mae:\n",
    "                    best_model = model.state_dict()\n",
    "                    save_model(best_model,config,list(epoch_results.values())[0],list(epoch_results.values())[1])\n",
    "                    \n",
    "\n",
    "                wandb.log({\"epoch\": epoch, \"lr\": scheduler.get_last_lr()[0]} | epoch_results | {\n",
    "                        \"MinimumMAE\": min_mae, \"MinimumMSE\": min_mse} | {\"EpochTime\": time.time()-etime})\n",
    "        #\n",
    "        scheduler.step()\n",
    "        step_scheduler.step()\n",
    "        scheduler_pl.step(max_acc)\n",
    "        #\n",
    "        epoch_results = calc_metrics(model, test_dl)\n",
    "        results = pd.concat([results, get_df_from_rdict(epoch_results)])\n",
    "        #\n",
    "        min_mae = min(results[\"MeanAbsoluteError\"])\n",
    "        min_mse = min(results[\"MeanSquaredError\"])\n",
    "\n",
    "        if epoch_results[\"MeanAbsoluteError\"] == min_mae:\n",
    "            best_model = model.state_dict()\n",
    "            save_model(best_model,config,list(epoch_results.values())[0],list(epoch_results.values())[1])\n",
    "        #\n",
    "        \n",
    "        wandb.log({\"epoch\": epoch, \"lr\": scheduler.get_last_lr()[0]} | epoch_results | {\n",
    "                \"MinimumMAE\": min_mae, \"MinimumMSE\": min_mse} | {\"EpochTime\": time.time()-etime})\n",
    "\n",
    "    epoch_results = calc_metrics(model, test_dl)\n",
    "    results = pd.concat([results, get_df_from_rdict(epoch_results)])\n",
    "    return min_mae,min_mse"
   ]
  },
  {
   "cell_type": "code",
   "execution_count": 9,
   "metadata": {},
   "outputs": [
    {
     "name": "stderr",
     "output_type": "stream",
     "text": [
      "Failed to detect the name of this notebook, you can set it manually with the WANDB_NOTEBOOK_NAME environment variable to enable code saving.\n",
      "\u001b[34m\u001b[1mwandb\u001b[0m: Currently logged in as: \u001b[33maashraychegu\u001b[0m (\u001b[33malabs\u001b[0m). Use \u001b[1m`wandb login --relogin`\u001b[0m to force relogin\n"
     ]
    },
    {
     "data": {
      "text/html": [
       "wandb version 0.15.5 is available!  To upgrade, please run:\n",
       " $ pip install wandb --upgrade"
      ],
      "text/plain": [
       "<IPython.core.display.HTML object>"
      ]
     },
     "metadata": {},
     "output_type": "display_data"
    },
    {
     "data": {
      "text/html": [
       "Tracking run with wandb version 0.15.4"
      ],
      "text/plain": [
       "<IPython.core.display.HTML object>"
      ]
     },
     "metadata": {},
     "output_type": "display_data"
    },
    {
     "data": {
      "text/html": [
       "Run data is saved locally in <code>c:\\Users\\aashr\\Desktop\\research\\testing_grounds\\wandb\\run-20230708_235920-90gr12er</code>"
      ],
      "text/plain": [
       "<IPython.core.display.HTML object>"
      ]
     },
     "metadata": {},
     "output_type": "display_data"
    },
    {
     "data": {
      "text/html": [
       "Syncing run <strong><a href='https://wandb.ai/alabs/deep_vision_transformer_with_noise_classifier_2/runs/90gr12er' target=\"_blank\">daily-sky-1</a></strong> to <a href='https://wandb.ai/alabs/deep_vision_transformer_with_noise_classifier_2' target=\"_blank\">Weights & Biases</a> (<a href='https://wandb.me/run' target=\"_blank\">docs</a>)<br/>"
      ],
      "text/plain": [
       "<IPython.core.display.HTML object>"
      ]
     },
     "metadata": {},
     "output_type": "display_data"
    },
    {
     "data": {
      "text/html": [
       " View project at <a href='https://wandb.ai/alabs/deep_vision_transformer_with_noise_classifier_2' target=\"_blank\">https://wandb.ai/alabs/deep_vision_transformer_with_noise_classifier_2</a>"
      ],
      "text/plain": [
       "<IPython.core.display.HTML object>"
      ]
     },
     "metadata": {},
     "output_type": "display_data"
    },
    {
     "data": {
      "text/html": [
       " View run at <a href='https://wandb.ai/alabs/deep_vision_transformer_with_noise_classifier_2/runs/90gr12er' target=\"_blank\">https://wandb.ai/alabs/deep_vision_transformer_with_noise_classifier_2/runs/90gr12er</a>"
      ],
      "text/plain": [
       "<IPython.core.display.HTML object>"
      ]
     },
     "metadata": {},
     "output_type": "display_data"
    },
    {
     "name": "stdout",
     "output_type": "stream",
     "text": [
      "preeval finished\n",
      "    1/    3 //     1/23769 | Loss: 2.933,batch_accuracy:0.3125, lr:3e-05, Time per Batch: 0.463 seconds, Accumulated Time 0.0H:0.0M:1.002S    \n",
      "SAVING MODEL\n",
      "    1/    3 //  5001/23769 | Loss: 0.557,batch_accuracy:0.75, lr:3e-05, Time per Batch: 0.483 seconds, Accumulated Time 0.0H:50.0M:41.86799999999994S           \n",
      "SAVING MODEL\n",
      "    1/    3 // 10001/23769 | Loss: 0.458,batch_accuracy:0.9375, lr:3e-05, Time per Batch: 0.48 seconds, Accumulated Time 1.0H:41.0M:38.13600000000042S          \n",
      "SAVING MODEL\n",
      "    1/    3 // 15001/23769 | Loss: 0.2754,batch_accuracy:0.9375, lr:3e-05, Time per Batch: 0.475 seconds, Accumulated Time 2.0H:32.0M:31.38500000000022S        \n",
      "SAVING MODEL\n",
      "    1/    3 // 20001/23769 | Loss: 0.3831,batch_accuracy:0.875, lr:3e-05, Time per Batch: 0.463 seconds, Accumulated Time 3.0H:23.0M:24.139999999999418S       \n",
      "SAVING MODEL\n",
      "    1/    3 // 23768/23769 | Loss: 0.05139,batch_accuracy:1.0, lr:3e-05, Time per Batch: 0.135 seconds, Accumulated Time 10.0H:57.0M:1.4250000000029104S        \n",
      "SAVING MODEL\n",
      "preeval finished\n",
      "    2/    3 //     1/23769 | Loss: 0.1583,batch_accuracy:0.9375, lr:2.4e-05, Time per Batch: 0.466 seconds, Accumulated Time 0.0H:0.0M:1.001S    \n",
      "SAVING MODEL\n",
      "    2/    3 //  5001/23769 | Loss: 0.0008736,batch_accuracy:1.0, lr:2.4e-05, Time per Batch: 0.47 seconds, Accumulated Time 0.0H:50.0M:17.210999999999785S       \n",
      "SAVING MODEL\n",
      "    2/    3 // 10001/23769 | Loss: 0.0009466,batch_accuracy:1.0, lr:2.4e-05, Time per Batch: 0.458 seconds, Accumulated Time 1.0H:40.0M:26.68199999999979S       \n",
      "SAVING MODEL\n",
      "    2/    3 // 15001/23769 | Loss: 0.0136,batch_accuracy:1.0, lr:2.4e-05, Time per Batch: 0.465 seconds, Accumulated Time 2.0H:30.0M:14.523999999999432S        \n",
      "SAVING MODEL\n",
      "    2/    3 // 20001/23769 | Loss: 0.001574,batch_accuracy:1.0, lr:2.4e-05, Time per Batch: 0.462 seconds, Accumulated Time 3.0H:20.0M:0.9269999999996799S       \n",
      "SAVING MODEL\n",
      "    2/    3 // 23768/23769 | Loss: 0.006025,batch_accuracy:1.0, lr:2.4e-05, Time per Batch: 0.124 seconds, Accumulated Time 4.0H:0.0M:4.711999999999534S         \n",
      "SAVING MODEL\n",
      "preeval finished\n",
      "    3/    3 //     1/23769 | Loss: 0.0007893,batch_accuracy:1.0, lr:9.6e-06, Time per Batch: 0.456 seconds, Accumulated Time 0.0H:0.0M:0.967S    \n",
      "SAVING MODEL\n",
      "    3/    3 //  5001/23769 | Loss: 0.01552,batch_accuracy:1.0, lr:9.6e-06, Time per Batch: 0.468 seconds, Accumulated Time 0.0H:49.0M:53.177000000000135S       \n",
      "SAVING MODEL\n",
      "    3/    3 // 10001/23769 | Loss: 0.008598,batch_accuracy:1.0, lr:9.6e-06, Time per Batch: 0.456 seconds, Accumulated Time 1.0H:39.0M:26.65899999999965S        \n",
      "SAVING MODEL\n",
      "    3/    3 // 15001/23769 | Loss: 0.0002302,batch_accuracy:1.0, lr:9.6e-06, Time per Batch: 0.466 seconds, Accumulated Time 2.0H:29.0M:0.7080000000005384S       \n",
      "SAVING MODEL\n",
      "    3/    3 // 20001/23769 | Loss: 0.0003912,batch_accuracy:1.0, lr:9.6e-06, Time per Batch: 0.465 seconds, Accumulated Time 3.0H:18.0M:37.056000000000495S     \n",
      "SAVING MODEL\n",
      "    3/    3 // 23768/23769 | Loss: 0.002341,batch_accuracy:1.0, lr:9.6e-06, Time per Batch: 0.142 seconds, Accumulated Time 3.0H:58.0M:11.385000000000218S        \n",
      "SAVING MODEL\n"
     ]
    }
   ],
   "source": [
    "# uncomment for training\n",
    "results = []\n",
    "trials = 1\n",
    "for i in range(trials):\n",
    "    wandb.init(project=\"deep_vision_transformer_with_noise_classifier_2\",)\n",
    "    config = wandb.config\n",
    "    config.run_name = wandb.run._run_id\n",
    "    config = wandb.config\n",
    "    config.epochs = 3   \n",
    "    config.inx = 400\n",
    "    config.iny = 400\n",
    "    config.lr = startlr     \n",
    "    config.trial = i+1\n",
    "    config.total_trials = trials\n",
    "    config.best_model = OrderedDict()\n",
    "    config.start_time = datetime.datetime.now().isoformat()\n",
    "    config.savename = f\"best_model_state_dict_at_for{config.run_name}_stime_{config.start_time.replace(':', '-')}__acc_max_acc__auc_auc.pt\"\n",
    "    train_dl, valid_dl, test_dl = get_new_ttv_dataloaders()\n",
    "    train_eval_model(wandb.config,train_dl,valid_dl,nadam=True)\n",
    "    results.append(calc_metrics(model,test_dl)) #type: ignore\n",
    "    if i != (trials - 1):\n",
    "        model = init_model()"
   ]
  },
  {
   "cell_type": "code",
   "execution_count": 10,
   "metadata": {},
   "outputs": [],
   "source": [
    "evaldl = test_dl"
   ]
  },
  {
   "cell_type": "code",
   "execution_count": null,
   "metadata": {},
   "outputs": [],
   "source": [
    "model.eval()\n",
    "raw_output = []\n",
    "parameters = []\n",
    "with torch.no_grad():\n",
    "    for batch,(sg,params) in enumerate(evaldl):\n",
    "        sg = sg.to(\"cuda:0\").to(torch.float)\n",
    "        sgsh = sg.shape\n",
    "        sg = sg.view(sgsh[0], 1, sgsh[1], sgsh[2])\n",
    "\n",
    "        params = params[:,0].to(\"cuda:0\").to(torch.long)\n",
    "\n",
    "        raw_output.append(model(sg).detach().cpu())\n",
    "        parameters.append(params.cpu())\n",
    "        print(batch,\"finished\")\n",
    "model.train()\n",
    "output = torch.vstack(raw_output)\n",
    "parameters = torch.hstack(parameters)\n",
    "output = torch.argmax(output, dim=1)\n"
   ]
  },
  {
   "cell_type": "code",
   "execution_count": 12,
   "metadata": {},
   "outputs": [
    {
     "data": {
      "image/png": "[encoded data removed]",
      "text/plain": [
       "<Figure size 640x480 with 1 Axes>"
      ]
     },
     "metadata": {},
     "output_type": "display_data"
    }
   ],
   "source": [
    "roc = metrics.ROC(task=\"multiclass\",num_classes=19)\n",
    "fpr, tpr, thresholds = roc(output,parameters)\n",
    "len(fpr)\n",
    "import matplotlib.pyplot as plt\n",
    "for i in range(len(fpr)):\n",
    "    plt.plot(fpr[i],tpr[i])\n",
    "plt.show()\n",
    "torch.save([fpr,tpr,thresholds],\"roc.pt\")"
   ]
  },
  {
   "cell_type": "code",
   "execution_count": 14,
   "metadata": {},
   "outputs": [
    {
     "data": {
      "text/plain": [
       "tensor(0.9846)"
      ]
     },
     "execution_count": 14,
     "metadata": {},
     "output_type": "execute_result"
    }
   ],
   "source": [
    "comparisons = torch.eq(output, parameters).to(torch.float)\n",
    "torch.mean(comparisons)"
   ]
  },
  {
   "cell_type": "code",
   "execution_count": 93,
   "metadata": {},
   "outputs": [
    {
     "data": {
      "text/plain": [
       "<matplotlib.image.AxesImage at 0x21808679180>"
      ]
     },
     "execution_count": 93,
     "metadata": {},
     "output_type": "execute_result"
    },
    {
     "data": {
      "image/png": "[encoded data removed]",
      "text/plain": [
       "<Figure size 480x480 with 1 Axes>"
      ]
     },
     "metadata": {},
     "output_type": "display_data"
    }
   ],
   "source": [
    "confusion_matrix = metrics.ConfusionMatrix(num_classes=19, task = \"multiclass\")\n",
    "cfm = confusion_matrix(output,parameters).requires_grad_(False)\n",
    "np_cfm = cfm.cpu().numpy()\n",
    "num_elements = torch.unique(parameters, return_counts=True)[1]\n",
    "plt.matshow(np_cfm)"
   ]
  },
  {
   "cell_type": "code",
   "execution_count": null,
   "metadata": {},
   "outputs": [],
   "source": [
    "total_in_col = torch.sum(cfm,dim = 1)\n",
    "divide_by = torch.tensor(np.vstack([total_in_col for i in range(19)]))\n",
    "rescaled_cfm = cfm/divide_by"
   ]
  },
  {
   "cell_type": "code",
   "execution_count": 116,
   "metadata": {},
   "outputs": [
    {
     "data": {
      "image/png": "[encoded data removed]",
      "text/plain": [
       "<Figure size 640x480 with 1 Axes>"
      ]
     },
     "metadata": {},
     "output_type": "display_data"
    }
   ],
   "source": [
    "plt.imshow(nn.functional.sigmoid(rescaled_cfm*40))\n",
    "plt.title(\"Rescaled Confusion Matrix\")\n",
    "plt.xlabel(\"True Class\")\n",
    "plt.xticks(np.arange(19))\n",
    "plt.ylabel(\"Predicted Class\")\n",
    "plt.yticks(np.arange(19))\n",
    "plt.show()"
   ]
  },
  {
   "cell_type": "code",
   "execution_count": 120,
   "metadata": {},
   "outputs": [
    {
     "data": {
      "image/png": "[encoded data removed]",
      "text/plain": [
       "<Figure size 640x480 with 2 Axes>"
      ]
     },
     "metadata": {},
     "output_type": "display_data"
    }
   ],
   "source": [
    "plt.imshow(rescaled_cfm)\n",
    "plt.title(\"True Confusion Matrix\")\n",
    "plt.xlabel(\"True Class\")\n",
    "plt.xticks(np.arange(19))\n",
    "plt.ylabel(\"Predicted Class\")\n",
    "plt.yticks(np.arange(19))\n",
    "plt.colorbar()\n",
    "plt.show()"
   ]
  },
  {
   "cell_type": "code",
   "execution_count": null,
   "metadata": {},
   "outputs": [],
   "source": [
    "all_params = []\n",
    "for batch,(sg,params) in enumerate(evaldl):\n",
    "    all_params.append(params.cpu())\n",
    "    print(batch,len(evaldl))\n",
    "all_params = torch.vstack(all_params)\n",
    "all_params.shape\n",
    "results = torch.cat((all_params,torch.unsqueeze(comparisons,dim=1)),dim=1)"
   ]
  },
  {
   "cell_type": "code",
   "execution_count": 132,
   "metadata": {},
   "outputs": [
    {
     "data": {
      "text/html": [
       "<div>\n",
       "<style scoped>\n",
       "    .dataframe tbody tr th:only-of-type {\n",
       "        vertical-align: middle;\n",
       "    }\n",
       "\n",
       "    .dataframe tbody tr th {\n",
       "        vertical-align: top;\n",
       "    }\n",
       "\n",
       "    .dataframe thead th {\n",
       "        text-align: right;\n",
       "    }\n",
       "</style>\n",
       "<table border=\"1\" class=\"dataframe\">\n",
       "  <thead>\n",
       "    <tr style=\"text-align: right;\">\n",
       "      <th></th>\n",
       "      <th>EOS</th>\n",
       "      <th>SNR</th>\n",
       "      <th>correct</th>\n",
       "      <th>Masses</th>\n",
       "    </tr>\n",
       "  </thead>\n",
       "  <tbody>\n",
       "    <tr>\n",
       "      <th>0</th>\n",
       "      <td>16.0</td>\n",
       "      <td>1.380</td>\n",
       "      <td>1.0</td>\n",
       "      <td>2.462582</td>\n",
       "    </tr>\n",
       "    <tr>\n",
       "      <th>1</th>\n",
       "      <td>14.0</td>\n",
       "      <td>2.430</td>\n",
       "      <td>1.0</td>\n",
       "      <td>2.888030</td>\n",
       "    </tr>\n",
       "    <tr>\n",
       "      <th>2</th>\n",
       "      <td>16.0</td>\n",
       "      <td>2.630</td>\n",
       "      <td>1.0</td>\n",
       "      <td>2.700196</td>\n",
       "    </tr>\n",
       "    <tr>\n",
       "      <th>3</th>\n",
       "      <td>16.0</td>\n",
       "      <td>3.580</td>\n",
       "      <td>1.0</td>\n",
       "      <td>2.461393</td>\n",
       "    </tr>\n",
       "    <tr>\n",
       "      <th>4</th>\n",
       "      <td>10.0</td>\n",
       "      <td>4.830</td>\n",
       "      <td>1.0</td>\n",
       "      <td>2.750994</td>\n",
       "    </tr>\n",
       "    <tr>\n",
       "      <th>...</th>\n",
       "      <td>...</td>\n",
       "      <td>...</td>\n",
       "      <td>...</td>\n",
       "      <td>...</td>\n",
       "    </tr>\n",
       "    <tr>\n",
       "      <th>47532</th>\n",
       "      <td>16.0</td>\n",
       "      <td>2.905</td>\n",
       "      <td>1.0</td>\n",
       "      <td>2.701216</td>\n",
       "    </tr>\n",
       "    <tr>\n",
       "      <th>47533</th>\n",
       "      <td>14.0</td>\n",
       "      <td>2.605</td>\n",
       "      <td>1.0</td>\n",
       "      <td>2.888030</td>\n",
       "    </tr>\n",
       "    <tr>\n",
       "      <th>47534</th>\n",
       "      <td>10.0</td>\n",
       "      <td>0.330</td>\n",
       "      <td>1.0</td>\n",
       "      <td>2.750593</td>\n",
       "    </tr>\n",
       "    <tr>\n",
       "      <th>47535</th>\n",
       "      <td>14.0</td>\n",
       "      <td>0.930</td>\n",
       "      <td>1.0</td>\n",
       "      <td>2.700056</td>\n",
       "    </tr>\n",
       "    <tr>\n",
       "      <th>47536</th>\n",
       "      <td>10.0</td>\n",
       "      <td>4.055</td>\n",
       "      <td>1.0</td>\n",
       "      <td>2.700066</td>\n",
       "    </tr>\n",
       "  </tbody>\n",
       "</table>\n",
       "<p>47537 rows × 4 columns</p>\n",
       "</div>"
      ],
      "text/plain": [
       "        EOS    SNR  correct    Masses\n",
       "0      16.0  1.380      1.0  2.462582\n",
       "1      14.0  2.430      1.0  2.888030\n",
       "2      16.0  2.630      1.0  2.700196\n",
       "3      16.0  3.580      1.0  2.461393\n",
       "4      10.0  4.830      1.0  2.750994\n",
       "...     ...    ...      ...       ...\n",
       "47532  16.0  2.905      1.0  2.701216\n",
       "47533  14.0  2.605      1.0  2.888030\n",
       "47534  10.0  0.330      1.0  2.750593\n",
       "47535  14.0  0.930      1.0  2.700056\n",
       "47536  10.0  4.055      1.0  2.700066\n",
       "\n",
       "[47537 rows x 4 columns]"
      ]
     },
     "execution_count": 132,
     "metadata": {},
     "output_type": "execute_result"
    }
   ],
   "source": [
    "import pandas as pd\n",
    "df = pd.DataFrame(results.numpy())\n",
    "df = df.rename(columns={0: \"EOS\", 1: \"M1\", 2: \"M2\", 3: \"SNR\", 4: \"correct\"})\n",
    "df[\"combined\"] = df[\"M1\"] + df[\"M2\"]\n",
    "df = df.drop(\"M1\", axis=1).drop(\"M2\", axis=1)\n",
    "df = df.rename(columns={\"combined\": \"Masses\"})\n",
    "df"
   ]
  },
  {
   "cell_type": "code",
   "execution_count": 144,
   "metadata": {},
   "outputs": [],
   "source": [
    "mnc = pd.DataFrame([df[\"Masses\"],df[\"correct\"]]).T"
   ]
  },
  {
   "cell_type": "code",
   "execution_count": 145,
   "metadata": {},
   "outputs": [
    {
     "data": {
      "text/html": [
       "<div>\n",
       "<style scoped>\n",
       "    .dataframe tbody tr th:only-of-type {\n",
       "        vertical-align: middle;\n",
       "    }\n",
       "\n",
       "    .dataframe tbody tr th {\n",
       "        vertical-align: top;\n",
       "    }\n",
       "\n",
       "    .dataframe thead th {\n",
       "        text-align: right;\n",
       "    }\n",
       "</style>\n",
       "<table border=\"1\" class=\"dataframe\">\n",
       "  <thead>\n",
       "    <tr style=\"text-align: right;\">\n",
       "      <th></th>\n",
       "      <th>Masses</th>\n",
       "      <th>correct</th>\n",
       "    </tr>\n",
       "  </thead>\n",
       "  <tbody>\n",
       "    <tr>\n",
       "      <th>43509</th>\n",
       "      <td>2.400</td>\n",
       "      <td>1.0</td>\n",
       "    </tr>\n",
       "    <tr>\n",
       "      <th>24304</th>\n",
       "      <td>2.400</td>\n",
       "      <td>1.0</td>\n",
       "    </tr>\n",
       "    <tr>\n",
       "      <th>13616</th>\n",
       "      <td>2.400</td>\n",
       "      <td>1.0</td>\n",
       "    </tr>\n",
       "    <tr>\n",
       "      <th>46254</th>\n",
       "      <td>2.400</td>\n",
       "      <td>1.0</td>\n",
       "    </tr>\n",
       "    <tr>\n",
       "      <th>5698</th>\n",
       "      <td>2.400</td>\n",
       "      <td>1.0</td>\n",
       "    </tr>\n",
       "    <tr>\n",
       "      <th>...</th>\n",
       "      <td>...</td>\n",
       "      <td>...</td>\n",
       "    </tr>\n",
       "    <tr>\n",
       "      <th>17747</th>\n",
       "      <td>3.438</td>\n",
       "      <td>1.0</td>\n",
       "    </tr>\n",
       "    <tr>\n",
       "      <th>19452</th>\n",
       "      <td>3.438</td>\n",
       "      <td>1.0</td>\n",
       "    </tr>\n",
       "    <tr>\n",
       "      <th>25686</th>\n",
       "      <td>3.438</td>\n",
       "      <td>1.0</td>\n",
       "    </tr>\n",
       "    <tr>\n",
       "      <th>27475</th>\n",
       "      <td>3.438</td>\n",
       "      <td>1.0</td>\n",
       "    </tr>\n",
       "    <tr>\n",
       "      <th>2459</th>\n",
       "      <td>3.438</td>\n",
       "      <td>1.0</td>\n",
       "    </tr>\n",
       "  </tbody>\n",
       "</table>\n",
       "<p>47537 rows × 2 columns</p>\n",
       "</div>"
      ],
      "text/plain": [
       "       Masses  correct\n",
       "43509   2.400      1.0\n",
       "24304   2.400      1.0\n",
       "13616   2.400      1.0\n",
       "46254   2.400      1.0\n",
       "5698    2.400      1.0\n",
       "...       ...      ...\n",
       "17747   3.438      1.0\n",
       "19452   3.438      1.0\n",
       "25686   3.438      1.0\n",
       "27475   3.438      1.0\n",
       "2459    3.438      1.0\n",
       "\n",
       "[47537 rows x 2 columns]"
      ]
     },
     "execution_count": 145,
     "metadata": {},
     "output_type": "execute_result"
    }
   ],
   "source": [
    "mnc"
   ]
  },
  {
   "cell_type": "code",
   "execution_count": 184,
   "metadata": {},
   "outputs": [
    {
     "data": {
      "text/html": [
       "<div>\n",
       "<style scoped>\n",
       "    .dataframe tbody tr th:only-of-type {\n",
       "        vertical-align: middle;\n",
       "    }\n",
       "\n",
       "    .dataframe tbody tr th {\n",
       "        vertical-align: top;\n",
       "    }\n",
       "\n",
       "    .dataframe thead th {\n",
       "        text-align: right;\n",
       "    }\n",
       "</style>\n",
       "<table border=\"1\" class=\"dataframe\">\n",
       "  <thead>\n",
       "    <tr style=\"text-align: right;\">\n",
       "      <th></th>\n",
       "      <th>counts</th>\n",
       "    </tr>\n",
       "    <tr>\n",
       "      <th>masses</th>\n",
       "      <th></th>\n",
       "    </tr>\n",
       "  </thead>\n",
       "  <tbody>\n",
       "    <tr>\n",
       "      <th>2.700984</th>\n",
       "      <td>4453</td>\n",
       "    </tr>\n",
       "    <tr>\n",
       "      <th>2.700002</th>\n",
       "      <td>2391</td>\n",
       "    </tr>\n",
       "    <tr>\n",
       "      <th>2.700000</th>\n",
       "      <td>1647</td>\n",
       "    </tr>\n",
       "    <tr>\n",
       "      <th>2.699996</th>\n",
       "      <td>1599</td>\n",
       "    </tr>\n",
       "    <tr>\n",
       "      <th>2.700056</th>\n",
       "      <td>1168</td>\n",
       "    </tr>\n",
       "    <tr>\n",
       "      <th>...</th>\n",
       "      <td>...</td>\n",
       "    </tr>\n",
       "    <tr>\n",
       "      <th>2.400000</th>\n",
       "      <td>27</td>\n",
       "    </tr>\n",
       "    <tr>\n",
       "      <th>2.749000</th>\n",
       "      <td>25</td>\n",
       "    </tr>\n",
       "    <tr>\n",
       "      <th>2.920000</th>\n",
       "      <td>23</td>\n",
       "    </tr>\n",
       "    <tr>\n",
       "      <th>2.732000</th>\n",
       "      <td>21</td>\n",
       "    </tr>\n",
       "    <tr>\n",
       "      <th>3.420000</th>\n",
       "      <td>20</td>\n",
       "    </tr>\n",
       "  </tbody>\n",
       "</table>\n",
       "<p>141 rows × 1 columns</p>\n",
       "</div>"
      ],
      "text/plain": [
       "          counts\n",
       "masses          \n",
       "2.700984    4453\n",
       "2.700002    2391\n",
       "2.700000    1647\n",
       "2.699996    1599\n",
       "2.700056    1168\n",
       "...          ...\n",
       "2.400000      27\n",
       "2.749000      25\n",
       "2.920000      23\n",
       "2.732000      21\n",
       "3.420000      20\n",
       "\n",
       "[141 rows x 1 columns]"
      ]
     },
     "execution_count": 184,
     "metadata": {},
     "output_type": "execute_result"
    }
   ],
   "source": [
    "massescounts = pd.DataFrame(mnc[\"Masses\"].value_counts())\n",
    "massescounts = massescounts.rename(columns={\"Masses\":\"counts\"})\n",
    "massescounts = massescounts.rename_axis(\"masses\")\n",
    "massescounts"
   ]
  },
  {
   "cell_type": "code",
   "execution_count": 196,
   "metadata": {},
   "outputs": [
    {
     "data": {
      "text/plain": [
       "Text(0.5, 1.0, 'Histogram of Masses')"
      ]
     },
     "execution_count": 196,
     "metadata": {},
     "output_type": "execute_result"
    },
    {
     "data": {
      "image/png": "[encoded data removed]",
      "text/plain": [
       "<Figure size 640x480 with 1 Axes>"
      ]
     },
     "metadata": {},
     "output_type": "display_data"
    }
   ],
   "source": [
    "plt.hist(mnc[\"Masses\"],bins=10)\n",
    "plt.title(\"Histogram of Masses\")"
   ]
  },
  {
   "cell_type": "code",
   "execution_count": 193,
   "metadata": {},
   "outputs": [
    {
     "data": {
      "image/png": "[encoded data removed]",
      "text/plain": [
       "<Figure size 640x480 with 1 Axes>"
      ]
     },
     "metadata": {},
     "output_type": "display_data"
    }
   ],
   "source": [
    "mnc[\"ewma1\"] = mnc[\"correct\"].ewm(span = 1000).mean()\n",
    "plt.plot(df[\"Masses\"],df[\"ewma1\"])\n",
    "plt.title(\"Exponentially Weighted Moving Average of Correctness\")\n",
    "plt.xlabel(\"Masses\")\n",
    "plt.ylabel(\"Accuracy\")\n",
    "plt.show()"
   ]
  },
  {
   "cell_type": "code",
   "execution_count": 135,
   "metadata": {},
   "outputs": [
    {
     "data": {
      "text/plain": [
       "[<matplotlib.lines.Line2D at 0x218477ccc10>]"
      ]
     },
     "execution_count": 135,
     "metadata": {},
     "output_type": "execute_result"
    },
    {
     "data": {
      "image/png": "[encoded data removed]",
      "text/plain": [
       "<Figure size 640x480 with 1 Axes>"
      ]
     },
     "metadata": {},
     "output_type": "display_data"
    }
   ],
   "source": [
    "df.sort_values(by=[\"Masses\"], inplace=True)\n",
    "plt.plot(df[\"Masses\"], df[\"correct\"])"
   ]
  },
  {
   "cell_type": "code",
   "execution_count": 137,
   "metadata": {},
   "outputs": [],
   "source": [
    "def moving_average(a, n=3):\n",
    "    ret = np.cumsum(a, dtype=float)\n",
    "    ret[n:] = ret[n:] - ret[:-n]\n",
    "    return ret[n - 1:] / n\n"
   ]
  },
  {
   "cell_type": "code",
   "execution_count": 141,
   "metadata": {},
   "outputs": [
    {
     "data": {
      "text/plain": [
       "[<matplotlib.lines.Line2D at 0x218473e1f30>]"
      ]
     },
     "execution_count": 141,
     "metadata": {},
     "output_type": "execute_result"
    },
    {
     "data": {
      "image/png": "[encoded data removed]",
      "text/plain": [
       "<Figure size 640x480 with 1 Axes>"
      ]
     },
     "metadata": {},
     "output_type": "display_data"
    }
   ],
   "source": [
    "a = moving_average(df[\"correct\"].to_numpy(), 5)\n",
    "plt.plot(a)"
   ]
  },
  {
   "cell_type": "code",
   "execution_count": 37,
   "metadata": {},
   "outputs": [
    {
     "data": {
      "text/html": [
       "<div>\n",
       "<style scoped>\n",
       "    .dataframe tbody tr th:only-of-type {\n",
       "        vertical-align: middle;\n",
       "    }\n",
       "\n",
       "    .dataframe tbody tr th {\n",
       "        vertical-align: top;\n",
       "    }\n",
       "\n",
       "    .dataframe thead th {\n",
       "        text-align: right;\n",
       "    }\n",
       "</style>\n",
       "<table border=\"1\" class=\"dataframe\">\n",
       "  <thead>\n",
       "    <tr style=\"text-align: right;\">\n",
       "      <th></th>\n",
       "      <th>2B</th>\n",
       "      <th>2H</th>\n",
       "      <th>ALF2</th>\n",
       "      <th>BHBlp</th>\n",
       "      <th>BLQ</th>\n",
       "      <th>BLh</th>\n",
       "      <th>DD2</th>\n",
       "      <th>ENG</th>\n",
       "      <th>G2</th>\n",
       "      <th>G2k123</th>\n",
       "      <th>H4</th>\n",
       "      <th>LS220</th>\n",
       "      <th>MPA1</th>\n",
       "      <th>MS1</th>\n",
       "      <th>MS1b</th>\n",
       "      <th>SFHo</th>\n",
       "      <th>SLy</th>\n",
       "      <th>SLy4</th>\n",
       "      <th>sly</th>\n",
       "    </tr>\n",
       "  </thead>\n",
       "  <tbody>\n",
       "    <tr>\n",
       "      <th>0</th>\n",
       "      <td>0.985972</td>\n",
       "      <td>0.982143</td>\n",
       "      <td>0.983547</td>\n",
       "      <td>0.98913</td>\n",
       "      <td>0.989873</td>\n",
       "      <td>0.988406</td>\n",
       "      <td>0.982175</td>\n",
       "      <td>0.982759</td>\n",
       "      <td>0.988848</td>\n",
       "      <td>0.980519</td>\n",
       "      <td>0.982591</td>\n",
       "      <td>0.982487</td>\n",
       "      <td>0.992771</td>\n",
       "      <td>0.976996</td>\n",
       "      <td>0.984436</td>\n",
       "      <td>0.986971</td>\n",
       "      <td>0.985333</td>\n",
       "      <td>0.969388</td>\n",
       "      <td>0.985115</td>\n",
       "    </tr>\n",
       "  </tbody>\n",
       "</table>\n",
       "</div>"
      ],
      "text/plain": [
       "         2B        2H      ALF2    BHBlp       BLQ       BLh       DD2  \\\n",
       "0  0.985972  0.982143  0.983547  0.98913  0.989873  0.988406  0.982175   \n",
       "\n",
       "        ENG        G2    G2k123        H4     LS220      MPA1       MS1  \\\n",
       "0  0.982759  0.988848  0.980519  0.982591  0.982487  0.992771  0.976996   \n",
       "\n",
       "       MS1b      SFHo       SLy      SLy4       sly  \n",
       "0  0.984436  0.986971  0.985333  0.969388  0.985115  "
      ]
     },
     "execution_count": 37,
     "metadata": {},
     "output_type": "execute_result"
    }
   ],
   "source": [
    "\n",
    "by_eos_filter = {}\n",
    "for i in df[\"EOS\"].unique():\n",
    "    # print(df[df[\"EOS\"] == i].mean()[\"correct\"])\n",
    "    by_eos_filter[i] = [df[df[\"EOS\"] == i].mean()[\"correct\"]]\n",
    "\n",
    "eosdf = pd.DataFrame(by_eos_filter)\n",
    "eosdf = eosdf.reindex(sorted(eosdf.columns), axis=1)\n",
    "remapper = {value: key for key, value in dataset.eosmap.items()}\n",
    "eosdf = eosdf.rename(columns=remapper)\n",
    "eosdf\n"
   ]
  },
  {
   "cell_type": "code",
   "execution_count": 38,
   "metadata": {},
   "outputs": [
    {
     "data": {
      "text/html": [
       "<div>\n",
       "<style scoped>\n",
       "    .dataframe tbody tr th:only-of-type {\n",
       "        vertical-align: middle;\n",
       "    }\n",
       "\n",
       "    .dataframe tbody tr th {\n",
       "        vertical-align: top;\n",
       "    }\n",
       "\n",
       "    .dataframe thead th {\n",
       "        text-align: right;\n",
       "    }\n",
       "</style>\n",
       "<table border=\"1\" class=\"dataframe\">\n",
       "  <thead>\n",
       "    <tr style=\"text-align: right;\">\n",
       "      <th></th>\n",
       "      <th>0.000</th>\n",
       "      <th>0.005</th>\n",
       "      <th>0.030</th>\n",
       "      <th>0.055</th>\n",
       "      <th>0.080</th>\n",
       "      <th>0.105</th>\n",
       "      <th>0.130</th>\n",
       "      <th>0.155</th>\n",
       "      <th>0.180</th>\n",
       "      <th>0.205</th>\n",
       "      <th>...</th>\n",
       "      <th>4.755</th>\n",
       "      <th>4.780</th>\n",
       "      <th>4.805</th>\n",
       "      <th>4.830</th>\n",
       "      <th>4.855</th>\n",
       "      <th>4.880</th>\n",
       "      <th>4.905</th>\n",
       "      <th>4.930</th>\n",
       "      <th>4.955</th>\n",
       "      <th>4.980</th>\n",
       "    </tr>\n",
       "  </thead>\n",
       "  <tbody>\n",
       "    <tr>\n",
       "      <th>0</th>\n",
       "      <td>0.988971</td>\n",
       "      <td>0.965957</td>\n",
       "      <td>0.991597</td>\n",
       "      <td>0.971311</td>\n",
       "      <td>0.982456</td>\n",
       "      <td>0.981567</td>\n",
       "      <td>0.991837</td>\n",
       "      <td>0.995708</td>\n",
       "      <td>0.984252</td>\n",
       "      <td>0.976378</td>\n",
       "      <td>...</td>\n",
       "      <td>0.953846</td>\n",
       "      <td>0.979424</td>\n",
       "      <td>0.979424</td>\n",
       "      <td>0.9875</td>\n",
       "      <td>0.973684</td>\n",
       "      <td>0.987124</td>\n",
       "      <td>0.975</td>\n",
       "      <td>0.982759</td>\n",
       "      <td>0.995851</td>\n",
       "      <td>0.9869</td>\n",
       "    </tr>\n",
       "  </tbody>\n",
       "</table>\n",
       "<p>1 rows × 201 columns</p>\n",
       "</div>"
      ],
      "text/plain": [
       "      0.000     0.005     0.030     0.055     0.080     0.105     0.130  \\\n",
       "0  0.988971  0.965957  0.991597  0.971311  0.982456  0.981567  0.991837   \n",
       "\n",
       "      0.155     0.180     0.205  ...     4.755     4.780     4.805   4.830  \\\n",
       "0  0.995708  0.984252  0.976378  ...  0.953846  0.979424  0.979424  0.9875   \n",
       "\n",
       "      4.855     4.880  4.905     4.930     4.955   4.980  \n",
       "0  0.973684  0.987124  0.975  0.982759  0.995851  0.9869  \n",
       "\n",
       "[1 rows x 201 columns]"
      ]
     },
     "execution_count": 38,
     "metadata": {},
     "output_type": "execute_result"
    }
   ],
   "source": [
    "by_snr_filter = {}\n",
    "for i in df[\"SNR\"].unique():\n",
    "    # print(df[df[\"EOS\"] == i].mean()[\"correct\"])\n",
    "    by_snr_filter[i] = [df[df[\"SNR\"] == i].mean()[\"correct\"]]\n",
    "\n",
    "snrdf = pd.DataFrame(by_snr_filter)\n",
    "snrdf = snrdf.reindex(sorted(snrdf.columns), axis=1)\n",
    "# remapper = {value: key for key, value in dataset.eosmap.items()}\n",
    "# eosdf.rename(columns=remapper)\n",
    "# eosdf\n",
    "snrdf.rename(columns={0.000: -1}).T\n",
    "snrdf\n"
   ]
  },
  {
   "cell_type": "code",
   "execution_count": null,
   "metadata": {},
   "outputs": [],
   "source": [
    "\n",
    "df.to_csv(\"total_corrects_and_factors.pd.csv\")\n",
    "eosdf.to_csv(\"accuracy_by_eos.pd.csv\")\n",
    "snrdf.to_csv(\"accuracy_by_signal-to-noise-ratio.pd.csv\")\n"
   ]
  }
 ],
 "metadata": {
  "kernelspec": {
   "display_name": "Python 3",
   "language": "python",
   "name": "python3"
  },
  "language_info": {
   "codemirror_mode": {
    "name": "ipython",
    "version": 3
   },
   "file_extension": ".py",
   "mimetype": "text/x-python",
   "name": "python",
   "nbconvert_exporter": "python",
   "pygments_lexer": "ipython3",
   "version": "3.10.7"
  },
  "orig_nbformat": 4,
  "vscode": {
   "interpreter": {
    "hash": "26de051ba29f2982a8de78e945f0abaf191376122a1563185a90213a26c5da77"
   }
  }
 },
 "nbformat": 4,
 "nbformat_minor": 2
}
