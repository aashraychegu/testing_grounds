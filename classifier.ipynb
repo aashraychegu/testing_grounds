{
 "cells": [
  {
   "cell_type": "code",
   "execution_count": null,
   "metadata": {},
   "outputs": [],
   "source": [
    "from CoRe_Dataloader_ECSG import get_dataset\n",
    "import torch\n",
    "import torch.nn as nn\n",
    "import torch.nn.functional as F\n",
    "import torch.optim as optim\n",
    "from torch.utils.data import DataLoader\n",
    "from torchvision.transforms import Resize\n",
    "import math\n",
    "import torchinfo\n",
    "trainds = get_dataset(rsamp = .8)\n",
    "testds = get_dataset(rsamp = .2)\n",
    "train_dl = DataLoader(trainds,batch_size=6,shuffle = True,)\n",
    "test_dl = DataLoader(testds,batch_size=6,shuffle = True,)"
   ]
  },
  {
   "cell_type": "code",
   "execution_count": null,
   "metadata": {},
   "outputs": [],
   "source": [
    "class LDB(nn.Module):\n",
    "    def __init__(self,inD,outD,dropout) -> None:\n",
    "        super().__init__()\n",
    "        inD = int(inD)\n",
    "        outD = int(outD)\n",
    "        self.seq = nn.Sequential(\n",
    "            nn.Linear(inD,outD),\n",
    "            nn.Dropout1d(p = dropout),\n",
    "            nn.BatchNorm1d(outD)\n",
    "        )\n",
    "    def forward(self,x):\n",
    "        return self.seq(x)\n",
    "\n",
    "\n",
    "def conv_formula(d_in,kernel_size,padding = 0,dilation = 1,stride = 1):\n",
    "    return math.floor(((d_in+(2*padding)-(dilation*(kernel_size-1))-1)/stride)+1)\n",
    "\n",
    "\n",
    "class CDB(nn.Module):\n",
    "    def __init__(self,x_in,y_in,in_channels:int,out_channels:int,kernel_size:int,stride = 1,padding = 0,dilation = 1,dropout = .2,) -> None:\n",
    "        super().__init__()\n",
    "        self.seq = nn.Sequential( # type: ignore\n",
    "            nn.Conv2d(in_channels=in_channels,\n",
    "                      out_channels= out_channels,\n",
    "                      kernel_size=kernel_size,\n",
    "                      stride = stride,\n",
    "                      padding = padding,\n",
    "                      dilation=dilation\n",
    "                      ),\n",
    "            nn.BatchNorm2d(out_channels),\n",
    "            nn.Dropout2d(dropout),\n",
    "        )\n",
    "        self.x_out = conv_formula(x_in,kernel_size=kernel_size,stride=stride,padding=padding,dilation=dilation)\n",
    "        self.y_out = conv_formula(y_in,kernel_size=kernel_size,stride=stride,padding=padding,dilation=dilation)\n",
    "        self.out_channels = out_channels\n",
    "    def forward(self,x):\n",
    "        return self.seq(x)\n",
    "\n",
    "def new_CDB(x_in,y_in,in_channels:int = 1,out_channels:int = 1,kernel_size:int = 3,stride = 1,padding = 0,dilation = 1,dropout = .2,device = \"cpu\"):\n",
    "    cdb = CDB(x_in,y_in,in_channels,out_channels,kernel_size,stride,padding,dilation,dropout).to(device)\n",
    "    return cdb,cdb.x_out,cdb.y_out,cdb.out_channels"
   ]
  },
  {
   "cell_type": "code",
   "execution_count": null,
   "metadata": {},
   "outputs": [],
   "source": [
    "# problems: needs serious resizing to even work on this computer\n",
    "class simple_ann_cog(nn.Module):\n",
    "    def __init__(self,x,y,out_classes,device = \"cpu\") -> None:\n",
    "        super().__init__()\n",
    "        self.resize = Resize((200,200))\n",
    "        self.norm1 = nn.BatchNorm2d(1).to(device)\n",
    "        self.flatten = nn.Flatten().to(device)\n",
    "        self.l1 = LDB(x*y,4096,dropout = .2).to(device)\n",
    "        self.l2 = LDB(4096,4096/2,.2).to(device)\n",
    "        self.l3 = LDB(4096/2,out_classes,.2).to(device)\n",
    "        self.seq = nn.Sequential(self.l1,self.l2,self.l3)\n",
    "        self.softmax = nn.Softmax(-1).to(device)\n",
    "    def forward(self,x: torch.Tensor):\n",
    "        ix = self.resize(x)\n",
    "        xs = ix.shape\n",
    "        ix = ix.view((xs[0],1,xs[1],xs[2]))\n",
    "        ix = self.norm1(ix)\n",
    "        ix = self.flatten(ix)\n",
    "        ix = self.seq(ix)\n",
    "        return self.softmax(ix)"
   ]
  },
  {
   "cell_type": "code",
   "execution_count": null,
   "metadata": {},
   "outputs": [],
   "source": [
    "# problems: needs serious resizing to even work on this computer\n",
    "class single_cnn_ann_cog(nn.Module):\n",
    "    def __init__(self,x,y,out_classes,device = \"cpu\") -> None:\n",
    "        super().__init__()\n",
    "        self.norm1 = nn.BatchNorm2d(1).to(device)\n",
    "        self.conv1,xout,yout,out_channels = new_CDB(x_in = 400, y_in = 400,in_channels = 1, out_channels = 12,kernel_size = 7,stride = 3,dropout=.2,device=device)\n",
    "        self.conv2,xout,yout,out_channels = new_CDB(x_in = xout,y_in=yout,in_channels=12,out_channels=32,kernel_size=5,stride=2,dropout=.2,device=device)\n",
    "        self.flatten = nn.Flatten().to(device)\n",
    "        self.l1 = LDB(xout*yout*out_channels,2048,dropout = .2).to(device)\n",
    "        self.l2 = LDB(2048,1024,.2).to(device)\n",
    "        self.l3 = LDB(1024,out_classes,.2).to(device)\n",
    "        self.seq = nn.Sequential(self.flatten,self.l1,self.l2,self.l3)\n",
    "        self.softmax = nn.Softmax(-1).to(device)\n",
    "        print(xout,yout,out_channels)\n",
    "    def forward(self,x: torch.Tensor):\n",
    "        xs = x.shape\n",
    "        ix = x.view((xs[0],1,xs[1],xs[2]))\n",
    "        ix = self.norm1(ix)\n",
    "        ix = self.conv1(ix)\n",
    "        ix = self.conv2(ix)\n",
    "        ix = self.seq(ix)\n",
    "        return self.softmax(ix)\n",
    "model = single_cnn_ann_cog(400,400,19,\"cuda:0\")\n",
    "torchinfo.summary(model,(1,400,400))"
   ]
  },
  {
   "cell_type": "code",
   "execution_count": 15,
   "metadata": {},
   "outputs": [
    {
     "data": {
      "text/html": [
       "Finishing last run (ID:edvzp1f9) before initializing another..."
      ],
      "text/plain": [
       "<IPython.core.display.HTML object>"
      ]
     },
     "metadata": {},
     "output_type": "display_data"
    },
    {
     "data": {
      "text/html": [
       "Waiting for W&B process to finish... <strong style=\"color:green\">(success).</strong>"
      ],
      "text/plain": [
       "<IPython.core.display.HTML object>"
      ]
     },
     "metadata": {},
     "output_type": "display_data"
    },
    {
     "data": {
      "application/vnd.jupyter.widget-view+json": {
       "model_id": "1542f57a380940c289f3cbde0950c6f2",
       "version_major": 2,
       "version_minor": 0
      },
      "text/plain": [
       "VBox(children=(Label(value='0.001 MB of 0.010 MB uploaded (0.000 MB deduped)\\r'), FloatProgress(value=0.127909…"
      ]
     },
     "metadata": {},
     "output_type": "display_data"
    },
    {
     "data": {
      "text/html": [
       " View run <strong style=\"color:#cdcd00\">cool-plant-10</strong> at: <a href=\"https://wandb.ai/alabs/testing_grounds/runs/edvzp1f9\" target=\"_blank\">https://wandb.ai/alabs/testing_grounds/runs/edvzp1f9</a><br/>Synced 4 W&B file(s), 0 media file(s), 0 artifact file(s) and 0 other file(s)"
      ],
      "text/plain": [
       "<IPython.core.display.HTML object>"
      ]
     },
     "metadata": {},
     "output_type": "display_data"
    },
    {
     "data": {
      "text/html": [
       "Find logs at: <code>.\\wandb\\run-20230224_125841-edvzp1f9\\logs</code>"
      ],
      "text/plain": [
       "<IPython.core.display.HTML object>"
      ]
     },
     "metadata": {},
     "output_type": "display_data"
    },
    {
     "data": {
      "text/html": [
       "Successfully finished last run (ID:edvzp1f9). Initializing new run:<br/>"
      ],
      "text/plain": [
       "<IPython.core.display.HTML object>"
      ]
     },
     "metadata": {},
     "output_type": "display_data"
    },
    {
     "data": {
      "application/vnd.jupyter.widget-view+json": {
       "model_id": "2aa570bbf9a74356935e48a9640ca8e0",
       "version_major": 2,
       "version_minor": 0
      },
      "text/plain": [
       "VBox(children=(Label(value='Waiting for wandb.init()...\\r'), FloatProgress(value=0.016666666666666666, max=1.0…"
      ]
     },
     "metadata": {},
     "output_type": "display_data"
    },
    {
     "data": {
      "text/html": [
       "wandb version 0.13.10 is available!  To upgrade, please run:\n",
       " $ pip install wandb --upgrade"
      ],
      "text/plain": [
       "<IPython.core.display.HTML object>"
      ]
     },
     "metadata": {},
     "output_type": "display_data"
    },
    {
     "data": {
      "text/html": [
       "Tracking run with wandb version 0.13.9"
      ],
      "text/plain": [
       "<IPython.core.display.HTML object>"
      ]
     },
     "metadata": {},
     "output_type": "display_data"
    },
    {
     "data": {
      "text/html": [
       "Run data is saved locally in <code>c:\\Users\\aashr\\Desktop\\research\\testing_grounds\\wandb\\run-20230224_125853-qb39yrih</code>"
      ],
      "text/plain": [
       "<IPython.core.display.HTML object>"
      ]
     },
     "metadata": {},
     "output_type": "display_data"
    },
    {
     "data": {
      "text/html": [
       "Syncing run <strong><a href=\"https://wandb.ai/alabs/testing_grounds/runs/qb39yrih\" target=\"_blank\">exalted-river-11</a></strong> to <a href=\"https://wandb.ai/alabs/testing_grounds\" target=\"_blank\">Weights & Biases</a> (<a href=\"https://wandb.me/run\" target=\"_blank\">docs</a>)<br/>"
      ],
      "text/plain": [
       "<IPython.core.display.HTML object>"
      ]
     },
     "metadata": {},
     "output_type": "display_data"
    },
    {
     "data": {
      "text/html": [
       " View project at <a href=\"https://wandb.ai/alabs/testing_grounds\" target=\"_blank\">https://wandb.ai/alabs/testing_grounds</a>"
      ],
      "text/plain": [
       "<IPython.core.display.HTML object>"
      ]
     },
     "metadata": {},
     "output_type": "display_data"
    },
    {
     "data": {
      "text/html": [
       " View run at <a href=\"https://wandb.ai/alabs/testing_grounds/runs/qb39yrih\" target=\"_blank\">https://wandb.ai/alabs/testing_grounds/runs/qb39yrih</a>"
      ],
      "text/plain": [
       "<IPython.core.display.HTML object>"
      ]
     },
     "metadata": {},
     "output_type": "display_data"
    }
   ],
   "source": [
    "import wandb\n",
    "wandb.init(\"sdisc-2d-2convlayer\")\n",
    "config = wandb.config\n",
    "config.epochs = 100\n",
    "config.inx = 400\n",
    "config.iny = 400\n",
    "optimizer = optim.Adam(params = model.parameters(),lr = 1e-3)\n",
    "lossfn = nn.CrossEntropyLoss()"
   ]
  },
  {
   "cell_type": "code",
   "execution_count": null,
   "metadata": {},
   "outputs": [],
   "source": []
  },
  {
   "cell_type": "code",
   "execution_count": null,
   "metadata": {},
   "outputs": [],
   "source": [
    "l = new_accuracy(model,test_dl)"
   ]
  }
 ],
 "metadata": {
  "kernelspec": {
   "display_name": "Python 3",
   "language": "python",
   "name": "python3"
  },
  "language_info": {
   "codemirror_mode": {
    "name": "ipython",
    "version": 3
   },
   "file_extension": ".py",
   "mimetype": "text/x-python",
   "name": "python",
   "nbconvert_exporter": "python",
   "pygments_lexer": "ipython3",
   "version": "3.10.7"
  },
  "orig_nbformat": 4,
  "vscode": {
   "interpreter": {
    "hash": "26de051ba29f2982a8de78e945f0abaf191376122a1563185a90213a26c5da77"
   }
  }
 },
 "nbformat": 4,
 "nbformat_minor": 2
}
