{
 "cells": [
  {
   "cell_type": "code",
   "execution_count": 13,
   "metadata": {},
   "outputs": [],
   "source": [
    "from torch.utils.data import Dataset, DataLoader\n",
    "import numpy as np\n",
    "import pandas as pd\n",
    "import matplotlib.pyplot as plt\n",
    "import torchmetrics as metrics\n",
    "import torch.optim as optim\n",
    "\n",
    "# Define a function to calculate the accuracy of the model\n",
    "acc = metrics.Accuracy(task = \"multiclass\",num_classes = 19).to(\"cuda:0\")# Import necessary libraries\n",
    "def accuracy(outputs, labels):\n",
    "    return acc(outputs, labels)\n"
   ]
  },
  {
   "cell_type": "code",
   "execution_count": 14,
   "metadata": {},
   "outputs": [],
   "source": [
    "class dataset(Dataset):\n",
    "    def __init__(self,length = 64):\n",
    "        super(dataset).__init__()\n",
    "        self.ls = np.linspace(0,18,19)\n",
    "        self.length = length\n",
    "    def __getitem__(self, index):\n",
    "        # np.random.seed(index)\n",
    "        mult = self.ls[index%19]/3\n",
    "        x = np.linspace(0,int(3.14*400-1),int(3.14*400))\n",
    "        a = np.random.random()*5\n",
    "        b = np.random.random()*17000\n",
    "        c = np.random.random()*4\n",
    "        y = a * np.sin(mult*(x+b)) + c\n",
    "        return torch.tensor(y).reshape(-1,1).to(torch.float).to(\"cuda:0\"),torch.tensor(self.ls[index%19]).to(\"cuda:0\")\n",
    "    def __len__(self):\n",
    "        return self.length\n",
    "ds = dataset()\n",
    "def newdl():\n",
    "    return DataLoader(ds,batch_size=16,shuffle=True)\n",
    "dl = newdl()"
   ]
  },
  {
   "cell_type": "code",
   "execution_count": 15,
   "metadata": {},
   "outputs": [],
   "source": [
    "import torch\n",
    "import torch.nn as nn\n",
    "\n",
    "class LSTMClassifier(nn.Module):\n",
    "    def __init__(self, input_dim, hidden_dim, num_layers, dropout, num_classes):\n",
    "        super(LSTMClassifier, self).__init__()\n",
    "        self.hidden_dim = hidden_dim\n",
    "        self.num_layers = num_layers\n",
    "        self.lstm = nn.LSTM(input_dim, hidden_dim, num_layers, batch_first=True, dropout=dropout)\n",
    "        self.dropout = nn.Dropout(dropout)\n",
    "        self.fc = nn.Linear(hidden_dim, num_classes)\n",
    "        \n",
    "    def forward(self, x):\n",
    "        # Initialize hidden state with zeros\n",
    "        h0 = torch.zeros(self.num_layers, x.size(0), self.hidden_dim).to(\"cuda:0\")\n",
    "        c0 = torch.zeros(self.num_layers, x.size(0), self.hidden_dim).to(\"cuda:0\")\n",
    "        \n",
    "        # Forward propagate LSTM\n",
    "        out, _ = self.lstm(x, (h0, c0)) \n",
    "        \n",
    "        # Decode the hidden state of the last time step\n",
    "        out = self.fc(h0)\n",
    "        return out\n",
    "    "
   ]
  },
  {
   "cell_type": "code",
   "execution_count": 16,
   "metadata": {},
   "outputs": [],
   "source": [
    "\n",
    "# example usage\n",
    "input_dim = 1 # assuming single channel\n",
    "hidden_dim = 128\n",
    "num_layers = 16\n",
    "dropout = 0\n",
    "num_classes = 19\n",
    "\n",
    "# Define the model, criterion and optimizer\n",
    "model = LSTMClassifier(input_dim, hidden_dim, num_layers, dropout, num_classes).to(\"cuda:0\")\n",
    "criterion = nn.CrossEntropyLoss()\n",
    "optimizer = optim.Adam(model.parameters(),lr = 1e-3,amsgrad=True)\n",
    "\n",
    "# Define some training parameters\n",
    "num_epochs = 5000\n"
   ]
  },
  {
   "cell_type": "code",
   "execution_count": 17,
   "metadata": {},
   "outputs": [
    {
     "name": "stdout",
     "output_type": "stream",
     "text": [
      "Epoch:     0 Loss: 2.9662 Acc: 0.0000\n",
      "Epoch:     1 Loss: 2.9304 Acc: 0.1250\n",
      "Epoch:     2 Loss: 2.9325 Acc: 0.0625\n",
      "Epoch:     3 Loss: 2.9553 Acc: 0.0000\n",
      "Epoch:     4 Loss: 2.9609 Acc: 0.0000\n",
      "Epoch:     5 Loss: 2.9347 Acc: 0.0000\n",
      "Epoch:     6 Loss: 2.9381 Acc: 0.1250\n",
      "Epoch:     7 Loss: 2.9574 Acc: 0.0625\n",
      "Epoch:     8 Loss: 2.9378 Acc: 0.0625\n",
      "Epoch:     9 Loss: 2.9571 Acc: 0.0000\n",
      "Epoch:    10 Loss: 2.9460 Acc: 0.0000\n",
      "Epoch:    11 Loss: 2.8817 Acc: 0.1250\n",
      "Epoch:    12 Loss: 2.9489 Acc: 0.0625\n",
      "Epoch:    13 Loss: 2.9280 Acc: 0.0000\n",
      "Epoch:    14 Loss: 3.0025 Acc: 0.0000\n",
      "Epoch:    15 Loss: 2.9275 Acc: 0.0000\n",
      "Epoch:    16 Loss: 2.9393 Acc: 0.0625\n",
      "Epoch:    17 Loss: 2.9541 Acc: 0.0000\n",
      "Epoch:    18 Loss: 2.9187 Acc: 0.0625\n",
      "Epoch:    19 Loss: 2.9369 Acc: 0.0625\n",
      "Epoch:    20 Loss: 2.9542 Acc: 0.0625\n",
      "Epoch:    21 Loss: 2.9376 Acc: 0.0625\n",
      "Epoch:    22 Loss: 2.9992 Acc: 0.0625\n",
      "Epoch:    23 Loss: 2.9558 Acc: 0.0000\n",
      "Epoch:    24 Loss: 2.9365 Acc: 0.0625\n"
     ]
    },
    {
     "ename": "KeyboardInterrupt",
     "evalue": "",
     "output_type": "error",
     "traceback": [
      "\u001b[1;31m---------------------------------------------------------------------------\u001b[0m",
      "\u001b[1;31mKeyboardInterrupt\u001b[0m                         Traceback (most recent call last)",
      "\u001b[1;32m~\\AppData\\Local\\Temp\\ipykernel_13140\\3627373250.py\u001b[0m in \u001b[0;36m<cell line: 2>\u001b[1;34m()\u001b[0m\n\u001b[0;32m     16\u001b[0m \u001b[1;33m\u001b[0m\u001b[0m\n\u001b[0;32m     17\u001b[0m         \u001b[1;31m# Update running loss and accuracy\u001b[0m\u001b[1;33m\u001b[0m\u001b[1;33m\u001b[0m\u001b[0m\n\u001b[1;32m---> 18\u001b[1;33m         \u001b[0mrunning_loss\u001b[0m \u001b[1;33m+=\u001b[0m \u001b[0mloss\u001b[0m\u001b[1;33m.\u001b[0m\u001b[0mitem\u001b[0m\u001b[1;33m(\u001b[0m\u001b[1;33m)\u001b[0m\u001b[1;33m\u001b[0m\u001b[1;33m\u001b[0m\u001b[0m\n\u001b[0m\u001b[0;32m     19\u001b[0m         \u001b[0mcurracc\u001b[0m \u001b[1;33m=\u001b[0m \u001b[0maccuracy\u001b[0m\u001b[1;33m(\u001b[0m\u001b[0moutputs\u001b[0m\u001b[1;33m,\u001b[0m \u001b[0mcl\u001b[0m\u001b[1;33m)\u001b[0m\u001b[1;33m\u001b[0m\u001b[1;33m\u001b[0m\u001b[0m\n\u001b[0;32m     20\u001b[0m \u001b[1;33m\u001b[0m\u001b[0m\n",
      "\u001b[1;31mKeyboardInterrupt\u001b[0m: "
     ]
    }
   ],
   "source": [
    "# Begin training\n",
    "for epoch in range(num_epochs):\n",
    "    running_loss = 0.0\n",
    "    running_acc = 0.0\n",
    "    for i,(ts,cl) in enumerate(dl):\n",
    "        # Zero the gradients\n",
    "        optimizer.zero_grad()\n",
    "        \n",
    "        # Forward pass\n",
    "        outputs = model(ts.to(\"cuda:0\"))\n",
    "        loss = criterion(outputs, cl.to(torch.long))\n",
    "        \n",
    "        # Backward pass and optimization\n",
    "        loss.backward()\n",
    "        optimizer.step()\n",
    "        \n",
    "        # Update running loss and accuracy\n",
    "        running_loss += loss.item()\n",
    "        curracc = accuracy(outputs, cl)\n",
    "        \n",
    "    # Print statistics for the current epoch\n",
    "    print(f'Epoch: {epoch:5} Loss: {loss.item():.4f} Acc: {curracc:.4f}')\n",
    "\n",
    "print('Training complete')\n"
   ]
  },
  {
   "cell_type": "code",
   "execution_count": null,
   "metadata": {},
   "outputs": [
    {
     "name": "stderr",
     "output_type": "stream",
     "text": [
      "C:\\Users\\aashr\\AppData\\Local\\Temp\\ipykernel_13140\\3742794436.py:6: UserWarning: Implicit dimension choice for softmax has been deprecated. Change the call to include dim=X as an argument.\n",
      "  print(f\"{sfmx(sig(a))} | {b} vs {torch.argmax(sig(a))}\")\n"
     ]
    },
    {
     "name": "stdout",
     "output_type": "stream",
     "text": [
      "tensor([0.0549, 0.0550, 0.0549, 0.0550, 0.0549, 0.0549, 0.0550, 0.0512, 0.0514,\n",
      "        0.0513, 0.0512, 0.0513, 0.0512, 0.0513, 0.0512, 0.0512, 0.0513, 0.0513,\n",
      "        0.0512], device='cuda:0', grad_fn=<SoftmaxBackward0>) | 14.0 vs 3\n",
      "tensor([0.0549, 0.0550, 0.0549, 0.0550, 0.0549, 0.0549, 0.0550, 0.0512, 0.0514,\n",
      "        0.0513, 0.0512, 0.0513, 0.0512, 0.0513, 0.0512, 0.0512, 0.0513, 0.0513,\n",
      "        0.0512], device='cuda:0', grad_fn=<SoftmaxBackward0>) | 12.0 vs 3\n",
      "tensor([0.0549, 0.0550, 0.0549, 0.0550, 0.0549, 0.0549, 0.0550, 0.0512, 0.0514,\n",
      "        0.0513, 0.0512, 0.0513, 0.0512, 0.0513, 0.0512, 0.0512, 0.0513, 0.0513,\n",
      "        0.0512], device='cuda:0', grad_fn=<SoftmaxBackward0>) | 1.0 vs 3\n",
      "tensor([0.0549, 0.0550, 0.0549, 0.0550, 0.0549, 0.0549, 0.0550, 0.0512, 0.0514,\n",
      "        0.0513, 0.0512, 0.0513, 0.0512, 0.0513, 0.0512, 0.0512, 0.0513, 0.0513,\n",
      "        0.0512], device='cuda:0', grad_fn=<SoftmaxBackward0>) | 2.0 vs 3\n",
      "tensor([0.0549, 0.0550, 0.0549, 0.0550, 0.0549, 0.0549, 0.0550, 0.0512, 0.0514,\n",
      "        0.0513, 0.0512, 0.0513, 0.0512, 0.0513, 0.0512, 0.0512, 0.0513, 0.0513,\n",
      "        0.0512], device='cuda:0', grad_fn=<SoftmaxBackward0>) | 7.0 vs 3\n",
      "tensor([0.0549, 0.0550, 0.0549, 0.0550, 0.0549, 0.0549, 0.0550, 0.0512, 0.0514,\n",
      "        0.0513, 0.0512, 0.0513, 0.0512, 0.0513, 0.0512, 0.0512, 0.0513, 0.0513,\n",
      "        0.0512], device='cuda:0', grad_fn=<SoftmaxBackward0>) | 11.0 vs 3\n",
      "tensor([0.0549, 0.0550, 0.0549, 0.0550, 0.0549, 0.0549, 0.0550, 0.0512, 0.0514,\n",
      "        0.0513, 0.0512, 0.0513, 0.0512, 0.0513, 0.0512, 0.0512, 0.0513, 0.0513,\n",
      "        0.0512], device='cuda:0', grad_fn=<SoftmaxBackward0>) | 12.0 vs 3\n",
      "tensor([0.0549, 0.0550, 0.0549, 0.0550, 0.0549, 0.0549, 0.0550, 0.0512, 0.0514,\n",
      "        0.0513, 0.0512, 0.0513, 0.0512, 0.0513, 0.0512, 0.0512, 0.0513, 0.0513,\n",
      "        0.0512], device='cuda:0', grad_fn=<SoftmaxBackward0>) | 10.0 vs 3\n",
      "tensor([0.0549, 0.0550, 0.0549, 0.0550, 0.0549, 0.0549, 0.0550, 0.0512, 0.0514,\n",
      "        0.0513, 0.0512, 0.0513, 0.0512, 0.0513, 0.0512, 0.0512, 0.0513, 0.0513,\n",
      "        0.0512], device='cuda:0', grad_fn=<SoftmaxBackward0>) | 5.0 vs 3\n",
      "tensor([0.0549, 0.0550, 0.0549, 0.0550, 0.0549, 0.0549, 0.0550, 0.0512, 0.0514,\n",
      "        0.0513, 0.0512, 0.0513, 0.0512, 0.0513, 0.0512, 0.0512, 0.0513, 0.0513,\n",
      "        0.0512], device='cuda:0', grad_fn=<SoftmaxBackward0>) | 0.0 vs 3\n",
      "tensor([0.0549, 0.0550, 0.0549, 0.0550, 0.0549, 0.0549, 0.0550, 0.0512, 0.0514,\n",
      "        0.0513, 0.0512, 0.0513, 0.0512, 0.0513, 0.0512, 0.0512, 0.0513, 0.0513,\n",
      "        0.0512], device='cuda:0', grad_fn=<SoftmaxBackward0>) | 5.0 vs 3\n",
      "tensor([0.0549, 0.0550, 0.0549, 0.0550, 0.0549, 0.0549, 0.0550, 0.0512, 0.0514,\n",
      "        0.0513, 0.0512, 0.0513, 0.0512, 0.0513, 0.0512, 0.0512, 0.0513, 0.0513,\n",
      "        0.0512], device='cuda:0', grad_fn=<SoftmaxBackward0>) | 18.0 vs 3\n",
      "tensor([0.0549, 0.0550, 0.0549, 0.0550, 0.0549, 0.0549, 0.0550, 0.0512, 0.0514,\n",
      "        0.0513, 0.0512, 0.0513, 0.0512, 0.0513, 0.0512, 0.0512, 0.0513, 0.0513,\n",
      "        0.0512], device='cuda:0', grad_fn=<SoftmaxBackward0>) | 3.0 vs 3\n",
      "tensor([0.0549, 0.0550, 0.0549, 0.0550, 0.0549, 0.0549, 0.0550, 0.0512, 0.0514,\n",
      "        0.0513, 0.0512, 0.0513, 0.0512, 0.0513, 0.0512, 0.0512, 0.0513, 0.0513,\n",
      "        0.0512], device='cuda:0', grad_fn=<SoftmaxBackward0>) | 8.0 vs 3\n",
      "tensor([0.0549, 0.0550, 0.0549, 0.0550, 0.0549, 0.0549, 0.0550, 0.0512, 0.0514,\n",
      "        0.0513, 0.0512, 0.0513, 0.0512, 0.0513, 0.0512, 0.0512, 0.0513, 0.0513,\n",
      "        0.0512], device='cuda:0', grad_fn=<SoftmaxBackward0>) | 16.0 vs 3\n",
      "tensor([0.0549, 0.0550, 0.0549, 0.0550, 0.0549, 0.0549, 0.0550, 0.0512, 0.0514,\n",
      "        0.0513, 0.0512, 0.0513, 0.0512, 0.0513, 0.0512, 0.0512, 0.0513, 0.0513,\n",
      "        0.0512], device='cuda:0', grad_fn=<SoftmaxBackward0>) | 11.0 vs 3\n"
     ]
    }
   ],
   "source": [
    "ts,labels = next(iter(newdl()))\n",
    "out = model(ts)\n",
    "sig = nn.Sigmoid()\n",
    "sfmx = nn.Softmax()\n",
    "for a,b in zip(out, labels):\n",
    "    print(f\"{sfmx(sig(a))} | {b} vs {torch.argmax(sig(a))}\")"
   ]
  }
 ],
 "metadata": {
  "kernelspec": {
   "display_name": "Python 3",
   "language": "python",
   "name": "python3"
  },
  "language_info": {
   "codemirror_mode": {
    "name": "ipython",
    "version": 3
   },
   "file_extension": ".py",
   "mimetype": "text/x-python",
   "name": "python",
   "nbconvert_exporter": "python",
   "pygments_lexer": "ipython3",
   "version": "3.10.7"
  },
  "orig_nbformat": 4,
  "vscode": {
   "interpreter": {
    "hash": "26de051ba29f2982a8de78e945f0abaf191376122a1563185a90213a26c5da77"
   }
  }
 },
 "nbformat": 4,
 "nbformat_minor": 2
}
