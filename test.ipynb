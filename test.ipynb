{
 "cells": [
  {
   "cell_type": "code",
   "execution_count": 1,
   "metadata": {},
   "outputs": [],
   "source": [
    "from torch.utils.data import Dataset, DataLoader\n",
    "import numpy as np\n",
    "import pandas as pd\n",
    "import matplotlib.pyplot as plt"
   ]
  },
  {
   "cell_type": "code",
   "execution_count": 2,
   "metadata": {},
   "outputs": [],
   "source": [
    "class dataset(Dataset):\n",
    "    def __init__(self,length = 64):\n",
    "        super(dataset).__init__()\n",
    "        self.ls = np.linspace(0,18,19)\n",
    "        self.length = length\n",
    "    def __getitem__(self, index):\n",
    "        # np.random.seed(index)\n",
    "        mult = self.ls[index%19]/3\n",
    "        x = np.linspace(0,int(3.14*400-1),int(3.14*400))\n",
    "        a = np.random.random()*5\n",
    "        b = np.random.random()*17000\n",
    "        c = np.random.random()*4\n",
    "        y = a * np.sin(mult*(x+b)) + c\n",
    "        return torch.tensor(y).reshape(-1,1).to(torch.float),self.ls[index%19]\n",
    "    def __len__(self):\n",
    "        return self.length\n",
    "ds = dataset()\n",
    "dl = DataLoader(ds,batch_size=16,shuffle=True)"
   ]
  },
  {
   "cell_type": "code",
   "execution_count": 3,
   "metadata": {},
   "outputs": [],
   "source": [
    "import torch\n",
    "import torch.nn as nn\n",
    "\n",
    "class LSTMClassifier(nn.Module):\n",
    "    def __init__(self, input_dim, hidden_dim, num_layers, dropout, num_classes):\n",
    "        super(LSTMClassifier, self).__init__()\n",
    "        self.hidden_dim = hidden_dim\n",
    "        self.num_layers = num_layers\n",
    "        self.lstm = nn.LSTM(input_dim, hidden_dim, num_layers, batch_first=True, dropout=dropout)\n",
    "        self.dropout = nn.Dropout(dropout)\n",
    "        self.fc = nn.Linear(hidden_dim, num_classes)\n",
    "        \n",
    "    def forward(self, x):\n",
    "        # Initialize hidden state with zeros\n",
    "        h0 = torch.zeros(self.num_layers, x.size(0), self.hidden_dim)\n",
    "        c0 = torch.zeros(self.num_layers, x.size(0), self.hidden_dim)\n",
    "        \n",
    "        # Forward propagate LSTM\n",
    "        out, _ = self.lstm(x, (h0, c0)) \n",
    "        \n",
    "        # Decode the hidden state of the last time step\n",
    "        out = self.dropout(out[:, -1, :])\n",
    "        out = self.fc(out)\n",
    "        return out\n",
    "    "
   ]
  },
  {
   "cell_type": "code",
   "execution_count": 4,
   "metadata": {},
   "outputs": [],
   "source": [
    "\n",
    "# example usage\n",
    "input_dim = 1 # assuming single channel\n",
    "hidden_dim = 128\n",
    "num_layers = 2\n",
    "dropout = 0.2\n",
    "num_classes = 19\n",
    "\n",
    "model = LSTMClassifier(input_dim, hidden_dim, num_layers, dropout, num_classes)"
   ]
  },
  {
   "cell_type": "code",
   "execution_count": 5,
   "metadata": {},
   "outputs": [
    {
     "name": "stdout",
     "output_type": "stream",
     "text": [
      "Epoch: 1 Loss: 2.9463 Acc: 0.0469\n",
      "Epoch: 2 Loss: 2.9431 Acc: 0.0469\n"
     ]
    }
   ],
   "source": [
    "# Import necessary libraries\n",
    "import torch.optim as optim\n",
    "\n",
    "# Define the model, criterion and optimizer\n",
    "model = LSTMClassifier(input_dim, hidden_dim, num_layers, dropout, num_classes)\n",
    "criterion = nn.CrossEntropyLoss()\n",
    "optimizer = optim.Adam(model.parameters())\n",
    "\n",
    "# Define some training parameters\n",
    "num_epochs = 500\n",
    "\n",
    "# Define a function to calculate the accuracy of the model\n",
    "def accuracy(outputs, labels):\n",
    "    _, predicted = torch.max(outputs.data, 1)\n",
    "    total = labels.size(0)\n",
    "    correct = (predicted == labels).sum().item()\n",
    "    return correct / total\n",
    "\n",
    "# Begin training\n",
    "for epoch in range(num_epochs):\n",
    "    running_loss = 0.0\n",
    "    running_acc = 0.0\n",
    "    for i,(ts,cl) in enumerate(dl):\n",
    "        # Zero the gradients\n",
    "        optimizer.zero_grad()\n",
    "        \n",
    "        # Forward pass\n",
    "        outputs = model(ts)\n",
    "        loss = criterion(outputs, cl.to(torch.long))\n",
    "        \n",
    "        # Backward pass and optimization\n",
    "        loss.backward()\n",
    "        optimizer.step()\n",
    "        \n",
    "        # Update running loss and accuracy\n",
    "        running_loss += loss.item()\n",
    "        running_acc += accuracy(outputs, cl)\n",
    "        \n",
    "    # Print statistics for the current epoch\n",
    "    print('Epoch: {} Loss: {:.4f} Acc: {:.4f}'.format(epoch+1, running_loss/len(dl), running_acc/len(dl)))\n",
    "\n",
    "print('Training complete')\n"
   ]
  }
 ],
 "metadata": {
  "kernelspec": {
   "display_name": "Python 3",
   "language": "python",
   "name": "python3"
  },
  "language_info": {
   "codemirror_mode": {
    "name": "ipython",
    "version": 3
   },
   "file_extension": ".py",
   "mimetype": "text/x-python",
   "name": "python",
   "nbconvert_exporter": "python",
   "pygments_lexer": "ipython3",
   "version": "3.10.8 (tags/v3.10.8:aaaf517, Oct 11 2022, 16:50:30) [MSC v.1933 64 bit (AMD64)]"
  },
  "orig_nbformat": 4,
  "vscode": {
   "interpreter": {
    "hash": "5b5579af3731f6410547d30894d3cfa69af3dd817cb29011736dbe918371f0ab"
   }
  }
 },
 "nbformat": 4,
 "nbformat_minor": 2
}
