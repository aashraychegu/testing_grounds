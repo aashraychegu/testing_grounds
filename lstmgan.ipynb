{
 "cells": [
  {
   "cell_type": "code",
   "execution_count": 4,
   "metadata": {},
   "outputs": [],
   "source": [
    "import torch\n",
    "import torch.nn as nn\n",
    "import numpy as np\n",
    "import matplotlib.pyplot as plt"
   ]
  },
  {
   "cell_type": "code",
   "execution_count": 5,
   "metadata": {},
   "outputs": [],
   "source": [
    "from sindl import dataloader"
   ]
  },
  {
   "cell_type": "code",
   "execution_count": 6,
   "metadata": {},
   "outputs": [],
   "source": [
    "class LSTMGenerator(nn.Module):\n",
    "    \"\"\"An LSTM based generator. It expects a sequence of noise vectors as input.\n",
    "    Args:\n",
    "        in_dim: Input noise dimensionality\n",
    "        out_dim: Output dimensionality\n",
    "        n_layers: number of lstm layers\n",
    "        hidden_dim: dimensionality of the hidden layer of lstms\n",
    "    Input: noise of shape (batch_size, seq_len, in_dim)\n",
    "    Output: sequence of shape (batch_size, seq_len, out_dim)\n",
    "    \"\"\"\n",
    "\n",
    "    def __init__(self, in_dim, out_dim, n_layers=1, hidden_dim=256):\n",
    "        super().__init__()\n",
    "        self.n_layers = n_layers\n",
    "        self.hidden_dim = hidden_dim\n",
    "        self.out_dim = out_dim\n",
    "\n",
    "        self.lstm = nn.LSTM(in_dim, hidden_dim, n_layers, batch_first=True)\n",
    "        self.linear = nn.Sequential(nn.Linear(hidden_dim, out_dim), nn.Tanh())\n",
    "\n",
    "    def forward(self, input):\n",
    "        batch_size, seq_len = input.size(0), input.size(1)\n",
    "        h_0 = torch.zeros(self.n_layers, batch_size, self.hidden_dim)\n",
    "        c_0 = torch.zeros(self.n_layers, batch_size, self.hidden_dim)\n",
    "\n",
    "        recurrent_features, _ = self.lstm(input, (h_0, c_0))\n",
    "        outputs = self.linear(recurrent_features.contiguous().view(batch_size*seq_len, self.hidden_dim))\n",
    "        outputs = outputs.view(batch_size, seq_len, self.out_dim)\n",
    "        return outputs\n",
    "\n",
    "\n",
    "class LSTMDiscriminator(nn.Module):\n",
    "    \"\"\"An LSTM based discriminator. It expects a sequence as input and outputs a probability for each element. \n",
    "    Args:\n",
    "        in_dim: Input noise dimensionality\n",
    "        n_layers: number of lstm layers\n",
    "        hidden_dim: dimensionality of the hidden layer of lstms\n",
    "    Inputs: sequence of shape (batch_size, seq_len, in_dim)\n",
    "    Output: sequence of shape (batch_size, seq_len, 1)\n",
    "    \"\"\"\n",
    "\n",
    "    def __init__(self, in_dim, n_layers=1, hidden_dim=256):\n",
    "        super().__init__()\n",
    "        self.n_layers = n_layers\n",
    "        self.hidden_dim = hidden_dim\n",
    "\n",
    "        self.lstm = nn.LSTM(in_dim, hidden_dim, n_layers, batch_first=True)\n",
    "        self.linear = nn.Sequential(nn.Linear(hidden_dim, 1), nn.Sigmoid())\n",
    "\n",
    "    def forward(self, input):\n",
    "        batch_size, seq_len = input.size(0), input.size(1)\n",
    "        h_0 = torch.zeros(self.n_layers, batch_size, self.hidden_dim)\n",
    "        c_0 = torch.zeros(self.n_layers, batch_size, self.hidden_dim)\n",
    "\n",
    "        recurrent_features, _ = self.lstm(input, (h_0, c_0))\n",
    "        outputs = self.linear(recurrent_features.contiguous().view(batch_size*seq_len, self.hidden_dim))\n",
    "        outputs = outputs.view(batch_size, seq_len, 1)\n",
    "        return outputs\n",
    "\n"
   ]
  },
  {
   "cell_type": "code",
   "execution_count": 10,
   "metadata": {},
   "outputs": [
    {
     "name": "stdout",
     "output_type": "stream",
     "text": [
      "Noise:  torch.Size([8, 16, 1])\n",
      "Generator output:  torch.Size([8, 16, 4])\n",
      "Discriminator output:  torch.Size([8, 16, 1])\n"
     ]
    }
   ],
   "source": [
    "batch_size = 16\n",
    "seq_len = 6283\n",
    "noise_dim = 1\n",
    "seq_dim = 4\n",
    "\n",
    "gen = LSTMGenerator(noise_dim, seq_dim)\n",
    "dis = LSTMDiscriminator(seq_dim)\n",
    "noise = torch.randn(8, 16, noise_dim)\n",
    "gen_out = gen(noise)\n",
    "dis_out = dis(gen_out)\n",
    "\n",
    "print(\"Noise: \", noise.size())\n",
    "print(\"Generator output: \", gen_out.size())\n",
    "print(\"Discriminator output: \", dis_out.size())"
   ]
  }
 ],
 "metadata": {
  "kernelspec": {
   "display_name": "Python 3",
   "language": "python",
   "name": "python3"
  },
  "language_info": {
   "codemirror_mode": {
    "name": "ipython",
    "version": 3
   },
   "file_extension": ".py",
   "mimetype": "text/x-python",
   "name": "python",
   "nbconvert_exporter": "python",
   "pygments_lexer": "ipython3",
   "version": "3.10.7"
  },
  "orig_nbformat": 4,
  "vscode": {
   "interpreter": {
    "hash": "26de051ba29f2982a8de78e945f0abaf191376122a1563185a90213a26c5da77"
   }
  }
 },
 "nbformat": 4,
 "nbformat_minor": 2
}
