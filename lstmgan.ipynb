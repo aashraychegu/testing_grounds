{
 "cells": [
  {
   "cell_type": "code",
   "execution_count": null,
   "metadata": {},
   "outputs": [],
   "source": [
    "import torch\n",
    "import torch.nn as nn\n",
    "from torch.utils.data import Dataset, DataLoader\n",
    "import numpy as np\n",
    "import matplotlib.pyplot as plt\n",
    "import torch.optim as optim"
   ]
  },
  {
   "cell_type": "code",
   "execution_count": null,
   "metadata": {},
   "outputs": [],
   "source": [
    "\n",
    "def fsin(f):\n",
    "    rand = np.random.random(size=5)\n",
    "    x = np.linspace(-1, 1, 320)\n",
    "    y = np.sin((x+rand[0]) * f) * rand[1] + rand[2]\n",
    "    return y\n",
    "    "
   ]
  },
  {
   "cell_type": "code",
   "execution_count": null,
   "metadata": {},
   "outputs": [],
   "source": [
    "class sorq(Dataset):\n",
    "    def __init__(\n",
    "            self,\n",
    "            length=6000,\n",
    "            device=\"cuda:0\"\n",
    "    ):\n",
    "        self.classes = 4\n",
    "        self.length = length\n",
    "        self.device = device\n",
    "\n",
    "    def __len__(self):\n",
    "        return self.length\n",
    "\n",
    "    def __getitem__(self, index):\n",
    "        rands = np.random.rand(2)\n",
    "        output = fsin((index%self.classes)*4+2)\n",
    "        return (torch.tensor(output).view(-1,1).to(self.device).to(torch.float),\n",
    "                torch.tensor([index%self.classes]).to(self.device).to(torch.float))\n",
    "\n",
    "    def __str__(self) -> str:\n",
    "        return f\"{self.length}\"\n",
    "\n",
    "dataset = sorq(length=1_0_000)"
   ]
  },
  {
   "cell_type": "code",
   "execution_count": null,
   "metadata": {},
   "outputs": [],
   "source": [
    "for i in range(0,20):\n",
    "    plt.plot(dataset[i][0].detach().cpu())\n",
    "plt.show()"
   ]
  },
  {
   "cell_type": "code",
   "execution_count": null,
   "metadata": {},
   "outputs": [],
   "source": [
    "class LSTMDiscriminatorRF(nn.Module):\n",
    "    \"\"\"An LSTM based discriminator. It expects a sequence as input and outputs a probability for each element. \n",
    "    Args:\n",
    "        in_dim: Input noise dimensionality\n",
    "        n_layers: number of lstm layers\n",
    "        hidden_dim: dimensionality of the hidden layer of lstms\n",
    "    Inputs: sequence of shape (batch_size, seq_len, in_dim)\n",
    "    Output: sequence of shape (batch_size, seq_len, 1)\n",
    "    \"\"\"\n",
    "\n",
    "    def __init__(self, in_dim, out_dim = 1,seq_len = 320, n_layers=1, hidden_dim=256):\n",
    "        super().__init__()\n",
    "        self.n_layers = n_layers\n",
    "        self.hidden_dim = hidden_dim\n",
    "        self.out_dim = out_dim\n",
    "        self.lstm = nn.LSTM(in_dim, hidden_dim, n_layers, batch_first=True)\n",
    "        self.linear_recurrent = nn.Sequential(nn.Linear(hidden_dim*seq_len, out_dim))\n",
    "\n",
    "    def forward(self, input):\n",
    "        batch_size, seq_len = input.size(0), input.size(1)\n",
    "        h_0 = torch.zeros(self.n_layers, batch_size, self.hidden_dim).to(\"cuda:0\")\n",
    "        c_0 = torch.zeros(self.n_layers, batch_size, self.hidden_dim).to(\"cuda:0\")\n",
    "\n",
    "        rf, (h_out,c_out) = self.lstm(input, (h_0, c_0))\n",
    "        shape = rf.shape\n",
    "        outputs = self.linear_recurrent(rf.reshape(-1,shape[1]*shape[2]))\n",
    "        return outputs"
   ]
  },
  {
   "cell_type": "code",
   "execution_count": null,
   "metadata": {},
   "outputs": [],
   "source": [
    "batch_size = 16\n",
    "input_dimenstions = 1\n",
    "layers = 6\n",
    "hidden_size = 1024\n",
    "dataloader = DataLoader(dataset,batch_size=16,shuffle = True)\n",
    "\n",
    "disc1 = LSTMDiscriminatorRF(input_dimenstions,n_layers=layers,hidden_dim=hidden_size,out_dim=4).to(\"cuda:0\")\n",
    "optimizer1 = optim.RAdam(disc1.parameters(), lr=1e-4)\n",
    "criterion = nn.CrossEntropyLoss().to(dataset.device)\n",
    "scheduler1 = optim.lr_scheduler.MultiStepLR(optimizer1, milestones=[1,2,5], gamma=0.01)"
   ]
  },
  {
   "cell_type": "code",
   "execution_count": null,
   "metadata": {
    "tags": []
   },
   "outputs": [],
   "source": [
    "print(\"epoch |  bnum  | errD1  | lr\")\n",
    "for epoch in range(100):\n",
    "    for i, (data,label) in enumerate(dataloader, 0):\n",
    "        # print(data.device,label.device)\n",
    "        optimizer1.zero_grad()\n",
    "        disc1.zero_grad()\n",
    "        output = disc1(data)\n",
    "        errD1 = criterion(output,label.view(-1).to(\"cuda:0\").to(torch.long))\n",
    "        errD1.backward()\n",
    "        optimizer1.step()\n",
    "        print(f\"{epoch:5} | {i:6} | {errD1.item():6.3} | {scheduler1.get_last_lr()}\",end = \"\\r\",flush=True)\n",
    "        if i%100 == 0:\n",
    "            print()\n",
    "    scheduler1.step()\n",
    "    print(\"\\nepoch finished: \",epoch)"
   ]
  },
  {
   "cell_type": "code",
   "execution_count": null,
   "metadata": {},
   "outputs": [],
   "source": [
    "c,label = next(iter(DataLoader(dataset=dataset,batch_size=100,shuffle=True)))\n",
    "output = disc1(c)\n",
    "output.shape,label.shape"
   ]
  }
 ],
 "metadata": {
  "kernelspec": {
   "display_name": "Python 3",
   "language": "python",
   "name": "python3"
  },
  "language_info": {
   "codemirror_mode": {
    "name": "ipython",
    "version": 3
   },
   "file_extension": ".py",
   "mimetype": "text/x-python",
   "name": "python",
   "nbconvert_exporter": "python",
   "pygments_lexer": "ipython3",
   "version": "3.10.7"
  },
  "orig_nbformat": 4,
  "vscode": {
   "interpreter": {
    "hash": "26de051ba29f2982a8de78e945f0abaf191376122a1563185a90213a26c5da77"
   }
  }
 },
 "nbformat": 4,
 "nbformat_minor": 2
}
