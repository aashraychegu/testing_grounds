{
 "cells": [
  {
   "cell_type": "code",
   "execution_count": null,
   "metadata": {},
   "outputs": [],
   "source": [
    "import torch\n",
    "import torch.nn as nn\n",
    "from torch.utils.data import Dataset, DataLoader\n",
    "import numpy as np\n",
    "import matplotlib.pyplot as plt\n",
    "import torch.optim as optim\n"
   ]
  },
  {
   "cell_type": "code",
   "execution_count": 2,
   "metadata": {},
   "outputs": [],
   "source": [
    "from CoRe_Dataloader import dataset"
   ]
  },
  {
   "cell_type": "code",
   "execution_count": 3,
   "metadata": {},
   "outputs": [],
   "source": [
    "class LSTMDiscriminatorHOLS(nn.Module):\n",
    "    \"\"\"An LSTM based discriminator. It expects a sequence as input and outputs a probability for each element. \n",
    "    Args:\n",
    "        in_dim: Input noise dimensionality\n",
    "        n_layers: number of lstm layers\n",
    "        hidden_dim: dimensionality of the hidden layer of lstms\n",
    "    Inputs: sequence of shape (batch_size, seq_len, in_dim)\n",
    "    Output: sequence of shape (batch_size, seq_len, num_classes)\n",
    "    \"\"\"\n",
    "\n",
    "    def __init__(self, in_dim,n_classes = 19, n_layers=1, hidden_dim=256):\n",
    "        super().__init__()\n",
    "        self.n_layers = n_layers\n",
    "        self.hidden_dim = hidden_dim\n",
    "\n",
    "        self.lstm = nn.LSTM(in_dim, hidden_dim, n_layers, batch_first=True)\n",
    "        self.linear_hidden = nn.Sequential(nn.Linear(hidden_dim, n_classes), nn.Sigmoid())\n",
    "\n",
    "    def forward(self, input):\n",
    "        batch_size, seq_len = input.size(0), input.size(1)\n",
    "        h_0 = torch.zeros(self.n_layers, batch_size, self.hidden_dim).to(\"cuda:0\")\n",
    "        c_0 = torch.zeros(self.n_layers, batch_size, self.hidden_dim).to(\"cuda:0\")\n",
    "\n",
    "        recurrent_features, (h_out,c_out) = self.lstm(input, (h_0, c_0))\n",
    "        return self.linear_hidden(h_out[-1])"
   ]
  },
  {
   "cell_type": "code",
   "execution_count": 4,
   "metadata": {},
   "outputs": [],
   "source": [
    "batch_size = 16\n",
    "input_dimenstions = 1\n",
    "layers = 1\n",
    "hidden_size = 2048\n",
    "dataloader = DataLoader(dataset,batch_size=16,shuffle = True)\n",
    "\n",
    "disc1 = LSTMDiscriminatorHOLS(input_dimenstions,n_layers=layers,hidden_dim=hidden_size).to(\"cuda:0\")\n",
    "optimizer1 = optim.Adam(disc1.parameters(), lr=1e-4)\n",
    "criterion = nn.CrossEntropyLoss().to(dataset.device)\n"
   ]
  },
  {
   "cell_type": "code",
   "execution_count": 5,
   "metadata": {
    "tags": []
   },
   "outputs": [
    {
     "name": "stdout",
     "output_type": "stream",
     "text": [
      "epoch |  bnum  | errD1  |\n",
      "    0 |      0 |   2.95\n",
      "    0 |    100 |   2.32\n",
      "    0 |    140 |   2.45\n",
      "epoch finished:  0\n",
      "    1 |      0 |    2.5\n",
      "    1 |     96 |    2.5\r"
     ]
    },
    {
     "ename": "KeyboardInterrupt",
     "evalue": "",
     "output_type": "error",
     "traceback": [
      "\u001b[1;31m---------------------------------------------------------------------------\u001b[0m",
      "\u001b[1;31mKeyboardInterrupt\u001b[0m                         Traceback (most recent call last)",
      "Cell \u001b[1;32mIn[5], line 9\u001b[0m\n\u001b[0;32m      7\u001b[0m clabel \u001b[39m=\u001b[39m label[:,\u001b[39m0\u001b[39m]\u001b[39m.\u001b[39mto(torch\u001b[39m.\u001b[39mlong)\n\u001b[0;32m      8\u001b[0m errD1 \u001b[39m=\u001b[39m criterion(coutput,clabel)\n\u001b[1;32m----> 9\u001b[0m errD1\u001b[39m.\u001b[39;49mbackward()\n\u001b[0;32m     10\u001b[0m optimizer1\u001b[39m.\u001b[39mstep()\n\u001b[0;32m     12\u001b[0m \u001b[39mprint\u001b[39m(\u001b[39mf\u001b[39m\u001b[39m\"\u001b[39m\u001b[39m{\u001b[39;00mepoch\u001b[39m:\u001b[39;00m\u001b[39m5\u001b[39m\u001b[39m}\u001b[39;00m\u001b[39m | \u001b[39m\u001b[39m{\u001b[39;00mi\u001b[39m:\u001b[39;00m\u001b[39m6\u001b[39m\u001b[39m}\u001b[39;00m\u001b[39m | \u001b[39m\u001b[39m{\u001b[39;00merrD1\u001b[39m.\u001b[39mitem()\u001b[39m:\u001b[39;00m\u001b[39m6.3\u001b[39m\u001b[39m}\u001b[39;00m\u001b[39m\"\u001b[39m,end \u001b[39m=\u001b[39m \u001b[39m\"\u001b[39m\u001b[39m\\r\u001b[39;00m\u001b[39m\"\u001b[39m,flush\u001b[39m=\u001b[39m\u001b[39mTrue\u001b[39;00m)\n",
      "File \u001b[1;32m~\\AppData\\Roaming\\Python\\Python310\\site-packages\\torch\\_tensor.py:484\u001b[0m, in \u001b[0;36mTensor.backward\u001b[1;34m(self, gradient, retain_graph, create_graph, inputs)\u001b[0m\n\u001b[0;32m    474\u001b[0m \u001b[39mif\u001b[39;00m has_torch_function_unary(\u001b[39mself\u001b[39m):\n\u001b[0;32m    475\u001b[0m     \u001b[39mreturn\u001b[39;00m handle_torch_function(\n\u001b[0;32m    476\u001b[0m         Tensor\u001b[39m.\u001b[39mbackward,\n\u001b[0;32m    477\u001b[0m         (\u001b[39mself\u001b[39m,),\n\u001b[1;32m   (...)\u001b[0m\n\u001b[0;32m    482\u001b[0m         inputs\u001b[39m=\u001b[39minputs,\n\u001b[0;32m    483\u001b[0m     )\n\u001b[1;32m--> 484\u001b[0m torch\u001b[39m.\u001b[39;49mautograd\u001b[39m.\u001b[39;49mbackward(\n\u001b[0;32m    485\u001b[0m     \u001b[39mself\u001b[39;49m, gradient, retain_graph, create_graph, inputs\u001b[39m=\u001b[39;49minputs\n\u001b[0;32m    486\u001b[0m )\n",
      "File \u001b[1;32m~\\AppData\\Roaming\\Python\\Python310\\site-packages\\torch\\autograd\\__init__.py:197\u001b[0m, in \u001b[0;36mbackward\u001b[1;34m(tensors, grad_tensors, retain_graph, create_graph, grad_variables, inputs)\u001b[0m\n\u001b[0;32m    192\u001b[0m     retain_graph \u001b[39m=\u001b[39m create_graph\n\u001b[0;32m    194\u001b[0m \u001b[39m# The reason we repeat same the comment below is that\u001b[39;00m\n\u001b[0;32m    195\u001b[0m \u001b[39m# some Python versions print out the first line of a multi-line function\u001b[39;00m\n\u001b[0;32m    196\u001b[0m \u001b[39m# calls in the traceback and some print out the last line\u001b[39;00m\n\u001b[1;32m--> 197\u001b[0m Variable\u001b[39m.\u001b[39;49m_execution_engine\u001b[39m.\u001b[39;49mrun_backward(  \u001b[39m# Calls into the C++ engine to run the backward pass\u001b[39;49;00m\n\u001b[0;32m    198\u001b[0m     tensors, grad_tensors_, retain_graph, create_graph, inputs,\n\u001b[0;32m    199\u001b[0m     allow_unreachable\u001b[39m=\u001b[39;49m\u001b[39mTrue\u001b[39;49;00m, accumulate_grad\u001b[39m=\u001b[39;49m\u001b[39mTrue\u001b[39;49;00m)\n",
      "\u001b[1;31mKeyboardInterrupt\u001b[0m: "
     ]
    }
   ],
   "source": [
    "print(\"epoch |  bnum  | errD1  |\")\n",
    "for epoch in range(30):\n",
    "    for i, (data,label) in enumerate(dataloader, 0):\n",
    "        data = data.unsqueeze(-1).to(torch.float)\n",
    "        disc1.zero_grad()\n",
    "        coutput = disc1(data)\n",
    "        clabel = label[:,0].to(torch.long)\n",
    "        errD1 = criterion(coutput,clabel)\n",
    "        errD1.backward()\n",
    "        optimizer1.step()\n",
    "\n",
    "        print(f\"{epoch:5} | {i:6} | {errD1.item():6.3}\",end = \"\\r\",flush=True)\n",
    "        if i%100 == 0:\n",
    "            print()\n",
    "    print(\"\\nepoch finished: \",epoch)"
   ]
  }
 ],
 "metadata": {
  "kernelspec": {
   "display_name": "Python 3",
   "language": "python",
   "name": "python3"
  },
  "language_info": {
   "codemirror_mode": {
    "name": "ipython",
    "version": 3
   },
   "file_extension": ".py",
   "mimetype": "text/x-python",
   "name": "python",
   "nbconvert_exporter": "python",
   "pygments_lexer": "ipython3",
   "version": "3.10.7"
  },
  "orig_nbformat": 4,
  "vscode": {
   "interpreter": {
    "hash": "26de051ba29f2982a8de78e945f0abaf191376122a1563185a90213a26c5da77"
   }
  }
 },
 "nbformat": 4,
 "nbformat_minor": 2
}
