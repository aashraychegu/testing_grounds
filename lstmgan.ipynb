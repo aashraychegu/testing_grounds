{
 "cells": [
  {
   "cell_type": "code",
   "execution_count": null,
   "metadata": {},
   "outputs": [],
   "source": [
    "import torch\n",
    "import torch.nn as nn\n",
    "from torch.utils.data import Dataset, DataLoader\n",
    "import numpy as np\n",
    "import matplotlib.pyplot as plt\n",
    "import torch.optim as optim"
   ]
  },
  {
   "cell_type": "code",
   "execution_count": null,
   "metadata": {},
   "outputs": [],
   "source": [
    "\n",
    "def fsin(f):\n",
    "    rand = np.random.random(size=5)\n",
    "    x = np.linspace(-1, 1, 32*4)\n",
    "    y = np.sin((x+rand[0]) * f) * rand[1] + rand[2]\n",
    "    return y\n",
    "    "
   ]
  },
  {
   "cell_type": "code",
   "execution_count": null,
   "metadata": {},
   "outputs": [],
   "source": [
    "class sorq(Dataset):\n",
    "    def __init__(\n",
    "            self,\n",
    "            length=1000,\n",
    "            device=\"cuda:0\"\n",
    "    ):\n",
    "        self.length = length\n",
    "        self.device = device\n",
    "\n",
    "    def __len__(self):\n",
    "        return self.length\n",
    "\n",
    "    def __getitem__(self, index):\n",
    "        rands = np.random.rand(2)\n",
    "        output = fsin(index%19) * rands[0] + rands[1]*3\n",
    "        return (torch.tensor(output).view(-1,1).to(self.device).to(torch.float),\n",
    "                torch.full((len(output),),index%19).view(-1,1).to(self.device).to(torch.float))\n",
    "\n",
    "    def __str__(self) -> str:\n",
    "        return f\"{self.length}\"\n",
    "\n",
    "dataset = sorq(length=1_000_000)"
   ]
  },
  {
   "cell_type": "code",
   "execution_count": null,
   "metadata": {},
   "outputs": [],
   "source": [
    "for i in range(0,20):\n",
    "    # print(dataset[i][1][0].item())\n",
    "    plt.plot(dataset[i][0].detach().cpu())\n",
    "plt.show()"
   ]
  },
  {
   "cell_type": "code",
   "execution_count": null,
   "metadata": {},
   "outputs": [],
   "source": [
    "class LSTMDiscriminatorRF(nn.Module):\n",
    "    \"\"\"An LSTM based discriminator. It expects a sequence as input and outputs a probability for each element. \n",
    "    Args:\n",
    "        in_dim: Input noise dimensionality\n",
    "        n_layers: number of lstm layers\n",
    "        hidden_dim: dimensionality of the hidden layer of lstms\n",
    "    Inputs: sequence of shape (batch_size, seq_len, in_dim)\n",
    "    Output: sequence of shape (batch_size, seq_len, 1)\n",
    "    \"\"\"\n",
    "\n",
    "    def __init__(self, in_dim,out_dim = 19, n_layers=1, hidden_dim=256):\n",
    "        super().__init__()\n",
    "        self.n_layers = n_layers\n",
    "        self.hidden_dim = hidden_dim\n",
    "        self.out_dim = out_dim\n",
    "        self.lstm = nn.LSTM(in_dim, hidden_dim, n_layers, batch_first=True)\n",
    "        self.linear_recurrent = nn.Sequential(nn.Linear(hidden_dim, out_dim), nn.Sigmoid())\n",
    "\n",
    "    def forward(self, input):\n",
    "        batch_size, seq_len = input.size(0), input.size(1)\n",
    "        h_0 = torch.zeros(self.n_layers, batch_size, self.hidden_dim).to(\"cuda:0\")\n",
    "        c_0 = torch.zeros(self.n_layers, batch_size, self.hidden_dim).to(\"cuda:0\")\n",
    "\n",
    "        recurrent_features, (h_out,c_out) = self.lstm(input, (h_0, c_0))\n",
    "        outputs = self.linear_recurrent(recurrent_features.contiguous().view(batch_size*seq_len, self.hidden_dim))\n",
    "        outputs = outputs.view(batch_size, seq_len, self.out_dim)\n",
    "        return outputs"
   ]
  },
  {
   "cell_type": "code",
   "execution_count": null,
   "metadata": {},
   "outputs": [],
   "source": [
    "batch_size = 16\n",
    "input_dimenstions = 1\n",
    "layers = 4\n",
    "hidden_size = 1024\n",
    "dataloader = DataLoader(dataset,batch_size=16,shuffle = True)\n",
    "\n",
    "disc1 = LSTMDiscriminatorRF(input_dimenstions,n_layers=layers,hidden_dim=hidden_size).to(\"cuda:0\")\n",
    "optimizer1 = optim.Adam(disc1.parameters(), lr=1e-4)\n",
    "criterion = nn.CrossEntropyLoss().to(dataset.device)\n"
   ]
  },
  {
   "cell_type": "code",
   "execution_count": null,
   "metadata": {
    "tags": []
   },
   "outputs": [],
   "source": [
    "print(\"epoch |  bnum  | errD1  |\")\n",
    "for epoch in range(30):\n",
    "    for i, (data,label) in enumerate(dataloader, 0):\n",
    "        # print(data.device,label.device)\n",
    "        disc1.zero_grad()\n",
    "        output = disc1(data)\n",
    "        coutput = output[:,-1:].view(16,19)\n",
    "        clabel = label[:,-1:].view(16).to(torch.long)\n",
    "        # print(coutput.shape,clabel.shape)\n",
    "        errD1 = criterion(coutput,clabel)\n",
    "        errD1.backward()\n",
    "        optimizer1.step()\n",
    "\n",
    "        print(f\"{epoch:5} | {i:6} | {errD1.item():6.3}\",end = \"\\r\",flush=True)\n",
    "        if i%100 == 0:\n",
    "            print()\n",
    "    print(\"\\nepoch finished: \",epoch)"
   ]
  },
  {
   "cell_type": "code",
   "execution_count": null,
   "metadata": {},
   "outputs": [],
   "source": [
    "c,label = next(iter(DataLoader(dataset=dataset,batch_size=len(dataset),shuffle=True)))\n",
    "output = disc1(c)\n",
    "plabel = label[:,0,:]\n",
    "output = output.view(-1,1)\n",
    "print(plabel.shape, output.shape)\n",
    "corrects = []\n",
    "for i,j in zip(plabel,output):\n",
    "    print(i.item(),round(j.item()))\n",
    "    corrects.append(int(i.item() == j.item()))\n"
   ]
  }
 ],
 "metadata": {
  "kernelspec": {
   "display_name": "Python 3",
   "language": "python",
   "name": "python3"
  },
  "language_info": {
   "codemirror_mode": {
    "name": "ipython",
    "version": 3
   },
   "file_extension": ".py",
   "mimetype": "text/x-python",
   "name": "python",
   "nbconvert_exporter": "python",
   "pygments_lexer": "ipython3",
   "version": "3.10.7"
  },
  "orig_nbformat": 4,
  "vscode": {
   "interpreter": {
    "hash": "26de051ba29f2982a8de78e945f0abaf191376122a1563185a90213a26c5da77"
   }
  }
 },
 "nbformat": 4,
 "nbformat_minor": 2
}
