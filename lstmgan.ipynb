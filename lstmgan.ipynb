{
 "cells": [
  {
   "cell_type": "code",
   "execution_count": 2,
   "metadata": {},
   "outputs": [],
   "source": [
    "import torch\n",
    "import torch.nn as nn\n",
    "from torch.utils.data import Dataset, DataLoader\n",
    "import numpy as np\n",
    "import matplotlib.pyplot as plt\n",
    "import torch.optim as optim"
   ]
  },
  {
   "cell_type": "code",
   "execution_count": 3,
   "metadata": {},
   "outputs": [],
   "source": []
  },
  {
   "cell_type": "code",
   "execution_count": 4,
   "metadata": {},
   "outputs": [],
   "source": [
    "def rsin():\n",
    "    rand = np.random.random(size=5)\n",
    "    x = np.linspace(-1, 1, 32)\n",
    "    return (np.sin(x*(2+rand[0])+rand[1]*3)+rand[2])*rand[3]*3 * ((round(rand[4])*-2)+1)\n",
    "def rquad(): #farquad\n",
    "    rand = np.random.random(size=5)\n",
    "    x = np.linspace(-1, 1, 32)\n",
    "    return ((x+(((round(rand[0])*-2)+1) * rand[1]))**2)+(rand[2] * 3 *rand[3]) * ((round(rand[4])*-2)+1)\n",
    "\n",
    "def fsin(f):\n",
    "    rand = np.random.random(size=5)\n",
    "    x = np.linspace(-1, 1, 512)\n",
    "    y = np.sin((x+rand[0]) * f) * rand[1] + rand[2]\n",
    "    return y\n",
    "    "
   ]
  },
  {
   "cell_type": "code",
   "execution_count": 5,
   "metadata": {},
   "outputs": [],
   "source": [
    "class sorq(Dataset):\n",
    "    def __init__(\n",
    "            self,\n",
    "            length=1000,\n",
    "            device=\"cuda:0\"\n",
    "    ):\n",
    "        self.length = length\n",
    "        self.device = device\n",
    "\n",
    "    def __len__(self):\n",
    "        return self.length\n",
    "\n",
    "    def __getitem__(self, index):\n",
    "        output = rsin() if index%2 == 1 else rquad()\n",
    "        return (torch.tensor(output).view(-1,1).to(self.device).to(torch.float),\n",
    "                torch.full((len(output),),index%2).view(-1,1).to(self.device).to(torch.float))\n",
    "\n",
    "    def __str__(self) -> str:\n",
    "        return f\"{self.length}\"\n",
    "\n",
    "dataset = sorq(length=1_0_000)"
   ]
  },
  {
   "cell_type": "code",
   "execution_count": 6,
   "metadata": {},
   "outputs": [],
   "source": [
    "# c,d = next(iter(dataloader))\n",
    "# for i,j in zip(c,d):\n",
    "#     print(j.T,i.shape,j.shape)\n",
    "#     plt.plot(i.detach().cpu())\n",
    "#     plt.show()"
   ]
  },
  {
   "cell_type": "code",
   "execution_count": 7,
   "metadata": {},
   "outputs": [],
   "source": [
    "class LSTMDiscriminatorHC(nn.Module):\n",
    "    \"\"\"An LSTM based discriminator. It expects a sequence as input and outputs a probability for each element. \n",
    "    Args:\n",
    "        in_dim: Input noise dimensionality\n",
    "        n_layers: number of lstm layers\n",
    "        hidden_dim: dimensionality of the hidden layer of lstms\n",
    "    Inputs: sequence of shape (batch_size, seq_len, in_dim)\n",
    "    Output: sequence of shape (batch_size, seq_len, 1)\n",
    "    \"\"\"\n",
    "\n",
    "    def __init__(self, in_dim, n_layers=1, hidden_dim=256):\n",
    "        super().__init__()\n",
    "        self.n_layers = n_layers\n",
    "        self.hidden_dim = hidden_dim\n",
    "\n",
    "        self.lstm = nn.LSTM(in_dim, hidden_dim, n_layers, batch_first=True)\n",
    "        self.linear_hidden = nn.Sequential(nn.Linear(hidden_dim*self.n_layers, 1), nn.Sigmoid())\n",
    "        self.linear_cellst = nn.Sequential(nn.Linear(hidden_dim*self.n_layers, 1), nn.Sigmoid())\n",
    "        self.linear_out = nn.Bilinear(1,1,1)\n",
    "        self.sigmoid = nn.Sigmoid()\n",
    "\n",
    "    def forward(self, input):\n",
    "        batch_size, seq_len = input.size(0), input.size(1)\n",
    "        h_0 = torch.zeros(self.n_layers, batch_size, self.hidden_dim).to(\"cuda:0\")\n",
    "        c_0 = torch.zeros(self.n_layers, batch_size, self.hidden_dim).to(\"cuda:0\")\n",
    "\n",
    "        recurrent_features, (h_out,c_out) = self.lstm(input, (h_0, c_0))\n",
    "        # outputs = self.linear_recurrent(recurrent_features.contiguous().view(batch_size*seq_len, self.hidden_dim))\n",
    "        # outputs = outputs.view(batch_size, seq_len, 1)\n",
    "        ph_out = self.linear_hidden(h_out.view(batch_size,self.hidden_dim*self.n_layers))\n",
    "        pc_out = self.linear_cellst(c_out.view(batch_size,self.hidden_dim*self.n_layers))\n",
    "\n",
    "        return self.sigmoid(self.linear_out(ph_out,pc_out))"
   ]
  },
  {
   "cell_type": "code",
   "execution_count": 8,
   "metadata": {},
   "outputs": [],
   "source": [
    "class LSTMDiscriminatorHO(nn.Module):\n",
    "    \"\"\"An LSTM based discriminator. It expects a sequence as input and outputs a probability for each element. \n",
    "    Args:\n",
    "        in_dim: Input noise dimensionality\n",
    "        n_layers: number of lstm layers\n",
    "        hidden_dim: dimensionality of the hidden layer of lstms\n",
    "    Inputs: sequence of shape (batch_size, seq_len, in_dim)\n",
    "    Output: sequence of shape (batch_size, seq_len, 1)\n",
    "    \"\"\"\n",
    "\n",
    "    def __init__(self, in_dim, n_layers=1, hidden_dim=256):\n",
    "        super().__init__()\n",
    "        self.n_layers = n_layers\n",
    "        self.hidden_dim = hidden_dim\n",
    "\n",
    "        self.lstm = nn.LSTM(in_dim, hidden_dim, n_layers, batch_first=True)\n",
    "        self.linear_hidden = nn.Sequential(nn.Linear(hidden_dim*self.n_layers, 1), nn.Sigmoid())\n",
    "\n",
    "    def forward(self, input):\n",
    "        batch_size, seq_len = input.size(0), input.size(1)\n",
    "        h_0 = torch.zeros(self.n_layers, batch_size, self.hidden_dim).to(\"cuda:0\")\n",
    "        c_0 = torch.zeros(self.n_layers, batch_size, self.hidden_dim).to(\"cuda:0\")\n",
    "\n",
    "        recurrent_features, (h_out,c_out) = self.lstm(input, (h_0, c_0))\n",
    "        # outputs = self.linear_recurrent(recurrent_features.contiguous().view(batch_size*seq_len, self.hidden_dim))\n",
    "        # outputs = outputs.view(batch_size, seq_len, 1)\n",
    "        return self.linear_hidden(h_out.view(batch_size,self.hidden_dim*self.n_layers))"
   ]
  },
  {
   "cell_type": "code",
   "execution_count": 9,
   "metadata": {},
   "outputs": [],
   "source": [
    "class LSTMDiscriminatorCO(nn.Module):\n",
    "    \"\"\"An LSTM based discriminator. It expects a sequence as input and outputs a probability for each element. \n",
    "    Args:\n",
    "        in_dim: Input noise dimensionality\n",
    "        n_layers: number of lstm layers\n",
    "        hidden_dim: dimensionality of the hidden layer of lstms\n",
    "    Inputs: sequence of shape (batch_size, seq_len, in_dim)\n",
    "    Output: sequence of shape (batch_size, seq_len, 1)\n",
    "    \"\"\"\n",
    "\n",
    "    def __init__(self, in_dim, n_layers=1, hidden_dim=256):\n",
    "        super().__init__()\n",
    "        self.n_layers = n_layers\n",
    "        self.hidden_dim = hidden_dim\n",
    "\n",
    "        self.lstm = nn.LSTM(in_dim, hidden_dim, n_layers, batch_first=True)\n",
    "        self.linear_cellst = nn.Sequential(nn.Linear(hidden_dim*n_layers, 1), nn.Sigmoid())\n",
    "\n",
    "    def forward(self, input):\n",
    "        batch_size, seq_len = input.size(0), input.size(1)\n",
    "        h_0 = torch.zeros(self.n_layers, batch_size, self.hidden_dim).to(\"cuda:0\")\n",
    "        c_0 = torch.zeros(self.n_layers, batch_size, self.hidden_dim).to(\"cuda:0\")\n",
    "\n",
    "        recurrent_features, (h_out,c_out) = self.lstm(input, (h_0, c_0))\n",
    "        return self.linear_cellst(c_out.view(batch_size,self.hidden_dim*self.n_layers))"
   ]
  },
  {
   "cell_type": "code",
   "execution_count": 10,
   "metadata": {},
   "outputs": [],
   "source": [
    "class LSTMDiscriminatorRF(nn.Module):\n",
    "    \"\"\"An LSTM based discriminator. It expects a sequence as input and outputs a probability for each element. \n",
    "    Args:\n",
    "        in_dim: Input noise dimensionality\n",
    "        n_layers: number of lstm layers\n",
    "        hidden_dim: dimensionality of the hidden layer of lstms\n",
    "    Inputs: sequence of shape (batch_size, seq_len, in_dim)\n",
    "    Output: sequence of shape (batch_size, seq_len, 1)\n",
    "    \"\"\"\n",
    "\n",
    "    def __init__(self, in_dim,n_layers=1, hidden_dim=256):\n",
    "        super().__init__()\n",
    "        self.n_layers = n_layers\n",
    "        self.hidden_dim = hidden_dim\n",
    "        self.lstm = nn.LSTM(in_dim, hidden_dim, n_layers, batch_first=True)\n",
    "        self.linear_recurrent = nn.Sequential(nn.Linear(hidden_dim, 1), nn.Sigmoid())\n",
    "        self.bilinear_out = nn.Bilinear(1,1,1)\n",
    "\n",
    "    def forward(self, input):\n",
    "        batch_size, seq_len = input.size(0), input.size(1)\n",
    "        h_0 = torch.zeros(self.n_layers, batch_size, self.hidden_dim).to(\"cuda:0\")\n",
    "        c_0 = torch.zeros(self.n_layers, batch_size, self.hidden_dim).to(\"cuda:0\")\n",
    "\n",
    "        recurrent_features, (h_out,c_out) = self.lstm(input, (h_0, c_0))\n",
    "        outputs = self.linear_recurrent(recurrent_features.contiguous().view(batch_size*seq_len, self.hidden_dim))\n",
    "        outputs = outputs.view(batch_size, seq_len, 1)\n",
    "        return outputs"
   ]
  },
  {
   "cell_type": "code",
   "execution_count": 11,
   "metadata": {},
   "outputs": [],
   "source": [
    "batch_size = 16\n",
    "input_dimenstions = 1\n",
    "layers = 4\n",
    "hidden_size = 1024\n",
    "dataloader = DataLoader(dataset,batch_size=16,shuffle = True)\n",
    "disc1 = LSTMDiscriminatorRF(input_dimenstions,n_layers=layers,hidden_dim=hidden_size).to(\"cuda:0\")\n",
    "disc2 = LSTMDiscriminatorHC(input_dimenstions,n_layers=layers,hidden_dim=hidden_size).to(\"cuda:0\")\n",
    "disc3 = LSTMDiscriminatorHO(input_dimenstions,n_layers=layers,hidden_dim=hidden_size).to(\"cuda:0\")\n",
    "disc4 = LSTMDiscriminatorCO(input_dimenstions,n_layers=layers,hidden_dim=hidden_size).to(\"cuda:0\")\n",
    "optimizer1 = optim.Adam(disc1.parameters(), lr=1e-4)\n",
    "optimizer2 = optim.Adam(disc2.parameters(), lr=1e-4)\n",
    "optimizer3 = optim.Adam(disc3.parameters(), lr=1e-4)\n",
    "optimizer4 = optim.Adam(disc4.parameters(), lr=1e-4)\n",
    "criterion = nn.BCELoss().to(dataset.device)\n"
   ]
  },
  {
   "cell_type": "code",
   "execution_count": 12,
   "metadata": {
    "tags": []
   },
   "outputs": [
    {
     "name": "stdout",
     "output_type": "stream",
     "text": [
      "epoch |  bnum  | errD1  | errD2  | errD3  | errD4\n"
     ]
    },
    {
     "ename": "ValueError",
     "evalue": "Using a target size (torch.Size([16, 32, 1])) that is different to the input size (torch.Size([16, 32, 19])) is deprecated. Please ensure they have the same size.",
     "output_type": "error",
     "traceback": [
      "\u001b[1;31m---------------------------------------------------------------------------\u001b[0m",
      "\u001b[1;31mValueError\u001b[0m                                Traceback (most recent call last)",
      "Cell \u001b[1;32mIn[12], line 7\u001b[0m\n\u001b[0;32m      5\u001b[0m disc1\u001b[39m.\u001b[39mzero_grad()\n\u001b[0;32m      6\u001b[0m output \u001b[39m=\u001b[39m disc1(data)\n\u001b[1;32m----> 7\u001b[0m errD1 \u001b[39m=\u001b[39m criterion(output, label)\n\u001b[0;32m      8\u001b[0m errD1\u001b[39m.\u001b[39mbackward()\n\u001b[0;32m      9\u001b[0m optimizer1\u001b[39m.\u001b[39mstep()\n",
      "File \u001b[1;32m~\\AppData\\Roaming\\Python\\Python310\\site-packages\\torch\\nn\\modules\\module.py:1480\u001b[0m, in \u001b[0;36mModule._call_impl\u001b[1;34m(self, *args, **kwargs)\u001b[0m\n\u001b[0;32m   1475\u001b[0m \u001b[39m# If we don't have any hooks, we want to skip the rest of the logic in\u001b[39;00m\n\u001b[0;32m   1476\u001b[0m \u001b[39m# this function, and just call forward.\u001b[39;00m\n\u001b[0;32m   1477\u001b[0m \u001b[39mif\u001b[39;00m \u001b[39mnot\u001b[39;00m (\u001b[39mself\u001b[39m\u001b[39m.\u001b[39m_backward_hooks \u001b[39mor\u001b[39;00m \u001b[39mself\u001b[39m\u001b[39m.\u001b[39m_backward_pre_hooks \u001b[39mor\u001b[39;00m \u001b[39mself\u001b[39m\u001b[39m.\u001b[39m_forward_hooks \u001b[39mor\u001b[39;00m \u001b[39mself\u001b[39m\u001b[39m.\u001b[39m_forward_pre_hooks\n\u001b[0;32m   1478\u001b[0m         \u001b[39mor\u001b[39;00m _global_backward_pre_hooks \u001b[39mor\u001b[39;00m _global_backward_hooks\n\u001b[0;32m   1479\u001b[0m         \u001b[39mor\u001b[39;00m _global_forward_hooks \u001b[39mor\u001b[39;00m _global_forward_pre_hooks):\n\u001b[1;32m-> 1480\u001b[0m     \u001b[39mreturn\u001b[39;00m forward_call(\u001b[39m*\u001b[39margs, \u001b[39m*\u001b[39m\u001b[39m*\u001b[39mkwargs)\n\u001b[0;32m   1481\u001b[0m \u001b[39m# Do not call functions when jit is used\u001b[39;00m\n\u001b[0;32m   1482\u001b[0m full_backward_hooks, non_full_backward_hooks \u001b[39m=\u001b[39m [], []\n",
      "File \u001b[1;32m~\\AppData\\Roaming\\Python\\Python310\\site-packages\\torch\\nn\\modules\\loss.py:619\u001b[0m, in \u001b[0;36mBCELoss.forward\u001b[1;34m(self, input, target)\u001b[0m\n\u001b[0;32m    618\u001b[0m \u001b[39mdef\u001b[39;00m \u001b[39mforward\u001b[39m(\u001b[39mself\u001b[39m, \u001b[39minput\u001b[39m: Tensor, target: Tensor) \u001b[39m-\u001b[39m\u001b[39m>\u001b[39m Tensor:\n\u001b[1;32m--> 619\u001b[0m     \u001b[39mreturn\u001b[39;00m F\u001b[39m.\u001b[39;49mbinary_cross_entropy(\u001b[39minput\u001b[39;49m, target, weight\u001b[39m=\u001b[39;49m\u001b[39mself\u001b[39;49m\u001b[39m.\u001b[39;49mweight, reduction\u001b[39m=\u001b[39;49m\u001b[39mself\u001b[39;49m\u001b[39m.\u001b[39;49mreduction)\n",
      "File \u001b[1;32m~\\AppData\\Roaming\\Python\\Python310\\site-packages\\torch\\nn\\functional.py:3088\u001b[0m, in \u001b[0;36mbinary_cross_entropy\u001b[1;34m(input, target, weight, size_average, reduce, reduction)\u001b[0m\n\u001b[0;32m   3086\u001b[0m     reduction_enum \u001b[39m=\u001b[39m _Reduction\u001b[39m.\u001b[39mget_enum(reduction)\n\u001b[0;32m   3087\u001b[0m \u001b[39mif\u001b[39;00m target\u001b[39m.\u001b[39msize() \u001b[39m!=\u001b[39m \u001b[39minput\u001b[39m\u001b[39m.\u001b[39msize():\n\u001b[1;32m-> 3088\u001b[0m     \u001b[39mraise\u001b[39;00m \u001b[39mValueError\u001b[39;00m(\n\u001b[0;32m   3089\u001b[0m         \u001b[39m\"\u001b[39m\u001b[39mUsing a target size (\u001b[39m\u001b[39m{}\u001b[39;00m\u001b[39m) that is different to the input size (\u001b[39m\u001b[39m{}\u001b[39;00m\u001b[39m) is deprecated. \u001b[39m\u001b[39m\"\u001b[39m\n\u001b[0;32m   3090\u001b[0m         \u001b[39m\"\u001b[39m\u001b[39mPlease ensure they have the same size.\u001b[39m\u001b[39m\"\u001b[39m\u001b[39m.\u001b[39mformat(target\u001b[39m.\u001b[39msize(), \u001b[39minput\u001b[39m\u001b[39m.\u001b[39msize())\n\u001b[0;32m   3091\u001b[0m     )\n\u001b[0;32m   3093\u001b[0m \u001b[39mif\u001b[39;00m weight \u001b[39mis\u001b[39;00m \u001b[39mnot\u001b[39;00m \u001b[39mNone\u001b[39;00m:\n\u001b[0;32m   3094\u001b[0m     new_size \u001b[39m=\u001b[39m _infer_size(target\u001b[39m.\u001b[39msize(), weight\u001b[39m.\u001b[39msize())\n",
      "\u001b[1;31mValueError\u001b[0m: Using a target size (torch.Size([16, 32, 1])) that is different to the input size (torch.Size([16, 32, 19])) is deprecated. Please ensure they have the same size."
     ]
    }
   ],
   "source": [
    "print(\"epoch |  bnum  | errD1  | errD2  | errD3  | errD4\")\n",
    "for epoch in range(30):\n",
    "    for i, (data,label) in enumerate(dataloader, 0):\n",
    "        # print(data.device,label.device)\n",
    "        disc1.zero_grad()\n",
    "        output = disc1(data)\n",
    "        errD1 = criterion(output, label)\n",
    "        errD1.backward()\n",
    "        optimizer1.step()\n",
    "        #---\n",
    "        output = disc2(data)\n",
    "        plabel = label[:,0,:]\n",
    "        output = output.view(-1,1)\n",
    "        errD2 = criterion(output, plabel)\n",
    "        errD2.backward()\n",
    "        optimizer2.step()\n",
    "        #---\n",
    "        output = disc3(data)\n",
    "        plabel = label[:,0,:]\n",
    "        output = output.view(-1,1)\n",
    "        errD3 = criterion(output, plabel)\n",
    "        errD3.backward()\n",
    "        optimizer3.step()\n",
    "        #---\n",
    "        output = disc4(data)\n",
    "        plabel = label[:,0,:]\n",
    "        output = output.view(-1,1)\n",
    "        errD4 = criterion(output, plabel)\n",
    "        errD4.backward()\n",
    "        optimizer4.step()\n",
    "        \n",
    "        print(f\"{epoch:5} | {i:6} | {errD1.item():6.3} | {errD2.item():6.3} | {errD3.item():6.3} | {errD4.item():6.3}\",end = \"\\r\",flush=True)\n",
    "        if i%100 == 0:\n",
    "            print()\n",
    "    print(\"\\nepoch finished: \",epoch)"
   ]
  },
  {
   "cell_type": "code",
   "execution_count": null,
   "metadata": {},
   "outputs": [
    {
     "ename": "OutOfMemoryError",
     "evalue": "CUDA out of memory. Tried to allocate 5.91 GiB (GPU 0; 8.00 GiB total capacity; 3.90 GiB already allocated; 2.90 GiB free; 4.00 GiB reserved in total by PyTorch) If reserved memory is >> allocated memory try setting max_split_size_mb to avoid fragmentation.  See documentation for Memory Management and PYTORCH_CUDA_ALLOC_CONF",
     "output_type": "error",
     "traceback": [
      "\u001b[1;31m---------------------------------------------------------------------------\u001b[0m",
      "\u001b[1;31mOutOfMemoryError\u001b[0m                          Traceback (most recent call last)",
      "Cell \u001b[1;32mIn[13], line 2\u001b[0m\n\u001b[0;32m      1\u001b[0m c,label \u001b[39m=\u001b[39m \u001b[39mnext\u001b[39m(\u001b[39miter\u001b[39m(DataLoader(dataset\u001b[39m=\u001b[39mdataset,batch_size\u001b[39m=\u001b[39m\u001b[39mlen\u001b[39m(dataset),shuffle\u001b[39m=\u001b[39m\u001b[39mTrue\u001b[39;00m)))\n\u001b[1;32m----> 2\u001b[0m output \u001b[39m=\u001b[39m disc4(c)\n\u001b[0;32m      3\u001b[0m plabel \u001b[39m=\u001b[39m label[:,\u001b[39m0\u001b[39m,:]\n\u001b[0;32m      4\u001b[0m output \u001b[39m=\u001b[39m output\u001b[39m.\u001b[39mview(\u001b[39m-\u001b[39m\u001b[39m1\u001b[39m,\u001b[39m1\u001b[39m)\n",
      "File \u001b[1;32m~\\AppData\\Roaming\\Python\\Python310\\site-packages\\torch\\nn\\modules\\module.py:1480\u001b[0m, in \u001b[0;36mModule._call_impl\u001b[1;34m(self, *args, **kwargs)\u001b[0m\n\u001b[0;32m   1475\u001b[0m \u001b[39m# If we don't have any hooks, we want to skip the rest of the logic in\u001b[39;00m\n\u001b[0;32m   1476\u001b[0m \u001b[39m# this function, and just call forward.\u001b[39;00m\n\u001b[0;32m   1477\u001b[0m \u001b[39mif\u001b[39;00m \u001b[39mnot\u001b[39;00m (\u001b[39mself\u001b[39m\u001b[39m.\u001b[39m_backward_hooks \u001b[39mor\u001b[39;00m \u001b[39mself\u001b[39m\u001b[39m.\u001b[39m_backward_pre_hooks \u001b[39mor\u001b[39;00m \u001b[39mself\u001b[39m\u001b[39m.\u001b[39m_forward_hooks \u001b[39mor\u001b[39;00m \u001b[39mself\u001b[39m\u001b[39m.\u001b[39m_forward_pre_hooks\n\u001b[0;32m   1478\u001b[0m         \u001b[39mor\u001b[39;00m _global_backward_pre_hooks \u001b[39mor\u001b[39;00m _global_backward_hooks\n\u001b[0;32m   1479\u001b[0m         \u001b[39mor\u001b[39;00m _global_forward_hooks \u001b[39mor\u001b[39;00m _global_forward_pre_hooks):\n\u001b[1;32m-> 1480\u001b[0m     \u001b[39mreturn\u001b[39;00m forward_call(\u001b[39m*\u001b[39margs, \u001b[39m*\u001b[39m\u001b[39m*\u001b[39mkwargs)\n\u001b[0;32m   1481\u001b[0m \u001b[39m# Do not call functions when jit is used\u001b[39;00m\n\u001b[0;32m   1482\u001b[0m full_backward_hooks, non_full_backward_hooks \u001b[39m=\u001b[39m [], []\n",
      "Cell \u001b[1;32mIn[9], line 24\u001b[0m, in \u001b[0;36mLSTMDiscriminatorCO.forward\u001b[1;34m(self, input)\u001b[0m\n\u001b[0;32m     21\u001b[0m h_0 \u001b[39m=\u001b[39m torch\u001b[39m.\u001b[39mzeros(\u001b[39mself\u001b[39m\u001b[39m.\u001b[39mn_layers, batch_size, \u001b[39mself\u001b[39m\u001b[39m.\u001b[39mhidden_dim)\u001b[39m.\u001b[39mto(\u001b[39m\"\u001b[39m\u001b[39mcuda:0\u001b[39m\u001b[39m\"\u001b[39m)\n\u001b[0;32m     22\u001b[0m c_0 \u001b[39m=\u001b[39m torch\u001b[39m.\u001b[39mzeros(\u001b[39mself\u001b[39m\u001b[39m.\u001b[39mn_layers, batch_size, \u001b[39mself\u001b[39m\u001b[39m.\u001b[39mhidden_dim)\u001b[39m.\u001b[39mto(\u001b[39m\"\u001b[39m\u001b[39mcuda:0\u001b[39m\u001b[39m\"\u001b[39m)\n\u001b[1;32m---> 24\u001b[0m recurrent_features, (h_out,c_out) \u001b[39m=\u001b[39m \u001b[39mself\u001b[39;49m\u001b[39m.\u001b[39;49mlstm(\u001b[39minput\u001b[39;49m, (h_0, c_0))\n\u001b[0;32m     25\u001b[0m \u001b[39m# outputs = self.linear_recurrent(recurrent_features.contiguous().view(batch_size*seq_len, self.hidden_dim))\u001b[39;00m\n\u001b[0;32m     26\u001b[0m \u001b[39m# outputs = outputs.view(batch_size, seq_len, 1)\u001b[39;00m\n\u001b[0;32m     27\u001b[0m \u001b[39mreturn\u001b[39;00m \u001b[39mself\u001b[39m\u001b[39m.\u001b[39mlinear_cellst(c_out\u001b[39m.\u001b[39mview(batch_size,\u001b[39mself\u001b[39m\u001b[39m.\u001b[39mhidden_dim\u001b[39m*\u001b[39m\u001b[39mself\u001b[39m\u001b[39m.\u001b[39mn_layers))\n",
      "File \u001b[1;32m~\\AppData\\Roaming\\Python\\Python310\\site-packages\\torch\\nn\\modules\\module.py:1480\u001b[0m, in \u001b[0;36mModule._call_impl\u001b[1;34m(self, *args, **kwargs)\u001b[0m\n\u001b[0;32m   1475\u001b[0m \u001b[39m# If we don't have any hooks, we want to skip the rest of the logic in\u001b[39;00m\n\u001b[0;32m   1476\u001b[0m \u001b[39m# this function, and just call forward.\u001b[39;00m\n\u001b[0;32m   1477\u001b[0m \u001b[39mif\u001b[39;00m \u001b[39mnot\u001b[39;00m (\u001b[39mself\u001b[39m\u001b[39m.\u001b[39m_backward_hooks \u001b[39mor\u001b[39;00m \u001b[39mself\u001b[39m\u001b[39m.\u001b[39m_backward_pre_hooks \u001b[39mor\u001b[39;00m \u001b[39mself\u001b[39m\u001b[39m.\u001b[39m_forward_hooks \u001b[39mor\u001b[39;00m \u001b[39mself\u001b[39m\u001b[39m.\u001b[39m_forward_pre_hooks\n\u001b[0;32m   1478\u001b[0m         \u001b[39mor\u001b[39;00m _global_backward_pre_hooks \u001b[39mor\u001b[39;00m _global_backward_hooks\n\u001b[0;32m   1479\u001b[0m         \u001b[39mor\u001b[39;00m _global_forward_hooks \u001b[39mor\u001b[39;00m _global_forward_pre_hooks):\n\u001b[1;32m-> 1480\u001b[0m     \u001b[39mreturn\u001b[39;00m forward_call(\u001b[39m*\u001b[39margs, \u001b[39m*\u001b[39m\u001b[39m*\u001b[39mkwargs)\n\u001b[0;32m   1481\u001b[0m \u001b[39m# Do not call functions when jit is used\u001b[39;00m\n\u001b[0;32m   1482\u001b[0m full_backward_hooks, non_full_backward_hooks \u001b[39m=\u001b[39m [], []\n",
      "File \u001b[1;32m~\\AppData\\Roaming\\Python\\Python310\\site-packages\\torch\\nn\\modules\\rnn.py:776\u001b[0m, in \u001b[0;36mLSTM.forward\u001b[1;34m(self, input, hx)\u001b[0m\n\u001b[0;32m    774\u001b[0m \u001b[39mself\u001b[39m\u001b[39m.\u001b[39mcheck_forward_args(\u001b[39minput\u001b[39m, hx, batch_sizes)\n\u001b[0;32m    775\u001b[0m \u001b[39mif\u001b[39;00m batch_sizes \u001b[39mis\u001b[39;00m \u001b[39mNone\u001b[39;00m:\n\u001b[1;32m--> 776\u001b[0m     result \u001b[39m=\u001b[39m _VF\u001b[39m.\u001b[39;49mlstm(\u001b[39minput\u001b[39;49m, hx, \u001b[39mself\u001b[39;49m\u001b[39m.\u001b[39;49m_flat_weights, \u001b[39mself\u001b[39;49m\u001b[39m.\u001b[39;49mbias, \u001b[39mself\u001b[39;49m\u001b[39m.\u001b[39;49mnum_layers,\n\u001b[0;32m    777\u001b[0m                       \u001b[39mself\u001b[39;49m\u001b[39m.\u001b[39;49mdropout, \u001b[39mself\u001b[39;49m\u001b[39m.\u001b[39;49mtraining, \u001b[39mself\u001b[39;49m\u001b[39m.\u001b[39;49mbidirectional, \u001b[39mself\u001b[39;49m\u001b[39m.\u001b[39;49mbatch_first)\n\u001b[0;32m    778\u001b[0m \u001b[39melse\u001b[39;00m:\n\u001b[0;32m    779\u001b[0m     result \u001b[39m=\u001b[39m _VF\u001b[39m.\u001b[39mlstm(\u001b[39minput\u001b[39m, batch_sizes, hx, \u001b[39mself\u001b[39m\u001b[39m.\u001b[39m_flat_weights, \u001b[39mself\u001b[39m\u001b[39m.\u001b[39mbias,\n\u001b[0;32m    780\u001b[0m                       \u001b[39mself\u001b[39m\u001b[39m.\u001b[39mnum_layers, \u001b[39mself\u001b[39m\u001b[39m.\u001b[39mdropout, \u001b[39mself\u001b[39m\u001b[39m.\u001b[39mtraining, \u001b[39mself\u001b[39m\u001b[39m.\u001b[39mbidirectional)\n",
      "\u001b[1;31mOutOfMemoryError\u001b[0m: CUDA out of memory. Tried to allocate 5.91 GiB (GPU 0; 8.00 GiB total capacity; 3.90 GiB already allocated; 2.90 GiB free; 4.00 GiB reserved in total by PyTorch) If reserved memory is >> allocated memory try setting max_split_size_mb to avoid fragmentation.  See documentation for Memory Management and PYTORCH_CUDA_ALLOC_CONF"
     ]
    }
   ],
   "source": [
    "c,label = next(iter(DataLoader(dataset=dataset,batch_size=len(dataset),shuffle=True)))\n",
    "output = disc4(c)\n",
    "plabel = label[:,0,:]\n",
    "output = output.view(-1,1)\n",
    "print(plabel.shape, output.shape)\n",
    "corrects = []\n",
    "for i,j in zip(plabel,output):\n",
    "    print(i.item(),round(j.item()))\n",
    "    corrects.append(int(i.item() == j.item()))\n"
   ]
  }
 ],
 "metadata": {
  "kernelspec": {
   "display_name": "Python 3",
   "language": "python",
   "name": "python3"
  },
  "language_info": {
   "codemirror_mode": {
    "name": "ipython",
    "version": 3
   },
   "file_extension": ".py",
   "mimetype": "text/x-python",
   "name": "python",
   "nbconvert_exporter": "python",
   "pygments_lexer": "ipython3",
   "version": "3.10.7 (tags/v3.10.7:6cc6b13, Sep  5 2022, 14:08:36) [MSC v.1933 64 bit (AMD64)]"
  },
  "orig_nbformat": 4,
  "vscode": {
   "interpreter": {
    "hash": "26de051ba29f2982a8de78e945f0abaf191376122a1563185a90213a26c5da77"
   }
  }
 },
 "nbformat": 4,
 "nbformat_minor": 2
}
